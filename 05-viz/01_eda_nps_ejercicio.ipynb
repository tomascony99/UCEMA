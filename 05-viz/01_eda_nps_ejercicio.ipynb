{
 "cells": [
  {
   "cell_type": "markdown",
   "source": [
    "https://drive.google.com/file/d/1qXY__4wYfjLcLTKWYWlVYHOXFgY8L-qP/view?usp=sharing"
   ],
   "metadata": {
    "collapsed": false,
    "pycharm": {
     "name": "#%% md\n"
    }
   }
  },
  {
   "cell_type": "code",
   "execution_count": 2,
   "metadata": {
    "pycharm": {
     "name": "#%%\n"
    }
   },
   "outputs": [],
   "source": [
    "#Importamos librerias\n",
    "import pandas as pd\n",
    "import matplotlib.pyplot as plt\n",
    "import seaborn as sns\n",
    "import numpy as np"
   ]
  },
  {
   "cell_type": "code",
   "execution_count": 3,
   "metadata": {
    "pycharm": {
     "name": "#%%\n"
    }
   },
   "outputs": [
    {
     "name": "stdout",
     "output_type": "stream",
     "text": [
      ",CREATION_DATE,RESPONSE_DATE,CURRENT_STATUS,GENDER,DAY_OF_BIRTH,CIF_ID,AGE,LOCATION,TOUCHPOINT_NUMBER,CASE_NUMBER,CASE_DATE,CASE_CHANNEL,PRODUCT_NAME,NPS_SCORE,TAGS\r\n",
      "0,2021-06-11 10:30:03 UTC,2021-06-12 10:43:18 UTC,2,M,1954-09-18 00:00:00 UTC,1402267,66.0,DOMINGO FAUSTINO SARMIENTO,Service,5671770,2021-06-09 00:00:00 UTC,EUROP,Automotores Individuales,0, mot Grua  mot Servicio  mot Accesibilidad  mot Cobertura poliza\r\n",
      "1,2021-06-10 10:30:03 UTC,2021-06-12 17:38:35 UTC,5,F,1994-10-06 00:00:00 UTC,23733377,26.0,CORDOBA,Service,5662123,2021-06-08 00:00:00 UTC,AUXICAJA,Automotores Individuales,9, mot Servicio  mot Precio  atr Eficacia  mot Atencion\r\n",
      "2,2021-06-07 10:30:03 UTC,2021-06-12 16:52:27 UTC,5,M,1980-08-07 00:00:00 UTC,21113765,40.0,DIAMANTE,Service,5625253,2021-06-03 00:00:00 UTC,AUXICAJA,Automotores Individuales,10,\r\n",
      "3,2021-06-10 10:30:03 UTC,2021-06-13 19:29:41 UTC,5,M,1959-09-12 00:00:00 UTC,19579674,61.0,CIUDAD AUTONOMA BUENOS AIRES,Query/Servicing request,5663499,2021-06-09 00:00:00 UTC,SUCURSAL,Automotores Individuales,10, mot Grua  atr Eficacia\r\n",
      "4,2021-05-31 10:30:03 UTC,2021-06-06 22:26:27 UTC,1,M,1952-04-19 00:00:00 UTC,13972088,69.0,TRANCAS,Claims,5582911,2021-05-21 00:00:00 UTC,CALL CENTER,Automotores Individuales,0, mot Siniestro  atr Eficacia\r\n",
      "5,2021-06-04 10:30:02 UTC,2021-06-06 18:03:57 UTC,2,M,1978-09-29 00:00:00 UTC,18454077,42.0,COMODORO RIVADAVIA,Purchase,5616941,2021-06-03 00:00:00 UTC,CALL CENTER,Automotores Individuales,0, mot Atencion\r\n",
      "6,2021-06-04 10:30:02 UTC,2021-06-06 13:58:35 UTC,5,M,1964-05-17 00:00:00 UTC,20754786,57.0,SALTA,Documentation Request,5619982,2021-06-02 00:00:00 UTC,WEB,Automotores Individuales,10, atr Eficacia\r\n",
      "7,2021-06-09 10:30:03 UTC,2021-06-09 10:48:03 UTC,0,M,1996-12-20 00:00:00 UTC,14884444,24.0,CORDOBA,Purchase,5653163,2021-06-08 00:00:00 UTC,WEB,Automotores Individuales,8, mot FacturacionPagos\r\n",
      "8,2021-06-09 10:30:03 UTC,2021-06-10 20:47:15 UTC,5,M,1988-01-27 00:00:00 UTC,17409488,33.0,LAS HERAS,Documentation Request,5656265,2021-06-07 00:00:00 UTC,WEB,Automotores Individuales,10, mot Servicio  atr Eficacia\r\n"
     ]
    }
   ],
   "source": [
    "!head data_nps.csv"
   ]
  },
  {
   "cell_type": "code",
   "execution_count": 4,
   "metadata": {
    "pycharm": {
     "name": "#%%\n"
    }
   },
   "outputs": [],
   "source": [
    "#Cargamos el dataframe y nos interiorizamos de sus campos\n",
    "#Que no haya una columna que se llame 'Unnamed: 0'\n"
   ]
  },
  {
   "cell_type": "code",
   "execution_count": 6,
   "metadata": {
    "pycharm": {
     "name": "#%%\n"
    }
   },
   "outputs": [
    {
     "data": {
      "text/html": [
       "<div>\n",
       "<style scoped>\n",
       "    .dataframe tbody tr th:only-of-type {\n",
       "        vertical-align: middle;\n",
       "    }\n",
       "\n",
       "    .dataframe tbody tr th {\n",
       "        vertical-align: top;\n",
       "    }\n",
       "\n",
       "    .dataframe thead th {\n",
       "        text-align: right;\n",
       "    }\n",
       "</style>\n",
       "<table border=\"1\" class=\"dataframe\">\n",
       "  <thead>\n",
       "    <tr style=\"text-align: right;\">\n",
       "      <th></th>\n",
       "      <th>Unnamed: 0</th>\n",
       "      <th>CREATION_DATE</th>\n",
       "      <th>RESPONSE_DATE</th>\n",
       "      <th>CURRENT_STATUS</th>\n",
       "      <th>GENDER</th>\n",
       "      <th>DAY_OF_BIRTH</th>\n",
       "      <th>CIF_ID</th>\n",
       "      <th>AGE</th>\n",
       "      <th>LOCATION</th>\n",
       "      <th>TOUCHPOINT_NUMBER</th>\n",
       "      <th>CASE_NUMBER</th>\n",
       "      <th>CASE_DATE</th>\n",
       "      <th>CASE_CHANNEL</th>\n",
       "      <th>PRODUCT_NAME</th>\n",
       "      <th>NPS_SCORE</th>\n",
       "      <th>TAGS</th>\n",
       "    </tr>\n",
       "  </thead>\n",
       "  <tbody>\n",
       "    <tr>\n",
       "      <th>15995</th>\n",
       "      <td>15995</td>\n",
       "      <td>2021-05-10 10:30:03 UTC</td>\n",
       "      <td>2021-05-10 10:46:11 UTC</td>\n",
       "      <td>5</td>\n",
       "      <td>M</td>\n",
       "      <td>1974-11-24 00:00:00 UTC</td>\n",
       "      <td>23609326</td>\n",
       "      <td>46.0</td>\n",
       "      <td>ISIDRO CASANOVA</td>\n",
       "      <td>Documentation Request</td>\n",
       "      <td>5436373</td>\n",
       "      <td>2021-05-07 00:00:00 UTC</td>\n",
       "      <td>WEB</td>\n",
       "      <td>Automotores Individuales</td>\n",
       "      <td>9</td>\n",
       "      <td>mot Siniestro  mot Cobertura poliza</td>\n",
       "    </tr>\n",
       "    <tr>\n",
       "      <th>15996</th>\n",
       "      <td>15996</td>\n",
       "      <td>2021-05-10 10:30:03 UTC</td>\n",
       "      <td>2021-05-10 12:12:26 UTC</td>\n",
       "      <td>0</td>\n",
       "      <td>M</td>\n",
       "      <td>1960-09-21 00:00:00 UTC</td>\n",
       "      <td>11254684</td>\n",
       "      <td>60.0</td>\n",
       "      <td>CIUDAD AUTONOMA BUENOS AIRES</td>\n",
       "      <td>Documentation Request</td>\n",
       "      <td>5434652</td>\n",
       "      <td>2021-05-07 00:00:00 UTC</td>\n",
       "      <td>WEB</td>\n",
       "      <td>Automotores Individuales</td>\n",
       "      <td>7</td>\n",
       "      <td>mot Siniestro  mot FacturacionPagos  mot Prec...</td>\n",
       "    </tr>\n",
       "    <tr>\n",
       "      <th>15997</th>\n",
       "      <td>15997</td>\n",
       "      <td>2021-05-10 10:30:03 UTC</td>\n",
       "      <td>2021-05-10 19:38:46 UTC</td>\n",
       "      <td>0</td>\n",
       "      <td>M</td>\n",
       "      <td>1960-07-15 00:00:00 UTC</td>\n",
       "      <td>16971297</td>\n",
       "      <td>60.0</td>\n",
       "      <td>SAN MIGUEL DE TUCUMAN</td>\n",
       "      <td>Documentation Request</td>\n",
       "      <td>5435120</td>\n",
       "      <td>2021-05-07 00:00:00 UTC</td>\n",
       "      <td>WEB</td>\n",
       "      <td>Automotores Individuales</td>\n",
       "      <td>7</td>\n",
       "      <td>NaN</td>\n",
       "    </tr>\n",
       "    <tr>\n",
       "      <th>15998</th>\n",
       "      <td>15998</td>\n",
       "      <td>2021-05-10 10:30:03 UTC</td>\n",
       "      <td>2021-05-10 10:45:03 UTC</td>\n",
       "      <td>2</td>\n",
       "      <td>M</td>\n",
       "      <td>1956-07-10 00:00:00 UTC</td>\n",
       "      <td>5768360</td>\n",
       "      <td>64.0</td>\n",
       "      <td>VILLA DOMINICO</td>\n",
       "      <td>Documentation Request</td>\n",
       "      <td>5434365</td>\n",
       "      <td>2021-05-07 00:00:00 UTC</td>\n",
       "      <td>WEB</td>\n",
       "      <td>Automotores Individuales</td>\n",
       "      <td>2</td>\n",
       "      <td>mot Siniestro  atr Conformidad  mot Facturaci...</td>\n",
       "    </tr>\n",
       "    <tr>\n",
       "      <th>15999</th>\n",
       "      <td>15999</td>\n",
       "      <td>2021-05-10 10:39:05 UTC</td>\n",
       "      <td>2021-05-10 12:02:05 UTC</td>\n",
       "      <td>0</td>\n",
       "      <td>F</td>\n",
       "      <td>1965-11-22 00:00:00 UTC</td>\n",
       "      <td>8703935</td>\n",
       "      <td>55.0</td>\n",
       "      <td>CIUDAD AUTONOMA BUENOS AIRES</td>\n",
       "      <td>Query/Servicing request</td>\n",
       "      <td>5426739</td>\n",
       "      <td>2021-05-07 00:00:00 UTC</td>\n",
       "      <td>SUCURSAL</td>\n",
       "      <td>Automotores Individuales</td>\n",
       "      <td>8</td>\n",
       "      <td>mot Servicio</td>\n",
       "    </tr>\n",
       "  </tbody>\n",
       "</table>\n",
       "</div>"
      ],
      "text/plain": [
       "       Unnamed: 0            CREATION_DATE            RESPONSE_DATE  \\\n",
       "15995       15995  2021-05-10 10:30:03 UTC  2021-05-10 10:46:11 UTC   \n",
       "15996       15996  2021-05-10 10:30:03 UTC  2021-05-10 12:12:26 UTC   \n",
       "15997       15997  2021-05-10 10:30:03 UTC  2021-05-10 19:38:46 UTC   \n",
       "15998       15998  2021-05-10 10:30:03 UTC  2021-05-10 10:45:03 UTC   \n",
       "15999       15999  2021-05-10 10:39:05 UTC  2021-05-10 12:02:05 UTC   \n",
       "\n",
       "       CURRENT_STATUS GENDER             DAY_OF_BIRTH    CIF_ID   AGE  \\\n",
       "15995               5      M  1974-11-24 00:00:00 UTC  23609326  46.0   \n",
       "15996               0      M  1960-09-21 00:00:00 UTC  11254684  60.0   \n",
       "15997               0      M  1960-07-15 00:00:00 UTC  16971297  60.0   \n",
       "15998               2      M  1956-07-10 00:00:00 UTC   5768360  64.0   \n",
       "15999               0      F  1965-11-22 00:00:00 UTC   8703935  55.0   \n",
       "\n",
       "                           LOCATION        TOUCHPOINT_NUMBER  CASE_NUMBER  \\\n",
       "15995               ISIDRO CASANOVA    Documentation Request      5436373   \n",
       "15996  CIUDAD AUTONOMA BUENOS AIRES    Documentation Request      5434652   \n",
       "15997         SAN MIGUEL DE TUCUMAN    Documentation Request      5435120   \n",
       "15998                VILLA DOMINICO    Documentation Request      5434365   \n",
       "15999  CIUDAD AUTONOMA BUENOS AIRES  Query/Servicing request      5426739   \n",
       "\n",
       "                     CASE_DATE CASE_CHANNEL              PRODUCT_NAME  \\\n",
       "15995  2021-05-07 00:00:00 UTC          WEB  Automotores Individuales   \n",
       "15996  2021-05-07 00:00:00 UTC          WEB  Automotores Individuales   \n",
       "15997  2021-05-07 00:00:00 UTC          WEB  Automotores Individuales   \n",
       "15998  2021-05-07 00:00:00 UTC          WEB  Automotores Individuales   \n",
       "15999  2021-05-07 00:00:00 UTC     SUCURSAL  Automotores Individuales   \n",
       "\n",
       "       NPS_SCORE                                               TAGS  \n",
       "15995          9                mot Siniestro  mot Cobertura poliza  \n",
       "15996          7   mot Siniestro  mot FacturacionPagos  mot Prec...  \n",
       "15997          7                                                NaN  \n",
       "15998          2   mot Siniestro  atr Conformidad  mot Facturaci...  \n",
       "15999          8                                       mot Servicio  "
      ]
     },
     "execution_count": 6,
     "metadata": {},
     "output_type": "execute_result"
    }
   ],
   "source": [
    "#imprimir lo de abajo"
   ]
  },
  {
   "cell_type": "code",
   "execution_count": 7,
   "metadata": {
    "pycharm": {
     "name": "#%%\n"
    }
   },
   "outputs": [
    {
     "data": {
      "text/plain": [
       "Index(['Unnamed: 0', 'CREATION_DATE', 'RESPONSE_DATE', 'CURRENT_STATUS',\n",
       "       'GENDER', 'DAY_OF_BIRTH', 'CIF_ID', 'AGE', 'LOCATION',\n",
       "       'TOUCHPOINT_NUMBER', 'CASE_NUMBER', 'CASE_DATE', 'CASE_CHANNEL',\n",
       "       'PRODUCT_NAME', 'NPS_SCORE', 'TAGS'],\n",
       "      dtype='object')"
      ]
     },
     "execution_count": 7,
     "metadata": {},
     "output_type": "execute_result"
    }
   ],
   "source": [
    "#mostrar nombres de columna\n"
   ]
  },
  {
   "cell_type": "markdown",
   "metadata": {
    "pycharm": {
     "name": "#%% md\n"
    }
   },
   "source": [
    "Hacer una función que determine si es promotor, detractor y neutro e implementarla a una columna del dataset que se llama nps_segment\n",
    "* Promotor: NPS_SCORE = 8,9,10\n",
    "* Neutro: NPS_SCORE = 6,7\n",
    "* Detractor: NPS_SCORE = 1,2,3,4,5"
   ]
  },
  {
   "cell_type": "code",
   "execution_count": 7,
   "metadata": {
    "pycharm": {
     "name": "#%%\n"
    }
   },
   "outputs": [],
   "source": [
    "def nps_segment(x):\n",
    "    \"\"\"funcion que discrimina por puntaje\"\"\"\n",
    "\n",
    "#df[\"nombre_de_la_columna_nueva\"] = df[\"Columna_a_transformar\"].apply(función_creada_por_nosotros)\n"
   ]
  },
  {
   "cell_type": "code",
   "execution_count": 8,
   "metadata": {
    "pycharm": {
     "name": "#%%\n"
    }
   },
   "outputs": [
    {
     "data": {
      "text/plain": [
       "0        detractor\n",
       "1         promotor\n",
       "2         promotor\n",
       "3         promotor\n",
       "4        detractor\n",
       "           ...    \n",
       "15995     promotor\n",
       "15996       neutro\n",
       "15997       neutro\n",
       "15998    detractor\n",
       "15999     promotor\n",
       "Name: nps_segment, Length: 16000, dtype: object"
      ]
     },
     "execution_count": 8,
     "metadata": {},
     "output_type": "execute_result"
    }
   ],
   "source": [
    "df[\"nps_segment\"]"
   ]
  },
  {
   "cell_type": "code",
   "execution_count": 10,
   "metadata": {
    "pycharm": {
     "name": "#%%\n"
    }
   },
   "outputs": [
    {
     "data": {
      "text/plain": [
       "2184"
      ]
     },
     "execution_count": 10,
     "metadata": {},
     "output_type": "execute_result"
    }
   ],
   "source": [
    "#imprimir nans en la columna TAGS"
   ]
  },
  {
   "cell_type": "markdown",
   "metadata": {
    "pycharm": {
     "name": "#%% md\n"
    }
   },
   "source": [
    "Con numpy.where crear una columna llamada detected, que determina si la columna TAGS tiene algun contenido. Poner True si lo tiene y si no tiene contenido poner False."
   ]
  },
  {
   "cell_type": "code",
   "execution_count": 11,
   "metadata": {
    "pycharm": {
     "name": "#%%\n"
    }
   },
   "outputs": [
    {
     "data": {
      "text/plain": [
       "0         True\n",
       "1         True\n",
       "2        False\n",
       "3         True\n",
       "4         True\n",
       "         ...  \n",
       "15995     True\n",
       "15996     True\n",
       "15997    False\n",
       "15998     True\n",
       "15999     True\n",
       "Name: detected, Length: 16000, dtype: bool"
      ]
     },
     "execution_count": 11,
     "metadata": {},
     "output_type": "execute_result"
    }
   ],
   "source": [
    "#Escribi tu código acá (HINT: Buscar numpy where documentacion)\n",
    "df[\"detected\"]"
   ]
  },
  {
   "cell_type": "markdown",
   "metadata": {
    "pycharm": {
     "name": "#%% md\n"
    }
   },
   "source": [
    "## Dates\n",
    "Devolver la fecha máxima y minima de la columna CREATION_DATE"
   ]
  },
  {
   "cell_type": "code",
   "execution_count": 12,
   "metadata": {
    "pycharm": {
     "name": "#%%\n"
    }
   },
   "outputs": [
    {
     "data": {
      "text/plain": [
       "'2021-06-15 12:35:01 UTC'"
      ]
     },
     "execution_count": 12,
     "metadata": {},
     "output_type": "execute_result"
    }
   ],
   "source": []
  },
  {
   "cell_type": "code",
   "execution_count": 13,
   "metadata": {
    "pycharm": {
     "name": "#%%\n"
    }
   },
   "outputs": [
    {
     "data": {
      "text/plain": [
       "'2020-12-10 10:30:03 UTC'"
      ]
     },
     "execution_count": 13,
     "metadata": {},
     "output_type": "execute_result"
    }
   ],
   "source": []
  },
  {
   "cell_type": "markdown",
   "metadata": {
    "pycharm": {
     "name": "#%% md\n"
    }
   },
   "source": [
    "Chequear los data types de todas las columnas"
   ]
  },
  {
   "cell_type": "code",
   "execution_count": 19,
   "metadata": {
    "pycharm": {
     "name": "#%%\n"
    }
   },
   "outputs": [
    {
     "data": {
      "text/plain": [
       "Unnamed: 0             int64\n",
       "CREATION_DATE         object\n",
       "RESPONSE_DATE         object\n",
       "CURRENT_STATUS         int64\n",
       "GENDER                object\n",
       "DAY_OF_BIRTH          object\n",
       "CIF_ID                 int64\n",
       "AGE                  float64\n",
       "LOCATION              object\n",
       "TOUCHPOINT_NUMBER     object\n",
       "CASE_NUMBER            int64\n",
       "CASE_DATE             object\n",
       "CASE_CHANNEL          object\n",
       "PRODUCT_NAME          object\n",
       "NPS_SCORE              int64\n",
       "TAGS                  object\n",
       "nps_segment           object\n",
       "detected                bool\n",
       "dtype: object"
      ]
     },
     "execution_count": 19,
     "metadata": {},
     "output_type": "execute_result"
    }
   ],
   "source": []
  },
  {
   "cell_type": "markdown",
   "metadata": {
    "pycharm": {
     "name": "#%% md\n"
    }
   },
   "source": [
    "¿Cual es el data type de CREATION_DATE ¿Te parece correct?"
   ]
  },
  {
   "cell_type": "markdown",
   "metadata": {
    "pycharm": {
     "name": "#%% md\n"
    }
   },
   "source": [
    "Crear una columna que solo tenga año y mes. Llameémosle year_month. Utilizar pd.to_datetime() primero y luego to period"
   ]
  },
  {
   "cell_type": "code",
   "execution_count": 20,
   "metadata": {
    "pycharm": {
     "name": "#%%\n"
    }
   },
   "outputs": [
    {
     "data": {
      "text/plain": [
       "0       2021-06-11 10:30:03+00:00\n",
       "1       2021-06-10 10:30:03+00:00\n",
       "2       2021-06-07 10:30:03+00:00\n",
       "3       2021-06-10 10:30:03+00:00\n",
       "4       2021-05-31 10:30:03+00:00\n",
       "                   ...           \n",
       "15995   2021-05-10 10:30:03+00:00\n",
       "15996   2021-05-10 10:30:03+00:00\n",
       "15997   2021-05-10 10:30:03+00:00\n",
       "15998   2021-05-10 10:30:03+00:00\n",
       "15999   2021-05-10 10:39:05+00:00\n",
       "Name: CREATION_DATE, Length: 16000, dtype: datetime64[ns, UTC]"
      ]
     },
     "execution_count": 20,
     "metadata": {},
     "output_type": "execute_result"
    }
   ],
   "source": []
  },
  {
   "cell_type": "code",
   "execution_count": 21,
   "metadata": {
    "pycharm": {
     "name": "#%%\n"
    }
   },
   "outputs": [
    {
     "name": "stderr",
     "output_type": "stream",
     "text": [
      "/Users/federicomoreno/PycharmProjects/UCEMA/venv/lib/python3.8/site-packages/pandas/core/arrays/datetimes.py:1162: UserWarning: Converting to PeriodArray/Index representation will drop timezone information.\n",
      "  warnings.warn(\n"
     ]
    },
    {
     "data": {
      "text/plain": [
       "0        2021-06\n",
       "1        2021-06\n",
       "2        2021-06\n",
       "3        2021-06\n",
       "4        2021-05\n",
       "          ...   \n",
       "15995    2021-05\n",
       "15996    2021-05\n",
       "15997    2021-05\n",
       "15998    2021-05\n",
       "15999    2021-05\n",
       "Name: year_month, Length: 16000, dtype: period[M]"
      ]
     },
     "execution_count": 21,
     "metadata": {},
     "output_type": "execute_result"
    }
   ],
   "source": [
    "#armar el código para crear la columna año mes\n",
    "df[\"year_month\"]"
   ]
  },
  {
   "cell_type": "markdown",
   "metadata": {
    "pycharm": {
     "name": "#%% md\n"
    }
   },
   "source": [
    "## Conteo.\n",
    "Crear un nuevo dataframe agrupado por year_month donde tenga la cantidad de encuestas únicas mes a mes\n",
    "** Hint**:\n",
    "```python\n",
    "df.groupby(grouping_column).agg(\"count\")\n",
    "```"
   ]
  },
  {
   "cell_type": "code",
   "execution_count": 22,
   "metadata": {
    "pycharm": {
     "name": "#%%\n"
    }
   },
   "outputs": [
    {
     "data": {
      "text/html": [
       "<div>\n",
       "<style scoped>\n",
       "    .dataframe tbody tr th:only-of-type {\n",
       "        vertical-align: middle;\n",
       "    }\n",
       "\n",
       "    .dataframe tbody tr th {\n",
       "        vertical-align: top;\n",
       "    }\n",
       "\n",
       "    .dataframe thead th {\n",
       "        text-align: right;\n",
       "    }\n",
       "</style>\n",
       "<table border=\"1\" class=\"dataframe\">\n",
       "  <thead>\n",
       "    <tr style=\"text-align: right;\">\n",
       "      <th></th>\n",
       "      <th>Unnamed: 0</th>\n",
       "      <th>CREATION_DATE</th>\n",
       "      <th>RESPONSE_DATE</th>\n",
       "      <th>CURRENT_STATUS</th>\n",
       "      <th>GENDER</th>\n",
       "      <th>DAY_OF_BIRTH</th>\n",
       "      <th>CIF_ID</th>\n",
       "      <th>AGE</th>\n",
       "      <th>LOCATION</th>\n",
       "      <th>TOUCHPOINT_NUMBER</th>\n",
       "      <th>CASE_NUMBER</th>\n",
       "      <th>CASE_DATE</th>\n",
       "      <th>CASE_CHANNEL</th>\n",
       "      <th>PRODUCT_NAME</th>\n",
       "      <th>NPS_SCORE</th>\n",
       "      <th>TAGS</th>\n",
       "      <th>nps_segment</th>\n",
       "      <th>detected</th>\n",
       "    </tr>\n",
       "    <tr>\n",
       "      <th>year_month</th>\n",
       "      <th></th>\n",
       "      <th></th>\n",
       "      <th></th>\n",
       "      <th></th>\n",
       "      <th></th>\n",
       "      <th></th>\n",
       "      <th></th>\n",
       "      <th></th>\n",
       "      <th></th>\n",
       "      <th></th>\n",
       "      <th></th>\n",
       "      <th></th>\n",
       "      <th></th>\n",
       "      <th></th>\n",
       "      <th></th>\n",
       "      <th></th>\n",
       "      <th></th>\n",
       "      <th></th>\n",
       "    </tr>\n",
       "  </thead>\n",
       "  <tbody>\n",
       "    <tr>\n",
       "      <th>2020-12</th>\n",
       "      <td>124</td>\n",
       "      <td>124</td>\n",
       "      <td>124</td>\n",
       "      <td>124</td>\n",
       "      <td>123</td>\n",
       "      <td>123</td>\n",
       "      <td>124</td>\n",
       "      <td>123</td>\n",
       "      <td>124</td>\n",
       "      <td>124</td>\n",
       "      <td>124</td>\n",
       "      <td>124</td>\n",
       "      <td>124</td>\n",
       "      <td>124</td>\n",
       "      <td>124</td>\n",
       "      <td>111</td>\n",
       "      <td>124</td>\n",
       "      <td>124</td>\n",
       "    </tr>\n",
       "    <tr>\n",
       "      <th>2021-01</th>\n",
       "      <td>2617</td>\n",
       "      <td>2617</td>\n",
       "      <td>2617</td>\n",
       "      <td>2617</td>\n",
       "      <td>2612</td>\n",
       "      <td>2612</td>\n",
       "      <td>2617</td>\n",
       "      <td>2612</td>\n",
       "      <td>2610</td>\n",
       "      <td>2617</td>\n",
       "      <td>2617</td>\n",
       "      <td>2617</td>\n",
       "      <td>2617</td>\n",
       "      <td>2617</td>\n",
       "      <td>2617</td>\n",
       "      <td>2246</td>\n",
       "      <td>2617</td>\n",
       "      <td>2617</td>\n",
       "    </tr>\n",
       "    <tr>\n",
       "      <th>2021-02</th>\n",
       "      <td>2433</td>\n",
       "      <td>2433</td>\n",
       "      <td>2433</td>\n",
       "      <td>2433</td>\n",
       "      <td>2427</td>\n",
       "      <td>2426</td>\n",
       "      <td>2433</td>\n",
       "      <td>2426</td>\n",
       "      <td>2428</td>\n",
       "      <td>2433</td>\n",
       "      <td>2433</td>\n",
       "      <td>2433</td>\n",
       "      <td>2433</td>\n",
       "      <td>2433</td>\n",
       "      <td>2433</td>\n",
       "      <td>2139</td>\n",
       "      <td>2433</td>\n",
       "      <td>2433</td>\n",
       "    </tr>\n",
       "    <tr>\n",
       "      <th>2021-03</th>\n",
       "      <td>3308</td>\n",
       "      <td>3308</td>\n",
       "      <td>3308</td>\n",
       "      <td>3308</td>\n",
       "      <td>3294</td>\n",
       "      <td>3294</td>\n",
       "      <td>3308</td>\n",
       "      <td>3294</td>\n",
       "      <td>3297</td>\n",
       "      <td>3308</td>\n",
       "      <td>3308</td>\n",
       "      <td>3308</td>\n",
       "      <td>3308</td>\n",
       "      <td>3308</td>\n",
       "      <td>3308</td>\n",
       "      <td>2866</td>\n",
       "      <td>3308</td>\n",
       "      <td>3308</td>\n",
       "    </tr>\n",
       "    <tr>\n",
       "      <th>2021-04</th>\n",
       "      <td>2883</td>\n",
       "      <td>2883</td>\n",
       "      <td>2883</td>\n",
       "      <td>2883</td>\n",
       "      <td>2868</td>\n",
       "      <td>2868</td>\n",
       "      <td>2883</td>\n",
       "      <td>2868</td>\n",
       "      <td>2876</td>\n",
       "      <td>2883</td>\n",
       "      <td>2883</td>\n",
       "      <td>2883</td>\n",
       "      <td>2883</td>\n",
       "      <td>2883</td>\n",
       "      <td>2883</td>\n",
       "      <td>2466</td>\n",
       "      <td>2883</td>\n",
       "      <td>2883</td>\n",
       "    </tr>\n",
       "    <tr>\n",
       "      <th>2021-05</th>\n",
       "      <td>3066</td>\n",
       "      <td>3066</td>\n",
       "      <td>3066</td>\n",
       "      <td>3066</td>\n",
       "      <td>3051</td>\n",
       "      <td>3051</td>\n",
       "      <td>3066</td>\n",
       "      <td>3051</td>\n",
       "      <td>3055</td>\n",
       "      <td>3066</td>\n",
       "      <td>3066</td>\n",
       "      <td>3066</td>\n",
       "      <td>3066</td>\n",
       "      <td>3066</td>\n",
       "      <td>3066</td>\n",
       "      <td>2632</td>\n",
       "      <td>3066</td>\n",
       "      <td>3066</td>\n",
       "    </tr>\n",
       "    <tr>\n",
       "      <th>2021-06</th>\n",
       "      <td>1569</td>\n",
       "      <td>1569</td>\n",
       "      <td>1569</td>\n",
       "      <td>1569</td>\n",
       "      <td>1562</td>\n",
       "      <td>1562</td>\n",
       "      <td>1569</td>\n",
       "      <td>1562</td>\n",
       "      <td>1568</td>\n",
       "      <td>1569</td>\n",
       "      <td>1569</td>\n",
       "      <td>1569</td>\n",
       "      <td>1569</td>\n",
       "      <td>1569</td>\n",
       "      <td>1569</td>\n",
       "      <td>1356</td>\n",
       "      <td>1569</td>\n",
       "      <td>1569</td>\n",
       "    </tr>\n",
       "  </tbody>\n",
       "</table>\n",
       "</div>"
      ],
      "text/plain": [
       "            Unnamed: 0  CREATION_DATE  RESPONSE_DATE  CURRENT_STATUS  GENDER  \\\n",
       "year_month                                                                     \n",
       "2020-12            124            124            124             124     123   \n",
       "2021-01           2617           2617           2617            2617    2612   \n",
       "2021-02           2433           2433           2433            2433    2427   \n",
       "2021-03           3308           3308           3308            3308    3294   \n",
       "2021-04           2883           2883           2883            2883    2868   \n",
       "2021-05           3066           3066           3066            3066    3051   \n",
       "2021-06           1569           1569           1569            1569    1562   \n",
       "\n",
       "            DAY_OF_BIRTH  CIF_ID   AGE  LOCATION  TOUCHPOINT_NUMBER  \\\n",
       "year_month                                                            \n",
       "2020-12              123     124   123       124                124   \n",
       "2021-01             2612    2617  2612      2610               2617   \n",
       "2021-02             2426    2433  2426      2428               2433   \n",
       "2021-03             3294    3308  3294      3297               3308   \n",
       "2021-04             2868    2883  2868      2876               2883   \n",
       "2021-05             3051    3066  3051      3055               3066   \n",
       "2021-06             1562    1569  1562      1568               1569   \n",
       "\n",
       "            CASE_NUMBER  CASE_DATE  CASE_CHANNEL  PRODUCT_NAME  NPS_SCORE  \\\n",
       "year_month                                                                  \n",
       "2020-12             124        124           124           124        124   \n",
       "2021-01            2617       2617          2617          2617       2617   \n",
       "2021-02            2433       2433          2433          2433       2433   \n",
       "2021-03            3308       3308          3308          3308       3308   \n",
       "2021-04            2883       2883          2883          2883       2883   \n",
       "2021-05            3066       3066          3066          3066       3066   \n",
       "2021-06            1569       1569          1569          1569       1569   \n",
       "\n",
       "            TAGS  nps_segment  detected  \n",
       "year_month                               \n",
       "2020-12      111          124       124  \n",
       "2021-01     2246         2617      2617  \n",
       "2021-02     2139         2433      2433  \n",
       "2021-03     2866         3308      3308  \n",
       "2021-04     2466         2883      2883  \n",
       "2021-05     2632         3066      3066  \n",
       "2021-06     1356         1569      1569  "
      ]
     },
     "execution_count": 22,
     "metadata": {},
     "output_type": "execute_result"
    }
   ],
   "source": []
  },
  {
   "cell_type": "markdown",
   "metadata": {
    "pycharm": {
     "name": "#%% md\n"
    }
   },
   "source": [
    "Crear un dataste donde sume la cantidad de encuestas con TAG detectados, mes a mes"
   ]
  },
  {
   "cell_type": "markdown",
   "metadata": {
    "pycharm": {
     "name": "#%% md\n"
    }
   },
   "source": [
    "**Hint** :\n",
    "```python\n",
    "df.groupby(grouping_column).agg(\n",
    "    new_col_name =  ('old_col_name', 'sum'),\n",
    "    new_col_name_2 = ('old_col_name', 'mean')\n",
    ")\n",
    "```"
   ]
  },
  {
   "cell_type": "code",
   "execution_count": 23,
   "metadata": {
    "pycharm": {
     "name": "#%%\n"
    }
   },
   "outputs": [
    {
     "data": {
      "text/html": [
       "<div>\n",
       "<style scoped>\n",
       "    .dataframe tbody tr th:only-of-type {\n",
       "        vertical-align: middle;\n",
       "    }\n",
       "\n",
       "    .dataframe tbody tr th {\n",
       "        vertical-align: top;\n",
       "    }\n",
       "\n",
       "    .dataframe thead th {\n",
       "        text-align: right;\n",
       "    }\n",
       "</style>\n",
       "<table border=\"1\" class=\"dataframe\">\n",
       "  <thead>\n",
       "    <tr style=\"text-align: right;\">\n",
       "      <th></th>\n",
       "      <th>cantidad_detectadas</th>\n",
       "    </tr>\n",
       "    <tr>\n",
       "      <th>year_month</th>\n",
       "      <th></th>\n",
       "    </tr>\n",
       "  </thead>\n",
       "  <tbody>\n",
       "    <tr>\n",
       "      <th>2020-12</th>\n",
       "      <td>111</td>\n",
       "    </tr>\n",
       "    <tr>\n",
       "      <th>2021-01</th>\n",
       "      <td>2246</td>\n",
       "    </tr>\n",
       "    <tr>\n",
       "      <th>2021-02</th>\n",
       "      <td>2139</td>\n",
       "    </tr>\n",
       "    <tr>\n",
       "      <th>2021-03</th>\n",
       "      <td>2866</td>\n",
       "    </tr>\n",
       "    <tr>\n",
       "      <th>2021-04</th>\n",
       "      <td>2466</td>\n",
       "    </tr>\n",
       "    <tr>\n",
       "      <th>2021-05</th>\n",
       "      <td>2632</td>\n",
       "    </tr>\n",
       "    <tr>\n",
       "      <th>2021-06</th>\n",
       "      <td>1356</td>\n",
       "    </tr>\n",
       "  </tbody>\n",
       "</table>\n",
       "</div>"
      ],
      "text/plain": [
       "            cantidad_detectadas\n",
       "year_month                     \n",
       "2020-12                     111\n",
       "2021-01                    2246\n",
       "2021-02                    2139\n",
       "2021-03                    2866\n",
       "2021-04                    2466\n",
       "2021-05                    2632\n",
       "2021-06                    1356"
      ]
     },
     "execution_count": 23,
     "metadata": {},
     "output_type": "execute_result"
    }
   ],
   "source": []
  },
  {
   "cell_type": "markdown",
   "metadata": {
    "pycharm": {
     "name": "#%% md\n"
    }
   },
   "source": [
    "Crear otro dataset donde tenga la cantidad de encuestas por nps_segment unicas por mes. promotoras, neutras y detractoras."
   ]
  },
  {
   "cell_type": "markdown",
   "metadata": {
    "pycharm": {
     "name": "#%% md\n"
    }
   },
   "source": []
  },
  {
   "cell_type": "code",
   "execution_count": 24,
   "metadata": {
    "pycharm": {
     "name": "#%%\n"
    }
   },
   "outputs": [
    {
     "data": {
      "text/html": [
       "<div>\n",
       "<style scoped>\n",
       "    .dataframe tbody tr th:only-of-type {\n",
       "        vertical-align: middle;\n",
       "    }\n",
       "\n",
       "    .dataframe tbody tr th {\n",
       "        vertical-align: top;\n",
       "    }\n",
       "\n",
       "    .dataframe thead th {\n",
       "        text-align: right;\n",
       "    }\n",
       "</style>\n",
       "<table border=\"1\" class=\"dataframe\">\n",
       "  <thead>\n",
       "    <tr style=\"text-align: right;\">\n",
       "      <th></th>\n",
       "      <th></th>\n",
       "      <th>cantidad_detectadas</th>\n",
       "    </tr>\n",
       "    <tr>\n",
       "      <th>year_month</th>\n",
       "      <th>nps_segment</th>\n",
       "      <th></th>\n",
       "    </tr>\n",
       "  </thead>\n",
       "  <tbody>\n",
       "    <tr>\n",
       "      <th rowspan=\"3\" valign=\"top\">2020-12</th>\n",
       "      <th>detractor</th>\n",
       "      <td>16</td>\n",
       "    </tr>\n",
       "    <tr>\n",
       "      <th>neutro</th>\n",
       "      <td>8</td>\n",
       "    </tr>\n",
       "    <tr>\n",
       "      <th>promotor</th>\n",
       "      <td>100</td>\n",
       "    </tr>\n",
       "    <tr>\n",
       "      <th rowspan=\"3\" valign=\"top\">2021-01</th>\n",
       "      <th>detractor</th>\n",
       "      <td>408</td>\n",
       "    </tr>\n",
       "    <tr>\n",
       "      <th>neutro</th>\n",
       "      <td>180</td>\n",
       "    </tr>\n",
       "    <tr>\n",
       "      <th>promotor</th>\n",
       "      <td>2028</td>\n",
       "    </tr>\n",
       "    <tr>\n",
       "      <th rowspan=\"3\" valign=\"top\">2021-02</th>\n",
       "      <th>detractor</th>\n",
       "      <td>472</td>\n",
       "    </tr>\n",
       "    <tr>\n",
       "      <th>neutro</th>\n",
       "      <td>162</td>\n",
       "    </tr>\n",
       "    <tr>\n",
       "      <th>promotor</th>\n",
       "      <td>1799</td>\n",
       "    </tr>\n",
       "    <tr>\n",
       "      <th rowspan=\"3\" valign=\"top\">2021-03</th>\n",
       "      <th>detractor</th>\n",
       "      <td>553</td>\n",
       "    </tr>\n",
       "    <tr>\n",
       "      <th>neutro</th>\n",
       "      <td>261</td>\n",
       "    </tr>\n",
       "    <tr>\n",
       "      <th>promotor</th>\n",
       "      <td>2494</td>\n",
       "    </tr>\n",
       "    <tr>\n",
       "      <th rowspan=\"3\" valign=\"top\">2021-04</th>\n",
       "      <th>detractor</th>\n",
       "      <td>416</td>\n",
       "    </tr>\n",
       "    <tr>\n",
       "      <th>neutro</th>\n",
       "      <td>206</td>\n",
       "    </tr>\n",
       "    <tr>\n",
       "      <th>promotor</th>\n",
       "      <td>2260</td>\n",
       "    </tr>\n",
       "    <tr>\n",
       "      <th rowspan=\"3\" valign=\"top\">2021-05</th>\n",
       "      <th>detractor</th>\n",
       "      <td>430</td>\n",
       "    </tr>\n",
       "    <tr>\n",
       "      <th>neutro</th>\n",
       "      <td>212</td>\n",
       "    </tr>\n",
       "    <tr>\n",
       "      <th>promotor</th>\n",
       "      <td>2421</td>\n",
       "    </tr>\n",
       "    <tr>\n",
       "      <th rowspan=\"3\" valign=\"top\">2021-06</th>\n",
       "      <th>detractor</th>\n",
       "      <td>219</td>\n",
       "    </tr>\n",
       "    <tr>\n",
       "      <th>neutro</th>\n",
       "      <td>100</td>\n",
       "    </tr>\n",
       "    <tr>\n",
       "      <th>promotor</th>\n",
       "      <td>1249</td>\n",
       "    </tr>\n",
       "  </tbody>\n",
       "</table>\n",
       "</div>"
      ],
      "text/plain": [
       "                        cantidad_detectadas\n",
       "year_month nps_segment                     \n",
       "2020-12    detractor                     16\n",
       "           neutro                         8\n",
       "           promotor                     100\n",
       "2021-01    detractor                    408\n",
       "           neutro                       180\n",
       "           promotor                    2028\n",
       "2021-02    detractor                    472\n",
       "           neutro                       162\n",
       "           promotor                    1799\n",
       "2021-03    detractor                    553\n",
       "           neutro                       261\n",
       "           promotor                    2494\n",
       "2021-04    detractor                    416\n",
       "           neutro                       206\n",
       "           promotor                    2260\n",
       "2021-05    detractor                    430\n",
       "           neutro                       212\n",
       "           promotor                    2421\n",
       "2021-06    detractor                    219\n",
       "           neutro                       100\n",
       "           promotor                    1249"
      ]
     },
     "execution_count": 24,
     "metadata": {},
     "output_type": "execute_result"
    }
   ],
   "source": []
  },
  {
   "cell_type": "markdown",
   "metadata": {
    "pycharm": {
     "name": "#%% md\n"
    }
   },
   "source": [
    "### Seg,emtps\n",
    "Crear un dataset que agrupe por segmento los CIF_ID únicos"
   ]
  },
  {
   "cell_type": "code",
   "execution_count": 25,
   "metadata": {
    "pycharm": {
     "name": "#%%\n"
    }
   },
   "outputs": [
    {
     "data": {
      "text/plain": [
       "nps_segment\n",
       "detractor     2467\n",
       "neutro        1117\n",
       "promotor     11892\n",
       "Name: CIF_ID, dtype: int64"
      ]
     },
     "execution_count": 25,
     "metadata": {},
     "output_type": "execute_result"
    }
   ],
   "source": [
    "\n",
    "dataset_por_segmento"
   ]
  },
  {
   "cell_type": "code",
   "execution_count": 27,
   "metadata": {
    "pycharm": {
     "name": "#%%\n"
    }
   },
   "outputs": [
    {
     "data": {
      "text/html": [
       "<div>\n",
       "<style scoped>\n",
       "    .dataframe tbody tr th:only-of-type {\n",
       "        vertical-align: middle;\n",
       "    }\n",
       "\n",
       "    .dataframe tbody tr th {\n",
       "        vertical-align: top;\n",
       "    }\n",
       "\n",
       "    .dataframe thead th {\n",
       "        text-align: right;\n",
       "    }\n",
       "</style>\n",
       "<table border=\"1\" class=\"dataframe\">\n",
       "  <thead>\n",
       "    <tr style=\"text-align: right;\">\n",
       "      <th></th>\n",
       "      <th>nps_segment</th>\n",
       "      <th>CIF_ID</th>\n",
       "    </tr>\n",
       "  </thead>\n",
       "  <tbody>\n",
       "    <tr>\n",
       "      <th>0</th>\n",
       "      <td>detractor</td>\n",
       "      <td>2467</td>\n",
       "    </tr>\n",
       "    <tr>\n",
       "      <th>1</th>\n",
       "      <td>neutro</td>\n",
       "      <td>1117</td>\n",
       "    </tr>\n",
       "    <tr>\n",
       "      <th>2</th>\n",
       "      <td>promotor</td>\n",
       "      <td>11892</td>\n",
       "    </tr>\n",
       "  </tbody>\n",
       "</table>\n",
       "</div>"
      ],
      "text/plain": [
       "  nps_segment  CIF_ID\n",
       "0   detractor    2467\n",
       "1      neutro    1117\n",
       "2    promotor   11892"
      ]
     },
     "execution_count": 27,
     "metadata": {},
     "output_type": "execute_result"
    }
   ],
   "source": [
    "#reset_index() implementalo al dataset y asignaselo\n",
    "dataset_por_segmento"
   ]
  },
  {
   "cell_type": "markdown",
   "metadata": {
    "pycharm": {
     "name": "#%% md\n"
    }
   },
   "source": [
    "Cantidad que hay por detractor, promotor y neutro"
   ]
  },
  {
   "cell_type": "code",
   "execution_count": 28,
   "metadata": {
    "pycharm": {
     "name": "#%%\n"
    }
   },
   "outputs": [
    {
     "data": {
      "text/plain": [
       "promotor     12356\n",
       "detractor     2515\n",
       "neutro        1129\n",
       "Name: nps_segment, dtype: int64"
      ]
     },
     "execution_count": 28,
     "metadata": {},
     "output_type": "execute_result"
    }
   ],
   "source": []
  },
  {
   "cell_type": "markdown",
   "metadata": {
    "pycharm": {
     "name": "#%% md\n"
    }
   },
   "source": [
    "# Countplot\n",
    "Hacer un countplot por la cantidad de NPS segment"
   ]
  },
  {
   "cell_type": "code",
   "execution_count": 30,
   "metadata": {
    "pycharm": {
     "name": "#%%\n"
    }
   },
   "outputs": [],
   "source": [
    "from matplotlib import rcParams\n",
    "rcParams['figure.figsize'] = 6,6\n",
    "paleta = [\"#66bd63\",\"#a50026\", \"#fee08b\"]"
   ]
  },
  {
   "cell_type": "code",
   "execution_count": 31,
   "metadata": {
    "pycharm": {
     "name": "#%%\n"
    }
   },
   "outputs": [
    {
     "data": {
      "text/plain": [
       "Text(0.5, 1.0, 'Distribución Nps Segment')"
      ]
     },
     "execution_count": 31,
     "metadata": {},
     "output_type": "execute_result"
    },
    {
     "data": {
      "image/png": "[encoded data removed]",
      "text/plain": [
       "<Figure size 600x600 with 1 Axes>"
      ]
     },
     "metadata": {},
     "output_type": "display_data"
    }
   ],
   "source": []
  },
  {
   "cell_type": "code",
   "execution_count": 32,
   "metadata": {
    "pycharm": {
     "name": "#%%\n"
    }
   },
   "outputs": [
    {
     "name": "stdout",
     "output_type": "stream",
     "text": [
      "Porcentajes de Promotores de la muestra: 77.225\n",
      "Porcentajes de Detractores de la muestra 15.71875\n",
      "Porcentajes de Neutros de la muestra 7.05625\n"
     ]
    }
   ],
   "source": [
    "#imprimir las cantidades\n"
   ]
  },
  {
   "cell_type": "markdown",
   "metadata": {
    "pycharm": {
     "name": "#%% md\n"
    }
   },
   "source": [
    "# Crosstab\n",
    "\n",
    "Armar un crostab por year_month en el index y NPS segment cómo columna"
   ]
  },
  {
   "cell_type": "code",
   "execution_count": 34,
   "metadata": {
    "pycharm": {
     "name": "#%%\n"
    }
   },
   "outputs": [
    {
     "data": {
      "text/html": [
       "<div>\n",
       "<style scoped>\n",
       "    .dataframe tbody tr th:only-of-type {\n",
       "        vertical-align: middle;\n",
       "    }\n",
       "\n",
       "    .dataframe tbody tr th {\n",
       "        vertical-align: top;\n",
       "    }\n",
       "\n",
       "    .dataframe thead th {\n",
       "        text-align: right;\n",
       "    }\n",
       "</style>\n",
       "<table border=\"1\" class=\"dataframe\">\n",
       "  <thead>\n",
       "    <tr style=\"text-align: right;\">\n",
       "      <th>nps_segment</th>\n",
       "      <th>detractor</th>\n",
       "      <th>neutro</th>\n",
       "      <th>promotor</th>\n",
       "    </tr>\n",
       "    <tr>\n",
       "      <th>year_month</th>\n",
       "      <th></th>\n",
       "      <th></th>\n",
       "      <th></th>\n",
       "    </tr>\n",
       "  </thead>\n",
       "  <tbody>\n",
       "    <tr>\n",
       "      <th>2020-12</th>\n",
       "      <td>16</td>\n",
       "      <td>8</td>\n",
       "      <td>100</td>\n",
       "    </tr>\n",
       "    <tr>\n",
       "      <th>2021-01</th>\n",
       "      <td>409</td>\n",
       "      <td>180</td>\n",
       "      <td>2028</td>\n",
       "    </tr>\n",
       "    <tr>\n",
       "      <th>2021-02</th>\n",
       "      <td>472</td>\n",
       "      <td>162</td>\n",
       "      <td>1799</td>\n",
       "    </tr>\n",
       "    <tr>\n",
       "      <th>2021-03</th>\n",
       "      <td>553</td>\n",
       "      <td>261</td>\n",
       "      <td>2494</td>\n",
       "    </tr>\n",
       "    <tr>\n",
       "      <th>2021-04</th>\n",
       "      <td>416</td>\n",
       "      <td>206</td>\n",
       "      <td>2261</td>\n",
       "    </tr>\n",
       "    <tr>\n",
       "      <th>2021-05</th>\n",
       "      <td>430</td>\n",
       "      <td>212</td>\n",
       "      <td>2424</td>\n",
       "    </tr>\n",
       "    <tr>\n",
       "      <th>2021-06</th>\n",
       "      <td>219</td>\n",
       "      <td>100</td>\n",
       "      <td>1250</td>\n",
       "    </tr>\n",
       "  </tbody>\n",
       "</table>\n",
       "</div>"
      ],
      "text/plain": [
       "nps_segment  detractor  neutro  promotor\n",
       "year_month                              \n",
       "2020-12             16       8       100\n",
       "2021-01            409     180      2028\n",
       "2021-02            472     162      1799\n",
       "2021-03            553     261      2494\n",
       "2021-04            416     206      2261\n",
       "2021-05            430     212      2424\n",
       "2021-06            219     100      1250"
      ]
     },
     "execution_count": 34,
     "metadata": {},
     "output_type": "execute_result"
    }
   ],
   "source": []
  },
  {
   "cell_type": "markdown",
   "metadata": {
    "pycharm": {
     "name": "#%% md\n"
    }
   },
   "source": [
    "¿Para que sirve esta tabla?"
   ]
  },
  {
   "cell_type": "markdown",
   "metadata": {
    "pycharm": {
     "name": "#%% md\n"
    }
   },
   "source": [
    "Armar en terminos relativos. Es decir, en porcentaje de total por mes."
   ]
  },
  {
   "cell_type": "code",
   "execution_count": 35,
   "metadata": {
    "pycharm": {
     "name": "#%%\n"
    }
   },
   "outputs": [
    {
     "data": {
      "text/html": [
       "<div>\n",
       "<style scoped>\n",
       "    .dataframe tbody tr th:only-of-type {\n",
       "        vertical-align: middle;\n",
       "    }\n",
       "\n",
       "    .dataframe tbody tr th {\n",
       "        vertical-align: top;\n",
       "    }\n",
       "\n",
       "    .dataframe thead th {\n",
       "        text-align: right;\n",
       "    }\n",
       "</style>\n",
       "<table border=\"1\" class=\"dataframe\">\n",
       "  <thead>\n",
       "    <tr style=\"text-align: right;\">\n",
       "      <th>nps_segment</th>\n",
       "      <th>detractor</th>\n",
       "      <th>neutro</th>\n",
       "      <th>promotor</th>\n",
       "    </tr>\n",
       "    <tr>\n",
       "      <th>year_month</th>\n",
       "      <th></th>\n",
       "      <th></th>\n",
       "      <th></th>\n",
       "    </tr>\n",
       "  </thead>\n",
       "  <tbody>\n",
       "    <tr>\n",
       "      <th>2020-12</th>\n",
       "      <td>12.903226</td>\n",
       "      <td>6.451613</td>\n",
       "      <td>80.645161</td>\n",
       "    </tr>\n",
       "    <tr>\n",
       "      <th>2021-01</th>\n",
       "      <td>15.628582</td>\n",
       "      <td>6.878105</td>\n",
       "      <td>77.493313</td>\n",
       "    </tr>\n",
       "    <tr>\n",
       "      <th>2021-02</th>\n",
       "      <td>19.399918</td>\n",
       "      <td>6.658446</td>\n",
       "      <td>73.941636</td>\n",
       "    </tr>\n",
       "    <tr>\n",
       "      <th>2021-03</th>\n",
       "      <td>16.717050</td>\n",
       "      <td>7.889964</td>\n",
       "      <td>75.392987</td>\n",
       "    </tr>\n",
       "    <tr>\n",
       "      <th>2021-04</th>\n",
       "      <td>14.429414</td>\n",
       "      <td>7.145335</td>\n",
       "      <td>78.425251</td>\n",
       "    </tr>\n",
       "    <tr>\n",
       "      <th>2021-05</th>\n",
       "      <td>14.024788</td>\n",
       "      <td>6.914547</td>\n",
       "      <td>79.060665</td>\n",
       "    </tr>\n",
       "    <tr>\n",
       "      <th>2021-06</th>\n",
       "      <td>13.957935</td>\n",
       "      <td>6.373486</td>\n",
       "      <td>79.668579</td>\n",
       "    </tr>\n",
       "  </tbody>\n",
       "</table>\n",
       "</div>"
      ],
      "text/plain": [
       "nps_segment  detractor    neutro   promotor\n",
       "year_month                                 \n",
       "2020-12      12.903226  6.451613  80.645161\n",
       "2021-01      15.628582  6.878105  77.493313\n",
       "2021-02      19.399918  6.658446  73.941636\n",
       "2021-03      16.717050  7.889964  75.392987\n",
       "2021-04      14.429414  7.145335  78.425251\n",
       "2021-05      14.024788  6.914547  79.060665\n",
       "2021-06      13.957935  6.373486  79.668579"
      ]
     },
     "execution_count": 35,
     "metadata": {},
     "output_type": "execute_result"
    }
   ],
   "source": []
  },
  {
   "cell_type": "markdown",
   "metadata": {
    "pycharm": {
     "name": "#%% md\n"
    }
   },
   "source": [
    "# Lineplot\n",
    "\n",
    "En el eje x gráfica el mes y en el eje y tres lineas con detractor, neutro y promotor"
   ]
  },
  {
   "cell_type": "code",
   "execution_count": 36,
   "metadata": {
    "pycharm": {
     "name": "#%%\n"
    }
   },
   "outputs": [
    {
     "data": {
      "text/plain": [
       "<AxesSubplot:xlabel='year_month'>"
      ]
     },
     "execution_count": 36,
     "metadata": {},
     "output_type": "execute_result"
    },
    {
     "data": {
      "image/png": "[encoded data removed]",
      "text/plain": [
       "<Figure size 900x600 with 1 Axes>"
      ]
     },
     "metadata": {},
     "output_type": "display_data"
    }
   ],
   "source": []
  },
  {
   "cell_type": "markdown",
   "metadata": {
    "pycharm": {
     "name": "#%% md\n"
    }
   },
   "source": [
    "Armar un cross tab con los comentarios detectados mes a mes"
   ]
  },
  {
   "cell_type": "code",
   "execution_count": 37,
   "metadata": {
    "pycharm": {
     "name": "#%%\n"
    }
   },
   "outputs": [
    {
     "data": {
      "text/html": [
       "<div>\n",
       "<style scoped>\n",
       "    .dataframe tbody tr th:only-of-type {\n",
       "        vertical-align: middle;\n",
       "    }\n",
       "\n",
       "    .dataframe tbody tr th {\n",
       "        vertical-align: top;\n",
       "    }\n",
       "\n",
       "    .dataframe thead th {\n",
       "        text-align: right;\n",
       "    }\n",
       "</style>\n",
       "<table border=\"1\" class=\"dataframe\">\n",
       "  <thead>\n",
       "    <tr style=\"text-align: right;\">\n",
       "      <th>year_month</th>\n",
       "      <th>2020-12</th>\n",
       "      <th>2021-01</th>\n",
       "      <th>2021-02</th>\n",
       "      <th>2021-03</th>\n",
       "      <th>2021-04</th>\n",
       "      <th>2021-05</th>\n",
       "      <th>2021-06</th>\n",
       "    </tr>\n",
       "    <tr>\n",
       "      <th>detected</th>\n",
       "      <th></th>\n",
       "      <th></th>\n",
       "      <th></th>\n",
       "      <th></th>\n",
       "      <th></th>\n",
       "      <th></th>\n",
       "      <th></th>\n",
       "    </tr>\n",
       "  </thead>\n",
       "  <tbody>\n",
       "    <tr>\n",
       "      <th>False</th>\n",
       "      <td>13</td>\n",
       "      <td>371</td>\n",
       "      <td>294</td>\n",
       "      <td>442</td>\n",
       "      <td>417</td>\n",
       "      <td>434</td>\n",
       "      <td>213</td>\n",
       "    </tr>\n",
       "    <tr>\n",
       "      <th>True</th>\n",
       "      <td>111</td>\n",
       "      <td>2246</td>\n",
       "      <td>2139</td>\n",
       "      <td>2866</td>\n",
       "      <td>2466</td>\n",
       "      <td>2632</td>\n",
       "      <td>1356</td>\n",
       "    </tr>\n",
       "  </tbody>\n",
       "</table>\n",
       "</div>"
      ],
      "text/plain": [
       "year_month  2020-12  2021-01  2021-02  2021-03  2021-04  2021-05  2021-06\n",
       "detected                                                                 \n",
       "False            13      371      294      442      417      434      213\n",
       "True            111     2246     2139     2866     2466     2632     1356"
      ]
     },
     "execution_count": 37,
     "metadata": {},
     "output_type": "execute_result"
    }
   ],
   "source": [
    "."
   ]
  },
  {
   "cell_type": "markdown",
   "metadata": {
    "pycharm": {
     "name": "#%% md\n"
    }
   },
   "source": [
    "¿Que mes es en el que más falla? ¿podemos sacar una conclusión?"
   ]
  },
  {
   "cell_type": "markdown",
   "metadata": {
    "pycharm": {
     "name": "#%% md\n"
    }
   },
   "source": [
    "# Case Channel\n",
    "\n",
    "Reproducí este gráfico. ¿Para qué sirve?\n",
    "\n",
    "HINT:\n",
    "\n",
    "plt.rc('xtick', labelsize=24)\n",
    "plt.rc('ytick', labelsize=10)\n",
    "ax = sns.countplot(data = df, x = 'CASE_CHANNEL',\n",
    "              order = df['CASE_CHANNEL'].value_counts().index)"
   ]
  },
  {
   "cell_type": "code",
   "execution_count": 39,
   "metadata": {
    "pycharm": {
     "name": "#%%\n"
    }
   },
   "outputs": [
    {
     "data": {
      "image/png": "[encoded data removed]",
      "text/plain": [
       "<Figure size 900x600 with 1 Axes>"
      ]
     },
     "metadata": {},
     "output_type": "display_data"
    }
   ],
   "source": []
  },
  {
   "cell_type": "markdown",
   "metadata": {
    "pycharm": {
     "name": "#%% md\n"
    }
   },
   "source": [
    "Instala la librería squarify y ejecuta la linea de código de aca abajo importala y"
   ]
  },
  {
   "cell_type": "code",
   "execution_count": 42,
   "metadata": {
    "pycharm": {
     "name": "#%%\n"
    }
   },
   "outputs": [
    {
     "data": {
      "image/png": "[encoded data removed]",
      "text/plain": [
       "<Figure size 1800x1000 with 1 Axes>"
      ]
     },
     "metadata": {},
     "output_type": "display_data"
    }
   ],
   "source": [
    "#filtro = df[df['CASE_CHANNEL'].map(df['CASE_CHANNEL'].value_counts()) > 900]\n",
    "label_value = df[\"CASE_CHANNEL\"].value_counts().to_dict()\n",
    "# Creo los labels usando a list comprehesion\n",
    "labels = [\"{} tiene {} obs\".format(class_, obs) for class_, obs in label_value.items()]\n",
    "# Creo colores por cantidad de trabajos\n",
    "colors = [plt.cm.Spectral(i/float(len(labels))) for i in range(len(labels))]\n",
    "plt.figure(figsize = (18, 10))\n",
    "squarify.plot(sizes = label_value.values(), label = labels,  color = colors, alpha = 0.8)\n",
    "plt.title(\"Cantidad de casos por CASE_CHANNEL\");"
   ]
  },
  {
   "cell_type": "markdown",
   "metadata": {
    "pycharm": {
     "name": "#%% md\n"
    }
   },
   "source": [
    "Crear un cross tab entre segmento y Case chanel"
   ]
  },
  {
   "cell_type": "code",
   "execution_count": 44,
   "metadata": {
    "pycharm": {
     "name": "#%%\n"
    }
   },
   "outputs": [
    {
     "data": {
      "text/html": [
       "<div>\n",
       "<style scoped>\n",
       "    .dataframe tbody tr th:only-of-type {\n",
       "        vertical-align: middle;\n",
       "    }\n",
       "\n",
       "    .dataframe tbody tr th {\n",
       "        vertical-align: top;\n",
       "    }\n",
       "\n",
       "    .dataframe thead th {\n",
       "        text-align: right;\n",
       "    }\n",
       "</style>\n",
       "<table border=\"1\" class=\"dataframe\">\n",
       "  <thead>\n",
       "    <tr style=\"text-align: right;\">\n",
       "      <th>nps_segment</th>\n",
       "      <th>CASE_CHANNEL</th>\n",
       "      <th>detractor</th>\n",
       "      <th>neutro</th>\n",
       "      <th>promotor</th>\n",
       "    </tr>\n",
       "  </thead>\n",
       "  <tbody>\n",
       "    <tr>\n",
       "      <th>0</th>\n",
       "      <td>AUXICAJA</td>\n",
       "      <td>9.220183</td>\n",
       "      <td>4.770642</td>\n",
       "      <td>86.009174</td>\n",
       "    </tr>\n",
       "    <tr>\n",
       "      <th>1</th>\n",
       "      <td>CALL CENTER</td>\n",
       "      <td>12.126905</td>\n",
       "      <td>6.553955</td>\n",
       "      <td>81.319140</td>\n",
       "    </tr>\n",
       "    <tr>\n",
       "      <th>2</th>\n",
       "      <td>CHAT</td>\n",
       "      <td>32.258065</td>\n",
       "      <td>11.290323</td>\n",
       "      <td>56.451613</td>\n",
       "    </tr>\n",
       "    <tr>\n",
       "      <th>3</th>\n",
       "      <td>EMAIL</td>\n",
       "      <td>27.450980</td>\n",
       "      <td>3.921569</td>\n",
       "      <td>68.627451</td>\n",
       "    </tr>\n",
       "    <tr>\n",
       "      <th>4</th>\n",
       "      <td>EUROP</td>\n",
       "      <td>22.710623</td>\n",
       "      <td>9.523810</td>\n",
       "      <td>67.765568</td>\n",
       "    </tr>\n",
       "    <tr>\n",
       "      <th>5</th>\n",
       "      <td>SUCURSAL</td>\n",
       "      <td>17.525211</td>\n",
       "      <td>7.795040</td>\n",
       "      <td>74.679749</td>\n",
       "    </tr>\n",
       "    <tr>\n",
       "      <th>6</th>\n",
       "      <td>WEB</td>\n",
       "      <td>17.747858</td>\n",
       "      <td>7.392901</td>\n",
       "      <td>74.859241</td>\n",
       "    </tr>\n",
       "    <tr>\n",
       "      <th>7</th>\n",
       "      <td>WHATSAPP</td>\n",
       "      <td>30.429594</td>\n",
       "      <td>10.262530</td>\n",
       "      <td>59.307876</td>\n",
       "    </tr>\n",
       "  </tbody>\n",
       "</table>\n",
       "</div>"
      ],
      "text/plain": [
       "nps_segment CASE_CHANNEL  detractor     neutro   promotor\n",
       "0               AUXICAJA   9.220183   4.770642  86.009174\n",
       "1            CALL CENTER  12.126905   6.553955  81.319140\n",
       "2                   CHAT  32.258065  11.290323  56.451613\n",
       "3                  EMAIL  27.450980   3.921569  68.627451\n",
       "4                  EUROP  22.710623   9.523810  67.765568\n",
       "5               SUCURSAL  17.525211   7.795040  74.679749\n",
       "6                    WEB  17.747858   7.392901  74.859241\n",
       "7               WHATSAPP  30.429594  10.262530  59.307876"
      ]
     },
     "execution_count": 44,
     "metadata": {},
     "output_type": "execute_result"
    }
   ],
   "source": []
  },
  {
   "cell_type": "markdown",
   "metadata": {
    "pycharm": {
     "name": "#%% md\n"
    }
   },
   "source": [
    "# Plotea un gráfico de barras"
   ]
  },
  {
   "cell_type": "code",
   "execution_count": 45,
   "metadata": {
    "pycharm": {
     "name": "#%%\n"
    }
   },
   "outputs": [
    {
     "data": {
      "image/png": "[encoded data removed]",
      "text/plain": [
       "<Figure size 900x600 with 1 Axes>"
      ]
     },
     "metadata": {},
     "output_type": "display_data"
    }
   ],
   "source": []
  },
  {
   "cell_type": "markdown",
   "metadata": {
    "pycharm": {
     "name": "#%% md\n"
    }
   },
   "source": [
    "### Crear un crostab de nps_segment por genero en porcentaje"
   ]
  },
  {
   "cell_type": "code",
   "execution_count": 51,
   "metadata": {
    "pycharm": {
     "name": "#%%\n"
    }
   },
   "outputs": [
    {
     "data": {
      "text/html": [
       "<div>\n",
       "<style scoped>\n",
       "    .dataframe tbody tr th:only-of-type {\n",
       "        vertical-align: middle;\n",
       "    }\n",
       "\n",
       "    .dataframe tbody tr th {\n",
       "        vertical-align: top;\n",
       "    }\n",
       "\n",
       "    .dataframe thead th {\n",
       "        text-align: right;\n",
       "    }\n",
       "</style>\n",
       "<table border=\"1\" class=\"dataframe\">\n",
       "  <thead>\n",
       "    <tr style=\"text-align: right;\">\n",
       "      <th>GENDER</th>\n",
       "      <th>F</th>\n",
       "      <th>M</th>\n",
       "    </tr>\n",
       "    <tr>\n",
       "      <th>nps_segment</th>\n",
       "      <th></th>\n",
       "      <th></th>\n",
       "    </tr>\n",
       "  </thead>\n",
       "  <tbody>\n",
       "    <tr>\n",
       "      <th>detractor</th>\n",
       "      <td>16.350666</td>\n",
       "      <td>18.237512</td>\n",
       "    </tr>\n",
       "    <tr>\n",
       "      <th>neutro</th>\n",
       "      <td>16.782429</td>\n",
       "      <td>18.294062</td>\n",
       "    </tr>\n",
       "    <tr>\n",
       "      <th>promotor</th>\n",
       "      <td>66.866904</td>\n",
       "      <td>63.468426</td>\n",
       "    </tr>\n",
       "  </tbody>\n",
       "</table>\n",
       "</div>"
      ],
      "text/plain": [
       "GENDER               F          M\n",
       "nps_segment                      \n",
       "detractor    16.350666  18.237512\n",
       "neutro       16.782429  18.294062\n",
       "promotor     66.866904  63.468426"
      ]
     },
     "execution_count": 51,
     "metadata": {},
     "output_type": "execute_result"
    }
   ],
   "source": []
  },
  {
   "cell_type": "code",
   "execution_count": 54,
   "metadata": {
    "pycharm": {
     "name": "#%%\n"
    }
   },
   "outputs": [
    {
     "data": {
      "text/plain": [
       "<AxesSubplot:xlabel='nps_segment'>"
      ]
     },
     "execution_count": 54,
     "metadata": {},
     "output_type": "execute_result"
    },
    {
     "data": {
      "image/png": "[encoded data removed]",
      "text/plain": [
       "<Figure size 600x600 with 1 Axes>"
      ]
     },
     "metadata": {},
     "output_type": "display_data"
    }
   ],
   "source": []
  },
  {
   "cell_type": "markdown",
   "metadata": {
    "pycharm": {
     "name": "#%% md\n"
    }
   },
   "source": [
    "# Edad\n",
    "\n",
    "Imprimir los siguientes valores"
   ]
  },
  {
   "cell_type": "code",
   "execution_count": 56,
   "metadata": {
    "pycharm": {
     "name": "#%%\n"
    }
   },
   "outputs": [
    {
     "name": "stdout",
     "output_type": "stream",
     "text": [
      "Edad Max:  121.0\n",
      "Mediana de la edad:  51.0\n",
      "Promedio de la edad:  51.15010040160642\n",
      "Edad Min:  0.0\n"
     ]
    }
   ],
   "source": []
  },
  {
   "cell_type": "markdown",
   "metadata": {
    "pycharm": {
     "name": "#%% md\n"
    }
   },
   "source": [
    "Graficar la distribución de la edad"
   ]
  },
  {
   "cell_type": "code",
   "execution_count": 58,
   "metadata": {
    "pycharm": {
     "name": "#%%\n"
    }
   },
   "outputs": [
    {
     "data": {
      "text/plain": [
       "Text(0.5, 1.0, 'Distribución de la edad en la muestra')"
      ]
     },
     "execution_count": 58,
     "metadata": {},
     "output_type": "execute_result"
    },
    {
     "data": {
      "image/png": "[encoded data removed]",
      "text/plain": [
       "<Figure size 1200x800 with 1 Axes>"
      ]
     },
     "metadata": {},
     "output_type": "display_data"
    }
   ],
   "source": [
    "rcParams['figure.figsize'] = 12,8\n",
    "sns.set()\n",
    "plt.rc('xtick', labelsize=5)\n",
    "plt.rc('ytick', labelsize=10)\n",
    "#codigo del gráfico"
   ]
  },
  {
   "cell_type": "markdown",
   "metadata": {
    "pycharm": {
     "name": "#%% md\n"
    }
   },
   "source": [
    "# Boxplot\n",
    "\n",
    "Armar un boxplot por segmento, representando en el eje Y la edad."
   ]
  },
  {
   "cell_type": "code",
   "execution_count": 59,
   "metadata": {
    "pycharm": {
     "name": "#%%\n"
    }
   },
   "outputs": [
    {
     "data": {
      "image/png": "[encoded data removed]",
      "text/plain": [
       "<Figure size 800x800 with 1 Axes>"
      ]
     },
     "metadata": {},
     "output_type": "display_data"
    }
   ],
   "source": [
    "fig, (ax1) = plt.subplots( figsize = (8, 8))\n",
    "#sn.boxplot\n",
    "ax1.set_xlabel('Conversión', fontsize=10)\n",
    "ax1.set_ylabel('Edad', fontsize=10)\n",
    "ax1.set_title('Boxplot Edad', fontsize=10)\n",
    "ax1.tick_params(labelsize=10)\n",
    "\n",
    "plt.subplots_adjust(wspace=0.5)\n",
    "\n",
    "plt.tight_layout()"
   ]
  },
  {
   "cell_type": "markdown",
   "metadata": {
    "pycharm": {
     "name": "#%% md\n"
    }
   },
   "source": [
    "# Discretización\n",
    "Representar la edad en grupos de deacadas"
   ]
  },
  {
   "cell_type": "code",
   "execution_count": 46,
   "metadata": {
    "pycharm": {
     "name": "#%%\n"
    }
   },
   "outputs": [],
   "source": [
    "#primero crear la columna según regla de edad\n",
    "#luego crosstab"
   ]
  },
  {
   "cell_type": "code",
   "execution_count": 47,
   "metadata": {
    "pycharm": {
     "name": "#%%\n"
    }
   },
   "outputs": [
    {
     "data": {
      "text/html": [
       "<div>\n",
       "<style scoped>\n",
       "    .dataframe tbody tr th:only-of-type {\n",
       "        vertical-align: middle;\n",
       "    }\n",
       "\n",
       "    .dataframe tbody tr th {\n",
       "        vertical-align: top;\n",
       "    }\n",
       "\n",
       "    .dataframe thead th {\n",
       "        text-align: right;\n",
       "    }\n",
       "</style>\n",
       "<table border=\"1\" class=\"dataframe\">\n",
       "  <thead>\n",
       "    <tr style=\"text-align: right;\">\n",
       "      <th>nps_segment</th>\n",
       "      <th>detractor</th>\n",
       "      <th>neutro</th>\n",
       "      <th>promotor</th>\n",
       "    </tr>\n",
       "    <tr>\n",
       "      <th>grupo_edad</th>\n",
       "      <th></th>\n",
       "      <th></th>\n",
       "      <th></th>\n",
       "    </tr>\n",
       "  </thead>\n",
       "  <tbody>\n",
       "    <tr>\n",
       "      <th>20.0</th>\n",
       "      <td>185</td>\n",
       "      <td>58</td>\n",
       "      <td>679</td>\n",
       "    </tr>\n",
       "    <tr>\n",
       "      <th>30.0</th>\n",
       "      <td>571</td>\n",
       "      <td>184</td>\n",
       "      <td>2107</td>\n",
       "    </tr>\n",
       "    <tr>\n",
       "      <th>40.0</th>\n",
       "      <td>662</td>\n",
       "      <td>254</td>\n",
       "      <td>2874</td>\n",
       "    </tr>\n",
       "    <tr>\n",
       "      <th>50.0</th>\n",
       "      <td>560</td>\n",
       "      <td>274</td>\n",
       "      <td>2841</td>\n",
       "    </tr>\n",
       "    <tr>\n",
       "      <th>60.0</th>\n",
       "      <td>526</td>\n",
       "      <td>352</td>\n",
       "      <td>3809</td>\n",
       "    </tr>\n",
       "  </tbody>\n",
       "</table>\n",
       "</div>"
      ],
      "text/plain": [
       "nps_segment  detractor  neutro  promotor\n",
       "grupo_edad                              \n",
       "20.0               185      58       679\n",
       "30.0               571     184      2107\n",
       "40.0               662     254      2874\n",
       "50.0               560     274      2841\n",
       "60.0               526     352      3809"
      ]
     },
     "execution_count": 47,
     "metadata": {},
     "output_type": "execute_result"
    }
   ],
   "source": [
    "#ULTRA HINT: per_edad = pd.crosstab(df['nps_segment'],df['grupo_edad'])\n",
    "per_edad = per_edad.T\n",
    "per_edad"
   ]
  },
  {
   "cell_type": "code",
   "execution_count": 48,
   "metadata": {
    "pycharm": {
     "name": "#%%\n"
    }
   },
   "outputs": [
    {
     "data": {
      "image/png": "[encoded data removed]",
      "text/plain": [
       "<Figure size 800x600 with 1 Axes>"
      ]
     },
     "metadata": {},
     "output_type": "display_data"
    }
   ],
   "source": [
    "rcParams['figure.figsize'] = 8,6\n",
    "plt.rc('xtick', labelsize=10)\n",
    "plt.rc('ytick', labelsize=10)\n",
    "sns.set_style(\"darkgrid\")\n",
    "#.plot(kind = 'bar',color = paleta)\n",
    "plt.xlabel('Edad del grupo')\n",
    "plt.ylabel('Tasa de Conversión sobre el total')\n",
    "plt.xticks(np.arange(5), ('<30', '30-39', '40-49', '50-59', '60+'),rotation = 'horizontal')\n",
    "plt.title('Conversión vs Rango Etareo')\n",
    "plt.show()"
   ]
  }
 ],
 "metadata": {
  "kernelspec": {
   "display_name": "Python 3 (ipykernel)",
   "language": "python",
   "name": "python3"
  },
  "language_info": {
   "codemirror_mode": {
    "name": "ipython",
    "version": 3
   },
   "file_extension": ".py",
   "mimetype": "text/x-python",
   "name": "python",
   "nbconvert_exporter": "python",
   "pygments_lexer": "ipython3",
   "version": "3.8.9"
  }
 },
 "nbformat": 4,
 "nbformat_minor": 1
}