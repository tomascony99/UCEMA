{
 "cells": [
  {
   "cell_type": "markdown",
   "metadata": {
    "tags": [],
    "pycharm": {
     "name": "#%% md\n"
    }
   },
   "source": [
    "# Orders Regresion Lineal`"
   ]
  },
  {
   "cell_type": "code",
   "execution_count": 2,
   "metadata": {
    "pycharm": {
     "name": "#%%\n"
    }
   },
   "outputs": [],
   "source": [
    "%load_ext autoreload\n",
    "%autoreload 2"
   ]
  },
  {
   "cell_type": "code",
   "execution_count": 3,
   "metadata": {
    "pycharm": {
     "name": "#%%\n"
    }
   },
   "outputs": [],
   "source": [
    "# Import modules \n",
    "import pandas as pd\n",
    "import numpy as np \n",
    "import seaborn as sns\n",
    "import matplotlib.pyplot as plt"
   ]
  },
  {
   "cell_type": "code",
   "execution_count": 4,
   "metadata": {
    "tags": [],
    "pycharm": {
     "name": "#%%\n"
    }
   },
   "outputs": [],
   "source": [
    "orders = pd.read_csv(\"data/tablon_primario.csv\")"
   ]
  },
  {
   "cell_type": "code",
   "execution_count": 5,
   "outputs": [
    {
     "data": {
      "text/plain": "                           order_id                       customer_id  \\\n0  e481f51cbdc54678b7cc49136f2d6af7  9ef432eb6251297304e76186b10a928d   \n1  53cdb2fc8bc7dce0b6741e2150273451  b0830fb4747a6c6d20dea0b8c802d7ef   \n2  47770eb9100c2d0c44946d9cf07ec65d  41ce2a54c0b03bf3443c3d931a367089   \n3  949d5b44dbf5de918fe9c16f97b45f8a  f88197465ea7920adcdbec7375364d82   \n4  ad21c59c0840e6cb83a9ceb5573f8159  8ab97904e6daea8866dbdbc4fb7aad2c   \n\n  order_status order_purchase_timestamp    order_approved_at  \\\n0    delivered      2017-10-02 10:56:33  2017-10-02 11:07:15   \n1    delivered      2018-07-24 20:41:37  2018-07-26 03:24:27   \n2    delivered      2018-08-08 08:38:49  2018-08-08 08:55:23   \n3    delivered      2017-11-18 19:28:06  2017-11-18 19:45:59   \n4    delivered      2018-02-13 21:18:39  2018-02-13 22:20:29   \n\n  order_delivered_carrier_date order_delivered_customer_date  \\\n0          2017-10-04 19:55:00           2017-10-10 21:25:13   \n1          2018-07-26 14:31:00           2018-08-07 15:27:45   \n2          2018-08-08 13:50:00           2018-08-17 18:06:29   \n3          2017-11-22 13:39:59           2017-12-02 00:28:42   \n4          2018-02-14 19:46:34           2018-02-16 18:17:02   \n\n  order_estimated_delivery_date  tiempo_de_espera  wait_time  \\\n0                    2017-10-18          8.436574   8.436574   \n1                    2018-08-13         13.782037  13.782037   \n2                    2018-09-04          9.394213   9.394213   \n3                    2017-12-15         13.208750  13.208750   \n4                    2018-02-26          2.873877   2.873877   \n\n   real_vs_esperado  es_cinco_estrellas  es_una_estrella  review_score  \\\n0               0.0                   0                0             4   \n1               0.0                   0                0             4   \n2               0.0                   1                0             5   \n3               0.0                   1                0             5   \n4               0.0                   1                0             5   \n\n   number_of_products  vendedores_unicos  precio  transporte  \\\n0                   1                  1   29.99        8.72   \n1                   1                  1  118.70       22.76   \n2                   1                  1  159.90       19.22   \n3                   1                  1   45.00       27.20   \n4                   1                  1   19.90        8.72   \n\n   distance_seller_customer  \n0                 18.063837  \n1                856.292580  \n2                514.130333  \n3               1822.800366  \n4                 30.174037  ",
      "text/html": "<div>\n<style scoped>\n    .dataframe tbody tr th:only-of-type {\n        vertical-align: middle;\n    }\n\n    .dataframe tbody tr th {\n        vertical-align: top;\n    }\n\n    .dataframe thead th {\n        text-align: right;\n    }\n</style>\n<table border=\"1\" class=\"dataframe\">\n  <thead>\n    <tr style=\"text-align: right;\">\n      <th></th>\n      <th>order_id</th>\n      <th>customer_id</th>\n      <th>order_status</th>\n      <th>order_purchase_timestamp</th>\n      <th>order_approved_at</th>\n      <th>order_delivered_carrier_date</th>\n      <th>order_delivered_customer_date</th>\n      <th>order_estimated_delivery_date</th>\n      <th>tiempo_de_espera</th>\n      <th>wait_time</th>\n      <th>real_vs_esperado</th>\n      <th>es_cinco_estrellas</th>\n      <th>es_una_estrella</th>\n      <th>review_score</th>\n      <th>number_of_products</th>\n      <th>vendedores_unicos</th>\n      <th>precio</th>\n      <th>transporte</th>\n      <th>distance_seller_customer</th>\n    </tr>\n  </thead>\n  <tbody>\n    <tr>\n      <th>0</th>\n      <td>e481f51cbdc54678b7cc49136f2d6af7</td>\n      <td>9ef432eb6251297304e76186b10a928d</td>\n      <td>delivered</td>\n      <td>2017-10-02 10:56:33</td>\n      <td>2017-10-02 11:07:15</td>\n      <td>2017-10-04 19:55:00</td>\n      <td>2017-10-10 21:25:13</td>\n      <td>2017-10-18</td>\n      <td>8.436574</td>\n      <td>8.436574</td>\n      <td>0.0</td>\n      <td>0</td>\n      <td>0</td>\n      <td>4</td>\n      <td>1</td>\n      <td>1</td>\n      <td>29.99</td>\n      <td>8.72</td>\n      <td>18.063837</td>\n    </tr>\n    <tr>\n      <th>1</th>\n      <td>53cdb2fc8bc7dce0b6741e2150273451</td>\n      <td>b0830fb4747a6c6d20dea0b8c802d7ef</td>\n      <td>delivered</td>\n      <td>2018-07-24 20:41:37</td>\n      <td>2018-07-26 03:24:27</td>\n      <td>2018-07-26 14:31:00</td>\n      <td>2018-08-07 15:27:45</td>\n      <td>2018-08-13</td>\n      <td>13.782037</td>\n      <td>13.782037</td>\n      <td>0.0</td>\n      <td>0</td>\n      <td>0</td>\n      <td>4</td>\n      <td>1</td>\n      <td>1</td>\n      <td>118.70</td>\n      <td>22.76</td>\n      <td>856.292580</td>\n    </tr>\n    <tr>\n      <th>2</th>\n      <td>47770eb9100c2d0c44946d9cf07ec65d</td>\n      <td>41ce2a54c0b03bf3443c3d931a367089</td>\n      <td>delivered</td>\n      <td>2018-08-08 08:38:49</td>\n      <td>2018-08-08 08:55:23</td>\n      <td>2018-08-08 13:50:00</td>\n      <td>2018-08-17 18:06:29</td>\n      <td>2018-09-04</td>\n      <td>9.394213</td>\n      <td>9.394213</td>\n      <td>0.0</td>\n      <td>1</td>\n      <td>0</td>\n      <td>5</td>\n      <td>1</td>\n      <td>1</td>\n      <td>159.90</td>\n      <td>19.22</td>\n      <td>514.130333</td>\n    </tr>\n    <tr>\n      <th>3</th>\n      <td>949d5b44dbf5de918fe9c16f97b45f8a</td>\n      <td>f88197465ea7920adcdbec7375364d82</td>\n      <td>delivered</td>\n      <td>2017-11-18 19:28:06</td>\n      <td>2017-11-18 19:45:59</td>\n      <td>2017-11-22 13:39:59</td>\n      <td>2017-12-02 00:28:42</td>\n      <td>2017-12-15</td>\n      <td>13.208750</td>\n      <td>13.208750</td>\n      <td>0.0</td>\n      <td>1</td>\n      <td>0</td>\n      <td>5</td>\n      <td>1</td>\n      <td>1</td>\n      <td>45.00</td>\n      <td>27.20</td>\n      <td>1822.800366</td>\n    </tr>\n    <tr>\n      <th>4</th>\n      <td>ad21c59c0840e6cb83a9ceb5573f8159</td>\n      <td>8ab97904e6daea8866dbdbc4fb7aad2c</td>\n      <td>delivered</td>\n      <td>2018-02-13 21:18:39</td>\n      <td>2018-02-13 22:20:29</td>\n      <td>2018-02-14 19:46:34</td>\n      <td>2018-02-16 18:17:02</td>\n      <td>2018-02-26</td>\n      <td>2.873877</td>\n      <td>2.873877</td>\n      <td>0.0</td>\n      <td>1</td>\n      <td>0</td>\n      <td>5</td>\n      <td>1</td>\n      <td>1</td>\n      <td>19.90</td>\n      <td>8.72</td>\n      <td>30.174037</td>\n    </tr>\n  </tbody>\n</table>\n</div>"
     },
     "execution_count": 5,
     "metadata": {},
     "output_type": "execute_result"
    }
   ],
   "source": [
    "orders.head()"
   ],
   "metadata": {
    "collapsed": false,
    "pycharm": {
     "name": "#%%\n"
    }
   }
  },
  {
   "cell_type": "code",
   "execution_count": 6,
   "metadata": {
    "pycharm": {
     "name": "#%%\n"
    }
   },
   "outputs": [
    {
     "data": {
      "text/plain": "<AxesSubplot:>"
     },
     "execution_count": 6,
     "metadata": {},
     "output_type": "execute_result"
    },
    {
     "data": {
      "text/plain": "<Figure size 720x720 with 2 Axes>",
      "image/png": "[encoded data removed]"
     },
     "metadata": {
      "needs_background": "light"
     },
     "output_type": "display_data"
    }
   ],
   "source": [
    "plt.figure(figsize = (10, 10))\n",
    "\n",
    "sns.heatmap(\n",
    "    orders.corr(), \n",
    "    cmap = 'coolwarm', \n",
    "    annot = True, \n",
    "    annot_kws = {\"size\": 10}\n",
    ")"
   ]
  },
  {
   "cell_type": "markdown",
   "metadata": {
    "pycharm": {
     "name": "#%% md\n"
    }
   },
   "source": [
    "## 1 - Univariate regression"
   ]
  },
  {
   "cell_type": "markdown",
   "metadata": {
    "pycharm": {
     "name": "#%% md\n"
    }
   },
   "source": [
    "***Model 1***:"
   ]
  },
  {
   "cell_type": "code",
   "execution_count": 7,
   "metadata": {
    "tags": [
     "challengify"
    ],
    "pycharm": {
     "name": "#%%\n"
    }
   },
   "outputs": [
    {
     "name": "stdout",
     "output_type": "stream",
     "text": [
      "                            OLS Regression Results                            \n",
      "==============================================================================\n",
      "Dep. Variable:           review_score   R-squared:                       0.112\n",
      "Model:                            OLS   Adj. R-squared:                  0.112\n",
      "Method:                 Least Squares   F-statistic:                 1.204e+04\n",
      "Date:                Tue, 25 Oct 2022   Prob (F-statistic):               0.00\n",
      "Time:                        13:27:33   Log-Likelihood:            -1.5441e+05\n",
      "No. Observations:               95872   AIC:                         3.088e+05\n",
      "Df Residuals:                   95870   BIC:                         3.089e+05\n",
      "Df Model:                           1                                         \n",
      "Covariance Type:            nonrobust                                         \n",
      "====================================================================================\n",
      "                       coef    std err          t      P>|t|      [0.025      0.975]\n",
      "------------------------------------------------------------------------------------\n",
      "Intercept            4.7236      0.006    727.904      0.000       4.711       4.736\n",
      "tiempo_de_espera    -0.0454      0.000   -109.730      0.000      -0.046      -0.045\n",
      "==============================================================================\n",
      "Omnibus:                    19552.934   Durbin-Watson:                   2.008\n",
      "Prob(Omnibus):                  0.000   Jarque-Bera (JB):            35454.407\n",
      "Skew:                          -1.300   Prob(JB):                         0.00\n",
      "Kurtosis:                       4.453   Cond. No.                         26.1\n",
      "==============================================================================\n",
      "\n",
      "Notes:\n",
      "[1] Standard Errors assume that the covariance matrix of the errors is correctly specified.\n"
     ]
    }
   ],
   "source": [
    "import statsmodels.formula.api as smf\n",
    "\n",
    "model1 = smf.ols('review_score ~ tiempo_de_espera', data=orders).fit()\n",
    "print(model1.summary())"
   ]
  },
  {
   "cell_type": "markdown",
   "metadata": {
    "pycharm": {
     "name": "#%% md\n"
    }
   },
   "source": [
    "***Model 2***:"
   ]
  },
  {
   "cell_type": "code",
   "execution_count": 8,
   "metadata": {
    "tags": [
     "challengify"
    ],
    "pycharm": {
     "name": "#%%\n"
    }
   },
   "outputs": [
    {
     "name": "stdout",
     "output_type": "stream",
     "text": [
      "                            OLS Regression Results                            \n",
      "==============================================================================\n",
      "Dep. Variable:           review_score   R-squared:                       0.074\n",
      "Model:                            OLS   Adj. R-squared:                  0.074\n",
      "Method:                 Least Squares   F-statistic:                     7682.\n",
      "Date:                Tue, 25 Oct 2022   Prob (F-statistic):               0.00\n",
      "Time:                        13:27:33   Log-Likelihood:            -1.5640e+05\n",
      "No. Observations:               95880   AIC:                         3.128e+05\n",
      "Df Residuals:                   95878   BIC:                         3.128e+05\n",
      "Df Model:                           1                                         \n",
      "Covariance Type:            nonrobust                                         \n",
      "====================================================================================\n",
      "                       coef    std err          t      P>|t|      [0.025      0.975]\n",
      "------------------------------------------------------------------------------------\n",
      "Intercept            4.2122      0.004   1041.234      0.000       4.204       4.220\n",
      "real_vs_esperado    -0.0752      0.001    -87.644      0.000      -0.077      -0.073\n",
      "==============================================================================\n",
      "Omnibus:                    20665.706   Durbin-Watson:                   2.006\n",
      "Prob(Omnibus):                  0.000   Jarque-Bera (JB):            49777.980\n",
      "Skew:                          -1.204   Prob(JB):                         0.00\n",
      "Kurtosis:                       5.582   Cond. No.                         4.78\n",
      "==============================================================================\n",
      "\n",
      "Notes:\n",
      "[1] Standard Errors assume that the covariance matrix of the errors is correctly specified.\n"
     ]
    }
   ],
   "source": [
    "import statsmodels.formula.api as smf\n",
    "\n",
    "model2 = smf.ols('review_score ~ real_vs_esperado', data=orders).fit()\n",
    "print(model2.summary())"
   ]
  },
  {
   "cell_type": "markdown",
   "metadata": {
    "pycharm": {
     "name": "#%% md\n"
    }
   },
   "source": [
    "## 2 - Multivariate regression"
   ]
  },
  {
   "cell_type": "markdown",
   "metadata": {
    "pycharm": {
     "name": "#%% md\n"
    }
   },
   "source": [
    "***Model 3***:"
   ]
  },
  {
   "cell_type": "code",
   "execution_count": 9,
   "metadata": {
    "tags": [
     "challengify"
    ],
    "pycharm": {
     "name": "#%%\n"
    }
   },
   "outputs": [
    {
     "name": "stdout",
     "output_type": "stream",
     "text": [
      "                            OLS Regression Results                            \n",
      "==============================================================================\n",
      "Dep. Variable:           review_score   R-squared:                       0.114\n",
      "Model:                            OLS   Adj. R-squared:                  0.114\n",
      "Method:                 Least Squares   F-statistic:                     6191.\n",
      "Date:                Tue, 25 Oct 2022   Prob (F-statistic):               0.00\n",
      "Time:                        13:27:34   Log-Likelihood:            -1.5426e+05\n",
      "No. Observations:               95872   AIC:                         3.085e+05\n",
      "Df Residuals:                   95869   BIC:                         3.086e+05\n",
      "Df Model:                           2                                         \n",
      "Covariance Type:            nonrobust                                         \n",
      "====================================================================================\n",
      "                       coef    std err          t      P>|t|      [0.025      0.975]\n",
      "------------------------------------------------------------------------------------\n",
      "Intercept            4.6502      0.008    601.568      0.000       4.635       4.665\n",
      "tiempo_de_espera    -0.0383      0.001    -65.969      0.000      -0.039      -0.037\n",
      "real_vs_esperado    -0.0205      0.001    -17.417      0.000      -0.023      -0.018\n",
      "==============================================================================\n",
      "Omnibus:                    19995.754   Durbin-Watson:                   2.008\n",
      "Prob(Omnibus):                  0.000   Jarque-Bera (JB):            40513.333\n",
      "Skew:                          -1.249   Prob(JB):                         0.00\n",
      "Kurtosis:                       4.976   Cond. No.                         31.7\n",
      "==============================================================================\n",
      "\n",
      "Notes:\n",
      "[1] Standard Errors assume that the covariance matrix of the errors is correctly specified.\n"
     ]
    }
   ],
   "source": [
    "model3 = smf.ols('review_score ~ tiempo_de_espera + real_vs_esperado', data=orders).fit()\n",
    "print(model3.summary())"
   ]
  },
  {
   "cell_type": "markdown",
   "metadata": {
    "tags": [
     "challengify"
    ],
    "pycharm": {
     "name": "#%% md\n"
    }
   },
   "source": []
  },
  {
   "cell_type": "markdown",
   "metadata": {
    "pycharm": {
     "name": "#%% md\n"
    }
   },
   "source": [
    "- Manteniendo constante `tiempo_de_espera`, cada día adicional de `real_vs_esperado` reduce el review_score en promedio en 0.0205 [0.023 - 0.018] puntos\n",
    "- Manteniendo `real_vs_esperado` constante, cada día adicional de `tiempo_de_espera` reduce el review_score en promedio en 0.0383 [0.039 - 0.037] puntos\n",
    "\n",
    "Contrariamente a lo que se encontró con el análisis de correlación bivariante simple, ¡'retraso' tiene menos impacto que 'tiempo_espera' en la reducción de 'review_score'! Este interesante hallazgo demuestra la importancia de la regresión multivariante para eliminar el impacto potencial de los factores de confusión."
   ]
  },
  {
   "cell_type": "markdown",
   "metadata": {
    "pycharm": {
     "name": "#%% md\n"
    }
   },
   "source": [
    "---\n",
    "❌ R-squared es bastante bajo: no más del 12 % de las variaciones de review_score se explican por las variaciones combinadas de `wait_time` y `delay_vs_expected`.\n",
    "\n",
    "✅ Intentemos agregar más características a nuestra regresión para mejorar la explicabilidad de la regresión lineal.\n",
    "\n",
    "👉 Cree un nuevo OLS `model4` con más características del conjunto de datos `orders`.\n",
    "- ⚠️ No cree **fugas de datos**: no agregue funciones que se deriven directamente de `review_score`\n",
    "- ⚠️ No agregue dos características perfectamente colineales entre sí\n",
    "- ⚖️ Transforme cada característica $X_i$ en su respectivo puntaje z $Z_i = \\frac{X_i - \\mu_i}{\\sigma_i}$ para comparar los coeficientes de regresión parcial $\\beta_i$ juntos. De lo contrario, $\\beta_i$ no estará en la misma dimensión, lo que significa que comparará manzanas (por ejemplo, \"review_stars por día\") con naranjas (por ejemplo, \"review_stars per BRL\")."
   ]
  },
  {
   "cell_type": "markdown",
   "metadata": {
    "pycharm": {
     "name": "#%% md\n"
    }
   },
   "source": [
    "📝 <u>Nota</u>: una **`Regresión lineal multivariada`** también se denomina método de **`Mínimos cuadrados ordinarios`** porque en este modelo queremos minimizar el **`MSE medio cuadrático Errores`**"
   ]
  },
  {
   "cell_type": "markdown",
   "metadata": {
    "pycharm": {
     "name": "#%% md\n"
    }
   },
   "source": [
    "***Model 4***:"
   ]
  },
  {
   "cell_type": "code",
   "execution_count": 10,
   "outputs": [
    {
     "data": {
      "text/plain": "Index(['order_id', 'customer_id', 'order_status', 'order_purchase_timestamp',\n       'order_approved_at', 'order_delivered_carrier_date',\n       'order_delivered_customer_date', 'order_estimated_delivery_date',\n       'tiempo_de_espera', 'wait_time', 'real_vs_esperado',\n       'es_cinco_estrellas', 'es_una_estrella', 'review_score',\n       'number_of_products', 'vendedores_unicos', 'precio', 'transporte',\n       'distance_seller_customer'],\n      dtype='object')"
     },
     "execution_count": 10,
     "metadata": {},
     "output_type": "execute_result"
    }
   ],
   "source": [
    "orders.columns"
   ],
   "metadata": {
    "collapsed": false,
    "pycharm": {
     "name": "#%%\n"
    }
   }
  },
  {
   "cell_type": "code",
   "execution_count": 11,
   "metadata": {
    "tags": [
     "challengify"
    ],
    "pycharm": {
     "name": "#%%\n"
    }
   },
   "outputs": [],
   "source": [
    "features = [\n",
    "    \"tiempo_de_espera\",\n",
    "    \"real_vs_esperado\",\n",
    "    \"number_of_products\",\n",
    "    \"vendedores_unicos\",\n",
    "    \"precio\",\n",
    "    \"transporte\",\n",
    "    \"distance_seller_customer\",\n",
    "]"
   ]
  },
  {
   "cell_type": "code",
   "execution_count": 12,
   "outputs": [],
   "source": [
    "formula = \"review_score ~ \" + ' + '.join(features)\n"
   ],
   "metadata": {
    "collapsed": false,
    "pycharm": {
     "name": "#%%\n"
    }
   }
  },
  {
   "cell_type": "code",
   "execution_count": 13,
   "outputs": [
    {
     "name": "stdout",
     "output_type": "stream",
     "text": [
      "                            OLS Regression Results                            \n",
      "==============================================================================\n",
      "Dep. Variable:           review_score   R-squared:                       0.145\n",
      "Model:                            OLS   Adj. R-squared:                  0.145\n",
      "Method:                 Least Squares   F-statistic:                     2322.\n",
      "Date:                Tue, 25 Oct 2022   Prob (F-statistic):               0.00\n",
      "Time:                        13:27:35   Log-Likelihood:            -1.5258e+05\n",
      "No. Observations:               95872   AIC:                         3.052e+05\n",
      "Df Residuals:                   95864   BIC:                         3.052e+05\n",
      "Df Model:                           7                                         \n",
      "Covariance Type:            nonrobust                                         \n",
      "============================================================================================\n",
      "                               coef    std err          t      P>|t|      [0.025      0.975]\n",
      "--------------------------------------------------------------------------------------------\n",
      "Intercept                    5.9997      0.033    183.030      0.000       5.935       6.064\n",
      "tiempo_de_espera            -0.0465      0.001    -70.719      0.000      -0.048      -0.045\n",
      "real_vs_esperado            -0.0111      0.001     -9.023      0.000      -0.013      -0.009\n",
      "number_of_products          -0.2421      0.008    -28.861      0.000      -0.259      -0.226\n",
      "vendedores_unicos           -1.0630      0.032    -32.747      0.000      -1.127      -0.999\n",
      "precio                   -1.414e-05   2.03e-05     -0.696      0.486    -5.4e-05    2.57e-05\n",
      "transporte                   0.0002      0.000      0.868      0.385      -0.000       0.001\n",
      "distance_seller_customer     0.0002   7.75e-06     20.984      0.000       0.000       0.000\n",
      "==============================================================================\n",
      "Omnibus:                    18749.799   Durbin-Watson:                   2.009\n",
      "Prob(Omnibus):                  0.000   Jarque-Bera (JB):            37820.902\n",
      "Skew:                          -1.175   Prob(JB):                         0.00\n",
      "Kurtosis:                       4.986   Cond. No.                     1.01e+04\n",
      "==============================================================================\n",
      "\n",
      "Notes:\n",
      "[1] Standard Errors assume that the covariance matrix of the errors is correctly specified.\n",
      "[2] The condition number is large, 1.01e+04. This might indicate that there are\n",
      "strong multicollinearity or other numerical problems.\n"
     ]
    }
   ],
   "source": [
    "model4a = smf.ols(formula = formula, data = orders).fit()\n",
    "print(model4a.summary())"
   ],
   "metadata": {
    "collapsed": false,
    "pycharm": {
     "name": "#%%\n"
    }
   }
  },
  {
   "cell_type": "code",
   "execution_count": 14,
   "metadata": {
    "tags": [
     "challengify"
    ],
    "pycharm": {
     "name": "#%%\n"
    }
   },
   "outputs": [
    {
     "data": {
      "text/plain": "                               order_id                       customer_id  \\\n0      e481f51cbdc54678b7cc49136f2d6af7  9ef432eb6251297304e76186b10a928d   \n1      53cdb2fc8bc7dce0b6741e2150273451  b0830fb4747a6c6d20dea0b8c802d7ef   \n2      47770eb9100c2d0c44946d9cf07ec65d  41ce2a54c0b03bf3443c3d931a367089   \n3      949d5b44dbf5de918fe9c16f97b45f8a  f88197465ea7920adcdbec7375364d82   \n4      ad21c59c0840e6cb83a9ceb5573f8159  8ab97904e6daea8866dbdbc4fb7aad2c   \n...                                 ...                               ...   \n95875  9c5dedf39a927c1b2549525ed64a053c  39bd1228ee8140590ac3aca26f2dfe00   \n95876  63943bddc261676b46f01ca7ac2f7bd8  1fca14ff2861355f6e5f14306ff977a7   \n95877  83c1379a015df1e13d02aae0204711ab  1aa71eb042121263aafbe80c1b562c9c   \n95878  11c177c8e97725db2631073c19f07b62  b331b74b18dc79bcdf6532d51e1637c1   \n95879  66dea50a8b16d9b4dee7af250b4be1a5  edb027a75a1449115f6b43211ae02a24   \n\n      order_status order_purchase_timestamp    order_approved_at  \\\n0        delivered      2017-10-02 10:56:33  2017-10-02 11:07:15   \n1        delivered      2018-07-24 20:41:37  2018-07-26 03:24:27   \n2        delivered      2018-08-08 08:38:49  2018-08-08 08:55:23   \n3        delivered      2017-11-18 19:28:06  2017-11-18 19:45:59   \n4        delivered      2018-02-13 21:18:39  2018-02-13 22:20:29   \n...            ...                      ...                  ...   \n95875    delivered      2017-03-09 09:54:05  2017-03-09 09:54:05   \n95876    delivered      2018-02-06 12:58:58  2018-02-06 13:10:37   \n95877    delivered      2017-08-27 14:46:43  2017-08-27 15:04:16   \n95878    delivered      2018-01-08 21:28:27  2018-01-08 21:36:21   \n95879    delivered      2018-03-08 20:57:30  2018-03-09 11:20:28   \n\n      order_delivered_carrier_date order_delivered_customer_date  \\\n0              2017-10-04 19:55:00           2017-10-10 21:25:13   \n1              2018-07-26 14:31:00           2018-08-07 15:27:45   \n2              2018-08-08 13:50:00           2018-08-17 18:06:29   \n3              2017-11-22 13:39:59           2017-12-02 00:28:42   \n4              2018-02-14 19:46:34           2018-02-16 18:17:02   \n...                            ...                           ...   \n95875          2017-03-10 11:18:03           2017-03-17 15:08:01   \n95876          2018-02-07 23:22:42           2018-02-28 17:37:56   \n95877          2017-08-28 20:52:26           2017-09-21 11:24:17   \n95878          2018-01-12 15:35:03           2018-01-25 23:32:54   \n95879          2018-03-09 22:11:59           2018-03-16 13:08:30   \n\n      order_estimated_delivery_date  tiempo_de_espera  wait_time  \\\n0                        2017-10-18         -0.431192   8.436574   \n1                        2018-08-13          0.134174  13.782037   \n2                        2018-09-04         -0.329907   9.394213   \n3                        2017-12-15          0.073540  13.208750   \n4                        2018-02-26         -1.019535   2.873877   \n...                             ...               ...        ...   \n95875                    2017-03-28         -0.454309   8.218009   \n95876                    2018-03-02          1.023841  22.193727   \n95877                    2017-09-27          1.305780  24.859421   \n95878                    2018-02-15          0.483664  17.086424   \n95879                    2018-04-03         -0.511814   7.674306   \n\n       real_vs_esperado  es_cinco_estrellas  es_una_estrella  review_score  \\\n0             -0.161774                   0                0             4   \n1             -0.161774                   0                0             4   \n2             -0.161774                   1                0             5   \n3             -0.161774                   1                0             5   \n4             -0.161774                   1                0             5   \n...                 ...                 ...              ...           ...   \n95875         -0.161774                   1                0             5   \n95876         -0.161774                   0                0             4   \n95877         -0.161774                   1                0             5   \n95878         -0.161774                   0                0             2   \n95879         -0.161774                   1                0             5   \n\n       number_of_products  vendedores_unicos    precio  transporte  \\\n0               -0.264583           -0.11254 -0.513828   -0.652036   \n1               -0.264583           -0.11254 -0.086651    0.000493   \n2               -0.264583           -0.11254  0.111745   -0.164034   \n3               -0.264583           -0.11254 -0.441549    0.206848   \n4               -0.264583           -0.11254 -0.562416   -0.652036   \n...                   ...                ...       ...         ...   \n95875           -0.264583           -0.11254 -0.311532   -0.449399   \n95876           -0.264583           -0.11254  0.183976   -0.123135   \n95877           -0.264583           -0.11254  0.333688    1.964585   \n95878            1.601690           -0.11254  1.075217    2.715644   \n95879           -0.264583           -0.11254 -0.328386   -0.204004   \n\n       distance_seller_customer  \n0                     -0.979449  \n1                      0.429798  \n2                     -0.145452  \n3                      2.054711  \n4                     -0.959089  \n...                         ...  \n95875                 -0.893005  \n95876                 -0.212755  \n95877                  0.617689  \n95878                 -0.387520  \n95879                  0.052407  \n\n[95880 rows x 19 columns]",
      "text/html": "<div>\n<style scoped>\n    .dataframe tbody tr th:only-of-type {\n        vertical-align: middle;\n    }\n\n    .dataframe tbody tr th {\n        vertical-align: top;\n    }\n\n    .dataframe thead th {\n        text-align: right;\n    }\n</style>\n<table border=\"1\" class=\"dataframe\">\n  <thead>\n    <tr style=\"text-align: right;\">\n      <th></th>\n      <th>order_id</th>\n      <th>customer_id</th>\n      <th>order_status</th>\n      <th>order_purchase_timestamp</th>\n      <th>order_approved_at</th>\n      <th>order_delivered_carrier_date</th>\n      <th>order_delivered_customer_date</th>\n      <th>order_estimated_delivery_date</th>\n      <th>tiempo_de_espera</th>\n      <th>wait_time</th>\n      <th>real_vs_esperado</th>\n      <th>es_cinco_estrellas</th>\n      <th>es_una_estrella</th>\n      <th>review_score</th>\n      <th>number_of_products</th>\n      <th>vendedores_unicos</th>\n      <th>precio</th>\n      <th>transporte</th>\n      <th>distance_seller_customer</th>\n    </tr>\n  </thead>\n  <tbody>\n    <tr>\n      <th>0</th>\n      <td>e481f51cbdc54678b7cc49136f2d6af7</td>\n      <td>9ef432eb6251297304e76186b10a928d</td>\n      <td>delivered</td>\n      <td>2017-10-02 10:56:33</td>\n      <td>2017-10-02 11:07:15</td>\n      <td>2017-10-04 19:55:00</td>\n      <td>2017-10-10 21:25:13</td>\n      <td>2017-10-18</td>\n      <td>-0.431192</td>\n      <td>8.436574</td>\n      <td>-0.161774</td>\n      <td>0</td>\n      <td>0</td>\n      <td>4</td>\n      <td>-0.264583</td>\n      <td>-0.11254</td>\n      <td>-0.513828</td>\n      <td>-0.652036</td>\n      <td>-0.979449</td>\n    </tr>\n    <tr>\n      <th>1</th>\n      <td>53cdb2fc8bc7dce0b6741e2150273451</td>\n      <td>b0830fb4747a6c6d20dea0b8c802d7ef</td>\n      <td>delivered</td>\n      <td>2018-07-24 20:41:37</td>\n      <td>2018-07-26 03:24:27</td>\n      <td>2018-07-26 14:31:00</td>\n      <td>2018-08-07 15:27:45</td>\n      <td>2018-08-13</td>\n      <td>0.134174</td>\n      <td>13.782037</td>\n      <td>-0.161774</td>\n      <td>0</td>\n      <td>0</td>\n      <td>4</td>\n      <td>-0.264583</td>\n      <td>-0.11254</td>\n      <td>-0.086651</td>\n      <td>0.000493</td>\n      <td>0.429798</td>\n    </tr>\n    <tr>\n      <th>2</th>\n      <td>47770eb9100c2d0c44946d9cf07ec65d</td>\n      <td>41ce2a54c0b03bf3443c3d931a367089</td>\n      <td>delivered</td>\n      <td>2018-08-08 08:38:49</td>\n      <td>2018-08-08 08:55:23</td>\n      <td>2018-08-08 13:50:00</td>\n      <td>2018-08-17 18:06:29</td>\n      <td>2018-09-04</td>\n      <td>-0.329907</td>\n      <td>9.394213</td>\n      <td>-0.161774</td>\n      <td>1</td>\n      <td>0</td>\n      <td>5</td>\n      <td>-0.264583</td>\n      <td>-0.11254</td>\n      <td>0.111745</td>\n      <td>-0.164034</td>\n      <td>-0.145452</td>\n    </tr>\n    <tr>\n      <th>3</th>\n      <td>949d5b44dbf5de918fe9c16f97b45f8a</td>\n      <td>f88197465ea7920adcdbec7375364d82</td>\n      <td>delivered</td>\n      <td>2017-11-18 19:28:06</td>\n      <td>2017-11-18 19:45:59</td>\n      <td>2017-11-22 13:39:59</td>\n      <td>2017-12-02 00:28:42</td>\n      <td>2017-12-15</td>\n      <td>0.073540</td>\n      <td>13.208750</td>\n      <td>-0.161774</td>\n      <td>1</td>\n      <td>0</td>\n      <td>5</td>\n      <td>-0.264583</td>\n      <td>-0.11254</td>\n      <td>-0.441549</td>\n      <td>0.206848</td>\n      <td>2.054711</td>\n    </tr>\n    <tr>\n      <th>4</th>\n      <td>ad21c59c0840e6cb83a9ceb5573f8159</td>\n      <td>8ab97904e6daea8866dbdbc4fb7aad2c</td>\n      <td>delivered</td>\n      <td>2018-02-13 21:18:39</td>\n      <td>2018-02-13 22:20:29</td>\n      <td>2018-02-14 19:46:34</td>\n      <td>2018-02-16 18:17:02</td>\n      <td>2018-02-26</td>\n      <td>-1.019535</td>\n      <td>2.873877</td>\n      <td>-0.161774</td>\n      <td>1</td>\n      <td>0</td>\n      <td>5</td>\n      <td>-0.264583</td>\n      <td>-0.11254</td>\n      <td>-0.562416</td>\n      <td>-0.652036</td>\n      <td>-0.959089</td>\n    </tr>\n    <tr>\n      <th>...</th>\n      <td>...</td>\n      <td>...</td>\n      <td>...</td>\n      <td>...</td>\n      <td>...</td>\n      <td>...</td>\n      <td>...</td>\n      <td>...</td>\n      <td>...</td>\n      <td>...</td>\n      <td>...</td>\n      <td>...</td>\n      <td>...</td>\n      <td>...</td>\n      <td>...</td>\n      <td>...</td>\n      <td>...</td>\n      <td>...</td>\n      <td>...</td>\n    </tr>\n    <tr>\n      <th>95875</th>\n      <td>9c5dedf39a927c1b2549525ed64a053c</td>\n      <td>39bd1228ee8140590ac3aca26f2dfe00</td>\n      <td>delivered</td>\n      <td>2017-03-09 09:54:05</td>\n      <td>2017-03-09 09:54:05</td>\n      <td>2017-03-10 11:18:03</td>\n      <td>2017-03-17 15:08:01</td>\n      <td>2017-03-28</td>\n      <td>-0.454309</td>\n      <td>8.218009</td>\n      <td>-0.161774</td>\n      <td>1</td>\n      <td>0</td>\n      <td>5</td>\n      <td>-0.264583</td>\n      <td>-0.11254</td>\n      <td>-0.311532</td>\n      <td>-0.449399</td>\n      <td>-0.893005</td>\n    </tr>\n    <tr>\n      <th>95876</th>\n      <td>63943bddc261676b46f01ca7ac2f7bd8</td>\n      <td>1fca14ff2861355f6e5f14306ff977a7</td>\n      <td>delivered</td>\n      <td>2018-02-06 12:58:58</td>\n      <td>2018-02-06 13:10:37</td>\n      <td>2018-02-07 23:22:42</td>\n      <td>2018-02-28 17:37:56</td>\n      <td>2018-03-02</td>\n      <td>1.023841</td>\n      <td>22.193727</td>\n      <td>-0.161774</td>\n      <td>0</td>\n      <td>0</td>\n      <td>4</td>\n      <td>-0.264583</td>\n      <td>-0.11254</td>\n      <td>0.183976</td>\n      <td>-0.123135</td>\n      <td>-0.212755</td>\n    </tr>\n    <tr>\n      <th>95877</th>\n      <td>83c1379a015df1e13d02aae0204711ab</td>\n      <td>1aa71eb042121263aafbe80c1b562c9c</td>\n      <td>delivered</td>\n      <td>2017-08-27 14:46:43</td>\n      <td>2017-08-27 15:04:16</td>\n      <td>2017-08-28 20:52:26</td>\n      <td>2017-09-21 11:24:17</td>\n      <td>2017-09-27</td>\n      <td>1.305780</td>\n      <td>24.859421</td>\n      <td>-0.161774</td>\n      <td>1</td>\n      <td>0</td>\n      <td>5</td>\n      <td>-0.264583</td>\n      <td>-0.11254</td>\n      <td>0.333688</td>\n      <td>1.964585</td>\n      <td>0.617689</td>\n    </tr>\n    <tr>\n      <th>95878</th>\n      <td>11c177c8e97725db2631073c19f07b62</td>\n      <td>b331b74b18dc79bcdf6532d51e1637c1</td>\n      <td>delivered</td>\n      <td>2018-01-08 21:28:27</td>\n      <td>2018-01-08 21:36:21</td>\n      <td>2018-01-12 15:35:03</td>\n      <td>2018-01-25 23:32:54</td>\n      <td>2018-02-15</td>\n      <td>0.483664</td>\n      <td>17.086424</td>\n      <td>-0.161774</td>\n      <td>0</td>\n      <td>0</td>\n      <td>2</td>\n      <td>1.601690</td>\n      <td>-0.11254</td>\n      <td>1.075217</td>\n      <td>2.715644</td>\n      <td>-0.387520</td>\n    </tr>\n    <tr>\n      <th>95879</th>\n      <td>66dea50a8b16d9b4dee7af250b4be1a5</td>\n      <td>edb027a75a1449115f6b43211ae02a24</td>\n      <td>delivered</td>\n      <td>2018-03-08 20:57:30</td>\n      <td>2018-03-09 11:20:28</td>\n      <td>2018-03-09 22:11:59</td>\n      <td>2018-03-16 13:08:30</td>\n      <td>2018-04-03</td>\n      <td>-0.511814</td>\n      <td>7.674306</td>\n      <td>-0.161774</td>\n      <td>1</td>\n      <td>0</td>\n      <td>5</td>\n      <td>-0.264583</td>\n      <td>-0.11254</td>\n      <td>-0.328386</td>\n      <td>-0.204004</td>\n      <td>0.052407</td>\n    </tr>\n  </tbody>\n</table>\n<p>95880 rows × 19 columns</p>\n</div>"
     },
     "execution_count": 14,
     "metadata": {},
     "output_type": "execute_result"
    }
   ],
   "source": [
    "orders_standardized = orders.copy()\n",
    "for f in features:\n",
    "    mu = orders[f].mean()\n",
    "    sigma = orders[f].std()\n",
    "    orders_standardized[f] = orders[f].map(lambda x: (x - mu) / sigma)\n",
    "orders_standardized"
   ]
  },
  {
   "cell_type": "markdown",
   "metadata": {
    "pycharm": {
     "name": "#%% md\n"
    }
   },
   "source": [
    "👉 Create your `model4` and train it."
   ]
  },
  {
   "cell_type": "code",
   "execution_count": 15,
   "metadata": {
    "tags": [
     "delete"
    ],
    "pycharm": {
     "name": "#%%\n"
    }
   },
   "outputs": [
    {
     "data": {
      "text/plain": "'review_score ~ tiempo_de_espera + real_vs_esperado + number_of_products + vendedores_unicos + precio + transporte + distance_seller_customer'"
     },
     "execution_count": 15,
     "metadata": {},
     "output_type": "execute_result"
    }
   ],
   "source": [
    "formula = \"review_score ~ \" + ' + '.join(features)\n",
    "formula"
   ]
  },
  {
   "cell_type": "code",
   "execution_count": 16,
   "metadata": {
    "tags": [
     "challengify"
    ],
    "pycharm": {
     "name": "#%%\n"
    }
   },
   "outputs": [
    {
     "name": "stdout",
     "output_type": "stream",
     "text": [
      "                            OLS Regression Results                            \n",
      "==============================================================================\n",
      "Dep. Variable:           review_score   R-squared:                       0.145\n",
      "Model:                            OLS   Adj. R-squared:                  0.145\n",
      "Method:                 Least Squares   F-statistic:                     2322.\n",
      "Date:                Tue, 25 Oct 2022   Prob (F-statistic):               0.00\n",
      "Time:                        13:27:36   Log-Likelihood:            -1.5258e+05\n",
      "No. Observations:               95872   AIC:                         3.052e+05\n",
      "Df Residuals:                   95864   BIC:                         3.052e+05\n",
      "Df Model:                           7                                         \n",
      "Covariance Type:            nonrobust                                         \n",
      "============================================================================================\n",
      "                               coef    std err          t      P>|t|      [0.025      0.975]\n",
      "--------------------------------------------------------------------------------------------\n",
      "Intercept                    4.1555      0.004   1082.730      0.000       4.148       4.163\n",
      "tiempo_de_espera            -0.4397      0.006    -70.719      0.000      -0.452      -0.428\n",
      "real_vs_esperado            -0.0515      0.006     -9.023      0.000      -0.063      -0.040\n",
      "number_of_products          -0.1297      0.004    -28.861      0.000      -0.139      -0.121\n",
      "vendedores_unicos           -0.1314      0.004    -32.747      0.000      -0.139      -0.124\n",
      "precio                      -0.0029      0.004     -0.696      0.486      -0.011       0.005\n",
      "transporte                   0.0043      0.005      0.868      0.385      -0.005       0.014\n",
      "distance_seller_customer     0.0967      0.005     20.984      0.000       0.088       0.106\n",
      "==============================================================================\n",
      "Omnibus:                    18749.799   Durbin-Watson:                   2.009\n",
      "Prob(Omnibus):                  0.000   Jarque-Bera (JB):            37820.902\n",
      "Skew:                          -1.175   Prob(JB):                         0.00\n",
      "Kurtosis:                       4.986   Cond. No.                         3.02\n",
      "==============================================================================\n",
      "\n",
      "Notes:\n",
      "[1] Standard Errors assume that the covariance matrix of the errors is correctly specified.\n"
     ]
    }
   ],
   "source": [
    "model4 = smf.ols(formula = formula, data = orders_standardized).fit()\n",
    "print(model4.summary())"
   ]
  },
  {
   "cell_type": "code",
   "execution_count": 17,
   "metadata": {
    "tags": [
     "challengify"
    ],
    "pycharm": {
     "name": "#%%\n"
    }
   },
   "outputs": [
    {
     "data": {
      "text/plain": "<AxesSubplot:>"
     },
     "execution_count": 17,
     "metadata": {},
     "output_type": "execute_result"
    },
    {
     "data": {
      "text/plain": "<Figure size 432x288 with 1 Axes>",
      "image/png": "[encoded data removed]"
     },
     "metadata": {
      "needs_background": "light"
     },
     "output_type": "display_data"
    }
   ],
   "source": [
    "model4.params[1:].sort_values().plot(kind='barh')"
   ]
  },
  {
   "cell_type": "markdown",
   "metadata": {
    "pycharm": {
     "name": "#%% md\n"
    }
   },
   "source": [
    "## 3 - Check model performance"
   ]
  },
  {
   "cell_type": "code",
   "execution_count": 18,
   "metadata": {
    "tags": [
     "challengify"
    ],
    "pycharm": {
     "name": "#%%\n"
    }
   },
   "outputs": [],
   "source": [
    "predicted_review_score = model4.predict(orders_standardized[features])\n",
    "residuals = predicted_review_score - orders_standardized.review_score"
   ]
  },
  {
   "cell_type": "code",
   "execution_count": 27,
   "outputs": [
    {
     "data": {
      "text/plain": "0        0.306541\n1        0.195774\n2       -0.657075\n3       -0.618482\n4       -0.432627\n           ...   \n95875   -0.674654\n95876   -0.258924\n95877   -1.294034\n95878    1.729257\n95879   -0.556826\nLength: 95880, dtype: float64"
     },
     "execution_count": 27,
     "metadata": {},
     "output_type": "execute_result"
    }
   ],
   "source": [
    "residuals"
   ],
   "metadata": {
    "collapsed": false,
    "pycharm": {
     "name": "#%%\n"
    }
   }
  },
  {
   "cell_type": "code",
   "execution_count": 19,
   "metadata": {
    "tags": [
     "challengify"
    ],
    "pycharm": {
     "name": "#%%\n"
    }
   },
   "outputs": [
    {
     "data": {
      "text/plain": "1.188315411682106"
     },
     "execution_count": 19,
     "metadata": {},
     "output_type": "execute_result"
    }
   ],
   "source": [
    "rmse = (residuals**2).mean()**0.5\n",
    "rmse"
   ]
  },
  {
   "cell_type": "code",
   "execution_count": 20,
   "metadata": {
    "tags": [
     "challengify"
    ],
    "pycharm": {
     "name": "#%%\n"
    }
   },
   "outputs": [
    {
     "data": {
      "text/plain": "Text(0.5, 1.0, 'residuals density plot')"
     },
     "execution_count": 20,
     "metadata": {},
     "output_type": "execute_result"
    },
    {
     "data": {
      "text/plain": "<Figure size 432x288 with 1 Axes>",
      "image/png": "[encoded data removed]"
     },
     "metadata": {
      "needs_background": "light"
     },
     "output_type": "display_data"
    }
   ],
   "source": [
    "sns.histplot(residuals, kde=True, stat='density', discrete=True)\n",
    "plt.title('residuals density plot')"
   ]
  },
  {
   "cell_type": "code",
   "execution_count": 21,
   "metadata": {
    "tags": [
     "challengify"
    ],
    "pycharm": {
     "name": "#%%\n"
    }
   },
   "outputs": [
    {
     "data": {
      "text/plain": "Text(0.5, 1.0, 'distribution of predicted and actual values')"
     },
     "execution_count": 21,
     "metadata": {},
     "output_type": "execute_result"
    },
    {
     "data": {
      "text/plain": "<Figure size 432x288 with 1 Axes>",
      "image/png": "[encoded data removed]"
     },
     "metadata": {
      "needs_background": "light"
     },
     "output_type": "display_data"
    }
   ],
   "source": [
    "sns.kdeplot(predicted_review_score, label='predicted review score')\n",
    "sns.kdeplot(orders.review_score, label = 'actual review score')\n",
    "plt.title('distribution of predicted and actual values')"
   ]
  },
  {
   "cell_type": "code",
   "execution_count": 22,
   "outputs": [],
   "source": [
    "from metricas_lineal import RMSLE\n",
    "from metricas_lineal import MAPE\n",
    "from metricas_lineal import MAE\n"
   ],
   "metadata": {
    "collapsed": false,
    "pycharm": {
     "name": "#%%\n"
    }
   }
  },
  {
   "cell_type": "code",
   "execution_count": 23,
   "outputs": [
    {
     "name": "stderr",
     "output_type": "stream",
     "text": [
      "C:\\Users\\jduque\\Anaconda3\\envs\\UCEMA\\lib\\site-packages\\pandas\\core\\arraylike.py:397: RuntimeWarning: invalid value encountered in log\n",
      "  result = getattr(ufunc, method)(*inputs, **kwargs)\n"
     ]
    },
    {
     "data": {
      "text/plain": "0.3146702038277388"
     },
     "execution_count": 23,
     "metadata": {},
     "output_type": "execute_result"
    }
   ],
   "source": [
    "errorrmse = RMSLE(orders_standardized.review_score,predicted_review_score)\n",
    "errorrmse"
   ],
   "metadata": {
    "collapsed": false,
    "pycharm": {
     "name": "#%%\n"
    }
   }
  },
  {
   "cell_type": "code",
   "execution_count": 24,
   "outputs": [
    {
     "data": {
      "text/plain": "0.4233140597027851"
     },
     "execution_count": 24,
     "metadata": {},
     "output_type": "execute_result"
    }
   ],
   "source": [
    "MAPE(orders_standardized.review_score,predicted_review_score)"
   ],
   "metadata": {
    "collapsed": false,
    "pycharm": {
     "name": "#%%\n"
    }
   }
  },
  {
   "cell_type": "code",
   "execution_count": 25,
   "outputs": [
    {
     "data": {
      "text/plain": "0.9145208986155958"
     },
     "execution_count": 25,
     "metadata": {},
     "output_type": "execute_result"
    }
   ],
   "source": [
    "MAE(orders_standardized.review_score,predicted_review_score)"
   ],
   "metadata": {
    "collapsed": false,
    "pycharm": {
     "name": "#%%\n"
    }
   }
  },
  {
   "cell_type": "code",
   "execution_count": 25,
   "outputs": [],
   "source": [],
   "metadata": {
    "collapsed": false,
    "pycharm": {
     "name": "#%%\n"
    }
   }
  }
 ],
 "metadata": {
  "kernelspec": {
   "display_name": "Python 3",
   "language": "python",
   "name": "python3"
  }
 },
 "nbformat": 4,
 "nbformat_minor": 4
}