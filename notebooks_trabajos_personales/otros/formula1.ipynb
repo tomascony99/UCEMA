{
 "cells": [
  {
   "cell_type": "code",
   "execution_count": 11,
   "metadata": {
    "collapsed": true
   },
   "outputs": [
    {
     "data": {
      "text/plain": "   auto tiempo_vuelta\n0     3       1:39.60\n1     3       1:39.60\n2     3       1:39.60",
      "text/html": "<div>\n<style scoped>\n    .dataframe tbody tr th:only-of-type {\n        vertical-align: middle;\n    }\n\n    .dataframe tbody tr th {\n        vertical-align: top;\n    }\n\n    .dataframe thead th {\n        text-align: right;\n    }\n</style>\n<table border=\"1\" class=\"dataframe\">\n  <thead>\n    <tr style=\"text-align: right;\">\n      <th></th>\n      <th>auto</th>\n      <th>tiempo_vuelta</th>\n    </tr>\n  </thead>\n  <tbody>\n    <tr>\n      <th>0</th>\n      <td>3</td>\n      <td>1:39.60</td>\n    </tr>\n    <tr>\n      <th>1</th>\n      <td>3</td>\n      <td>1:39.60</td>\n    </tr>\n    <tr>\n      <th>2</th>\n      <td>3</td>\n      <td>1:39.60</td>\n    </tr>\n  </tbody>\n</table>\n</div>"
     },
     "execution_count": 11,
     "metadata": {},
     "output_type": "execute_result"
    }
   ],
   "source": [
    "dataframe_en_dict = {\"auto\":1,\"tiempo_vuelta\":\"1:36.60\",\n",
    "                     \"auto\":2,\"tiempo_vuelta\":\"1:38.60\",\n",
    "                        \"auto\":3,\"tiempo_vuelta\":\"1:39.60\"}\n",
    "\n",
    "import pandas as pd\n",
    "\n",
    "df = pd.DataFrame(dataframe_en_dict, index=[0,1,2])\n",
    "df"
   ]
  },
  {
   "cell_type": "code",
   "execution_count": 12,
   "outputs": [],
   "source": [
    "\n",
    "def time_to_seconds(time):\n",
    "    hours_in_seconds = int(time.split(\":\")[0]) * 3600\n",
    "    minutes_in_seconds = int(time[0]) * 60\n",
    "    seconds_in_seconds =  int(time.split(\".\")[1])\n",
    "    return hours_in_seconds + minutes_in_seconds + seconds_in_seconds\n",
    "\n",
    "df[\"tiempo_vuelta\"] = df[\"tiempo_vuelta\"].apply(time_to_seconds)"
   ],
   "metadata": {
    "collapsed": false
   }
  },
  {
   "cell_type": "code",
   "execution_count": 13,
   "outputs": [
    {
     "data": {
      "text/plain": "   auto  tiempo_vuelta\n0     3           3720\n1     3           3720\n2     3           3720",
      "text/html": "<div>\n<style scoped>\n    .dataframe tbody tr th:only-of-type {\n        vertical-align: middle;\n    }\n\n    .dataframe tbody tr th {\n        vertical-align: top;\n    }\n\n    .dataframe thead th {\n        text-align: right;\n    }\n</style>\n<table border=\"1\" class=\"dataframe\">\n  <thead>\n    <tr style=\"text-align: right;\">\n      <th></th>\n      <th>auto</th>\n      <th>tiempo_vuelta</th>\n    </tr>\n  </thead>\n  <tbody>\n    <tr>\n      <th>0</th>\n      <td>3</td>\n      <td>3720</td>\n    </tr>\n    <tr>\n      <th>1</th>\n      <td>3</td>\n      <td>3720</td>\n    </tr>\n    <tr>\n      <th>2</th>\n      <td>3</td>\n      <td>3720</td>\n    </tr>\n  </tbody>\n</table>\n</div>"
     },
     "execution_count": 13,
     "metadata": {},
     "output_type": "execute_result"
    }
   ],
   "source": [
    "df"
   ],
   "metadata": {
    "collapsed": false
   }
  },
  {
   "cell_type": "code",
   "execution_count": 55,
   "outputs": [],
   "source": [
    "#https://www.kaggle.com/datasets/aadiltajani/fia-f1-19502019-data?resource=download&select=qualifying_times_2006-2020.csv\n",
    "df_form1 = pd.read_csv(\"qualifying_times_2006-2020.csv\")"
   ],
   "metadata": {
    "collapsed": false
   }
  },
  {
   "cell_type": "code",
   "execution_count": 56,
   "outputs": [
    {
     "data": {
      "text/plain": "      Unnamed: 0  Year Position  Driver No.      Venue                Name  \\\n0              0  2006        1           5    bahrain  Michael Schumacher   \n1              1  2006        2           6    bahrain        Felipe Massa   \n2              2  2006        3          12    bahrain       Jenson Button   \n3              3  2006        4           1    bahrain     Fernando Alonso   \n4              4  2006        5           4    bahrain  Juan Pablo Montoya   \n...          ...   ...      ...         ...        ...                 ...   \n6084        6084  2020       16           7  abu-dhabi    Kimi RÃ¤ikkÃ¶nen   \n6085        6085  2020       17          20  abu-dhabi     Kevin Magnussen   \n6086        6086  2020       18          63  abu-dhabi      George Russell   \n6087        6087  2020       19          51  abu-dhabi   Pietro Fittipaldi   \n6088        6088  2020       20           6  abu-dhabi     Nicholas Latifi   \n\n     NameTag                       Team        Q1        Q2        Q3  Laps  \n0        MSC                    Ferrari  1:33.310  1:32.025  1:31.431    20  \n1        MAS                    Ferrari  1:33.579  1:32.014  1:31.478    20  \n2        BUT                      Honda  1:32.603  1:32.025  1:31.549    23  \n3        ALO                    Renault  1:32.433  1:31.215  1:31.702    20  \n4        MOY           McLaren Mercedes  1:33.233  1:31.487  1:32.164    20  \n...      ...                        ...       ...       ...       ...   ...  \n6084     RAI  Alfa Romeo Racing Ferrari  1:37.555       NaN       NaN     6  \n6085     MAG               Haas Ferrari  1:37.863       NaN       NaN     9  \n6086     RUS          Williams Mercedes  1:38.045       NaN       NaN     8  \n6087     FIT               Haas Ferrari  1:38.173       NaN       NaN     9  \n6088     LAT          Williams Mercedes  1:38.443       NaN       NaN     7  \n\n[6089 rows x 12 columns]",
      "text/html": "<div>\n<style scoped>\n    .dataframe tbody tr th:only-of-type {\n        vertical-align: middle;\n    }\n\n    .dataframe tbody tr th {\n        vertical-align: top;\n    }\n\n    .dataframe thead th {\n        text-align: right;\n    }\n</style>\n<table border=\"1\" class=\"dataframe\">\n  <thead>\n    <tr style=\"text-align: right;\">\n      <th></th>\n      <th>Unnamed: 0</th>\n      <th>Year</th>\n      <th>Position</th>\n      <th>Driver No.</th>\n      <th>Venue</th>\n      <th>Name</th>\n      <th>NameTag</th>\n      <th>Team</th>\n      <th>Q1</th>\n      <th>Q2</th>\n      <th>Q3</th>\n      <th>Laps</th>\n    </tr>\n  </thead>\n  <tbody>\n    <tr>\n      <th>0</th>\n      <td>0</td>\n      <td>2006</td>\n      <td>1</td>\n      <td>5</td>\n      <td>bahrain</td>\n      <td>Michael Schumacher</td>\n      <td>MSC</td>\n      <td>Ferrari</td>\n      <td>1:33.310</td>\n      <td>1:32.025</td>\n      <td>1:31.431</td>\n      <td>20</td>\n    </tr>\n    <tr>\n      <th>1</th>\n      <td>1</td>\n      <td>2006</td>\n      <td>2</td>\n      <td>6</td>\n      <td>bahrain</td>\n      <td>Felipe Massa</td>\n      <td>MAS</td>\n      <td>Ferrari</td>\n      <td>1:33.579</td>\n      <td>1:32.014</td>\n      <td>1:31.478</td>\n      <td>20</td>\n    </tr>\n    <tr>\n      <th>2</th>\n      <td>2</td>\n      <td>2006</td>\n      <td>3</td>\n      <td>12</td>\n      <td>bahrain</td>\n      <td>Jenson Button</td>\n      <td>BUT</td>\n      <td>Honda</td>\n      <td>1:32.603</td>\n      <td>1:32.025</td>\n      <td>1:31.549</td>\n      <td>23</td>\n    </tr>\n    <tr>\n      <th>3</th>\n      <td>3</td>\n      <td>2006</td>\n      <td>4</td>\n      <td>1</td>\n      <td>bahrain</td>\n      <td>Fernando Alonso</td>\n      <td>ALO</td>\n      <td>Renault</td>\n      <td>1:32.433</td>\n      <td>1:31.215</td>\n      <td>1:31.702</td>\n      <td>20</td>\n    </tr>\n    <tr>\n      <th>4</th>\n      <td>4</td>\n      <td>2006</td>\n      <td>5</td>\n      <td>4</td>\n      <td>bahrain</td>\n      <td>Juan Pablo Montoya</td>\n      <td>MOY</td>\n      <td>McLaren Mercedes</td>\n      <td>1:33.233</td>\n      <td>1:31.487</td>\n      <td>1:32.164</td>\n      <td>20</td>\n    </tr>\n    <tr>\n      <th>...</th>\n      <td>...</td>\n      <td>...</td>\n      <td>...</td>\n      <td>...</td>\n      <td>...</td>\n      <td>...</td>\n      <td>...</td>\n      <td>...</td>\n      <td>...</td>\n      <td>...</td>\n      <td>...</td>\n      <td>...</td>\n    </tr>\n    <tr>\n      <th>6084</th>\n      <td>6084</td>\n      <td>2020</td>\n      <td>16</td>\n      <td>7</td>\n      <td>abu-dhabi</td>\n      <td>Kimi RÃ¤ikkÃ¶nen</td>\n      <td>RAI</td>\n      <td>Alfa Romeo Racing Ferrari</td>\n      <td>1:37.555</td>\n      <td>NaN</td>\n      <td>NaN</td>\n      <td>6</td>\n    </tr>\n    <tr>\n      <th>6085</th>\n      <td>6085</td>\n      <td>2020</td>\n      <td>17</td>\n      <td>20</td>\n      <td>abu-dhabi</td>\n      <td>Kevin Magnussen</td>\n      <td>MAG</td>\n      <td>Haas Ferrari</td>\n      <td>1:37.863</td>\n      <td>NaN</td>\n      <td>NaN</td>\n      <td>9</td>\n    </tr>\n    <tr>\n      <th>6086</th>\n      <td>6086</td>\n      <td>2020</td>\n      <td>18</td>\n      <td>63</td>\n      <td>abu-dhabi</td>\n      <td>George Russell</td>\n      <td>RUS</td>\n      <td>Williams Mercedes</td>\n      <td>1:38.045</td>\n      <td>NaN</td>\n      <td>NaN</td>\n      <td>8</td>\n    </tr>\n    <tr>\n      <th>6087</th>\n      <td>6087</td>\n      <td>2020</td>\n      <td>19</td>\n      <td>51</td>\n      <td>abu-dhabi</td>\n      <td>Pietro Fittipaldi</td>\n      <td>FIT</td>\n      <td>Haas Ferrari</td>\n      <td>1:38.173</td>\n      <td>NaN</td>\n      <td>NaN</td>\n      <td>9</td>\n    </tr>\n    <tr>\n      <th>6088</th>\n      <td>6088</td>\n      <td>2020</td>\n      <td>20</td>\n      <td>6</td>\n      <td>abu-dhabi</td>\n      <td>Nicholas Latifi</td>\n      <td>LAT</td>\n      <td>Williams Mercedes</td>\n      <td>1:38.443</td>\n      <td>NaN</td>\n      <td>NaN</td>\n      <td>7</td>\n    </tr>\n  </tbody>\n</table>\n<p>6089 rows × 12 columns</p>\n</div>"
     },
     "execution_count": 56,
     "metadata": {},
     "output_type": "execute_result"
    }
   ],
   "source": [
    "df_form1"
   ],
   "metadata": {
    "collapsed": false
   }
  },
  {
   "cell_type": "code",
   "execution_count": 61,
   "outputs": [
    {
     "data": {
      "text/plain": "0       1:33.310\n1       1:33.579\n2       1:32.603\n3       1:32.433\n4       1:33.233\n          ...   \n6084    1:37.555\n6085    1:37.863\n6086    1:38.045\n6087    1:38.173\n6088    1:38.443\nName: Q1, Length: 6089, dtype: object"
     },
     "execution_count": 61,
     "metadata": {},
     "output_type": "execute_result"
    }
   ],
   "source": [
    "df_form1.Q1"
   ],
   "metadata": {
    "collapsed": false
   }
  },
  {
   "cell_type": "code",
   "execution_count": 62,
   "outputs": [],
   "source": [
    "\n",
    "def time_to_seconds2(time):\n",
    "    \"\"\" funcion que convierte un string de tiempo en segundos. Se asume que el string tiene el formato HH:MM:SS\n",
    "    \"\"\"\n",
    "\n",
    "    #if time is a float return 0\n",
    "    if type(time) == float:\n",
    "        return time\n",
    "    # ------------------ normalizacion del string ------------------\n",
    "    #keep only numbers and dots\n",
    "    time = ''.join([i for i in time if i.isdigit() or i == '.' or i == ':'])\n",
    "    # if time is empty replace by 0\n",
    "    if time == '' or time == \"nan\":\n",
    "        return 0\n",
    "    # ------------------ preprocess part------------------\n",
    "    # esta es la primera parte del string\n",
    "    if time.find(\":\") == -1:\n",
    "        # si no tiene dos puntos, es un string de segundos\n",
    "        return float(time)\n",
    "    else:\n",
    "        # si tiene dos puntos, es un string de horas y minutos\n",
    "        # separo la parte de horas y minutos\n",
    "        time = time.split(\":\")\n",
    "        # si tiene dos puntos, pero no tiene minutos, es un string de horas\n",
    "        if len(time) == 2:\n",
    "            return float(time[0]) * 3600 + float(time[1])\n",
    "        # si tiene dos puntos y tiene minutos, es un string de horas, minutos y segundos\n",
    "        elif len(time) == 3:\n",
    "            return float(time[0]) * 3600 + float(time[1]) * 60 + float(time[2])\n",
    "\n"
   ],
   "metadata": {
    "collapsed": false
   }
  },
  {
   "cell_type": "code",
   "execution_count": 63,
   "outputs": [
    {
     "data": {
      "text/plain": "0       3633.310\n1       3633.579\n2       3632.603\n3       3632.433\n4       3633.233\n          ...   \n6084    3637.555\n6085    3637.863\n6086    3638.045\n6087    3638.173\n6088    3638.443\nName: Q1, Length: 6089, dtype: float64"
     },
     "execution_count": 63,
     "metadata": {},
     "output_type": "execute_result"
    }
   ],
   "source": [
    "df_form1.Q1.apply(time_to_seconds2)"
   ],
   "metadata": {
    "collapsed": false
   }
  },
  {
   "cell_type": "code",
   "execution_count": 64,
   "outputs": [
    {
     "data": {
      "text/plain": "0       3632.025\n1       3632.014\n2       3632.025\n3       3631.215\n4       3631.487\n          ...   \n6084         NaN\n6085         NaN\n6086         NaN\n6087         NaN\n6088         NaN\nName: Q2, Length: 6089, dtype: float64"
     },
     "execution_count": 64,
     "metadata": {},
     "output_type": "execute_result"
    }
   ],
   "source": [
    "df_form1.Q2.apply(time_to_seconds2)\n"
   ],
   "metadata": {
    "collapsed": false
   }
  },
  {
   "cell_type": "code",
   "execution_count": null,
   "outputs": [],
   "source": [],
   "metadata": {
    "collapsed": false,
    "pycharm": {
     "is_executing": true
    }
   }
  },
  {
   "cell_type": "code",
   "execution_count": 64,
   "outputs": [],
   "source": [],
   "metadata": {
    "collapsed": false
   }
  }
 ],
 "metadata": {
  "kernelspec": {
   "display_name": "Python 3",
   "language": "python",
   "name": "python3"
  },
  "language_info": {
   "codemirror_mode": {
    "name": "ipython",
    "version": 2
   },
   "file_extension": ".py",
   "mimetype": "text/x-python",
   "name": "python",
   "nbconvert_exporter": "python",
   "pygments_lexer": "ipython2",
   "version": "2.7.6"
  }
 },
 "nbformat": 4,
 "nbformat_minor": 0
}
