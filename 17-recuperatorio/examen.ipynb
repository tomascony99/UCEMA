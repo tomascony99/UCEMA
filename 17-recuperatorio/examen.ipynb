{
 "cells": [
  {
   "cell_type": "markdown",
   "source": [
    "# Examen\n",
    "\n",
    "Era un taller sucio, donde el agua goteaba del techo y se acumulaba en el suelo, formando charcos irregulares. Las luces oxidadas y las paredes descascaradas, eran el escenario y los mecánicos, con sus manos engrasadas y sus brazos cubiertos de cicatrices, eran las estrellas de este espectáculo. Se movían con precisión, casi cómo un baile, entre las herramientas y las piezas de los vehículos que estaban reparando. La belleza, no era solo la de un ballet, estos hombres se consideraban a sí mismos científicos. Registraban cada detalle de sus trabajos en una base de datos detallada. La locura y la obsesión se combinaban. Entre el caos, gritos, cantos y alaridos de extasis, se podía ver un brillo de método científico.\n",
    "\n",
    "El taller se llamaba \"LOCOSconMotores 2000\" y el supervisor a cargo tenía cómo apodo Piston. Este tenía una visión particular sobre los autos: creía que cada uno tenía su propia personalidad y su propia historia. Él sostenía que, al igual que cada persona es única, cada auto es único y tiene su propio carácter. Piston siempre trataba a cada auto con respeto y cuidado, ya que cada uno tenía su propio valor. Como una figura importante en el mundo de la psicología y la filosofía, Piston afirmaba un fundamentalismo extremo por cultivar la individualidad y el respeto por uno mismo y por los demás, a la par que consideraba a los autos a la par que sus subordinados.\n",
    "\n",
    "\"El ojo de Kybalion\" era el nombre de la base de datos e incluía: el tipo de motor, la marca del auto, el tiempo de reparación en minutos, la cantidad de ruedas a reemplazar, la fecha de nacimiento o elaboración del auto, el signo del zoodíaco del auto y la cantidad de kilómetros recorridos.\n",
    "\n",
    "La base de datos continuaba registrando cada detalle, cómo testigo silencioso del paso del tiempo. Las hipótesis de los mecánicos sobre las razones de las roturas eran cada vez más vehementes. El nivel de desquicio y violencia fue tan grande que decidieron contratar alguien capaz de terminar con esas discusiones antes de que fuese demasiado tarde.\n",
    "\n",
    "Te contrataron a vos: Tu tarea cómo científico de datos con conocimiento es en python y machine learning es separar la locura de la razón, debatir con cada mecánico sus creencias para luego proponer una fórmula que describa las razones de las roturas y además pueda mejorar la eficiencia del taller mecánico.\n",
    "\n",
    "\n",
    "**\"El ojo de Kybalion\"**\n",
    "https://drive.google.com/file/d/1v6GNyAO4FDwTXct_4jqEFSnGYeqV2hKZ/view?usp=share_link\n",
    "\n",
    "\n",
    "**A) Chequee cada una de estas hipótesis con gráficos y Análisis de las distribuciones de las variables. (32pts)**\n",
    "\n",
    "1. Pepe cree que cómo el auto más reparado en el taller fueron los Toyota, todos ya saben cómo repararlos y por eso son más eficientes a la hora de repararlos. (4pts/32pts)\n",
    "2. \"El Tuerca\" tallerista antiguo, sostiene que los autos nuevos tiene muchas \"mañas\" y por lo tanto tardan muchisimo en repararse. -crea la variable \"edad_del_auto\" para verificar esta hipótesis. Tené en cuenta el año en que estas haciendo el examen.(4pts/32pts)\n",
    "3. \"Pistón\", sostiene que depende del signo del zoodíaco, los autos de \"sagitario\", dice, son más divertidos, extrovertidos, tienen buena fortuna y son fáciles conversadores, por lo tanto tardan menos en repararse.(4pts/32pts)\n",
    "4. \"El Oso\", fanático de Elon Musk, sostiene que los autos eléctricos son los más eficientes y por lo tanto tardan menos en repararse.(4pts/32pts)\n",
    "5. \"Bujía\", sostiene que los autos diesel son los más eficientes y por lo tanto tardan menos en repararse.(4pts/32pts)\n",
    "6. \"Inflador\", sostiene que los autos con más de 50.000 km recorridos tardan más en repararse.(4pts/32pts)\n",
    "7. \"Gomón\" está seguro que los autos que sólo le cambiaron 4 ruedas y son \"electricos\" tardan menos en repararse(4pts/32pts)\n",
    "8. \"Lovorne\" Cree que los Ford con más Kms tardan menos en repararse.(4pts/32pts)\n",
    "\n",
    "**B) Crear una hipotesis personal e intente verificarla con los datos.(8pts)**\n",
    "\n",
    "Del estilo \"Los autos Toyota de sagitario tardan menos en repararse\"\n",
    "\n",
    "**C) Cree un modelo de machine learning para predecir la variable que usted considera más importante, en función de las variables que usted considere. (30pts)**\n",
    "* Modelo (10 pts / 30pts)\n",
    "* Verificar con el modelo lo siguiente:\n",
    "    - \"Valvula\" Sostiene que la cantidad de ruedas a reemplazar no influye en nada.  (10pts / 30pts)\n",
    "    - \"Pistón\" está tan peleado con \"Inflador\" y dice que necesita una prueba científica para que le demuestren que la variable cantidad_de_kilometros es representativa.(10pts / 30pts)\n",
    "\n",
    "\n",
    "**D) Evalue el modelo con la formula de MAPE: mean_absolute_percentage_error. ¿Que significa el error? (5pts)**\n",
    "\n",
    "**E) Interprete los coeficientes?. Cual es la intuición del modelo? Explique la formula que representa al modelo con tus palabras? Se verifica que la marca del auto impacta o que el tipo de motor y la edad impacta? Cuanto? (5pts)**\n",
    "\n",
    "**F) Tengo fotos de accidentes de autos de una empresa de seguros. En las cuales actualmente cada perito de seguro evalua foto a foto el valor de los daños que tiene el auto. Por ultimo luego de una evaluación minuciosa de muchas variables más que las fotos, el perito dictamina el probable costo a pagar por el total de las reparaciones.   (20pts)**\n",
    "1. Explicar por qué resolverías esta tarea con Machine Learning.  (5pts / 20pts)\n",
    "2. ¿Cuales crearías que son las variables que afectarían al modelo y por qué? (5pts / 20pts)\n",
    "3. ¿Como la predicción impactaría al beneficio en el negocio de los seguros? (5pts / 20pts)\n",
    "4. ¿Como se evaluaría la eficacia del modelo? (5pts / 20pts)"
   ],
   "metadata": {
    "collapsed": false
   }
  },
  {
   "cell_type": "code",
   "execution_count": null,
   "outputs": [],
   "source": [],
   "metadata": {
    "collapsed": false
   }
  }
 ],
 "metadata": {
  "kernelspec": {
   "display_name": "Python 3",
   "language": "python",
   "name": "python3"
  },
  "language_info": {
   "codemirror_mode": {
    "name": "ipython",
    "version": 2
   },
   "file_extension": ".py",
   "mimetype": "text/x-python",
   "name": "python",
   "nbconvert_exporter": "python",
   "pygments_lexer": "ipython2",
   "version": "2.7.6"
  }
 },
 "nbformat": 4,
 "nbformat_minor": 0
}
