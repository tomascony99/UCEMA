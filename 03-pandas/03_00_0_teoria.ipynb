{
 "cells": [
  {
   "cell_type": "code",
   "execution_count": 4,
   "metadata": {
    "collapsed": true,
    "pycharm": {
     "name": "#%%\n"
    }
   },
   "outputs": [
    {
     "name": "stdout",
     "output_type": "stream",
     "text": [
      "03_00_API.ipynb                         03_03_Operations_in_Pandas.ipynb\r\n",
      "03_00_csv.ipynb                         \u001B[1m\u001B[36mdata\u001B[m\u001B[m\r\n",
      "03_01_Introducing_Pandas_Objects.ipynb  teoria.ipynb\r\n",
      "03_02_Data_Indexing_and_Selection.ipynb\r\n"
     ]
    }
   ],
   "source": [
    "!ls"
   ]
  },
  {
   "cell_type": "code",
   "execution_count": 6,
   "outputs": [
    {
     "name": "stdout",
     "output_type": "stream",
     "text": [
      "alllines.txt       para_borrar.tsv    tarea_del_nene.csv\r\n",
      "countries.csv      spam.csv           \u001B[1m\u001B[36mventas_comercial\u001B[m\u001B[m\r\n"
     ]
    }
   ],
   "source": [
    "!ls data"
   ],
   "metadata": {
    "collapsed": false,
    "pycharm": {
     "name": "#%%\n"
    }
   }
  },
  {
   "cell_type": "code",
   "execution_count": 7,
   "outputs": [],
   "source": [
    "path_file= \"data/countries.csv\""
   ],
   "metadata": {
    "collapsed": false,
    "pycharm": {
     "name": "#%%\n"
    }
   }
  },
  {
   "cell_type": "code",
   "execution_count": 8,
   "outputs": [],
   "source": [
    "import pandas as pd"
   ],
   "metadata": {
    "collapsed": false,
    "pycharm": {
     "name": "#%%\n"
    }
   }
  },
  {
   "cell_type": "code",
   "execution_count": 9,
   "outputs": [],
   "source": [
    "df = pd.read_csv(path_file)"
   ],
   "metadata": {
    "collapsed": false,
    "pycharm": {
     "name": "#%%\n"
    }
   }
  },
  {
   "cell_type": "code",
   "execution_count": 14,
   "outputs": [
    {
     "data": {
      "text/plain": "           Country                               Region  Population  \\\n0     Afghanistan         ASIA (EX. NEAR EAST)             31056997   \n1         Albania   EASTERN EUROPE                          3581655   \n2         Algeria   NORTHERN AFRICA                        32930091   \n3  American Samoa   OCEANIA                                   57794   \n4         Andorra   WESTERN EUROPE                            71201   \n\n   Area (sq. mi.) Pop. Density (per sq. mi.) Coastline (coast/area ratio)  \\\n0          647500                       48,0                         0,00   \n1           28748                      124,6                         1,26   \n2         2381740                       13,8                         0,04   \n3             199                      290,4                        58,29   \n4             468                      152,1                         0,00   \n\n  Net migration Infant mortality (per 1000 births)  GDP ($ per capita)  \\\n0         23,06                             163,07               700.0   \n1         -4,93                              21,52              4500.0   \n2         -0,39                                 31              6000.0   \n3        -20,71                               9,27              8000.0   \n4           6,6                               4,05             19000.0   \n\n  Literacy (%) Phones (per 1000) Arable (%) Crops (%) Other (%) Climate  \\\n0         36,0               3,2      12,13      0,22     87,65       1   \n1         86,5              71,2      21,09      4,42     74,49       3   \n2         70,0              78,1       3,22      0,25     96,53       1   \n3         97,0             259,5         10        15        75       2   \n4        100,0             497,2       2,22         0     97,78       3   \n\n  Birthrate Deathrate Agriculture Industry Service  \n0      46,6     20,34        0,38     0,24    0,38  \n1     15,11      5,22       0,232    0,188   0,579  \n2     17,14      4,61       0,101      0,6   0,298  \n3     22,46      3,27         NaN      NaN     NaN  \n4      8,71      6,25         NaN      NaN     NaN  ",
      "text/html": "<div>\n<style scoped>\n    .dataframe tbody tr th:only-of-type {\n        vertical-align: middle;\n    }\n\n    .dataframe tbody tr th {\n        vertical-align: top;\n    }\n\n    .dataframe thead th {\n        text-align: right;\n    }\n</style>\n<table border=\"1\" class=\"dataframe\">\n  <thead>\n    <tr style=\"text-align: right;\">\n      <th></th>\n      <th>Country</th>\n      <th>Region</th>\n      <th>Population</th>\n      <th>Area (sq. mi.)</th>\n      <th>Pop. Density (per sq. mi.)</th>\n      <th>Coastline (coast/area ratio)</th>\n      <th>Net migration</th>\n      <th>Infant mortality (per 1000 births)</th>\n      <th>GDP ($ per capita)</th>\n      <th>Literacy (%)</th>\n      <th>Phones (per 1000)</th>\n      <th>Arable (%)</th>\n      <th>Crops (%)</th>\n      <th>Other (%)</th>\n      <th>Climate</th>\n      <th>Birthrate</th>\n      <th>Deathrate</th>\n      <th>Agriculture</th>\n      <th>Industry</th>\n      <th>Service</th>\n    </tr>\n  </thead>\n  <tbody>\n    <tr>\n      <th>0</th>\n      <td>Afghanistan</td>\n      <td>ASIA (EX. NEAR EAST)</td>\n      <td>31056997</td>\n      <td>647500</td>\n      <td>48,0</td>\n      <td>0,00</td>\n      <td>23,06</td>\n      <td>163,07</td>\n      <td>700.0</td>\n      <td>36,0</td>\n      <td>3,2</td>\n      <td>12,13</td>\n      <td>0,22</td>\n      <td>87,65</td>\n      <td>1</td>\n      <td>46,6</td>\n      <td>20,34</td>\n      <td>0,38</td>\n      <td>0,24</td>\n      <td>0,38</td>\n    </tr>\n    <tr>\n      <th>1</th>\n      <td>Albania</td>\n      <td>EASTERN EUROPE</td>\n      <td>3581655</td>\n      <td>28748</td>\n      <td>124,6</td>\n      <td>1,26</td>\n      <td>-4,93</td>\n      <td>21,52</td>\n      <td>4500.0</td>\n      <td>86,5</td>\n      <td>71,2</td>\n      <td>21,09</td>\n      <td>4,42</td>\n      <td>74,49</td>\n      <td>3</td>\n      <td>15,11</td>\n      <td>5,22</td>\n      <td>0,232</td>\n      <td>0,188</td>\n      <td>0,579</td>\n    </tr>\n    <tr>\n      <th>2</th>\n      <td>Algeria</td>\n      <td>NORTHERN AFRICA</td>\n      <td>32930091</td>\n      <td>2381740</td>\n      <td>13,8</td>\n      <td>0,04</td>\n      <td>-0,39</td>\n      <td>31</td>\n      <td>6000.0</td>\n      <td>70,0</td>\n      <td>78,1</td>\n      <td>3,22</td>\n      <td>0,25</td>\n      <td>96,53</td>\n      <td>1</td>\n      <td>17,14</td>\n      <td>4,61</td>\n      <td>0,101</td>\n      <td>0,6</td>\n      <td>0,298</td>\n    </tr>\n    <tr>\n      <th>3</th>\n      <td>American Samoa</td>\n      <td>OCEANIA</td>\n      <td>57794</td>\n      <td>199</td>\n      <td>290,4</td>\n      <td>58,29</td>\n      <td>-20,71</td>\n      <td>9,27</td>\n      <td>8000.0</td>\n      <td>97,0</td>\n      <td>259,5</td>\n      <td>10</td>\n      <td>15</td>\n      <td>75</td>\n      <td>2</td>\n      <td>22,46</td>\n      <td>3,27</td>\n      <td>NaN</td>\n      <td>NaN</td>\n      <td>NaN</td>\n    </tr>\n    <tr>\n      <th>4</th>\n      <td>Andorra</td>\n      <td>WESTERN EUROPE</td>\n      <td>71201</td>\n      <td>468</td>\n      <td>152,1</td>\n      <td>0,00</td>\n      <td>6,6</td>\n      <td>4,05</td>\n      <td>19000.0</td>\n      <td>100,0</td>\n      <td>497,2</td>\n      <td>2,22</td>\n      <td>0</td>\n      <td>97,78</td>\n      <td>3</td>\n      <td>8,71</td>\n      <td>6,25</td>\n      <td>NaN</td>\n      <td>NaN</td>\n      <td>NaN</td>\n    </tr>\n  </tbody>\n</table>\n</div>"
     },
     "execution_count": 14,
     "metadata": {},
     "output_type": "execute_result"
    }
   ],
   "source": [
    "df.head()"
   ],
   "metadata": {
    "collapsed": false,
    "pycharm": {
     "name": "#%%\n"
    }
   }
  },
  {
   "cell_type": "code",
   "execution_count": 11,
   "outputs": [
    {
     "data": {
      "text/plain": "(227, 20)"
     },
     "execution_count": 11,
     "metadata": {},
     "output_type": "execute_result"
    }
   ],
   "source": [
    "df.shape"
   ],
   "metadata": {
    "collapsed": false,
    "pycharm": {
     "name": "#%%\n"
    }
   }
  },
  {
   "cell_type": "code",
   "execution_count": 12,
   "outputs": [
    {
     "name": "stdout",
     "output_type": "stream",
     "text": [
      "<class 'pandas.core.frame.DataFrame'>\n",
      "RangeIndex: 227 entries, 0 to 226\n",
      "Data columns (total 20 columns):\n",
      " #   Column                              Non-Null Count  Dtype  \n",
      "---  ------                              --------------  -----  \n",
      " 0   Country                             227 non-null    object \n",
      " 1   Region                              227 non-null    object \n",
      " 2   Population                          227 non-null    int64  \n",
      " 3   Area (sq. mi.)                      227 non-null    int64  \n",
      " 4   Pop. Density (per sq. mi.)          227 non-null    object \n",
      " 5   Coastline (coast/area ratio)        227 non-null    object \n",
      " 6   Net migration                       224 non-null    object \n",
      " 7   Infant mortality (per 1000 births)  224 non-null    object \n",
      " 8   GDP ($ per capita)                  226 non-null    float64\n",
      " 9   Literacy (%)                        209 non-null    object \n",
      " 10  Phones (per 1000)                   223 non-null    object \n",
      " 11  Arable (%)                          225 non-null    object \n",
      " 12  Crops (%)                           225 non-null    object \n",
      " 13  Other (%)                           225 non-null    object \n",
      " 14  Climate                             205 non-null    object \n",
      " 15  Birthrate                           224 non-null    object \n",
      " 16  Deathrate                           223 non-null    object \n",
      " 17  Agriculture                         212 non-null    object \n",
      " 18  Industry                            211 non-null    object \n",
      " 19  Service                             212 non-null    object \n",
      "dtypes: float64(1), int64(2), object(17)\n",
      "memory usage: 35.6+ KB\n"
     ]
    }
   ],
   "source": [
    "df.info()"
   ],
   "metadata": {
    "collapsed": false,
    "pycharm": {
     "name": "#%%\n"
    }
   }
  },
  {
   "cell_type": "code",
   "execution_count": 15,
   "outputs": [],
   "source": [
    "#prueben df.describe()\n",
    "#df.dtypes"
   ],
   "metadata": {
    "collapsed": false,
    "pycharm": {
     "name": "#%%\n"
    }
   }
  },
  {
   "cell_type": "code",
   "execution_count": 17,
   "outputs": [
    {
     "data": {
      "text/plain": "Country                                0\nRegion                                 0\nPopulation                             0\nArea (sq. mi.)                         0\nPop. Density (per sq. mi.)             0\nCoastline (coast/area ratio)           0\nNet migration                          3\nInfant mortality (per 1000 births)     3\nGDP ($ per capita)                     1\nLiteracy (%)                          18\nPhones (per 1000)                      4\nArable (%)                             2\nCrops (%)                              2\nOther (%)                              2\nClimate                               22\nBirthrate                              3\nDeathrate                              4\nAgriculture                           15\nIndustry                              16\nService                               15\ndtype: int64"
     },
     "execution_count": 17,
     "metadata": {},
     "output_type": "execute_result"
    }
   ],
   "source": [
    "df.isnull().sum()"
   ],
   "metadata": {
    "collapsed": false,
    "pycharm": {
     "name": "#%%\n"
    }
   }
  },
  {
   "cell_type": "markdown",
   "source": [
    "Reading Column"
   ],
   "metadata": {
    "collapsed": false,
    "pycharm": {
     "name": "#%% md\n"
    }
   }
  },
  {
   "cell_type": "code",
   "execution_count": 18,
   "outputs": [
    {
     "data": {
      "text/plain": "0         Afghanistan \n1             Albania \n2             Algeria \n3      American Samoa \n4             Andorra \n            ...       \n222         West Bank \n223    Western Sahara \n224             Yemen \n225            Zambia \n226          Zimbabwe \nName: Country, Length: 227, dtype: object"
     },
     "execution_count": 18,
     "metadata": {},
     "output_type": "execute_result"
    }
   ],
   "source": [
    "df[\"Country\"]"
   ],
   "metadata": {
    "collapsed": false,
    "pycharm": {
     "name": "#%%\n"
    }
   }
  },
  {
   "cell_type": "code",
   "execution_count": 19,
   "outputs": [
    {
     "data": {
      "text/plain": "pandas.core.series.Series"
     },
     "execution_count": 19,
     "metadata": {},
     "output_type": "execute_result"
    }
   ],
   "source": [
    "type(df[\"Country\"])"
   ],
   "metadata": {
    "collapsed": false,
    "pycharm": {
     "name": "#%%\n"
    }
   }
  },
  {
   "cell_type": "code",
   "execution_count": 20,
   "outputs": [
    {
     "data": {
      "text/plain": "pandas.core.frame.DataFrame"
     },
     "execution_count": 20,
     "metadata": {},
     "output_type": "execute_result"
    }
   ],
   "source": [
    "type(df[[\"Country\",\"Region\"]])"
   ],
   "metadata": {
    "collapsed": false,
    "pycharm": {
     "name": "#%%\n"
    }
   }
  },
  {
   "cell_type": "markdown",
   "source": [
    "Select rows y columns"
   ],
   "metadata": {
    "collapsed": false,
    "pycharm": {
     "name": "#%% md\n"
    }
   }
  },
  {
   "cell_type": "code",
   "execution_count": 21,
   "outputs": [
    {
     "data": {
      "text/plain": "           Country                               Region\n0     Afghanistan         ASIA (EX. NEAR EAST)         \n1         Albania   EASTERN EUROPE                     \n2         Algeria   NORTHERN AFRICA                    \n3  American Samoa   OCEANIA                            \n4         Andorra   WESTERN EUROPE                     \n5          Angola   SUB-SAHARAN AFRICA                 ",
      "text/html": "<div>\n<style scoped>\n    .dataframe tbody tr th:only-of-type {\n        vertical-align: middle;\n    }\n\n    .dataframe tbody tr th {\n        vertical-align: top;\n    }\n\n    .dataframe thead th {\n        text-align: right;\n    }\n</style>\n<table border=\"1\" class=\"dataframe\">\n  <thead>\n    <tr style=\"text-align: right;\">\n      <th></th>\n      <th>Country</th>\n      <th>Region</th>\n    </tr>\n  </thead>\n  <tbody>\n    <tr>\n      <th>0</th>\n      <td>Afghanistan</td>\n      <td>ASIA (EX. NEAR EAST)</td>\n    </tr>\n    <tr>\n      <th>1</th>\n      <td>Albania</td>\n      <td>EASTERN EUROPE</td>\n    </tr>\n    <tr>\n      <th>2</th>\n      <td>Algeria</td>\n      <td>NORTHERN AFRICA</td>\n    </tr>\n    <tr>\n      <th>3</th>\n      <td>American Samoa</td>\n      <td>OCEANIA</td>\n    </tr>\n    <tr>\n      <th>4</th>\n      <td>Andorra</td>\n      <td>WESTERN EUROPE</td>\n    </tr>\n    <tr>\n      <th>5</th>\n      <td>Angola</td>\n      <td>SUB-SAHARAN AFRICA</td>\n    </tr>\n  </tbody>\n</table>\n</div>"
     },
     "execution_count": 21,
     "metadata": {},
     "output_type": "execute_result"
    }
   ],
   "source": [
    "df.loc[0:5,[\"Country\",\"Region\"]]"
   ],
   "metadata": {
    "collapsed": false,
    "pycharm": {
     "name": "#%%\n"
    }
   }
  },
  {
   "cell_type": "code",
   "execution_count": 22,
   "outputs": [
    {
     "data": {
      "text/plain": "0      False\n1      False\n2      False\n3      False\n4      False\n       ...  \n222    False\n223    False\n224    False\n225    False\n226    False\nName: Population, Length: 227, dtype: bool"
     },
     "execution_count": 22,
     "metadata": {},
     "output_type": "execute_result"
    }
   ],
   "source": [
    "df[\"Population\"]>1_000_000_000"
   ],
   "metadata": {
    "collapsed": false,
    "pycharm": {
     "name": "#%%\n"
    }
   }
  },
  {
   "cell_type": "code",
   "execution_count": 23,
   "outputs": [],
   "source": [
    "filter = df[\"Population\"]>1_000_000_000"
   ],
   "metadata": {
    "collapsed": false,
    "pycharm": {
     "name": "#%%\n"
    }
   }
  },
  {
   "cell_type": "code",
   "execution_count": 24,
   "outputs": [
    {
     "data": {
      "text/plain": "   Country                         Region  Population  Area (sq. mi.)  \\\n42  China   ASIA (EX. NEAR EAST)           1313973713         9596960   \n94  India   ASIA (EX. NEAR EAST)           1095351995         3287590   \n\n   Pop. Density (per sq. mi.) Coastline (coast/area ratio) Net migration  \\\n42                      136,9                         0,15          -0,4   \n94                      333,2                         0,21         -0,07   \n\n   Infant mortality (per 1000 births)  GDP ($ per capita) Literacy (%)  \\\n42                              24,18              5000.0         90,9   \n94                              56,29              2900.0         59,5   \n\n   Phones (per 1000) Arable (%) Crops (%) Other (%) Climate Birthrate  \\\n42             266,7       15,4      1,25     83,35     1,5     13,25   \n94              45,4       54,4      2,74     42,86     2,5     22,01   \n\n   Deathrate Agriculture Industry Service  \n42      6,97       0,125    0,473   0,403  \n94      8,18       0,186    0,276   0,538  ",
      "text/html": "<div>\n<style scoped>\n    .dataframe tbody tr th:only-of-type {\n        vertical-align: middle;\n    }\n\n    .dataframe tbody tr th {\n        vertical-align: top;\n    }\n\n    .dataframe thead th {\n        text-align: right;\n    }\n</style>\n<table border=\"1\" class=\"dataframe\">\n  <thead>\n    <tr style=\"text-align: right;\">\n      <th></th>\n      <th>Country</th>\n      <th>Region</th>\n      <th>Population</th>\n      <th>Area (sq. mi.)</th>\n      <th>Pop. Density (per sq. mi.)</th>\n      <th>Coastline (coast/area ratio)</th>\n      <th>Net migration</th>\n      <th>Infant mortality (per 1000 births)</th>\n      <th>GDP ($ per capita)</th>\n      <th>Literacy (%)</th>\n      <th>Phones (per 1000)</th>\n      <th>Arable (%)</th>\n      <th>Crops (%)</th>\n      <th>Other (%)</th>\n      <th>Climate</th>\n      <th>Birthrate</th>\n      <th>Deathrate</th>\n      <th>Agriculture</th>\n      <th>Industry</th>\n      <th>Service</th>\n    </tr>\n  </thead>\n  <tbody>\n    <tr>\n      <th>42</th>\n      <td>China</td>\n      <td>ASIA (EX. NEAR EAST)</td>\n      <td>1313973713</td>\n      <td>9596960</td>\n      <td>136,9</td>\n      <td>0,15</td>\n      <td>-0,4</td>\n      <td>24,18</td>\n      <td>5000.0</td>\n      <td>90,9</td>\n      <td>266,7</td>\n      <td>15,4</td>\n      <td>1,25</td>\n      <td>83,35</td>\n      <td>1,5</td>\n      <td>13,25</td>\n      <td>6,97</td>\n      <td>0,125</td>\n      <td>0,473</td>\n      <td>0,403</td>\n    </tr>\n    <tr>\n      <th>94</th>\n      <td>India</td>\n      <td>ASIA (EX. NEAR EAST)</td>\n      <td>1095351995</td>\n      <td>3287590</td>\n      <td>333,2</td>\n      <td>0,21</td>\n      <td>-0,07</td>\n      <td>56,29</td>\n      <td>2900.0</td>\n      <td>59,5</td>\n      <td>45,4</td>\n      <td>54,4</td>\n      <td>2,74</td>\n      <td>42,86</td>\n      <td>2,5</td>\n      <td>22,01</td>\n      <td>8,18</td>\n      <td>0,186</td>\n      <td>0,276</td>\n      <td>0,538</td>\n    </tr>\n  </tbody>\n</table>\n</div>"
     },
     "execution_count": 24,
     "metadata": {},
     "output_type": "execute_result"
    }
   ],
   "source": [
    "df[filter]"
   ],
   "metadata": {
    "collapsed": false,
    "pycharm": {
     "name": "#%%\n"
    }
   }
  },
  {
   "cell_type": "code",
   "execution_count": 26,
   "outputs": [
    {
     "data": {
      "text/plain": "                               Country                               Region  \\\n6                            Anguilla               LATIN AMER. & CARIB       \n7                   Antigua & Barbuda               LATIN AMER. & CARIB       \n8                           Argentina               LATIN AMER. & CARIB       \n10                              Aruba               LATIN AMER. & CARIB       \n14                       Bahamas, The               LATIN AMER. & CARIB       \n17                           Barbados               LATIN AMER. & CARIB       \n20                             Belize               LATIN AMER. & CARIB       \n22                            Bermuda   NORTHERN AMERICA                      \n24                            Bolivia               LATIN AMER. & CARIB       \n27                             Brazil               LATIN AMER. & CARIB       \n28                 British Virgin Is.               LATIN AMER. & CARIB       \n36                             Canada   NORTHERN AMERICA                      \n38                     Cayman Islands               LATIN AMER. & CARIB       \n41                              Chile               LATIN AMER. & CARIB       \n43                           Colombia               LATIN AMER. & CARIB       \n48                         Costa Rica               LATIN AMER. & CARIB       \n51                               Cuba               LATIN AMER. & CARIB       \n56                           Dominica               LATIN AMER. & CARIB       \n57                 Dominican Republic               LATIN AMER. & CARIB       \n59                            Ecuador               LATIN AMER. & CARIB       \n61                        El Salvador               LATIN AMER. & CARIB       \n70                      French Guiana               LATIN AMER. & CARIB       \n80                          Greenland   NORTHERN AMERICA                      \n81                            Grenada               LATIN AMER. & CARIB       \n82                         Guadeloupe               LATIN AMER. & CARIB       \n84                          Guatemala               LATIN AMER. & CARIB       \n88                             Guyana               LATIN AMER. & CARIB       \n89                              Haiti               LATIN AMER. & CARIB       \n90                           Honduras               LATIN AMER. & CARIB       \n102                           Jamaica               LATIN AMER. & CARIB       \n131                        Martinique               LATIN AMER. & CARIB       \n135                            Mexico               LATIN AMER. & CARIB       \n140                        Montserrat               LATIN AMER. & CARIB       \n147              Netherlands Antilles               LATIN AMER. & CARIB       \n150                         Nicaragua               LATIN AMER. & CARIB       \n158                            Panama               LATIN AMER. & CARIB       \n160                          Paraguay               LATIN AMER. & CARIB       \n161                              Peru               LATIN AMER. & CARIB       \n165                       Puerto Rico               LATIN AMER. & CARIB       \n172               Saint Kitts & Nevis               LATIN AMER. & CARIB       \n173                       Saint Lucia               LATIN AMER. & CARIB       \n174              St Pierre & Miquelon   NORTHERN AMERICA                      \n175  Saint Vincent and the Grenadines               LATIN AMER. & CARIB       \n193                          Suriname               LATIN AMER. & CARIB       \n204                 Trinidad & Tobago               LATIN AMER. & CARIB       \n208                 Turks & Caicos Is               LATIN AMER. & CARIB       \n214                     United States   NORTHERN AMERICA                      \n215                           Uruguay               LATIN AMER. & CARIB       \n218                         Venezuela               LATIN AMER. & CARIB       \n220                    Virgin Islands               LATIN AMER. & CARIB       \n\n     Population  Area (sq. mi.) Pop. Density (per sq. mi.)  \\\n6         13477             102                      132,1   \n7         69108             443                      156,0   \n8      39921833         2766890                       14,4   \n10        71891             193                      372,5   \n14       303770           13940                       21,8   \n17       279912             431                      649,5   \n20       287730           22966                       12,5   \n22        65773              53                     1241,0   \n24      8989046         1098580                        8,2   \n27    188078227         8511965                       22,1   \n28        23098             153                      151,0   \n36     33098932         9984670                        3,3   \n38        45436             262                      173,4   \n41     16134219          756950                       21,3   \n43     43593035         1138910                       38,3   \n48      4075261           51100                       79,8   \n51     11382820          110860                      102,7   \n56        68910             754                       91,4   \n57      9183984           48730                      188,5   \n59     13547510          283560                       47,8   \n61      6822378           21040                      324,3   \n70       199509           91000                        2,2   \n80        56361         2166086                        0,0   \n81        89703             344                      260,8   \n82       452776            1780                      254,4   \n84     12293545          108890                      112,9   \n88       767245          214970                        3,6   \n89      8308504           27750                      299,4   \n90      7326496          112090                       65,4   \n102     2758124           10991                      250,9   \n131      436131            1100                      396,5   \n135   107449525         1972550                       54,5   \n140        9439             102                       92,5   \n147      221736             960                      231,0   \n150     5570129          129494                       43,0   \n158     3191319           78200                       40,8   \n160     6506464          406750                       16,0   \n161    28302603         1285220                       22,0   \n165     3927188           13790                      284,8   \n172       39129             261                      149,9   \n173      168458             616                      273,5   \n174        7026             242                       29,0   \n175      117848             389                      303,0   \n193      439117          163270                        2,7   \n204     1065842            5128                      207,9   \n208       21152             430                       49,2   \n214   298444215         9631420                       31,0   \n215     3431932          176220                       19,5   \n218    25730435          912050                       28,2   \n220      108605            1910                       56,9   \n\n    Coastline (coast/area ratio) Net migration  \\\n6                          59,80         10,76   \n7                          34,54         -6,15   \n8                           0,18          0,61   \n10                         35,49             0   \n14                         25,41          -2,2   \n17                         22,51         -0,31   \n20                          1,68             0   \n22                        194,34          2,49   \n24                          0,00         -1,32   \n27                          0,09         -0,03   \n28                         52,29         10,01   \n36                          2,02          5,96   \n38                         61,07         18,75   \n41                          0,85             0   \n43                          0,28         -0,31   \n48                          2,52          0,51   \n51                          3,37         -1,58   \n56                         19,63        -13,87   \n57                          2,64         -3,22   \n59                          0,79         -8,58   \n61                          1,46         -3,74   \n70                          0,42          6,27   \n80                          2,04         -8,37   \n81                         35,17        -13,92   \n82                         17,19         -0,15   \n84                          0,37         -1,67   \n88                          0,21         -2,07   \n89                          6,38          -3,4   \n90                          0,73         -1,99   \n102                         9,30         -4,92   \n131                        31,82         -0,05   \n135                         0,47         -4,87   \n140                        39,22             0   \n147                        37,92         -0,41   \n150                         0,70         -1,22   \n158                         3,18         -0,91   \n160                         0,00         -0,08   \n161                         0,19         -1,05   \n165                         3,63         -1,46   \n172                        51,72         -7,11   \n173                        25,65         -2,67   \n174                        49,59         -4,86   \n175                        21,59         -7,64   \n193                         0,24         -8,81   \n204                         7,06        -10,83   \n208                        90,47         11,68   \n214                         0,21          3,41   \n215                         0,37         -0,32   \n218                         0,31         -0,04   \n220                         9,84         -8,94   \n\n    Infant mortality (per 1000 births)  GDP ($ per capita) Literacy (%)  \\\n6                                21,03              8600.0         95,0   \n7                                19,46             11000.0         89,0   \n8                                15,18             11200.0         97,1   \n10                                5,89             28000.0         97,0   \n14                               25,21             16700.0         95,6   \n17                                12,5             15700.0         97,4   \n20                               25,69              4900.0         94,1   \n22                                8,53             36000.0         98,0   \n24                               53,11              2400.0         87,2   \n27                               29,61              7600.0         86,4   \n28                               18,05             16000.0         97,8   \n36                                4,75             29800.0         97,0   \n38                                8,19             35000.0         98,0   \n41                                 8,8              9900.0         96,2   \n43                               20,97              6300.0         92,5   \n48                                9,95              9100.0         96,0   \n51                                6,33              2900.0         97,0   \n56                               14,15              5400.0         94,0   \n57                               32,38              6000.0         84,7   \n59                               23,66              3300.0         92,5   \n61                                25,1              4800.0         80,2   \n70                               12,07              8300.0         83,0   \n80                               15,82             20000.0          NaN   \n81                               14,62              5000.0         98,0   \n82                                 8,6              8000.0         90,0   \n84                               35,93              4100.0         70,6   \n88                               33,26              4000.0         98,8   \n89                               73,45              1600.0         52,9   \n90                               29,32              2600.0         76,2   \n102                              12,36              3900.0         87,9   \n131                               7,09             14400.0         97,7   \n135                              20,91              9000.0         92,2   \n140                               7,35              3400.0         97,0   \n147                              10,03             11400.0         96,7   \n150                              29,11              2300.0         67,5   \n158                              20,47              6300.0         92,6   \n160                              25,63              4700.0         94,0   \n161                              31,94              5100.0         90,9   \n165                               8,24             16800.0         94,1   \n172                              14,49              8800.0         97,0   \n173                              13,53              5400.0         67,0   \n174                               7,54              6900.0         99,0   \n175                              14,78              2900.0         96,0   \n193                              23,57              4000.0         93,0   \n204                              24,31              9500.0         98,6   \n208                              15,67              9600.0         98,0   \n214                                6,5             37800.0         97,0   \n215                              11,95             12800.0         98,0   \n218                               22,2              4800.0         93,4   \n220                               8,03             17200.0          NaN   \n\n    Phones (per 1000) Arable (%) Crops (%) Other (%) Climate Birthrate  \\\n6               460,0          0         0       100       2     14,17   \n7               549,9      18,18      4,55     77,27       2     16,93   \n8               220,4      12,31      0,48     87,21       3     16,73   \n10              516,1      10,53         0     89,47       2     11,03   \n14              460,6        0,8       0,4      98,8       2     17,57   \n17              481,9      37,21      2,33     60,46       2     12,71   \n20              115,7       2,85      1,71     95,44       2     28,84   \n22              851,4         20         0        80       2      11,4   \n24               71,9       2,67      0,19     97,14     1,5      23,3   \n27              225,3       6,96       0,9     92,15       2     16,56   \n28              506,5         20      6,67     73,33       2     14,89   \n36              552,2       4,96      0,02     95,02     NaN     10,78   \n38              836,3       3,85         0     96,15       2     12,74   \n41              213,0       2,65      0,42     96,93       3     15,23   \n43              176,2       2,42      1,67     95,91       2     20,48   \n48              340,7       4,41      5,88     89,71       2     18,32   \n51               74,7      33,05       7,6     59,35       2     11,89   \n56              304,8       6,67        20     73,33       2     15,27   \n57               97,4      22,65     10,33     67,02       2     23,22   \n59              125,6       5,85      4,93     89,22       2     22,29   \n61              142,4      31,85     12,07     56,08       2     26,61   \n70              255,6       0,14      0,05     99,81       2     20,46   \n80              448,9          0         0       100       1     15,93   \n81              364,5       5,88     29,41     64,71       2     22,08   \n82              463,8      11,24      3,55     85,21       2     15,05   \n84               92,1      12,54      5,03     82,43       2     29,88   \n88              143,5       2,44      0,15     97,41       2     18,28   \n89               16,9       28,3     11,61     60,09       2     36,44   \n90               67,5       9,55      3,22     87,23       2     28,24   \n102             124,0      16,07     10,16     73,77       2     20,82   \n131             394,4      10,38      9,43     80,19       2     13,74   \n135             181,6      12,99      1,31      85,7     1,5     20,69   \n140               NaN         20         0        80       2     17,59   \n147             365,3         10         0        90       2     14,78   \n150              39,7      15,94      1,94     82,12       2     24,51   \n158             137,9       7,36      1,98     90,66       2     21,74   \n160              49,2        7,6      0,23     92,17       2      29,1   \n161              79,5       2,89       0,4     96,71     1,5     20,48   \n165             283,1       3,95      5,52     90,53       2     12,77   \n172             638,9      19,44      2,78     77,78       2     18,02   \n173             303,3       6,56     22,95     70,49       2     19,68   \n174             683,2      13,04         0     86,96     NaN     13,52   \n175             190,9      17,95     17,95      64,1       2     16,18   \n193             184,7       0,37      0,06     99,57       2     18,02   \n204             303,5      14,62      9,16     76,22       2      12,9   \n208             269,5       2,33         0     97,67       2     21,84   \n214             898,0      19,13      0,22     80,65       3     14,14   \n215             291,4       7,43      0,23     92,34       3     13,91   \n218             140,1       2,95      0,92     96,13       2     18,71   \n220             652,8      11,76      2,94      85,3       2     13,96   \n\n    Deathrate Agriculture Industry Service  \n6        5,34        0,04     0,18    0,78  \n7        5,37       0,038     0,22   0,743  \n8        7,55       0,095    0,358   0,547  \n10       6,68       0,004    0,333   0,663  \n14       9,05        0,03     0,07     0,9  \n17       8,67        0,06     0,16    0,78  \n20       5,72       0,142    0,152   0,612  \n22       7,74        0,01      0,1    0,89  \n24       7,53       0,128    0,352    0,52  \n27       6,17       0,084      0,4   0,516  \n28       4,42       0,018    0,062    0,92  \n36        7,8       0,022    0,294   0,684  \n38       4,89       0,014    0,032   0,954  \n41       5,81        0,06    0,493   0,447  \n43       5,58       0,125    0,342   0,533  \n48       4,36       0,088    0,299   0,614  \n51       7,22       0,055    0,261   0,684  \n56       6,73       0,177    0,328   0,495  \n57       5,73       0,112    0,306   0,582  \n59       4,23        0,07    0,312   0,618  \n61       5,78       0,099    0,302   0,599  \n70       4,88       0,066    0,156   0,778  \n80       7,84         NaN      NaN     NaN  \n81       6,88       0,054     0,18   0,766  \n82       6,09        0,15     0,17    0,68  \n84        5,2       0,227    0,188   0,585  \n88       8,28        0,37    0,203   0,427  \n89      12,17        0,28      0,2    0,52  \n90       5,28       0,139    0,312   0,549  \n102      6,52       0,049    0,337   0,615  \n131      6,48        0,06     0,11    0,83  \n135      4,74       0,038    0,259   0,702  \n140       7,1         NaN      NaN     NaN  \n147      6,45        0,01     0,15    0,84  \n150      4,45       0,165    0,275    0,56  \n158      5,36       0,068    0,156   0,776  \n160      4,49       0,224    0,207   0,569  \n161      6,23        0,08     0,27    0,65  \n165      7,65        0,01     0,45    0,54  \n172      8,33       0,035    0,258   0,707  \n173      5,08        0,07      0,2    0,73  \n174      6,83         NaN      NaN     NaN  \n175      5,98         0,1     0,26    0,64  \n193      7,27        0,13     0,22    0,65  \n204     10,57       0,007     0,57   0,423  \n208      4,21         NaN      NaN     NaN  \n214      8,26        0,01    0,204   0,787  \n215      9,05       0,093    0,311   0,596  \n218      4,92        0,04    0,419   0,541  \n220      6,43        0,01     0,19     0,8  ",
      "text/html": "<div>\n<style scoped>\n    .dataframe tbody tr th:only-of-type {\n        vertical-align: middle;\n    }\n\n    .dataframe tbody tr th {\n        vertical-align: top;\n    }\n\n    .dataframe thead th {\n        text-align: right;\n    }\n</style>\n<table border=\"1\" class=\"dataframe\">\n  <thead>\n    <tr style=\"text-align: right;\">\n      <th></th>\n      <th>Country</th>\n      <th>Region</th>\n      <th>Population</th>\n      <th>Area (sq. mi.)</th>\n      <th>Pop. Density (per sq. mi.)</th>\n      <th>Coastline (coast/area ratio)</th>\n      <th>Net migration</th>\n      <th>Infant mortality (per 1000 births)</th>\n      <th>GDP ($ per capita)</th>\n      <th>Literacy (%)</th>\n      <th>Phones (per 1000)</th>\n      <th>Arable (%)</th>\n      <th>Crops (%)</th>\n      <th>Other (%)</th>\n      <th>Climate</th>\n      <th>Birthrate</th>\n      <th>Deathrate</th>\n      <th>Agriculture</th>\n      <th>Industry</th>\n      <th>Service</th>\n    </tr>\n  </thead>\n  <tbody>\n    <tr>\n      <th>6</th>\n      <td>Anguilla</td>\n      <td>LATIN AMER. &amp; CARIB</td>\n      <td>13477</td>\n      <td>102</td>\n      <td>132,1</td>\n      <td>59,80</td>\n      <td>10,76</td>\n      <td>21,03</td>\n      <td>8600.0</td>\n      <td>95,0</td>\n      <td>460,0</td>\n      <td>0</td>\n      <td>0</td>\n      <td>100</td>\n      <td>2</td>\n      <td>14,17</td>\n      <td>5,34</td>\n      <td>0,04</td>\n      <td>0,18</td>\n      <td>0,78</td>\n    </tr>\n    <tr>\n      <th>7</th>\n      <td>Antigua &amp; Barbuda</td>\n      <td>LATIN AMER. &amp; CARIB</td>\n      <td>69108</td>\n      <td>443</td>\n      <td>156,0</td>\n      <td>34,54</td>\n      <td>-6,15</td>\n      <td>19,46</td>\n      <td>11000.0</td>\n      <td>89,0</td>\n      <td>549,9</td>\n      <td>18,18</td>\n      <td>4,55</td>\n      <td>77,27</td>\n      <td>2</td>\n      <td>16,93</td>\n      <td>5,37</td>\n      <td>0,038</td>\n      <td>0,22</td>\n      <td>0,743</td>\n    </tr>\n    <tr>\n      <th>8</th>\n      <td>Argentina</td>\n      <td>LATIN AMER. &amp; CARIB</td>\n      <td>39921833</td>\n      <td>2766890</td>\n      <td>14,4</td>\n      <td>0,18</td>\n      <td>0,61</td>\n      <td>15,18</td>\n      <td>11200.0</td>\n      <td>97,1</td>\n      <td>220,4</td>\n      <td>12,31</td>\n      <td>0,48</td>\n      <td>87,21</td>\n      <td>3</td>\n      <td>16,73</td>\n      <td>7,55</td>\n      <td>0,095</td>\n      <td>0,358</td>\n      <td>0,547</td>\n    </tr>\n    <tr>\n      <th>10</th>\n      <td>Aruba</td>\n      <td>LATIN AMER. &amp; CARIB</td>\n      <td>71891</td>\n      <td>193</td>\n      <td>372,5</td>\n      <td>35,49</td>\n      <td>0</td>\n      <td>5,89</td>\n      <td>28000.0</td>\n      <td>97,0</td>\n      <td>516,1</td>\n      <td>10,53</td>\n      <td>0</td>\n      <td>89,47</td>\n      <td>2</td>\n      <td>11,03</td>\n      <td>6,68</td>\n      <td>0,004</td>\n      <td>0,333</td>\n      <td>0,663</td>\n    </tr>\n    <tr>\n      <th>14</th>\n      <td>Bahamas, The</td>\n      <td>LATIN AMER. &amp; CARIB</td>\n      <td>303770</td>\n      <td>13940</td>\n      <td>21,8</td>\n      <td>25,41</td>\n      <td>-2,2</td>\n      <td>25,21</td>\n      <td>16700.0</td>\n      <td>95,6</td>\n      <td>460,6</td>\n      <td>0,8</td>\n      <td>0,4</td>\n      <td>98,8</td>\n      <td>2</td>\n      <td>17,57</td>\n      <td>9,05</td>\n      <td>0,03</td>\n      <td>0,07</td>\n      <td>0,9</td>\n    </tr>\n    <tr>\n      <th>17</th>\n      <td>Barbados</td>\n      <td>LATIN AMER. &amp; CARIB</td>\n      <td>279912</td>\n      <td>431</td>\n      <td>649,5</td>\n      <td>22,51</td>\n      <td>-0,31</td>\n      <td>12,5</td>\n      <td>15700.0</td>\n      <td>97,4</td>\n      <td>481,9</td>\n      <td>37,21</td>\n      <td>2,33</td>\n      <td>60,46</td>\n      <td>2</td>\n      <td>12,71</td>\n      <td>8,67</td>\n      <td>0,06</td>\n      <td>0,16</td>\n      <td>0,78</td>\n    </tr>\n    <tr>\n      <th>20</th>\n      <td>Belize</td>\n      <td>LATIN AMER. &amp; CARIB</td>\n      <td>287730</td>\n      <td>22966</td>\n      <td>12,5</td>\n      <td>1,68</td>\n      <td>0</td>\n      <td>25,69</td>\n      <td>4900.0</td>\n      <td>94,1</td>\n      <td>115,7</td>\n      <td>2,85</td>\n      <td>1,71</td>\n      <td>95,44</td>\n      <td>2</td>\n      <td>28,84</td>\n      <td>5,72</td>\n      <td>0,142</td>\n      <td>0,152</td>\n      <td>0,612</td>\n    </tr>\n    <tr>\n      <th>22</th>\n      <td>Bermuda</td>\n      <td>NORTHERN AMERICA</td>\n      <td>65773</td>\n      <td>53</td>\n      <td>1241,0</td>\n      <td>194,34</td>\n      <td>2,49</td>\n      <td>8,53</td>\n      <td>36000.0</td>\n      <td>98,0</td>\n      <td>851,4</td>\n      <td>20</td>\n      <td>0</td>\n      <td>80</td>\n      <td>2</td>\n      <td>11,4</td>\n      <td>7,74</td>\n      <td>0,01</td>\n      <td>0,1</td>\n      <td>0,89</td>\n    </tr>\n    <tr>\n      <th>24</th>\n      <td>Bolivia</td>\n      <td>LATIN AMER. &amp; CARIB</td>\n      <td>8989046</td>\n      <td>1098580</td>\n      <td>8,2</td>\n      <td>0,00</td>\n      <td>-1,32</td>\n      <td>53,11</td>\n      <td>2400.0</td>\n      <td>87,2</td>\n      <td>71,9</td>\n      <td>2,67</td>\n      <td>0,19</td>\n      <td>97,14</td>\n      <td>1,5</td>\n      <td>23,3</td>\n      <td>7,53</td>\n      <td>0,128</td>\n      <td>0,352</td>\n      <td>0,52</td>\n    </tr>\n    <tr>\n      <th>27</th>\n      <td>Brazil</td>\n      <td>LATIN AMER. &amp; CARIB</td>\n      <td>188078227</td>\n      <td>8511965</td>\n      <td>22,1</td>\n      <td>0,09</td>\n      <td>-0,03</td>\n      <td>29,61</td>\n      <td>7600.0</td>\n      <td>86,4</td>\n      <td>225,3</td>\n      <td>6,96</td>\n      <td>0,9</td>\n      <td>92,15</td>\n      <td>2</td>\n      <td>16,56</td>\n      <td>6,17</td>\n      <td>0,084</td>\n      <td>0,4</td>\n      <td>0,516</td>\n    </tr>\n    <tr>\n      <th>28</th>\n      <td>British Virgin Is.</td>\n      <td>LATIN AMER. &amp; CARIB</td>\n      <td>23098</td>\n      <td>153</td>\n      <td>151,0</td>\n      <td>52,29</td>\n      <td>10,01</td>\n      <td>18,05</td>\n      <td>16000.0</td>\n      <td>97,8</td>\n      <td>506,5</td>\n      <td>20</td>\n      <td>6,67</td>\n      <td>73,33</td>\n      <td>2</td>\n      <td>14,89</td>\n      <td>4,42</td>\n      <td>0,018</td>\n      <td>0,062</td>\n      <td>0,92</td>\n    </tr>\n    <tr>\n      <th>36</th>\n      <td>Canada</td>\n      <td>NORTHERN AMERICA</td>\n      <td>33098932</td>\n      <td>9984670</td>\n      <td>3,3</td>\n      <td>2,02</td>\n      <td>5,96</td>\n      <td>4,75</td>\n      <td>29800.0</td>\n      <td>97,0</td>\n      <td>552,2</td>\n      <td>4,96</td>\n      <td>0,02</td>\n      <td>95,02</td>\n      <td>NaN</td>\n      <td>10,78</td>\n      <td>7,8</td>\n      <td>0,022</td>\n      <td>0,294</td>\n      <td>0,684</td>\n    </tr>\n    <tr>\n      <th>38</th>\n      <td>Cayman Islands</td>\n      <td>LATIN AMER. &amp; CARIB</td>\n      <td>45436</td>\n      <td>262</td>\n      <td>173,4</td>\n      <td>61,07</td>\n      <td>18,75</td>\n      <td>8,19</td>\n      <td>35000.0</td>\n      <td>98,0</td>\n      <td>836,3</td>\n      <td>3,85</td>\n      <td>0</td>\n      <td>96,15</td>\n      <td>2</td>\n      <td>12,74</td>\n      <td>4,89</td>\n      <td>0,014</td>\n      <td>0,032</td>\n      <td>0,954</td>\n    </tr>\n    <tr>\n      <th>41</th>\n      <td>Chile</td>\n      <td>LATIN AMER. &amp; CARIB</td>\n      <td>16134219</td>\n      <td>756950</td>\n      <td>21,3</td>\n      <td>0,85</td>\n      <td>0</td>\n      <td>8,8</td>\n      <td>9900.0</td>\n      <td>96,2</td>\n      <td>213,0</td>\n      <td>2,65</td>\n      <td>0,42</td>\n      <td>96,93</td>\n      <td>3</td>\n      <td>15,23</td>\n      <td>5,81</td>\n      <td>0,06</td>\n      <td>0,493</td>\n      <td>0,447</td>\n    </tr>\n    <tr>\n      <th>43</th>\n      <td>Colombia</td>\n      <td>LATIN AMER. &amp; CARIB</td>\n      <td>43593035</td>\n      <td>1138910</td>\n      <td>38,3</td>\n      <td>0,28</td>\n      <td>-0,31</td>\n      <td>20,97</td>\n      <td>6300.0</td>\n      <td>92,5</td>\n      <td>176,2</td>\n      <td>2,42</td>\n      <td>1,67</td>\n      <td>95,91</td>\n      <td>2</td>\n      <td>20,48</td>\n      <td>5,58</td>\n      <td>0,125</td>\n      <td>0,342</td>\n      <td>0,533</td>\n    </tr>\n    <tr>\n      <th>48</th>\n      <td>Costa Rica</td>\n      <td>LATIN AMER. &amp; CARIB</td>\n      <td>4075261</td>\n      <td>51100</td>\n      <td>79,8</td>\n      <td>2,52</td>\n      <td>0,51</td>\n      <td>9,95</td>\n      <td>9100.0</td>\n      <td>96,0</td>\n      <td>340,7</td>\n      <td>4,41</td>\n      <td>5,88</td>\n      <td>89,71</td>\n      <td>2</td>\n      <td>18,32</td>\n      <td>4,36</td>\n      <td>0,088</td>\n      <td>0,299</td>\n      <td>0,614</td>\n    </tr>\n    <tr>\n      <th>51</th>\n      <td>Cuba</td>\n      <td>LATIN AMER. &amp; CARIB</td>\n      <td>11382820</td>\n      <td>110860</td>\n      <td>102,7</td>\n      <td>3,37</td>\n      <td>-1,58</td>\n      <td>6,33</td>\n      <td>2900.0</td>\n      <td>97,0</td>\n      <td>74,7</td>\n      <td>33,05</td>\n      <td>7,6</td>\n      <td>59,35</td>\n      <td>2</td>\n      <td>11,89</td>\n      <td>7,22</td>\n      <td>0,055</td>\n      <td>0,261</td>\n      <td>0,684</td>\n    </tr>\n    <tr>\n      <th>56</th>\n      <td>Dominica</td>\n      <td>LATIN AMER. &amp; CARIB</td>\n      <td>68910</td>\n      <td>754</td>\n      <td>91,4</td>\n      <td>19,63</td>\n      <td>-13,87</td>\n      <td>14,15</td>\n      <td>5400.0</td>\n      <td>94,0</td>\n      <td>304,8</td>\n      <td>6,67</td>\n      <td>20</td>\n      <td>73,33</td>\n      <td>2</td>\n      <td>15,27</td>\n      <td>6,73</td>\n      <td>0,177</td>\n      <td>0,328</td>\n      <td>0,495</td>\n    </tr>\n    <tr>\n      <th>57</th>\n      <td>Dominican Republic</td>\n      <td>LATIN AMER. &amp; CARIB</td>\n      <td>9183984</td>\n      <td>48730</td>\n      <td>188,5</td>\n      <td>2,64</td>\n      <td>-3,22</td>\n      <td>32,38</td>\n      <td>6000.0</td>\n      <td>84,7</td>\n      <td>97,4</td>\n      <td>22,65</td>\n      <td>10,33</td>\n      <td>67,02</td>\n      <td>2</td>\n      <td>23,22</td>\n      <td>5,73</td>\n      <td>0,112</td>\n      <td>0,306</td>\n      <td>0,582</td>\n    </tr>\n    <tr>\n      <th>59</th>\n      <td>Ecuador</td>\n      <td>LATIN AMER. &amp; CARIB</td>\n      <td>13547510</td>\n      <td>283560</td>\n      <td>47,8</td>\n      <td>0,79</td>\n      <td>-8,58</td>\n      <td>23,66</td>\n      <td>3300.0</td>\n      <td>92,5</td>\n      <td>125,6</td>\n      <td>5,85</td>\n      <td>4,93</td>\n      <td>89,22</td>\n      <td>2</td>\n      <td>22,29</td>\n      <td>4,23</td>\n      <td>0,07</td>\n      <td>0,312</td>\n      <td>0,618</td>\n    </tr>\n    <tr>\n      <th>61</th>\n      <td>El Salvador</td>\n      <td>LATIN AMER. &amp; CARIB</td>\n      <td>6822378</td>\n      <td>21040</td>\n      <td>324,3</td>\n      <td>1,46</td>\n      <td>-3,74</td>\n      <td>25,1</td>\n      <td>4800.0</td>\n      <td>80,2</td>\n      <td>142,4</td>\n      <td>31,85</td>\n      <td>12,07</td>\n      <td>56,08</td>\n      <td>2</td>\n      <td>26,61</td>\n      <td>5,78</td>\n      <td>0,099</td>\n      <td>0,302</td>\n      <td>0,599</td>\n    </tr>\n    <tr>\n      <th>70</th>\n      <td>French Guiana</td>\n      <td>LATIN AMER. &amp; CARIB</td>\n      <td>199509</td>\n      <td>91000</td>\n      <td>2,2</td>\n      <td>0,42</td>\n      <td>6,27</td>\n      <td>12,07</td>\n      <td>8300.0</td>\n      <td>83,0</td>\n      <td>255,6</td>\n      <td>0,14</td>\n      <td>0,05</td>\n      <td>99,81</td>\n      <td>2</td>\n      <td>20,46</td>\n      <td>4,88</td>\n      <td>0,066</td>\n      <td>0,156</td>\n      <td>0,778</td>\n    </tr>\n    <tr>\n      <th>80</th>\n      <td>Greenland</td>\n      <td>NORTHERN AMERICA</td>\n      <td>56361</td>\n      <td>2166086</td>\n      <td>0,0</td>\n      <td>2,04</td>\n      <td>-8,37</td>\n      <td>15,82</td>\n      <td>20000.0</td>\n      <td>NaN</td>\n      <td>448,9</td>\n      <td>0</td>\n      <td>0</td>\n      <td>100</td>\n      <td>1</td>\n      <td>15,93</td>\n      <td>7,84</td>\n      <td>NaN</td>\n      <td>NaN</td>\n      <td>NaN</td>\n    </tr>\n    <tr>\n      <th>81</th>\n      <td>Grenada</td>\n      <td>LATIN AMER. &amp; CARIB</td>\n      <td>89703</td>\n      <td>344</td>\n      <td>260,8</td>\n      <td>35,17</td>\n      <td>-13,92</td>\n      <td>14,62</td>\n      <td>5000.0</td>\n      <td>98,0</td>\n      <td>364,5</td>\n      <td>5,88</td>\n      <td>29,41</td>\n      <td>64,71</td>\n      <td>2</td>\n      <td>22,08</td>\n      <td>6,88</td>\n      <td>0,054</td>\n      <td>0,18</td>\n      <td>0,766</td>\n    </tr>\n    <tr>\n      <th>82</th>\n      <td>Guadeloupe</td>\n      <td>LATIN AMER. &amp; CARIB</td>\n      <td>452776</td>\n      <td>1780</td>\n      <td>254,4</td>\n      <td>17,19</td>\n      <td>-0,15</td>\n      <td>8,6</td>\n      <td>8000.0</td>\n      <td>90,0</td>\n      <td>463,8</td>\n      <td>11,24</td>\n      <td>3,55</td>\n      <td>85,21</td>\n      <td>2</td>\n      <td>15,05</td>\n      <td>6,09</td>\n      <td>0,15</td>\n      <td>0,17</td>\n      <td>0,68</td>\n    </tr>\n    <tr>\n      <th>84</th>\n      <td>Guatemala</td>\n      <td>LATIN AMER. &amp; CARIB</td>\n      <td>12293545</td>\n      <td>108890</td>\n      <td>112,9</td>\n      <td>0,37</td>\n      <td>-1,67</td>\n      <td>35,93</td>\n      <td>4100.0</td>\n      <td>70,6</td>\n      <td>92,1</td>\n      <td>12,54</td>\n      <td>5,03</td>\n      <td>82,43</td>\n      <td>2</td>\n      <td>29,88</td>\n      <td>5,2</td>\n      <td>0,227</td>\n      <td>0,188</td>\n      <td>0,585</td>\n    </tr>\n    <tr>\n      <th>88</th>\n      <td>Guyana</td>\n      <td>LATIN AMER. &amp; CARIB</td>\n      <td>767245</td>\n      <td>214970</td>\n      <td>3,6</td>\n      <td>0,21</td>\n      <td>-2,07</td>\n      <td>33,26</td>\n      <td>4000.0</td>\n      <td>98,8</td>\n      <td>143,5</td>\n      <td>2,44</td>\n      <td>0,15</td>\n      <td>97,41</td>\n      <td>2</td>\n      <td>18,28</td>\n      <td>8,28</td>\n      <td>0,37</td>\n      <td>0,203</td>\n      <td>0,427</td>\n    </tr>\n    <tr>\n      <th>89</th>\n      <td>Haiti</td>\n      <td>LATIN AMER. &amp; CARIB</td>\n      <td>8308504</td>\n      <td>27750</td>\n      <td>299,4</td>\n      <td>6,38</td>\n      <td>-3,4</td>\n      <td>73,45</td>\n      <td>1600.0</td>\n      <td>52,9</td>\n      <td>16,9</td>\n      <td>28,3</td>\n      <td>11,61</td>\n      <td>60,09</td>\n      <td>2</td>\n      <td>36,44</td>\n      <td>12,17</td>\n      <td>0,28</td>\n      <td>0,2</td>\n      <td>0,52</td>\n    </tr>\n    <tr>\n      <th>90</th>\n      <td>Honduras</td>\n      <td>LATIN AMER. &amp; CARIB</td>\n      <td>7326496</td>\n      <td>112090</td>\n      <td>65,4</td>\n      <td>0,73</td>\n      <td>-1,99</td>\n      <td>29,32</td>\n      <td>2600.0</td>\n      <td>76,2</td>\n      <td>67,5</td>\n      <td>9,55</td>\n      <td>3,22</td>\n      <td>87,23</td>\n      <td>2</td>\n      <td>28,24</td>\n      <td>5,28</td>\n      <td>0,139</td>\n      <td>0,312</td>\n      <td>0,549</td>\n    </tr>\n    <tr>\n      <th>102</th>\n      <td>Jamaica</td>\n      <td>LATIN AMER. &amp; CARIB</td>\n      <td>2758124</td>\n      <td>10991</td>\n      <td>250,9</td>\n      <td>9,30</td>\n      <td>-4,92</td>\n      <td>12,36</td>\n      <td>3900.0</td>\n      <td>87,9</td>\n      <td>124,0</td>\n      <td>16,07</td>\n      <td>10,16</td>\n      <td>73,77</td>\n      <td>2</td>\n      <td>20,82</td>\n      <td>6,52</td>\n      <td>0,049</td>\n      <td>0,337</td>\n      <td>0,615</td>\n    </tr>\n    <tr>\n      <th>131</th>\n      <td>Martinique</td>\n      <td>LATIN AMER. &amp; CARIB</td>\n      <td>436131</td>\n      <td>1100</td>\n      <td>396,5</td>\n      <td>31,82</td>\n      <td>-0,05</td>\n      <td>7,09</td>\n      <td>14400.0</td>\n      <td>97,7</td>\n      <td>394,4</td>\n      <td>10,38</td>\n      <td>9,43</td>\n      <td>80,19</td>\n      <td>2</td>\n      <td>13,74</td>\n      <td>6,48</td>\n      <td>0,06</td>\n      <td>0,11</td>\n      <td>0,83</td>\n    </tr>\n    <tr>\n      <th>135</th>\n      <td>Mexico</td>\n      <td>LATIN AMER. &amp; CARIB</td>\n      <td>107449525</td>\n      <td>1972550</td>\n      <td>54,5</td>\n      <td>0,47</td>\n      <td>-4,87</td>\n      <td>20,91</td>\n      <td>9000.0</td>\n      <td>92,2</td>\n      <td>181,6</td>\n      <td>12,99</td>\n      <td>1,31</td>\n      <td>85,7</td>\n      <td>1,5</td>\n      <td>20,69</td>\n      <td>4,74</td>\n      <td>0,038</td>\n      <td>0,259</td>\n      <td>0,702</td>\n    </tr>\n    <tr>\n      <th>140</th>\n      <td>Montserrat</td>\n      <td>LATIN AMER. &amp; CARIB</td>\n      <td>9439</td>\n      <td>102</td>\n      <td>92,5</td>\n      <td>39,22</td>\n      <td>0</td>\n      <td>7,35</td>\n      <td>3400.0</td>\n      <td>97,0</td>\n      <td>NaN</td>\n      <td>20</td>\n      <td>0</td>\n      <td>80</td>\n      <td>2</td>\n      <td>17,59</td>\n      <td>7,1</td>\n      <td>NaN</td>\n      <td>NaN</td>\n      <td>NaN</td>\n    </tr>\n    <tr>\n      <th>147</th>\n      <td>Netherlands Antilles</td>\n      <td>LATIN AMER. &amp; CARIB</td>\n      <td>221736</td>\n      <td>960</td>\n      <td>231,0</td>\n      <td>37,92</td>\n      <td>-0,41</td>\n      <td>10,03</td>\n      <td>11400.0</td>\n      <td>96,7</td>\n      <td>365,3</td>\n      <td>10</td>\n      <td>0</td>\n      <td>90</td>\n      <td>2</td>\n      <td>14,78</td>\n      <td>6,45</td>\n      <td>0,01</td>\n      <td>0,15</td>\n      <td>0,84</td>\n    </tr>\n    <tr>\n      <th>150</th>\n      <td>Nicaragua</td>\n      <td>LATIN AMER. &amp; CARIB</td>\n      <td>5570129</td>\n      <td>129494</td>\n      <td>43,0</td>\n      <td>0,70</td>\n      <td>-1,22</td>\n      <td>29,11</td>\n      <td>2300.0</td>\n      <td>67,5</td>\n      <td>39,7</td>\n      <td>15,94</td>\n      <td>1,94</td>\n      <td>82,12</td>\n      <td>2</td>\n      <td>24,51</td>\n      <td>4,45</td>\n      <td>0,165</td>\n      <td>0,275</td>\n      <td>0,56</td>\n    </tr>\n    <tr>\n      <th>158</th>\n      <td>Panama</td>\n      <td>LATIN AMER. &amp; CARIB</td>\n      <td>3191319</td>\n      <td>78200</td>\n      <td>40,8</td>\n      <td>3,18</td>\n      <td>-0,91</td>\n      <td>20,47</td>\n      <td>6300.0</td>\n      <td>92,6</td>\n      <td>137,9</td>\n      <td>7,36</td>\n      <td>1,98</td>\n      <td>90,66</td>\n      <td>2</td>\n      <td>21,74</td>\n      <td>5,36</td>\n      <td>0,068</td>\n      <td>0,156</td>\n      <td>0,776</td>\n    </tr>\n    <tr>\n      <th>160</th>\n      <td>Paraguay</td>\n      <td>LATIN AMER. &amp; CARIB</td>\n      <td>6506464</td>\n      <td>406750</td>\n      <td>16,0</td>\n      <td>0,00</td>\n      <td>-0,08</td>\n      <td>25,63</td>\n      <td>4700.0</td>\n      <td>94,0</td>\n      <td>49,2</td>\n      <td>7,6</td>\n      <td>0,23</td>\n      <td>92,17</td>\n      <td>2</td>\n      <td>29,1</td>\n      <td>4,49</td>\n      <td>0,224</td>\n      <td>0,207</td>\n      <td>0,569</td>\n    </tr>\n    <tr>\n      <th>161</th>\n      <td>Peru</td>\n      <td>LATIN AMER. &amp; CARIB</td>\n      <td>28302603</td>\n      <td>1285220</td>\n      <td>22,0</td>\n      <td>0,19</td>\n      <td>-1,05</td>\n      <td>31,94</td>\n      <td>5100.0</td>\n      <td>90,9</td>\n      <td>79,5</td>\n      <td>2,89</td>\n      <td>0,4</td>\n      <td>96,71</td>\n      <td>1,5</td>\n      <td>20,48</td>\n      <td>6,23</td>\n      <td>0,08</td>\n      <td>0,27</td>\n      <td>0,65</td>\n    </tr>\n    <tr>\n      <th>165</th>\n      <td>Puerto Rico</td>\n      <td>LATIN AMER. &amp; CARIB</td>\n      <td>3927188</td>\n      <td>13790</td>\n      <td>284,8</td>\n      <td>3,63</td>\n      <td>-1,46</td>\n      <td>8,24</td>\n      <td>16800.0</td>\n      <td>94,1</td>\n      <td>283,1</td>\n      <td>3,95</td>\n      <td>5,52</td>\n      <td>90,53</td>\n      <td>2</td>\n      <td>12,77</td>\n      <td>7,65</td>\n      <td>0,01</td>\n      <td>0,45</td>\n      <td>0,54</td>\n    </tr>\n    <tr>\n      <th>172</th>\n      <td>Saint Kitts &amp; Nevis</td>\n      <td>LATIN AMER. &amp; CARIB</td>\n      <td>39129</td>\n      <td>261</td>\n      <td>149,9</td>\n      <td>51,72</td>\n      <td>-7,11</td>\n      <td>14,49</td>\n      <td>8800.0</td>\n      <td>97,0</td>\n      <td>638,9</td>\n      <td>19,44</td>\n      <td>2,78</td>\n      <td>77,78</td>\n      <td>2</td>\n      <td>18,02</td>\n      <td>8,33</td>\n      <td>0,035</td>\n      <td>0,258</td>\n      <td>0,707</td>\n    </tr>\n    <tr>\n      <th>173</th>\n      <td>Saint Lucia</td>\n      <td>LATIN AMER. &amp; CARIB</td>\n      <td>168458</td>\n      <td>616</td>\n      <td>273,5</td>\n      <td>25,65</td>\n      <td>-2,67</td>\n      <td>13,53</td>\n      <td>5400.0</td>\n      <td>67,0</td>\n      <td>303,3</td>\n      <td>6,56</td>\n      <td>22,95</td>\n      <td>70,49</td>\n      <td>2</td>\n      <td>19,68</td>\n      <td>5,08</td>\n      <td>0,07</td>\n      <td>0,2</td>\n      <td>0,73</td>\n    </tr>\n    <tr>\n      <th>174</th>\n      <td>St Pierre &amp; Miquelon</td>\n      <td>NORTHERN AMERICA</td>\n      <td>7026</td>\n      <td>242</td>\n      <td>29,0</td>\n      <td>49,59</td>\n      <td>-4,86</td>\n      <td>7,54</td>\n      <td>6900.0</td>\n      <td>99,0</td>\n      <td>683,2</td>\n      <td>13,04</td>\n      <td>0</td>\n      <td>86,96</td>\n      <td>NaN</td>\n      <td>13,52</td>\n      <td>6,83</td>\n      <td>NaN</td>\n      <td>NaN</td>\n      <td>NaN</td>\n    </tr>\n    <tr>\n      <th>175</th>\n      <td>Saint Vincent and the Grenadines</td>\n      <td>LATIN AMER. &amp; CARIB</td>\n      <td>117848</td>\n      <td>389</td>\n      <td>303,0</td>\n      <td>21,59</td>\n      <td>-7,64</td>\n      <td>14,78</td>\n      <td>2900.0</td>\n      <td>96,0</td>\n      <td>190,9</td>\n      <td>17,95</td>\n      <td>17,95</td>\n      <td>64,1</td>\n      <td>2</td>\n      <td>16,18</td>\n      <td>5,98</td>\n      <td>0,1</td>\n      <td>0,26</td>\n      <td>0,64</td>\n    </tr>\n    <tr>\n      <th>193</th>\n      <td>Suriname</td>\n      <td>LATIN AMER. &amp; CARIB</td>\n      <td>439117</td>\n      <td>163270</td>\n      <td>2,7</td>\n      <td>0,24</td>\n      <td>-8,81</td>\n      <td>23,57</td>\n      <td>4000.0</td>\n      <td>93,0</td>\n      <td>184,7</td>\n      <td>0,37</td>\n      <td>0,06</td>\n      <td>99,57</td>\n      <td>2</td>\n      <td>18,02</td>\n      <td>7,27</td>\n      <td>0,13</td>\n      <td>0,22</td>\n      <td>0,65</td>\n    </tr>\n    <tr>\n      <th>204</th>\n      <td>Trinidad &amp; Tobago</td>\n      <td>LATIN AMER. &amp; CARIB</td>\n      <td>1065842</td>\n      <td>5128</td>\n      <td>207,9</td>\n      <td>7,06</td>\n      <td>-10,83</td>\n      <td>24,31</td>\n      <td>9500.0</td>\n      <td>98,6</td>\n      <td>303,5</td>\n      <td>14,62</td>\n      <td>9,16</td>\n      <td>76,22</td>\n      <td>2</td>\n      <td>12,9</td>\n      <td>10,57</td>\n      <td>0,007</td>\n      <td>0,57</td>\n      <td>0,423</td>\n    </tr>\n    <tr>\n      <th>208</th>\n      <td>Turks &amp; Caicos Is</td>\n      <td>LATIN AMER. &amp; CARIB</td>\n      <td>21152</td>\n      <td>430</td>\n      <td>49,2</td>\n      <td>90,47</td>\n      <td>11,68</td>\n      <td>15,67</td>\n      <td>9600.0</td>\n      <td>98,0</td>\n      <td>269,5</td>\n      <td>2,33</td>\n      <td>0</td>\n      <td>97,67</td>\n      <td>2</td>\n      <td>21,84</td>\n      <td>4,21</td>\n      <td>NaN</td>\n      <td>NaN</td>\n      <td>NaN</td>\n    </tr>\n    <tr>\n      <th>214</th>\n      <td>United States</td>\n      <td>NORTHERN AMERICA</td>\n      <td>298444215</td>\n      <td>9631420</td>\n      <td>31,0</td>\n      <td>0,21</td>\n      <td>3,41</td>\n      <td>6,5</td>\n      <td>37800.0</td>\n      <td>97,0</td>\n      <td>898,0</td>\n      <td>19,13</td>\n      <td>0,22</td>\n      <td>80,65</td>\n      <td>3</td>\n      <td>14,14</td>\n      <td>8,26</td>\n      <td>0,01</td>\n      <td>0,204</td>\n      <td>0,787</td>\n    </tr>\n    <tr>\n      <th>215</th>\n      <td>Uruguay</td>\n      <td>LATIN AMER. &amp; CARIB</td>\n      <td>3431932</td>\n      <td>176220</td>\n      <td>19,5</td>\n      <td>0,37</td>\n      <td>-0,32</td>\n      <td>11,95</td>\n      <td>12800.0</td>\n      <td>98,0</td>\n      <td>291,4</td>\n      <td>7,43</td>\n      <td>0,23</td>\n      <td>92,34</td>\n      <td>3</td>\n      <td>13,91</td>\n      <td>9,05</td>\n      <td>0,093</td>\n      <td>0,311</td>\n      <td>0,596</td>\n    </tr>\n    <tr>\n      <th>218</th>\n      <td>Venezuela</td>\n      <td>LATIN AMER. &amp; CARIB</td>\n      <td>25730435</td>\n      <td>912050</td>\n      <td>28,2</td>\n      <td>0,31</td>\n      <td>-0,04</td>\n      <td>22,2</td>\n      <td>4800.0</td>\n      <td>93,4</td>\n      <td>140,1</td>\n      <td>2,95</td>\n      <td>0,92</td>\n      <td>96,13</td>\n      <td>2</td>\n      <td>18,71</td>\n      <td>4,92</td>\n      <td>0,04</td>\n      <td>0,419</td>\n      <td>0,541</td>\n    </tr>\n    <tr>\n      <th>220</th>\n      <td>Virgin Islands</td>\n      <td>LATIN AMER. &amp; CARIB</td>\n      <td>108605</td>\n      <td>1910</td>\n      <td>56,9</td>\n      <td>9,84</td>\n      <td>-8,94</td>\n      <td>8,03</td>\n      <td>17200.0</td>\n      <td>NaN</td>\n      <td>652,8</td>\n      <td>11,76</td>\n      <td>2,94</td>\n      <td>85,3</td>\n      <td>2</td>\n      <td>13,96</td>\n      <td>6,43</td>\n      <td>0,01</td>\n      <td>0,19</td>\n      <td>0,8</td>\n    </tr>\n  </tbody>\n</table>\n</div>"
     },
     "execution_count": 26,
     "metadata": {},
     "output_type": "execute_result"
    }
   ],
   "source": [
    "american_filter = df[\"Region\"].str.contains(\"AMER\")\n",
    "df[american_filter]"
   ],
   "metadata": {
    "collapsed": false,
    "pycharm": {
     "name": "#%%\n"
    }
   }
  },
  {
   "cell_type": "markdown",
   "source": [
    "### ¿Que paises hay en europa?"
   ],
   "metadata": {
    "collapsed": false,
    "pycharm": {
     "name": "#%% md\n"
    }
   }
  },
  {
   "cell_type": "code",
   "execution_count": 41,
   "outputs": [
    {
     "data": {
      "text/plain": "['ASIA (EX. NEAR EAST)         ',\n 'EASTERN EUROPE                     ',\n 'NORTHERN AFRICA                    ',\n 'OCEANIA                            ',\n 'WESTERN EUROPE                     ',\n 'SUB-SAHARAN AFRICA                 ',\n 'LATIN AMER. & CARIB    ',\n 'C.W. OF IND. STATES ',\n 'NEAR EAST                          ',\n 'NORTHERN AMERICA                   ',\n 'BALTICS                            ']"
     },
     "execution_count": 41,
     "metadata": {},
     "output_type": "execute_result"
    }
   ],
   "source": [
    "list(df[\"Region\"].unique())"
   ],
   "metadata": {
    "collapsed": false,
    "pycharm": {
     "name": "#%%\n"
    }
   }
  },
  {
   "cell_type": "code",
   "execution_count": 44,
   "outputs": [],
   "source": [
    "lista_regiones = list(df[\"Region\"].unique())[1:3]"
   ],
   "metadata": {
    "collapsed": false,
    "pycharm": {
     "name": "#%%\n"
    }
   }
  },
  {
   "cell_type": "code",
   "execution_count": 45,
   "outputs": [
    {
     "data": {
      "text/plain": "                   Country                               Region  Population  \\\n1                 Albania   EASTERN EUROPE                          3581655   \n2                 Algeria   NORTHERN AFRICA                        32930091   \n25   Bosnia & Herzegovina   EASTERN EUROPE                          4498976   \n30               Bulgaria   EASTERN EUROPE                          7385367   \n50                Croatia   EASTERN EUROPE                          4494749   \n53         Czech Republic   EASTERN EUROPE                         10235455   \n60                  Egypt   NORTHERN AFRICA                        78887007   \n92                Hungary   EASTERN EUROPE                          9981334   \n118                 Libya   NORTHERN AFRICA                         5900754   \n123             Macedonia   EASTERN EUROPE                          2050554   \n141               Morocco   NORTHERN AFRICA                        33241259   \n163                Poland   EASTERN EUROPE                         38536869   \n168               Romania   EASTERN EUROPE                         22303552   \n181                Serbia   EASTERN EUROPE                          9396411   \n185              Slovakia   EASTERN EUROPE                          5439448   \n186              Slovenia   EASTERN EUROPE                          2010347   \n205               Tunisia   NORTHERN AFRICA                        10175014   \n223        Western Sahara   NORTHERN AFRICA                          273008   \n\n     Area (sq. mi.) Pop. Density (per sq. mi.) Coastline (coast/area ratio)  \\\n1             28748                      124,6                         1,26   \n2           2381740                       13,8                         0,04   \n25            51129                       88,0                         0,04   \n30           110910                       66,6                         0,32   \n50            56542                       79,5                        10,32   \n53            78866                      129,8                         0,00   \n60          1001450                       78,8                         0,24   \n92            93030                      107,3                         0,00   \n118         1759540                        3,4                         0,10   \n123           25333                       80,9                         0,00   \n141          446550                       74,4                         0,41   \n163          312685                      123,3                         0,16   \n168          237500                       93,9                         0,09   \n181           88361                      106,3                         0,00   \n185           48845                      111,4                         0,00   \n186           20273                       99,2                         0,23   \n205          163610                       62,2                         0,70   \n223          266000                        1,0                         0,42   \n\n    Net migration Infant mortality (per 1000 births)  GDP ($ per capita)  \\\n1           -4,93                              21,52              4500.0   \n2           -0,39                                 31              6000.0   \n25           0,31                              21,05              6100.0   \n30          -4,58                              20,55              7600.0   \n50           1,58                               6,84             10600.0   \n53           0,97                               3,93             15700.0   \n60          -0,22                              32,59              4000.0   \n92           0,86                               8,57             13900.0   \n118             0                               24,6              6400.0   \n123         -1,45                              10,09              6700.0   \n141         -0,98                              41,62              4000.0   \n163         -0,49                               8,51             11100.0   \n168         -0,13                              26,43              7000.0   \n181         -1,33                              12,89              2200.0   \n185           0,3                               7,41             13300.0   \n186          1,12                               4,45             19000.0   \n205         -0,57                              24,77              6900.0   \n223           NaN                                NaN                 NaN   \n\n    Literacy (%) Phones (per 1000) Arable (%) Crops (%) Other (%) Climate  \\\n1           86,5              71,2      21,09      4,42     74,49       3   \n2           70,0              78,1       3,22      0,25     96,53       1   \n25           NaN             215,4       13,6      2,96     83,44       4   \n30          98,6             336,3      40,02      1,92     58,06       3   \n50          98,5             420,4      26,09      2,27     71,65     NaN   \n53          99,9             314,3       39,8      3,05     57,15       3   \n60          57,7             131,8       2,87      0,48     96,65       1   \n92          99,4             336,2      50,09      2,06     47,85       3   \n118         82,6             127,1       1,03      0,19     98,78     NaN   \n123          NaN             260,0      22,26      1,81     75,93       3   \n141         51,7              40,4      19,61      2,17     78,22     NaN   \n163         99,8             306,3      45,91      1,12     52,97       3   \n168         98,4             196,9      40,82      2,25     56,93       3   \n181         93,0             285,8      33,35       3,2     63,45     NaN   \n185          NaN             220,1      30,16      2,62     67,22       3   \n186         99,7             406,1        8,6      1,49     89,91     NaN   \n205         74,2             123,6      17,86     13,74      68,4       3   \n223          NaN               NaN       0,02         0     99,98       1   \n\n    Birthrate Deathrate Agriculture Industry Service  \n1       15,11      5,22       0,232    0,188   0,579  \n2       17,14      4,61       0,101      0,6   0,298  \n25       8,77      8,27       0,142    0,308    0,55  \n30       9,65     14,27       0,093    0,304   0,603  \n50       9,61     11,48        0,07    0,308   0,622  \n53       9,02     10,59       0,034    0,393   0,573  \n60      22,94      5,23       0,149    0,357   0,493  \n92       9,72     13,11       0,037    0,312   0,651  \n118     26,49      3,48       0,076    0,499   0,425  \n123     12,02      8,77       0,118    0,319   0,563  \n141     21,98      5,58       0,217    0,357   0,426  \n163      9,85      9,89        0,05    0,311    0,64  \n168      10,7     11,77       0,101     0,35   0,549  \n181       NaN       NaN       0,166    0,255   0,579  \n185     10,65      9,45       0,035    0,294   0,672  \n186      8,98     10,31       0,028    0,369   0,603  \n205     15,52      5,13       0,132    0,318    0,55  \n223       NaN       NaN         NaN      NaN     0,4  ",
      "text/html": "<div>\n<style scoped>\n    .dataframe tbody tr th:only-of-type {\n        vertical-align: middle;\n    }\n\n    .dataframe tbody tr th {\n        vertical-align: top;\n    }\n\n    .dataframe thead th {\n        text-align: right;\n    }\n</style>\n<table border=\"1\" class=\"dataframe\">\n  <thead>\n    <tr style=\"text-align: right;\">\n      <th></th>\n      <th>Country</th>\n      <th>Region</th>\n      <th>Population</th>\n      <th>Area (sq. mi.)</th>\n      <th>Pop. Density (per sq. mi.)</th>\n      <th>Coastline (coast/area ratio)</th>\n      <th>Net migration</th>\n      <th>Infant mortality (per 1000 births)</th>\n      <th>GDP ($ per capita)</th>\n      <th>Literacy (%)</th>\n      <th>Phones (per 1000)</th>\n      <th>Arable (%)</th>\n      <th>Crops (%)</th>\n      <th>Other (%)</th>\n      <th>Climate</th>\n      <th>Birthrate</th>\n      <th>Deathrate</th>\n      <th>Agriculture</th>\n      <th>Industry</th>\n      <th>Service</th>\n    </tr>\n  </thead>\n  <tbody>\n    <tr>\n      <th>1</th>\n      <td>Albania</td>\n      <td>EASTERN EUROPE</td>\n      <td>3581655</td>\n      <td>28748</td>\n      <td>124,6</td>\n      <td>1,26</td>\n      <td>-4,93</td>\n      <td>21,52</td>\n      <td>4500.0</td>\n      <td>86,5</td>\n      <td>71,2</td>\n      <td>21,09</td>\n      <td>4,42</td>\n      <td>74,49</td>\n      <td>3</td>\n      <td>15,11</td>\n      <td>5,22</td>\n      <td>0,232</td>\n      <td>0,188</td>\n      <td>0,579</td>\n    </tr>\n    <tr>\n      <th>2</th>\n      <td>Algeria</td>\n      <td>NORTHERN AFRICA</td>\n      <td>32930091</td>\n      <td>2381740</td>\n      <td>13,8</td>\n      <td>0,04</td>\n      <td>-0,39</td>\n      <td>31</td>\n      <td>6000.0</td>\n      <td>70,0</td>\n      <td>78,1</td>\n      <td>3,22</td>\n      <td>0,25</td>\n      <td>96,53</td>\n      <td>1</td>\n      <td>17,14</td>\n      <td>4,61</td>\n      <td>0,101</td>\n      <td>0,6</td>\n      <td>0,298</td>\n    </tr>\n    <tr>\n      <th>25</th>\n      <td>Bosnia &amp; Herzegovina</td>\n      <td>EASTERN EUROPE</td>\n      <td>4498976</td>\n      <td>51129</td>\n      <td>88,0</td>\n      <td>0,04</td>\n      <td>0,31</td>\n      <td>21,05</td>\n      <td>6100.0</td>\n      <td>NaN</td>\n      <td>215,4</td>\n      <td>13,6</td>\n      <td>2,96</td>\n      <td>83,44</td>\n      <td>4</td>\n      <td>8,77</td>\n      <td>8,27</td>\n      <td>0,142</td>\n      <td>0,308</td>\n      <td>0,55</td>\n    </tr>\n    <tr>\n      <th>30</th>\n      <td>Bulgaria</td>\n      <td>EASTERN EUROPE</td>\n      <td>7385367</td>\n      <td>110910</td>\n      <td>66,6</td>\n      <td>0,32</td>\n      <td>-4,58</td>\n      <td>20,55</td>\n      <td>7600.0</td>\n      <td>98,6</td>\n      <td>336,3</td>\n      <td>40,02</td>\n      <td>1,92</td>\n      <td>58,06</td>\n      <td>3</td>\n      <td>9,65</td>\n      <td>14,27</td>\n      <td>0,093</td>\n      <td>0,304</td>\n      <td>0,603</td>\n    </tr>\n    <tr>\n      <th>50</th>\n      <td>Croatia</td>\n      <td>EASTERN EUROPE</td>\n      <td>4494749</td>\n      <td>56542</td>\n      <td>79,5</td>\n      <td>10,32</td>\n      <td>1,58</td>\n      <td>6,84</td>\n      <td>10600.0</td>\n      <td>98,5</td>\n      <td>420,4</td>\n      <td>26,09</td>\n      <td>2,27</td>\n      <td>71,65</td>\n      <td>NaN</td>\n      <td>9,61</td>\n      <td>11,48</td>\n      <td>0,07</td>\n      <td>0,308</td>\n      <td>0,622</td>\n    </tr>\n    <tr>\n      <th>53</th>\n      <td>Czech Republic</td>\n      <td>EASTERN EUROPE</td>\n      <td>10235455</td>\n      <td>78866</td>\n      <td>129,8</td>\n      <td>0,00</td>\n      <td>0,97</td>\n      <td>3,93</td>\n      <td>15700.0</td>\n      <td>99,9</td>\n      <td>314,3</td>\n      <td>39,8</td>\n      <td>3,05</td>\n      <td>57,15</td>\n      <td>3</td>\n      <td>9,02</td>\n      <td>10,59</td>\n      <td>0,034</td>\n      <td>0,393</td>\n      <td>0,573</td>\n    </tr>\n    <tr>\n      <th>60</th>\n      <td>Egypt</td>\n      <td>NORTHERN AFRICA</td>\n      <td>78887007</td>\n      <td>1001450</td>\n      <td>78,8</td>\n      <td>0,24</td>\n      <td>-0,22</td>\n      <td>32,59</td>\n      <td>4000.0</td>\n      <td>57,7</td>\n      <td>131,8</td>\n      <td>2,87</td>\n      <td>0,48</td>\n      <td>96,65</td>\n      <td>1</td>\n      <td>22,94</td>\n      <td>5,23</td>\n      <td>0,149</td>\n      <td>0,357</td>\n      <td>0,493</td>\n    </tr>\n    <tr>\n      <th>92</th>\n      <td>Hungary</td>\n      <td>EASTERN EUROPE</td>\n      <td>9981334</td>\n      <td>93030</td>\n      <td>107,3</td>\n      <td>0,00</td>\n      <td>0,86</td>\n      <td>8,57</td>\n      <td>13900.0</td>\n      <td>99,4</td>\n      <td>336,2</td>\n      <td>50,09</td>\n      <td>2,06</td>\n      <td>47,85</td>\n      <td>3</td>\n      <td>9,72</td>\n      <td>13,11</td>\n      <td>0,037</td>\n      <td>0,312</td>\n      <td>0,651</td>\n    </tr>\n    <tr>\n      <th>118</th>\n      <td>Libya</td>\n      <td>NORTHERN AFRICA</td>\n      <td>5900754</td>\n      <td>1759540</td>\n      <td>3,4</td>\n      <td>0,10</td>\n      <td>0</td>\n      <td>24,6</td>\n      <td>6400.0</td>\n      <td>82,6</td>\n      <td>127,1</td>\n      <td>1,03</td>\n      <td>0,19</td>\n      <td>98,78</td>\n      <td>NaN</td>\n      <td>26,49</td>\n      <td>3,48</td>\n      <td>0,076</td>\n      <td>0,499</td>\n      <td>0,425</td>\n    </tr>\n    <tr>\n      <th>123</th>\n      <td>Macedonia</td>\n      <td>EASTERN EUROPE</td>\n      <td>2050554</td>\n      <td>25333</td>\n      <td>80,9</td>\n      <td>0,00</td>\n      <td>-1,45</td>\n      <td>10,09</td>\n      <td>6700.0</td>\n      <td>NaN</td>\n      <td>260,0</td>\n      <td>22,26</td>\n      <td>1,81</td>\n      <td>75,93</td>\n      <td>3</td>\n      <td>12,02</td>\n      <td>8,77</td>\n      <td>0,118</td>\n      <td>0,319</td>\n      <td>0,563</td>\n    </tr>\n    <tr>\n      <th>141</th>\n      <td>Morocco</td>\n      <td>NORTHERN AFRICA</td>\n      <td>33241259</td>\n      <td>446550</td>\n      <td>74,4</td>\n      <td>0,41</td>\n      <td>-0,98</td>\n      <td>41,62</td>\n      <td>4000.0</td>\n      <td>51,7</td>\n      <td>40,4</td>\n      <td>19,61</td>\n      <td>2,17</td>\n      <td>78,22</td>\n      <td>NaN</td>\n      <td>21,98</td>\n      <td>5,58</td>\n      <td>0,217</td>\n      <td>0,357</td>\n      <td>0,426</td>\n    </tr>\n    <tr>\n      <th>163</th>\n      <td>Poland</td>\n      <td>EASTERN EUROPE</td>\n      <td>38536869</td>\n      <td>312685</td>\n      <td>123,3</td>\n      <td>0,16</td>\n      <td>-0,49</td>\n      <td>8,51</td>\n      <td>11100.0</td>\n      <td>99,8</td>\n      <td>306,3</td>\n      <td>45,91</td>\n      <td>1,12</td>\n      <td>52,97</td>\n      <td>3</td>\n      <td>9,85</td>\n      <td>9,89</td>\n      <td>0,05</td>\n      <td>0,311</td>\n      <td>0,64</td>\n    </tr>\n    <tr>\n      <th>168</th>\n      <td>Romania</td>\n      <td>EASTERN EUROPE</td>\n      <td>22303552</td>\n      <td>237500</td>\n      <td>93,9</td>\n      <td>0,09</td>\n      <td>-0,13</td>\n      <td>26,43</td>\n      <td>7000.0</td>\n      <td>98,4</td>\n      <td>196,9</td>\n      <td>40,82</td>\n      <td>2,25</td>\n      <td>56,93</td>\n      <td>3</td>\n      <td>10,7</td>\n      <td>11,77</td>\n      <td>0,101</td>\n      <td>0,35</td>\n      <td>0,549</td>\n    </tr>\n    <tr>\n      <th>181</th>\n      <td>Serbia</td>\n      <td>EASTERN EUROPE</td>\n      <td>9396411</td>\n      <td>88361</td>\n      <td>106,3</td>\n      <td>0,00</td>\n      <td>-1,33</td>\n      <td>12,89</td>\n      <td>2200.0</td>\n      <td>93,0</td>\n      <td>285,8</td>\n      <td>33,35</td>\n      <td>3,2</td>\n      <td>63,45</td>\n      <td>NaN</td>\n      <td>NaN</td>\n      <td>NaN</td>\n      <td>0,166</td>\n      <td>0,255</td>\n      <td>0,579</td>\n    </tr>\n    <tr>\n      <th>185</th>\n      <td>Slovakia</td>\n      <td>EASTERN EUROPE</td>\n      <td>5439448</td>\n      <td>48845</td>\n      <td>111,4</td>\n      <td>0,00</td>\n      <td>0,3</td>\n      <td>7,41</td>\n      <td>13300.0</td>\n      <td>NaN</td>\n      <td>220,1</td>\n      <td>30,16</td>\n      <td>2,62</td>\n      <td>67,22</td>\n      <td>3</td>\n      <td>10,65</td>\n      <td>9,45</td>\n      <td>0,035</td>\n      <td>0,294</td>\n      <td>0,672</td>\n    </tr>\n    <tr>\n      <th>186</th>\n      <td>Slovenia</td>\n      <td>EASTERN EUROPE</td>\n      <td>2010347</td>\n      <td>20273</td>\n      <td>99,2</td>\n      <td>0,23</td>\n      <td>1,12</td>\n      <td>4,45</td>\n      <td>19000.0</td>\n      <td>99,7</td>\n      <td>406,1</td>\n      <td>8,6</td>\n      <td>1,49</td>\n      <td>89,91</td>\n      <td>NaN</td>\n      <td>8,98</td>\n      <td>10,31</td>\n      <td>0,028</td>\n      <td>0,369</td>\n      <td>0,603</td>\n    </tr>\n    <tr>\n      <th>205</th>\n      <td>Tunisia</td>\n      <td>NORTHERN AFRICA</td>\n      <td>10175014</td>\n      <td>163610</td>\n      <td>62,2</td>\n      <td>0,70</td>\n      <td>-0,57</td>\n      <td>24,77</td>\n      <td>6900.0</td>\n      <td>74,2</td>\n      <td>123,6</td>\n      <td>17,86</td>\n      <td>13,74</td>\n      <td>68,4</td>\n      <td>3</td>\n      <td>15,52</td>\n      <td>5,13</td>\n      <td>0,132</td>\n      <td>0,318</td>\n      <td>0,55</td>\n    </tr>\n    <tr>\n      <th>223</th>\n      <td>Western Sahara</td>\n      <td>NORTHERN AFRICA</td>\n      <td>273008</td>\n      <td>266000</td>\n      <td>1,0</td>\n      <td>0,42</td>\n      <td>NaN</td>\n      <td>NaN</td>\n      <td>NaN</td>\n      <td>NaN</td>\n      <td>NaN</td>\n      <td>0,02</td>\n      <td>0</td>\n      <td>99,98</td>\n      <td>1</td>\n      <td>NaN</td>\n      <td>NaN</td>\n      <td>NaN</td>\n      <td>NaN</td>\n      <td>0,4</td>\n    </tr>\n  </tbody>\n</table>\n</div>"
     },
     "execution_count": 45,
     "metadata": {},
     "output_type": "execute_result"
    }
   ],
   "source": [
    "df[df[\"Region\"].isin(lista_regiones)]"
   ],
   "metadata": {
    "collapsed": false,
    "pycharm": {
     "name": "#%%\n"
    }
   }
  },
  {
   "cell_type": "code",
   "execution_count": 39,
   "outputs": [
    {
     "data": {
      "text/plain": "0"
     },
     "execution_count": 39,
     "metadata": {},
     "output_type": "execute_result"
    }
   ],
   "source": [
    "(df.Region == \"EASTERN EUROPE\").sum()"
   ],
   "metadata": {
    "collapsed": false,
    "pycharm": {
     "name": "#%%\n"
    }
   }
  },
  {
   "cell_type": "markdown",
   "source": [
    "clean col"
   ],
   "metadata": {
    "collapsed": false,
    "pycharm": {
     "name": "#%% md\n"
    }
   }
  },
  {
   "cell_type": "code",
   "execution_count": 48,
   "outputs": [],
   "source": [
    "df[\"Region\"] = df[\"Region\"] .str.strip()"
   ],
   "metadata": {
    "collapsed": false,
    "pycharm": {
     "name": "#%%\n"
    }
   }
  },
  {
   "cell_type": "code",
   "execution_count": 49,
   "outputs": [
    {
     "data": {
      "text/plain": "['ASIA (EX. NEAR EAST)',\n 'EASTERN EUROPE',\n 'NORTHERN AFRICA',\n 'OCEANIA',\n 'WESTERN EUROPE',\n 'SUB-SAHARAN AFRICA',\n 'LATIN AMER. & CARIB',\n 'C.W. OF IND. STATES',\n 'NEAR EAST',\n 'NORTHERN AMERICA',\n 'BALTICS']"
     },
     "execution_count": 49,
     "metadata": {},
     "output_type": "execute_result"
    }
   ],
   "source": [
    "list(df[\"Region\"].unique())"
   ],
   "metadata": {
    "collapsed": false,
    "pycharm": {
     "name": "#%%\n"
    }
   }
  },
  {
   "cell_type": "markdown",
   "source": [
    "# ~ Anti filtro"
   ],
   "metadata": {
    "collapsed": false,
    "pycharm": {
     "name": "#%% md\n"
    }
   }
  },
  {
   "cell_type": "code",
   "execution_count": 51,
   "outputs": [
    {
     "data": {
      "text/plain": "             Country                Region  Population  Area (sq. mi.)  \\\n0       Afghanistan   ASIA (EX. NEAR EAST)    31056997          647500   \n2           Algeria        NORTHERN AFRICA    32930091         2381740   \n3    American Samoa                OCEANIA       57794             199   \n5            Angola     SUB-SAHARAN AFRICA    12127071         1246700   \n6          Anguilla    LATIN AMER. & CARIB       13477             102   \n..               ...                   ...         ...             ...   \n222       West Bank              NEAR EAST     2460492            5860   \n223  Western Sahara        NORTHERN AFRICA      273008          266000   \n224           Yemen              NEAR EAST    21456188          527970   \n225          Zambia     SUB-SAHARAN AFRICA    11502010          752614   \n226        Zimbabwe     SUB-SAHARAN AFRICA    12236805          390580   \n\n    Pop. Density (per sq. mi.) Coastline (coast/area ratio) Net migration  \\\n0                         48,0                         0,00         23,06   \n2                         13,8                         0,04         -0,39   \n3                        290,4                        58,29        -20,71   \n5                          9,7                         0,13             0   \n6                        132,1                        59,80         10,76   \n..                         ...                          ...           ...   \n222                      419,9                         0,00          2,98   \n223                        1,0                         0,42           NaN   \n224                       40,6                         0,36             0   \n225                       15,3                         0,00             0   \n226                       31,3                         0,00             0   \n\n    Infant mortality (per 1000 births)  GDP ($ per capita) Literacy (%)  \\\n0                               163,07               700.0         36,0   \n2                                   31              6000.0         70,0   \n3                                 9,27              8000.0         97,0   \n5                               191,19              1900.0         42,0   \n6                                21,03              8600.0         95,0   \n..                                 ...                 ...          ...   \n222                              19,62               800.0          NaN   \n223                                NaN                 NaN          NaN   \n224                               61,5               800.0         50,2   \n225                              88,29               800.0         80,6   \n226                              67,69              1900.0         90,7   \n\n    Phones (per 1000) Arable (%) Crops (%) Other (%) Climate Birthrate  \\\n0                 3,2      12,13      0,22     87,65       1      46,6   \n2                78,1       3,22      0,25     96,53       1     17,14   \n3               259,5         10        15        75       2     22,46   \n5                 7,8       2,41      0,24     97,35     NaN     45,11   \n6               460,0          0         0       100       2     14,17   \n..                ...        ...       ...       ...     ...       ...   \n222             145,2       16,9     18,97     64,13       3     31,67   \n223               NaN       0,02         0     99,98       1       NaN   \n224              37,2       2,78      0,24     96,98       1     42,89   \n225               8,2       7,08      0,03      92,9       2        41   \n226              26,8       8,32      0,34     91,34       2     28,01   \n\n    Deathrate Agriculture Industry Service  \n0       20,34        0,38     0,24    0,38  \n2        4,61       0,101      0,6   0,298  \n3        3,27         NaN      NaN     NaN  \n5        24,2       0,096    0,658   0,246  \n6        5,34        0,04     0,18    0,78  \n..        ...         ...      ...     ...  \n222      3,92        0,09     0,28    0,63  \n223       NaN         NaN      NaN     0,4  \n224       8,3       0,135    0,472   0,393  \n225     19,93        0,22     0,29   0,489  \n226     21,84       0,179    0,243   0,579  \n\n[187 rows x 20 columns]",
      "text/html": "<div>\n<style scoped>\n    .dataframe tbody tr th:only-of-type {\n        vertical-align: middle;\n    }\n\n    .dataframe tbody tr th {\n        vertical-align: top;\n    }\n\n    .dataframe thead th {\n        text-align: right;\n    }\n</style>\n<table border=\"1\" class=\"dataframe\">\n  <thead>\n    <tr style=\"text-align: right;\">\n      <th></th>\n      <th>Country</th>\n      <th>Region</th>\n      <th>Population</th>\n      <th>Area (sq. mi.)</th>\n      <th>Pop. Density (per sq. mi.)</th>\n      <th>Coastline (coast/area ratio)</th>\n      <th>Net migration</th>\n      <th>Infant mortality (per 1000 births)</th>\n      <th>GDP ($ per capita)</th>\n      <th>Literacy (%)</th>\n      <th>Phones (per 1000)</th>\n      <th>Arable (%)</th>\n      <th>Crops (%)</th>\n      <th>Other (%)</th>\n      <th>Climate</th>\n      <th>Birthrate</th>\n      <th>Deathrate</th>\n      <th>Agriculture</th>\n      <th>Industry</th>\n      <th>Service</th>\n    </tr>\n  </thead>\n  <tbody>\n    <tr>\n      <th>0</th>\n      <td>Afghanistan</td>\n      <td>ASIA (EX. NEAR EAST)</td>\n      <td>31056997</td>\n      <td>647500</td>\n      <td>48,0</td>\n      <td>0,00</td>\n      <td>23,06</td>\n      <td>163,07</td>\n      <td>700.0</td>\n      <td>36,0</td>\n      <td>3,2</td>\n      <td>12,13</td>\n      <td>0,22</td>\n      <td>87,65</td>\n      <td>1</td>\n      <td>46,6</td>\n      <td>20,34</td>\n      <td>0,38</td>\n      <td>0,24</td>\n      <td>0,38</td>\n    </tr>\n    <tr>\n      <th>2</th>\n      <td>Algeria</td>\n      <td>NORTHERN AFRICA</td>\n      <td>32930091</td>\n      <td>2381740</td>\n      <td>13,8</td>\n      <td>0,04</td>\n      <td>-0,39</td>\n      <td>31</td>\n      <td>6000.0</td>\n      <td>70,0</td>\n      <td>78,1</td>\n      <td>3,22</td>\n      <td>0,25</td>\n      <td>96,53</td>\n      <td>1</td>\n      <td>17,14</td>\n      <td>4,61</td>\n      <td>0,101</td>\n      <td>0,6</td>\n      <td>0,298</td>\n    </tr>\n    <tr>\n      <th>3</th>\n      <td>American Samoa</td>\n      <td>OCEANIA</td>\n      <td>57794</td>\n      <td>199</td>\n      <td>290,4</td>\n      <td>58,29</td>\n      <td>-20,71</td>\n      <td>9,27</td>\n      <td>8000.0</td>\n      <td>97,0</td>\n      <td>259,5</td>\n      <td>10</td>\n      <td>15</td>\n      <td>75</td>\n      <td>2</td>\n      <td>22,46</td>\n      <td>3,27</td>\n      <td>NaN</td>\n      <td>NaN</td>\n      <td>NaN</td>\n    </tr>\n    <tr>\n      <th>5</th>\n      <td>Angola</td>\n      <td>SUB-SAHARAN AFRICA</td>\n      <td>12127071</td>\n      <td>1246700</td>\n      <td>9,7</td>\n      <td>0,13</td>\n      <td>0</td>\n      <td>191,19</td>\n      <td>1900.0</td>\n      <td>42,0</td>\n      <td>7,8</td>\n      <td>2,41</td>\n      <td>0,24</td>\n      <td>97,35</td>\n      <td>NaN</td>\n      <td>45,11</td>\n      <td>24,2</td>\n      <td>0,096</td>\n      <td>0,658</td>\n      <td>0,246</td>\n    </tr>\n    <tr>\n      <th>6</th>\n      <td>Anguilla</td>\n      <td>LATIN AMER. &amp; CARIB</td>\n      <td>13477</td>\n      <td>102</td>\n      <td>132,1</td>\n      <td>59,80</td>\n      <td>10,76</td>\n      <td>21,03</td>\n      <td>8600.0</td>\n      <td>95,0</td>\n      <td>460,0</td>\n      <td>0</td>\n      <td>0</td>\n      <td>100</td>\n      <td>2</td>\n      <td>14,17</td>\n      <td>5,34</td>\n      <td>0,04</td>\n      <td>0,18</td>\n      <td>0,78</td>\n    </tr>\n    <tr>\n      <th>...</th>\n      <td>...</td>\n      <td>...</td>\n      <td>...</td>\n      <td>...</td>\n      <td>...</td>\n      <td>...</td>\n      <td>...</td>\n      <td>...</td>\n      <td>...</td>\n      <td>...</td>\n      <td>...</td>\n      <td>...</td>\n      <td>...</td>\n      <td>...</td>\n      <td>...</td>\n      <td>...</td>\n      <td>...</td>\n      <td>...</td>\n      <td>...</td>\n      <td>...</td>\n    </tr>\n    <tr>\n      <th>222</th>\n      <td>West Bank</td>\n      <td>NEAR EAST</td>\n      <td>2460492</td>\n      <td>5860</td>\n      <td>419,9</td>\n      <td>0,00</td>\n      <td>2,98</td>\n      <td>19,62</td>\n      <td>800.0</td>\n      <td>NaN</td>\n      <td>145,2</td>\n      <td>16,9</td>\n      <td>18,97</td>\n      <td>64,13</td>\n      <td>3</td>\n      <td>31,67</td>\n      <td>3,92</td>\n      <td>0,09</td>\n      <td>0,28</td>\n      <td>0,63</td>\n    </tr>\n    <tr>\n      <th>223</th>\n      <td>Western Sahara</td>\n      <td>NORTHERN AFRICA</td>\n      <td>273008</td>\n      <td>266000</td>\n      <td>1,0</td>\n      <td>0,42</td>\n      <td>NaN</td>\n      <td>NaN</td>\n      <td>NaN</td>\n      <td>NaN</td>\n      <td>NaN</td>\n      <td>0,02</td>\n      <td>0</td>\n      <td>99,98</td>\n      <td>1</td>\n      <td>NaN</td>\n      <td>NaN</td>\n      <td>NaN</td>\n      <td>NaN</td>\n      <td>0,4</td>\n    </tr>\n    <tr>\n      <th>224</th>\n      <td>Yemen</td>\n      <td>NEAR EAST</td>\n      <td>21456188</td>\n      <td>527970</td>\n      <td>40,6</td>\n      <td>0,36</td>\n      <td>0</td>\n      <td>61,5</td>\n      <td>800.0</td>\n      <td>50,2</td>\n      <td>37,2</td>\n      <td>2,78</td>\n      <td>0,24</td>\n      <td>96,98</td>\n      <td>1</td>\n      <td>42,89</td>\n      <td>8,3</td>\n      <td>0,135</td>\n      <td>0,472</td>\n      <td>0,393</td>\n    </tr>\n    <tr>\n      <th>225</th>\n      <td>Zambia</td>\n      <td>SUB-SAHARAN AFRICA</td>\n      <td>11502010</td>\n      <td>752614</td>\n      <td>15,3</td>\n      <td>0,00</td>\n      <td>0</td>\n      <td>88,29</td>\n      <td>800.0</td>\n      <td>80,6</td>\n      <td>8,2</td>\n      <td>7,08</td>\n      <td>0,03</td>\n      <td>92,9</td>\n      <td>2</td>\n      <td>41</td>\n      <td>19,93</td>\n      <td>0,22</td>\n      <td>0,29</td>\n      <td>0,489</td>\n    </tr>\n    <tr>\n      <th>226</th>\n      <td>Zimbabwe</td>\n      <td>SUB-SAHARAN AFRICA</td>\n      <td>12236805</td>\n      <td>390580</td>\n      <td>31,3</td>\n      <td>0,00</td>\n      <td>0</td>\n      <td>67,69</td>\n      <td>1900.0</td>\n      <td>90,7</td>\n      <td>26,8</td>\n      <td>8,32</td>\n      <td>0,34</td>\n      <td>91,34</td>\n      <td>2</td>\n      <td>28,01</td>\n      <td>21,84</td>\n      <td>0,179</td>\n      <td>0,243</td>\n      <td>0,579</td>\n    </tr>\n  </tbody>\n</table>\n<p>187 rows × 20 columns</p>\n</div>"
     },
     "execution_count": 51,
     "metadata": {},
     "output_type": "execute_result"
    }
   ],
   "source": [
    "df[~df[\"Region\"].isin([\"WESTERN EUROPE\",'EASTERN EUROPE'])]"
   ],
   "metadata": {
    "collapsed": false,
    "pycharm": {
     "name": "#%%\n"
    }
   }
  },
  {
   "cell_type": "code",
   "execution_count": 52,
   "outputs": [
    {
     "data": {
      "text/plain": "0         Afghanistan \n1             Albania \n2             Algeria \n3      American Samoa \n4             Andorra \n            ...       \n222         West Bank \n223    Western Sahara \n224             Yemen \n225            Zambia \n226          Zimbabwe \nName: Country, Length: 227, dtype: object"
     },
     "execution_count": 52,
     "metadata": {},
     "output_type": "execute_result"
    }
   ],
   "source": [
    "df[\"Country\"]"
   ],
   "metadata": {
    "collapsed": false,
    "pycharm": {
     "name": "#%%\n"
    }
   }
  },
  {
   "cell_type": "markdown",
   "source": [
    "## Reindexing"
   ],
   "metadata": {
    "collapsed": false,
    "pycharm": {
     "name": "#%% md\n"
    }
   }
  },
  {
   "cell_type": "code",
   "execution_count": 54,
   "outputs": [],
   "source": [
    "df[\"Country\"] = df[\"Country\"].map(str.strip)"
   ],
   "metadata": {
    "collapsed": false,
    "pycharm": {
     "name": "#%%\n"
    }
   }
  },
  {
   "cell_type": "code",
   "execution_count": 55,
   "outputs": [],
   "source": [
    "df.set_index(\"Country\", inplace=True)"
   ],
   "metadata": {
    "collapsed": false,
    "pycharm": {
     "name": "#%%\n"
    }
   }
  },
  {
   "cell_type": "code",
   "execution_count": 56,
   "outputs": [
    {
     "data": {
      "text/plain": "                              Region  Population  Area (sq. mi.)  \\\nCountry                                                            \nAfghanistan     ASIA (EX. NEAR EAST)    31056997          647500   \nAlbania               EASTERN EUROPE     3581655           28748   \nAlgeria              NORTHERN AFRICA    32930091         2381740   \nAmerican Samoa               OCEANIA       57794             199   \nAndorra               WESTERN EUROPE       71201             468   \n...                              ...         ...             ...   \nWest Bank                  NEAR EAST     2460492            5860   \nWestern Sahara       NORTHERN AFRICA      273008          266000   \nYemen                      NEAR EAST    21456188          527970   \nZambia            SUB-SAHARAN AFRICA    11502010          752614   \nZimbabwe          SUB-SAHARAN AFRICA    12236805          390580   \n\n               Pop. Density (per sq. mi.) Coastline (coast/area ratio)  \\\nCountry                                                                  \nAfghanistan                          48,0                         0,00   \nAlbania                             124,6                         1,26   \nAlgeria                              13,8                         0,04   \nAmerican Samoa                      290,4                        58,29   \nAndorra                             152,1                         0,00   \n...                                   ...                          ...   \nWest Bank                           419,9                         0,00   \nWestern Sahara                        1,0                         0,42   \nYemen                                40,6                         0,36   \nZambia                               15,3                         0,00   \nZimbabwe                             31,3                         0,00   \n\n               Net migration Infant mortality (per 1000 births)  \\\nCountry                                                           \nAfghanistan            23,06                             163,07   \nAlbania                -4,93                              21,52   \nAlgeria                -0,39                                 31   \nAmerican Samoa        -20,71                               9,27   \nAndorra                  6,6                               4,05   \n...                      ...                                ...   \nWest Bank               2,98                              19,62   \nWestern Sahara           NaN                                NaN   \nYemen                      0                               61,5   \nZambia                     0                              88,29   \nZimbabwe                   0                              67,69   \n\n                GDP ($ per capita) Literacy (%) Phones (per 1000) Arable (%)  \\\nCountry                                                                        \nAfghanistan                  700.0         36,0               3,2      12,13   \nAlbania                     4500.0         86,5              71,2      21,09   \nAlgeria                     6000.0         70,0              78,1       3,22   \nAmerican Samoa              8000.0         97,0             259,5         10   \nAndorra                    19000.0        100,0             497,2       2,22   \n...                            ...          ...               ...        ...   \nWest Bank                    800.0          NaN             145,2       16,9   \nWestern Sahara                 NaN          NaN               NaN       0,02   \nYemen                        800.0         50,2              37,2       2,78   \nZambia                       800.0         80,6               8,2       7,08   \nZimbabwe                    1900.0         90,7              26,8       8,32   \n\n               Crops (%) Other (%) Climate Birthrate Deathrate Agriculture  \\\nCountry                                                                      \nAfghanistan         0,22     87,65       1      46,6     20,34        0,38   \nAlbania             4,42     74,49       3     15,11      5,22       0,232   \nAlgeria             0,25     96,53       1     17,14      4,61       0,101   \nAmerican Samoa        15        75       2     22,46      3,27         NaN   \nAndorra                0     97,78       3      8,71      6,25         NaN   \n...                  ...       ...     ...       ...       ...         ...   \nWest Bank          18,97     64,13       3     31,67      3,92        0,09   \nWestern Sahara         0     99,98       1       NaN       NaN         NaN   \nYemen               0,24     96,98       1     42,89       8,3       0,135   \nZambia              0,03      92,9       2        41     19,93        0,22   \nZimbabwe            0,34     91,34       2     28,01     21,84       0,179   \n\n               Industry Service  \nCountry                          \nAfghanistan        0,24    0,38  \nAlbania           0,188   0,579  \nAlgeria             0,6   0,298  \nAmerican Samoa      NaN     NaN  \nAndorra             NaN     NaN  \n...                 ...     ...  \nWest Bank          0,28    0,63  \nWestern Sahara      NaN     0,4  \nYemen             0,472   0,393  \nZambia             0,29   0,489  \nZimbabwe          0,243   0,579  \n\n[227 rows x 19 columns]",
      "text/html": "<div>\n<style scoped>\n    .dataframe tbody tr th:only-of-type {\n        vertical-align: middle;\n    }\n\n    .dataframe tbody tr th {\n        vertical-align: top;\n    }\n\n    .dataframe thead th {\n        text-align: right;\n    }\n</style>\n<table border=\"1\" class=\"dataframe\">\n  <thead>\n    <tr style=\"text-align: right;\">\n      <th></th>\n      <th>Region</th>\n      <th>Population</th>\n      <th>Area (sq. mi.)</th>\n      <th>Pop. Density (per sq. mi.)</th>\n      <th>Coastline (coast/area ratio)</th>\n      <th>Net migration</th>\n      <th>Infant mortality (per 1000 births)</th>\n      <th>GDP ($ per capita)</th>\n      <th>Literacy (%)</th>\n      <th>Phones (per 1000)</th>\n      <th>Arable (%)</th>\n      <th>Crops (%)</th>\n      <th>Other (%)</th>\n      <th>Climate</th>\n      <th>Birthrate</th>\n      <th>Deathrate</th>\n      <th>Agriculture</th>\n      <th>Industry</th>\n      <th>Service</th>\n    </tr>\n    <tr>\n      <th>Country</th>\n      <th></th>\n      <th></th>\n      <th></th>\n      <th></th>\n      <th></th>\n      <th></th>\n      <th></th>\n      <th></th>\n      <th></th>\n      <th></th>\n      <th></th>\n      <th></th>\n      <th></th>\n      <th></th>\n      <th></th>\n      <th></th>\n      <th></th>\n      <th></th>\n      <th></th>\n    </tr>\n  </thead>\n  <tbody>\n    <tr>\n      <th>Afghanistan</th>\n      <td>ASIA (EX. NEAR EAST)</td>\n      <td>31056997</td>\n      <td>647500</td>\n      <td>48,0</td>\n      <td>0,00</td>\n      <td>23,06</td>\n      <td>163,07</td>\n      <td>700.0</td>\n      <td>36,0</td>\n      <td>3,2</td>\n      <td>12,13</td>\n      <td>0,22</td>\n      <td>87,65</td>\n      <td>1</td>\n      <td>46,6</td>\n      <td>20,34</td>\n      <td>0,38</td>\n      <td>0,24</td>\n      <td>0,38</td>\n    </tr>\n    <tr>\n      <th>Albania</th>\n      <td>EASTERN EUROPE</td>\n      <td>3581655</td>\n      <td>28748</td>\n      <td>124,6</td>\n      <td>1,26</td>\n      <td>-4,93</td>\n      <td>21,52</td>\n      <td>4500.0</td>\n      <td>86,5</td>\n      <td>71,2</td>\n      <td>21,09</td>\n      <td>4,42</td>\n      <td>74,49</td>\n      <td>3</td>\n      <td>15,11</td>\n      <td>5,22</td>\n      <td>0,232</td>\n      <td>0,188</td>\n      <td>0,579</td>\n    </tr>\n    <tr>\n      <th>Algeria</th>\n      <td>NORTHERN AFRICA</td>\n      <td>32930091</td>\n      <td>2381740</td>\n      <td>13,8</td>\n      <td>0,04</td>\n      <td>-0,39</td>\n      <td>31</td>\n      <td>6000.0</td>\n      <td>70,0</td>\n      <td>78,1</td>\n      <td>3,22</td>\n      <td>0,25</td>\n      <td>96,53</td>\n      <td>1</td>\n      <td>17,14</td>\n      <td>4,61</td>\n      <td>0,101</td>\n      <td>0,6</td>\n      <td>0,298</td>\n    </tr>\n    <tr>\n      <th>American Samoa</th>\n      <td>OCEANIA</td>\n      <td>57794</td>\n      <td>199</td>\n      <td>290,4</td>\n      <td>58,29</td>\n      <td>-20,71</td>\n      <td>9,27</td>\n      <td>8000.0</td>\n      <td>97,0</td>\n      <td>259,5</td>\n      <td>10</td>\n      <td>15</td>\n      <td>75</td>\n      <td>2</td>\n      <td>22,46</td>\n      <td>3,27</td>\n      <td>NaN</td>\n      <td>NaN</td>\n      <td>NaN</td>\n    </tr>\n    <tr>\n      <th>Andorra</th>\n      <td>WESTERN EUROPE</td>\n      <td>71201</td>\n      <td>468</td>\n      <td>152,1</td>\n      <td>0,00</td>\n      <td>6,6</td>\n      <td>4,05</td>\n      <td>19000.0</td>\n      <td>100,0</td>\n      <td>497,2</td>\n      <td>2,22</td>\n      <td>0</td>\n      <td>97,78</td>\n      <td>3</td>\n      <td>8,71</td>\n      <td>6,25</td>\n      <td>NaN</td>\n      <td>NaN</td>\n      <td>NaN</td>\n    </tr>\n    <tr>\n      <th>...</th>\n      <td>...</td>\n      <td>...</td>\n      <td>...</td>\n      <td>...</td>\n      <td>...</td>\n      <td>...</td>\n      <td>...</td>\n      <td>...</td>\n      <td>...</td>\n      <td>...</td>\n      <td>...</td>\n      <td>...</td>\n      <td>...</td>\n      <td>...</td>\n      <td>...</td>\n      <td>...</td>\n      <td>...</td>\n      <td>...</td>\n      <td>...</td>\n    </tr>\n    <tr>\n      <th>West Bank</th>\n      <td>NEAR EAST</td>\n      <td>2460492</td>\n      <td>5860</td>\n      <td>419,9</td>\n      <td>0,00</td>\n      <td>2,98</td>\n      <td>19,62</td>\n      <td>800.0</td>\n      <td>NaN</td>\n      <td>145,2</td>\n      <td>16,9</td>\n      <td>18,97</td>\n      <td>64,13</td>\n      <td>3</td>\n      <td>31,67</td>\n      <td>3,92</td>\n      <td>0,09</td>\n      <td>0,28</td>\n      <td>0,63</td>\n    </tr>\n    <tr>\n      <th>Western Sahara</th>\n      <td>NORTHERN AFRICA</td>\n      <td>273008</td>\n      <td>266000</td>\n      <td>1,0</td>\n      <td>0,42</td>\n      <td>NaN</td>\n      <td>NaN</td>\n      <td>NaN</td>\n      <td>NaN</td>\n      <td>NaN</td>\n      <td>0,02</td>\n      <td>0</td>\n      <td>99,98</td>\n      <td>1</td>\n      <td>NaN</td>\n      <td>NaN</td>\n      <td>NaN</td>\n      <td>NaN</td>\n      <td>0,4</td>\n    </tr>\n    <tr>\n      <th>Yemen</th>\n      <td>NEAR EAST</td>\n      <td>21456188</td>\n      <td>527970</td>\n      <td>40,6</td>\n      <td>0,36</td>\n      <td>0</td>\n      <td>61,5</td>\n      <td>800.0</td>\n      <td>50,2</td>\n      <td>37,2</td>\n      <td>2,78</td>\n      <td>0,24</td>\n      <td>96,98</td>\n      <td>1</td>\n      <td>42,89</td>\n      <td>8,3</td>\n      <td>0,135</td>\n      <td>0,472</td>\n      <td>0,393</td>\n    </tr>\n    <tr>\n      <th>Zambia</th>\n      <td>SUB-SAHARAN AFRICA</td>\n      <td>11502010</td>\n      <td>752614</td>\n      <td>15,3</td>\n      <td>0,00</td>\n      <td>0</td>\n      <td>88,29</td>\n      <td>800.0</td>\n      <td>80,6</td>\n      <td>8,2</td>\n      <td>7,08</td>\n      <td>0,03</td>\n      <td>92,9</td>\n      <td>2</td>\n      <td>41</td>\n      <td>19,93</td>\n      <td>0,22</td>\n      <td>0,29</td>\n      <td>0,489</td>\n    </tr>\n    <tr>\n      <th>Zimbabwe</th>\n      <td>SUB-SAHARAN AFRICA</td>\n      <td>12236805</td>\n      <td>390580</td>\n      <td>31,3</td>\n      <td>0,00</td>\n      <td>0</td>\n      <td>67,69</td>\n      <td>1900.0</td>\n      <td>90,7</td>\n      <td>26,8</td>\n      <td>8,32</td>\n      <td>0,34</td>\n      <td>91,34</td>\n      <td>2</td>\n      <td>28,01</td>\n      <td>21,84</td>\n      <td>0,179</td>\n      <td>0,243</td>\n      <td>0,579</td>\n    </tr>\n  </tbody>\n</table>\n<p>227 rows × 19 columns</p>\n</div>"
     },
     "execution_count": 56,
     "metadata": {},
     "output_type": "execute_result"
    }
   ],
   "source": [
    "df"
   ],
   "metadata": {
    "collapsed": false,
    "pycharm": {
     "name": "#%%\n"
    }
   }
  },
  {
   "cell_type": "code",
   "execution_count": 57,
   "outputs": [
    {
     "data": {
      "text/plain": "                               Region  Population\nCountry                                          \nFrance                 WESTERN EUROPE    60876136\nFrench Guiana     LATIN AMER. & CARIB      199509\nFrench Polynesia              OCEANIA      274578\nGabon              SUB-SAHARAN AFRICA     1424906\nGambia, The        SUB-SAHARAN AFRICA     1641564\nGaza Strip                  NEAR EAST     1428757\nGeorgia           C.W. OF IND. STATES     4661473\nGermany                WESTERN EUROPE    82422299",
      "text/html": "<div>\n<style scoped>\n    .dataframe tbody tr th:only-of-type {\n        vertical-align: middle;\n    }\n\n    .dataframe tbody tr th {\n        vertical-align: top;\n    }\n\n    .dataframe thead th {\n        text-align: right;\n    }\n</style>\n<table border=\"1\" class=\"dataframe\">\n  <thead>\n    <tr style=\"text-align: right;\">\n      <th></th>\n      <th>Region</th>\n      <th>Population</th>\n    </tr>\n    <tr>\n      <th>Country</th>\n      <th></th>\n      <th></th>\n    </tr>\n  </thead>\n  <tbody>\n    <tr>\n      <th>France</th>\n      <td>WESTERN EUROPE</td>\n      <td>60876136</td>\n    </tr>\n    <tr>\n      <th>French Guiana</th>\n      <td>LATIN AMER. &amp; CARIB</td>\n      <td>199509</td>\n    </tr>\n    <tr>\n      <th>French Polynesia</th>\n      <td>OCEANIA</td>\n      <td>274578</td>\n    </tr>\n    <tr>\n      <th>Gabon</th>\n      <td>SUB-SAHARAN AFRICA</td>\n      <td>1424906</td>\n    </tr>\n    <tr>\n      <th>Gambia, The</th>\n      <td>SUB-SAHARAN AFRICA</td>\n      <td>1641564</td>\n    </tr>\n    <tr>\n      <th>Gaza Strip</th>\n      <td>NEAR EAST</td>\n      <td>1428757</td>\n    </tr>\n    <tr>\n      <th>Georgia</th>\n      <td>C.W. OF IND. STATES</td>\n      <td>4661473</td>\n    </tr>\n    <tr>\n      <th>Germany</th>\n      <td>WESTERN EUROPE</td>\n      <td>82422299</td>\n    </tr>\n  </tbody>\n</table>\n</div>"
     },
     "execution_count": 57,
     "metadata": {},
     "output_type": "execute_result"
    }
   ],
   "source": [
    "df.loc[\"France\":\"Germany\", [\"Region\",\"Population\"]]"
   ],
   "metadata": {
    "collapsed": false,
    "pycharm": {
     "name": "#%%\n"
    }
   }
  },
  {
   "cell_type": "markdown",
   "source": [
    "## Sorting\n"
   ],
   "metadata": {
    "collapsed": false,
    "pycharm": {
     "name": "#%% md\n"
    }
   }
  },
  {
   "cell_type": "code",
   "execution_count": 58,
   "outputs": [
    {
     "data": {
      "text/plain": "                              Region  Population  Area (sq. mi.)  \\\nCountry                                                            \nZimbabwe          SUB-SAHARAN AFRICA    12236805          390580   \nZambia            SUB-SAHARAN AFRICA    11502010          752614   \nYemen                      NEAR EAST    21456188          527970   \nWestern Sahara       NORTHERN AFRICA      273008          266000   \nWest Bank                  NEAR EAST     2460492            5860   \n...                              ...         ...             ...   \nAndorra               WESTERN EUROPE       71201             468   \nAmerican Samoa               OCEANIA       57794             199   \nAlgeria              NORTHERN AFRICA    32930091         2381740   \nAlbania               EASTERN EUROPE     3581655           28748   \nAfghanistan     ASIA (EX. NEAR EAST)    31056997          647500   \n\n               Pop. Density (per sq. mi.) Coastline (coast/area ratio)  \\\nCountry                                                                  \nZimbabwe                             31,3                         0,00   \nZambia                               15,3                         0,00   \nYemen                                40,6                         0,36   \nWestern Sahara                        1,0                         0,42   \nWest Bank                           419,9                         0,00   \n...                                   ...                          ...   \nAndorra                             152,1                         0,00   \nAmerican Samoa                      290,4                        58,29   \nAlgeria                              13,8                         0,04   \nAlbania                             124,6                         1,26   \nAfghanistan                          48,0                         0,00   \n\n               Net migration Infant mortality (per 1000 births)  \\\nCountry                                                           \nZimbabwe                   0                              67,69   \nZambia                     0                              88,29   \nYemen                      0                               61,5   \nWestern Sahara           NaN                                NaN   \nWest Bank               2,98                              19,62   \n...                      ...                                ...   \nAndorra                  6,6                               4,05   \nAmerican Samoa        -20,71                               9,27   \nAlgeria                -0,39                                 31   \nAlbania                -4,93                              21,52   \nAfghanistan            23,06                             163,07   \n\n                GDP ($ per capita) Literacy (%) Phones (per 1000) Arable (%)  \\\nCountry                                                                        \nZimbabwe                    1900.0         90,7              26,8       8,32   \nZambia                       800.0         80,6               8,2       7,08   \nYemen                        800.0         50,2              37,2       2,78   \nWestern Sahara                 NaN          NaN               NaN       0,02   \nWest Bank                    800.0          NaN             145,2       16,9   \n...                            ...          ...               ...        ...   \nAndorra                    19000.0        100,0             497,2       2,22   \nAmerican Samoa              8000.0         97,0             259,5         10   \nAlgeria                     6000.0         70,0              78,1       3,22   \nAlbania                     4500.0         86,5              71,2      21,09   \nAfghanistan                  700.0         36,0               3,2      12,13   \n\n               Crops (%) Other (%) Climate Birthrate Deathrate Agriculture  \\\nCountry                                                                      \nZimbabwe            0,34     91,34       2     28,01     21,84       0,179   \nZambia              0,03      92,9       2        41     19,93        0,22   \nYemen               0,24     96,98       1     42,89       8,3       0,135   \nWestern Sahara         0     99,98       1       NaN       NaN         NaN   \nWest Bank          18,97     64,13       3     31,67      3,92        0,09   \n...                  ...       ...     ...       ...       ...         ...   \nAndorra                0     97,78       3      8,71      6,25         NaN   \nAmerican Samoa        15        75       2     22,46      3,27         NaN   \nAlgeria             0,25     96,53       1     17,14      4,61       0,101   \nAlbania             4,42     74,49       3     15,11      5,22       0,232   \nAfghanistan         0,22     87,65       1      46,6     20,34        0,38   \n\n               Industry Service  \nCountry                          \nZimbabwe          0,243   0,579  \nZambia             0,29   0,489  \nYemen             0,472   0,393  \nWestern Sahara      NaN     0,4  \nWest Bank          0,28    0,63  \n...                 ...     ...  \nAndorra             NaN     NaN  \nAmerican Samoa      NaN     NaN  \nAlgeria             0,6   0,298  \nAlbania           0,188   0,579  \nAfghanistan        0,24    0,38  \n\n[227 rows x 19 columns]",
      "text/html": "<div>\n<style scoped>\n    .dataframe tbody tr th:only-of-type {\n        vertical-align: middle;\n    }\n\n    .dataframe tbody tr th {\n        vertical-align: top;\n    }\n\n    .dataframe thead th {\n        text-align: right;\n    }\n</style>\n<table border=\"1\" class=\"dataframe\">\n  <thead>\n    <tr style=\"text-align: right;\">\n      <th></th>\n      <th>Region</th>\n      <th>Population</th>\n      <th>Area (sq. mi.)</th>\n      <th>Pop. Density (per sq. mi.)</th>\n      <th>Coastline (coast/area ratio)</th>\n      <th>Net migration</th>\n      <th>Infant mortality (per 1000 births)</th>\n      <th>GDP ($ per capita)</th>\n      <th>Literacy (%)</th>\n      <th>Phones (per 1000)</th>\n      <th>Arable (%)</th>\n      <th>Crops (%)</th>\n      <th>Other (%)</th>\n      <th>Climate</th>\n      <th>Birthrate</th>\n      <th>Deathrate</th>\n      <th>Agriculture</th>\n      <th>Industry</th>\n      <th>Service</th>\n    </tr>\n    <tr>\n      <th>Country</th>\n      <th></th>\n      <th></th>\n      <th></th>\n      <th></th>\n      <th></th>\n      <th></th>\n      <th></th>\n      <th></th>\n      <th></th>\n      <th></th>\n      <th></th>\n      <th></th>\n      <th></th>\n      <th></th>\n      <th></th>\n      <th></th>\n      <th></th>\n      <th></th>\n      <th></th>\n    </tr>\n  </thead>\n  <tbody>\n    <tr>\n      <th>Zimbabwe</th>\n      <td>SUB-SAHARAN AFRICA</td>\n      <td>12236805</td>\n      <td>390580</td>\n      <td>31,3</td>\n      <td>0,00</td>\n      <td>0</td>\n      <td>67,69</td>\n      <td>1900.0</td>\n      <td>90,7</td>\n      <td>26,8</td>\n      <td>8,32</td>\n      <td>0,34</td>\n      <td>91,34</td>\n      <td>2</td>\n      <td>28,01</td>\n      <td>21,84</td>\n      <td>0,179</td>\n      <td>0,243</td>\n      <td>0,579</td>\n    </tr>\n    <tr>\n      <th>Zambia</th>\n      <td>SUB-SAHARAN AFRICA</td>\n      <td>11502010</td>\n      <td>752614</td>\n      <td>15,3</td>\n      <td>0,00</td>\n      <td>0</td>\n      <td>88,29</td>\n      <td>800.0</td>\n      <td>80,6</td>\n      <td>8,2</td>\n      <td>7,08</td>\n      <td>0,03</td>\n      <td>92,9</td>\n      <td>2</td>\n      <td>41</td>\n      <td>19,93</td>\n      <td>0,22</td>\n      <td>0,29</td>\n      <td>0,489</td>\n    </tr>\n    <tr>\n      <th>Yemen</th>\n      <td>NEAR EAST</td>\n      <td>21456188</td>\n      <td>527970</td>\n      <td>40,6</td>\n      <td>0,36</td>\n      <td>0</td>\n      <td>61,5</td>\n      <td>800.0</td>\n      <td>50,2</td>\n      <td>37,2</td>\n      <td>2,78</td>\n      <td>0,24</td>\n      <td>96,98</td>\n      <td>1</td>\n      <td>42,89</td>\n      <td>8,3</td>\n      <td>0,135</td>\n      <td>0,472</td>\n      <td>0,393</td>\n    </tr>\n    <tr>\n      <th>Western Sahara</th>\n      <td>NORTHERN AFRICA</td>\n      <td>273008</td>\n      <td>266000</td>\n      <td>1,0</td>\n      <td>0,42</td>\n      <td>NaN</td>\n      <td>NaN</td>\n      <td>NaN</td>\n      <td>NaN</td>\n      <td>NaN</td>\n      <td>0,02</td>\n      <td>0</td>\n      <td>99,98</td>\n      <td>1</td>\n      <td>NaN</td>\n      <td>NaN</td>\n      <td>NaN</td>\n      <td>NaN</td>\n      <td>0,4</td>\n    </tr>\n    <tr>\n      <th>West Bank</th>\n      <td>NEAR EAST</td>\n      <td>2460492</td>\n      <td>5860</td>\n      <td>419,9</td>\n      <td>0,00</td>\n      <td>2,98</td>\n      <td>19,62</td>\n      <td>800.0</td>\n      <td>NaN</td>\n      <td>145,2</td>\n      <td>16,9</td>\n      <td>18,97</td>\n      <td>64,13</td>\n      <td>3</td>\n      <td>31,67</td>\n      <td>3,92</td>\n      <td>0,09</td>\n      <td>0,28</td>\n      <td>0,63</td>\n    </tr>\n    <tr>\n      <th>...</th>\n      <td>...</td>\n      <td>...</td>\n      <td>...</td>\n      <td>...</td>\n      <td>...</td>\n      <td>...</td>\n      <td>...</td>\n      <td>...</td>\n      <td>...</td>\n      <td>...</td>\n      <td>...</td>\n      <td>...</td>\n      <td>...</td>\n      <td>...</td>\n      <td>...</td>\n      <td>...</td>\n      <td>...</td>\n      <td>...</td>\n      <td>...</td>\n    </tr>\n    <tr>\n      <th>Andorra</th>\n      <td>WESTERN EUROPE</td>\n      <td>71201</td>\n      <td>468</td>\n      <td>152,1</td>\n      <td>0,00</td>\n      <td>6,6</td>\n      <td>4,05</td>\n      <td>19000.0</td>\n      <td>100,0</td>\n      <td>497,2</td>\n      <td>2,22</td>\n      <td>0</td>\n      <td>97,78</td>\n      <td>3</td>\n      <td>8,71</td>\n      <td>6,25</td>\n      <td>NaN</td>\n      <td>NaN</td>\n      <td>NaN</td>\n    </tr>\n    <tr>\n      <th>American Samoa</th>\n      <td>OCEANIA</td>\n      <td>57794</td>\n      <td>199</td>\n      <td>290,4</td>\n      <td>58,29</td>\n      <td>-20,71</td>\n      <td>9,27</td>\n      <td>8000.0</td>\n      <td>97,0</td>\n      <td>259,5</td>\n      <td>10</td>\n      <td>15</td>\n      <td>75</td>\n      <td>2</td>\n      <td>22,46</td>\n      <td>3,27</td>\n      <td>NaN</td>\n      <td>NaN</td>\n      <td>NaN</td>\n    </tr>\n    <tr>\n      <th>Algeria</th>\n      <td>NORTHERN AFRICA</td>\n      <td>32930091</td>\n      <td>2381740</td>\n      <td>13,8</td>\n      <td>0,04</td>\n      <td>-0,39</td>\n      <td>31</td>\n      <td>6000.0</td>\n      <td>70,0</td>\n      <td>78,1</td>\n      <td>3,22</td>\n      <td>0,25</td>\n      <td>96,53</td>\n      <td>1</td>\n      <td>17,14</td>\n      <td>4,61</td>\n      <td>0,101</td>\n      <td>0,6</td>\n      <td>0,298</td>\n    </tr>\n    <tr>\n      <th>Albania</th>\n      <td>EASTERN EUROPE</td>\n      <td>3581655</td>\n      <td>28748</td>\n      <td>124,6</td>\n      <td>1,26</td>\n      <td>-4,93</td>\n      <td>21,52</td>\n      <td>4500.0</td>\n      <td>86,5</td>\n      <td>71,2</td>\n      <td>21,09</td>\n      <td>4,42</td>\n      <td>74,49</td>\n      <td>3</td>\n      <td>15,11</td>\n      <td>5,22</td>\n      <td>0,232</td>\n      <td>0,188</td>\n      <td>0,579</td>\n    </tr>\n    <tr>\n      <th>Afghanistan</th>\n      <td>ASIA (EX. NEAR EAST)</td>\n      <td>31056997</td>\n      <td>647500</td>\n      <td>48,0</td>\n      <td>0,00</td>\n      <td>23,06</td>\n      <td>163,07</td>\n      <td>700.0</td>\n      <td>36,0</td>\n      <td>3,2</td>\n      <td>12,13</td>\n      <td>0,22</td>\n      <td>87,65</td>\n      <td>1</td>\n      <td>46,6</td>\n      <td>20,34</td>\n      <td>0,38</td>\n      <td>0,24</td>\n      <td>0,38</td>\n    </tr>\n  </tbody>\n</table>\n<p>227 rows × 19 columns</p>\n</div>"
     },
     "execution_count": 58,
     "metadata": {},
     "output_type": "execute_result"
    }
   ],
   "source": [
    "df.sort_index(ascending=False)"
   ],
   "metadata": {
    "collapsed": false,
    "pycharm": {
     "name": "#%%\n"
    }
   }
  },
  {
   "cell_type": "code",
   "execution_count": 60,
   "outputs": [
    {
     "data": {
      "text/plain": "                              Region  Population  Area (sq. mi.)  \\\nCountry                                                            \nWestern Sahara       NORTHERN AFRICA      273008          266000   \nEast Timor      ASIA (EX. NEAR EAST)     1062777           15007   \nSomalia           SUB-SAHARAN AFRICA     8863338          637657   \nSierra Leone      SUB-SAHARAN AFRICA     6005250           71740   \nBurundi           SUB-SAHARAN AFRICA     8090068           27830   \n...                              ...         ...             ...   \nCayman Islands   LATIN AMER. & CARIB       45436             262   \nBermuda             NORTHERN AMERICA       65773              53   \nUnited States       NORTHERN AMERICA   298444215         9631420   \nNorway                WESTERN EUROPE     4610820          323802   \nLuxembourg            WESTERN EUROPE      474413            2586   \n\n               Pop. Density (per sq. mi.) Coastline (coast/area ratio)  \\\nCountry                                                                  \nWestern Sahara                        1,0                         0,42   \nEast Timor                           70,8                         4,70   \nSomalia                              13,9                         0,47   \nSierra Leone                         83,7                         0,56   \nBurundi                             290,7                         0,00   \n...                                   ...                          ...   \nCayman Islands                      173,4                        61,07   \nBermuda                            1241,0                       194,34   \nUnited States                        31,0                         0,21   \nNorway                               14,2                         7,77   \nLuxembourg                          183,5                         0,00   \n\n               Net migration Infant mortality (per 1000 births)  \\\nCountry                                                           \nWestern Sahara           NaN                                NaN   \nEast Timor                 0                              47,41   \nSomalia                 5,37                              116,7   \nSierra Leone               0                             143,64   \nBurundi                -0,06                              69,29   \n...                      ...                                ...   \nCayman Islands         18,75                               8,19   \nBermuda                 2,49                               8,53   \nUnited States           3,41                                6,5   \nNorway                  1,74                                3,7   \nLuxembourg              8,97                               4,81   \n\n                GDP ($ per capita) Literacy (%) Phones (per 1000) Arable (%)  \\\nCountry                                                                        \nWestern Sahara                 NaN          NaN               NaN       0,02   \nEast Timor                   500.0         58,6               NaN       4,71   \nSomalia                      500.0         37,8              11,3       1,67   \nSierra Leone                 500.0         31,4               4,0       6,98   \nBurundi                      600.0         51,6               3,4      35,05   \n...                            ...          ...               ...        ...   \nCayman Islands             35000.0         98,0             836,3       3,85   \nBermuda                    36000.0         98,0             851,4         20   \nUnited States              37800.0         97,0             898,0      19,13   \nNorway                     37800.0        100,0             461,7       2,87   \nLuxembourg                 55100.0        100,0             515,4      23,28   \n\n               Crops (%) Other (%) Climate Birthrate Deathrate Agriculture  \\\nCountry                                                                      \nWestern Sahara         0     99,98       1       NaN       NaN         NaN   \nEast Timor          0,67     94,62       2     26,99      6,24       0,085   \nSomalia             0,04     98,29       1     45,13     16,63        0,65   \nSierra Leone        0,89     92,13       2     45,76     23,03        0,49   \nBurundi            14,02     50,93       2     42,22     13,46       0,463   \n...                  ...       ...     ...       ...       ...         ...   \nCayman Islands         0     96,15       2     12,74      4,89       0,014   \nBermuda                0        80       2      11,4      7,74        0,01   \nUnited States       0,22     80,65       3     14,14      8,26        0,01   \nNorway                 0     97,13       3     11,46       9,4       0,021   \nLuxembourg           0,4     76,32     NaN     11,94      8,41        0,01   \n\n               Industry Service  \nCountry                          \nWestern Sahara      NaN     0,4  \nEast Timor        0,231   0,684  \nSomalia             0,1    0,25  \nSierra Leone       0,31    0,21  \nBurundi           0,203   0,334  \n...                 ...     ...  \nCayman Islands    0,032   0,954  \nBermuda             0,1    0,89  \nUnited States     0,204   0,787  \nNorway            0,415   0,564  \nLuxembourg         0,13    0,86  \n\n[227 rows x 19 columns]",
      "text/html": "<div>\n<style scoped>\n    .dataframe tbody tr th:only-of-type {\n        vertical-align: middle;\n    }\n\n    .dataframe tbody tr th {\n        vertical-align: top;\n    }\n\n    .dataframe thead th {\n        text-align: right;\n    }\n</style>\n<table border=\"1\" class=\"dataframe\">\n  <thead>\n    <tr style=\"text-align: right;\">\n      <th></th>\n      <th>Region</th>\n      <th>Population</th>\n      <th>Area (sq. mi.)</th>\n      <th>Pop. Density (per sq. mi.)</th>\n      <th>Coastline (coast/area ratio)</th>\n      <th>Net migration</th>\n      <th>Infant mortality (per 1000 births)</th>\n      <th>GDP ($ per capita)</th>\n      <th>Literacy (%)</th>\n      <th>Phones (per 1000)</th>\n      <th>Arable (%)</th>\n      <th>Crops (%)</th>\n      <th>Other (%)</th>\n      <th>Climate</th>\n      <th>Birthrate</th>\n      <th>Deathrate</th>\n      <th>Agriculture</th>\n      <th>Industry</th>\n      <th>Service</th>\n    </tr>\n    <tr>\n      <th>Country</th>\n      <th></th>\n      <th></th>\n      <th></th>\n      <th></th>\n      <th></th>\n      <th></th>\n      <th></th>\n      <th></th>\n      <th></th>\n      <th></th>\n      <th></th>\n      <th></th>\n      <th></th>\n      <th></th>\n      <th></th>\n      <th></th>\n      <th></th>\n      <th></th>\n      <th></th>\n    </tr>\n  </thead>\n  <tbody>\n    <tr>\n      <th>Western Sahara</th>\n      <td>NORTHERN AFRICA</td>\n      <td>273008</td>\n      <td>266000</td>\n      <td>1,0</td>\n      <td>0,42</td>\n      <td>NaN</td>\n      <td>NaN</td>\n      <td>NaN</td>\n      <td>NaN</td>\n      <td>NaN</td>\n      <td>0,02</td>\n      <td>0</td>\n      <td>99,98</td>\n      <td>1</td>\n      <td>NaN</td>\n      <td>NaN</td>\n      <td>NaN</td>\n      <td>NaN</td>\n      <td>0,4</td>\n    </tr>\n    <tr>\n      <th>East Timor</th>\n      <td>ASIA (EX. NEAR EAST)</td>\n      <td>1062777</td>\n      <td>15007</td>\n      <td>70,8</td>\n      <td>4,70</td>\n      <td>0</td>\n      <td>47,41</td>\n      <td>500.0</td>\n      <td>58,6</td>\n      <td>NaN</td>\n      <td>4,71</td>\n      <td>0,67</td>\n      <td>94,62</td>\n      <td>2</td>\n      <td>26,99</td>\n      <td>6,24</td>\n      <td>0,085</td>\n      <td>0,231</td>\n      <td>0,684</td>\n    </tr>\n    <tr>\n      <th>Somalia</th>\n      <td>SUB-SAHARAN AFRICA</td>\n      <td>8863338</td>\n      <td>637657</td>\n      <td>13,9</td>\n      <td>0,47</td>\n      <td>5,37</td>\n      <td>116,7</td>\n      <td>500.0</td>\n      <td>37,8</td>\n      <td>11,3</td>\n      <td>1,67</td>\n      <td>0,04</td>\n      <td>98,29</td>\n      <td>1</td>\n      <td>45,13</td>\n      <td>16,63</td>\n      <td>0,65</td>\n      <td>0,1</td>\n      <td>0,25</td>\n    </tr>\n    <tr>\n      <th>Sierra Leone</th>\n      <td>SUB-SAHARAN AFRICA</td>\n      <td>6005250</td>\n      <td>71740</td>\n      <td>83,7</td>\n      <td>0,56</td>\n      <td>0</td>\n      <td>143,64</td>\n      <td>500.0</td>\n      <td>31,4</td>\n      <td>4,0</td>\n      <td>6,98</td>\n      <td>0,89</td>\n      <td>92,13</td>\n      <td>2</td>\n      <td>45,76</td>\n      <td>23,03</td>\n      <td>0,49</td>\n      <td>0,31</td>\n      <td>0,21</td>\n    </tr>\n    <tr>\n      <th>Burundi</th>\n      <td>SUB-SAHARAN AFRICA</td>\n      <td>8090068</td>\n      <td>27830</td>\n      <td>290,7</td>\n      <td>0,00</td>\n      <td>-0,06</td>\n      <td>69,29</td>\n      <td>600.0</td>\n      <td>51,6</td>\n      <td>3,4</td>\n      <td>35,05</td>\n      <td>14,02</td>\n      <td>50,93</td>\n      <td>2</td>\n      <td>42,22</td>\n      <td>13,46</td>\n      <td>0,463</td>\n      <td>0,203</td>\n      <td>0,334</td>\n    </tr>\n    <tr>\n      <th>...</th>\n      <td>...</td>\n      <td>...</td>\n      <td>...</td>\n      <td>...</td>\n      <td>...</td>\n      <td>...</td>\n      <td>...</td>\n      <td>...</td>\n      <td>...</td>\n      <td>...</td>\n      <td>...</td>\n      <td>...</td>\n      <td>...</td>\n      <td>...</td>\n      <td>...</td>\n      <td>...</td>\n      <td>...</td>\n      <td>...</td>\n      <td>...</td>\n    </tr>\n    <tr>\n      <th>Cayman Islands</th>\n      <td>LATIN AMER. &amp; CARIB</td>\n      <td>45436</td>\n      <td>262</td>\n      <td>173,4</td>\n      <td>61,07</td>\n      <td>18,75</td>\n      <td>8,19</td>\n      <td>35000.0</td>\n      <td>98,0</td>\n      <td>836,3</td>\n      <td>3,85</td>\n      <td>0</td>\n      <td>96,15</td>\n      <td>2</td>\n      <td>12,74</td>\n      <td>4,89</td>\n      <td>0,014</td>\n      <td>0,032</td>\n      <td>0,954</td>\n    </tr>\n    <tr>\n      <th>Bermuda</th>\n      <td>NORTHERN AMERICA</td>\n      <td>65773</td>\n      <td>53</td>\n      <td>1241,0</td>\n      <td>194,34</td>\n      <td>2,49</td>\n      <td>8,53</td>\n      <td>36000.0</td>\n      <td>98,0</td>\n      <td>851,4</td>\n      <td>20</td>\n      <td>0</td>\n      <td>80</td>\n      <td>2</td>\n      <td>11,4</td>\n      <td>7,74</td>\n      <td>0,01</td>\n      <td>0,1</td>\n      <td>0,89</td>\n    </tr>\n    <tr>\n      <th>United States</th>\n      <td>NORTHERN AMERICA</td>\n      <td>298444215</td>\n      <td>9631420</td>\n      <td>31,0</td>\n      <td>0,21</td>\n      <td>3,41</td>\n      <td>6,5</td>\n      <td>37800.0</td>\n      <td>97,0</td>\n      <td>898,0</td>\n      <td>19,13</td>\n      <td>0,22</td>\n      <td>80,65</td>\n      <td>3</td>\n      <td>14,14</td>\n      <td>8,26</td>\n      <td>0,01</td>\n      <td>0,204</td>\n      <td>0,787</td>\n    </tr>\n    <tr>\n      <th>Norway</th>\n      <td>WESTERN EUROPE</td>\n      <td>4610820</td>\n      <td>323802</td>\n      <td>14,2</td>\n      <td>7,77</td>\n      <td>1,74</td>\n      <td>3,7</td>\n      <td>37800.0</td>\n      <td>100,0</td>\n      <td>461,7</td>\n      <td>2,87</td>\n      <td>0</td>\n      <td>97,13</td>\n      <td>3</td>\n      <td>11,46</td>\n      <td>9,4</td>\n      <td>0,021</td>\n      <td>0,415</td>\n      <td>0,564</td>\n    </tr>\n    <tr>\n      <th>Luxembourg</th>\n      <td>WESTERN EUROPE</td>\n      <td>474413</td>\n      <td>2586</td>\n      <td>183,5</td>\n      <td>0,00</td>\n      <td>8,97</td>\n      <td>4,81</td>\n      <td>55100.0</td>\n      <td>100,0</td>\n      <td>515,4</td>\n      <td>23,28</td>\n      <td>0,4</td>\n      <td>76,32</td>\n      <td>NaN</td>\n      <td>11,94</td>\n      <td>8,41</td>\n      <td>0,01</td>\n      <td>0,13</td>\n      <td>0,86</td>\n    </tr>\n  </tbody>\n</table>\n<p>227 rows × 19 columns</p>\n</div>"
     },
     "execution_count": 60,
     "metadata": {},
     "output_type": "execute_result"
    }
   ],
   "source": [
    "df.sort_values(by = 'GDP ($ per capita)', na_position='first')"
   ],
   "metadata": {
    "collapsed": false,
    "pycharm": {
     "name": "#%%\n"
    }
   }
  },
  {
   "cell_type": "markdown",
   "source": [
    "## Pandas grouping\n",
    "* 1- Split into groups by keys\n",
    "* 2- Apply: aggregate function (sum,mean)\n",
    "* 3- Combine: previous are merged"
   ],
   "metadata": {
    "collapsed": false,
    "pycharm": {
     "name": "#%% md\n"
    }
   }
  },
  {
   "cell_type": "code",
   "execution_count": 61,
   "outputs": [],
   "source": [
    "regions = df.groupby(\"Region\")"
   ],
   "metadata": {
    "collapsed": false,
    "pycharm": {
     "name": "#%%\n"
    }
   }
  },
  {
   "cell_type": "code",
   "execution_count": 63,
   "outputs": [
    {
     "data": {
      "text/plain": "Index(['Region', 'Population', 'Area (sq. mi.)', 'Pop. Density (per sq. mi.)',\n       'Coastline (coast/area ratio)', 'Net migration',\n       'Infant mortality (per 1000 births)', 'GDP ($ per capita)',\n       'Literacy (%)', 'Phones (per 1000)', 'Arable (%)', 'Crops (%)',\n       'Other (%)', 'Climate', 'Birthrate', 'Deathrate', 'Agriculture',\n       'Industry', 'Service'],\n      dtype='object')"
     },
     "execution_count": 63,
     "metadata": {},
     "output_type": "execute_result"
    }
   ],
   "source": [
    "df.columns"
   ],
   "metadata": {
    "collapsed": false,
    "pycharm": {
     "name": "#%%\n"
    }
   }
  },
  {
   "cell_type": "code",
   "execution_count": 65,
   "outputs": [
    {
     "data": {
      "text/plain": "                      Population  Area (sq. mi.)\nRegion                                          \nASIA (EX. NEAR EAST)  3687982236        23096712\nBALTICS                  7184974          175015\nC.W. OF IND. STATES    280081548        22100843\nEASTERN EUROPE         119914717         1152222\nLATIN AMER. & CARIB    561824599        20544084\nNEAR EAST              195068377         4355586\nNORTHERN AFRICA        161407133         6018890\nNORTHERN AMERICA       331672307        21782471\nOCEANIA                 33131662         8519812\nSUB-SAHARAN AFRICA     749437000        24341406\nWESTERN EUROPE         396339998         3710478",
      "text/html": "<div>\n<style scoped>\n    .dataframe tbody tr th:only-of-type {\n        vertical-align: middle;\n    }\n\n    .dataframe tbody tr th {\n        vertical-align: top;\n    }\n\n    .dataframe thead th {\n        text-align: right;\n    }\n</style>\n<table border=\"1\" class=\"dataframe\">\n  <thead>\n    <tr style=\"text-align: right;\">\n      <th></th>\n      <th>Population</th>\n      <th>Area (sq. mi.)</th>\n    </tr>\n    <tr>\n      <th>Region</th>\n      <th></th>\n      <th></th>\n    </tr>\n  </thead>\n  <tbody>\n    <tr>\n      <th>ASIA (EX. NEAR EAST)</th>\n      <td>3687982236</td>\n      <td>23096712</td>\n    </tr>\n    <tr>\n      <th>BALTICS</th>\n      <td>7184974</td>\n      <td>175015</td>\n    </tr>\n    <tr>\n      <th>C.W. OF IND. STATES</th>\n      <td>280081548</td>\n      <td>22100843</td>\n    </tr>\n    <tr>\n      <th>EASTERN EUROPE</th>\n      <td>119914717</td>\n      <td>1152222</td>\n    </tr>\n    <tr>\n      <th>LATIN AMER. &amp; CARIB</th>\n      <td>561824599</td>\n      <td>20544084</td>\n    </tr>\n    <tr>\n      <th>NEAR EAST</th>\n      <td>195068377</td>\n      <td>4355586</td>\n    </tr>\n    <tr>\n      <th>NORTHERN AFRICA</th>\n      <td>161407133</td>\n      <td>6018890</td>\n    </tr>\n    <tr>\n      <th>NORTHERN AMERICA</th>\n      <td>331672307</td>\n      <td>21782471</td>\n    </tr>\n    <tr>\n      <th>OCEANIA</th>\n      <td>33131662</td>\n      <td>8519812</td>\n    </tr>\n    <tr>\n      <th>SUB-SAHARAN AFRICA</th>\n      <td>749437000</td>\n      <td>24341406</td>\n    </tr>\n    <tr>\n      <th>WESTERN EUROPE</th>\n      <td>396339998</td>\n      <td>3710478</td>\n    </tr>\n  </tbody>\n</table>\n</div>"
     },
     "execution_count": 65,
     "metadata": {},
     "output_type": "execute_result"
    }
   ],
   "source": [
    "regions[[\"Population\", \"Area (sq. mi.)\"]].sum()"
   ],
   "metadata": {
    "collapsed": false,
    "pycharm": {
     "name": "#%%\n"
    }
   }
  },
  {
   "cell_type": "code",
   "execution_count": 69,
   "outputs": [
    {
     "data": {
      "text/plain": "                      Population  Area (sq. mi.)\nRegion                                          \nASIA (EX. NEAR EAST)  3687982236        23096712\nSUB-SAHARAN AFRICA     749437000        24341406\nLATIN AMER. & CARIB    561824599        20544084\nWESTERN EUROPE         396339998         3710478\nNORTHERN AMERICA       331672307        21782471\nC.W. OF IND. STATES    280081548        22100843\nNEAR EAST              195068377         4355586\nNORTHERN AFRICA        161407133         6018890\nEASTERN EUROPE         119914717         1152222\nOCEANIA                 33131662         8519812\nBALTICS                  7184974          175015",
      "text/html": "<div>\n<style scoped>\n    .dataframe tbody tr th:only-of-type {\n        vertical-align: middle;\n    }\n\n    .dataframe tbody tr th {\n        vertical-align: top;\n    }\n\n    .dataframe thead th {\n        text-align: right;\n    }\n</style>\n<table border=\"1\" class=\"dataframe\">\n  <thead>\n    <tr style=\"text-align: right;\">\n      <th></th>\n      <th>Population</th>\n      <th>Area (sq. mi.)</th>\n    </tr>\n    <tr>\n      <th>Region</th>\n      <th></th>\n      <th></th>\n    </tr>\n  </thead>\n  <tbody>\n    <tr>\n      <th>ASIA (EX. NEAR EAST)</th>\n      <td>3687982236</td>\n      <td>23096712</td>\n    </tr>\n    <tr>\n      <th>SUB-SAHARAN AFRICA</th>\n      <td>749437000</td>\n      <td>24341406</td>\n    </tr>\n    <tr>\n      <th>LATIN AMER. &amp; CARIB</th>\n      <td>561824599</td>\n      <td>20544084</td>\n    </tr>\n    <tr>\n      <th>WESTERN EUROPE</th>\n      <td>396339998</td>\n      <td>3710478</td>\n    </tr>\n    <tr>\n      <th>NORTHERN AMERICA</th>\n      <td>331672307</td>\n      <td>21782471</td>\n    </tr>\n    <tr>\n      <th>C.W. OF IND. STATES</th>\n      <td>280081548</td>\n      <td>22100843</td>\n    </tr>\n    <tr>\n      <th>NEAR EAST</th>\n      <td>195068377</td>\n      <td>4355586</td>\n    </tr>\n    <tr>\n      <th>NORTHERN AFRICA</th>\n      <td>161407133</td>\n      <td>6018890</td>\n    </tr>\n    <tr>\n      <th>EASTERN EUROPE</th>\n      <td>119914717</td>\n      <td>1152222</td>\n    </tr>\n    <tr>\n      <th>OCEANIA</th>\n      <td>33131662</td>\n      <td>8519812</td>\n    </tr>\n    <tr>\n      <th>BALTICS</th>\n      <td>7184974</td>\n      <td>175015</td>\n    </tr>\n  </tbody>\n</table>\n</div>"
     },
     "execution_count": 69,
     "metadata": {},
     "output_type": "execute_result"
    }
   ],
   "source": [
    "regions[[\"Population\", \"Area (sq. mi.)\"]].sum().sort_values(by = 'Population', ascending=False)"
   ],
   "metadata": {
    "collapsed": false,
    "pycharm": {
     "name": "#%%\n"
    }
   }
  },
  {
   "cell_type": "code",
   "execution_count": null,
   "outputs": [],
   "source": [],
   "metadata": {
    "collapsed": false,
    "pycharm": {
     "name": "#%%\n"
    }
   }
  }
 ],
 "metadata": {
  "kernelspec": {
   "display_name": "Python 3",
   "language": "python",
   "name": "python3"
  },
  "language_info": {
   "codemirror_mode": {
    "name": "ipython",
    "version": 2
   },
   "file_extension": ".py",
   "mimetype": "text/x-python",
   "name": "python",
   "nbconvert_exporter": "python",
   "pygments_lexer": "ipython2",
   "version": "2.7.6"
  }
 },
 "nbformat": 4,
 "nbformat_minor": 0
}