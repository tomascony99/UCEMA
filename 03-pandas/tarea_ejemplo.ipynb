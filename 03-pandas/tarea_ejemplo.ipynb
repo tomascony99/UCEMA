{
 "cells": [
  {
   "cell_type": "code",
   "execution_count": 1,
   "id": "6924dd14",
   "metadata": {
    "pycharm": {
     "name": "#%%\n"
    }
   },
   "outputs": [
    {
     "name": "stdout",
     "output_type": "stream",
     "text": [
      "alllines.txt       para_borrar.tsv    spam.csv           \u001B[1m\u001B[36mventas_comercial\u001B[m\u001B[m\r\n",
      "countries.csv      prueba.csv         tarea_del_nene.csv\r\n"
     ]
    }
   ],
   "source": [
    "!ls data/"
   ]
  },
  {
   "cell_type": "code",
   "execution_count": 2,
   "id": "e53df851",
   "metadata": {
    "pycharm": {
     "name": "#%%\n"
    }
   },
   "outputs": [],
   "source": [
    "import pandas as pd"
   ]
  },
  {
   "cell_type": "code",
   "execution_count": 3,
   "id": "a856f6d6",
   "metadata": {
    "pycharm": {
     "name": "#%%\n"
    }
   },
   "outputs": [
    {
     "name": "stdout",
     "output_type": "stream",
     "text": [
      "alllines.txt       para_borrar.tsv    spam.csv           \u001B[1m\u001B[36mventas_comercial\u001B[m\u001B[m\r\n",
      "countries.csv      prueba.csv         tarea_del_nene.csv\r\n"
     ]
    }
   ],
   "source": [
    "!ls data"
   ]
  },
  {
   "cell_type": "code",
   "execution_count": 4,
   "id": "7663305b",
   "metadata": {
    "pycharm": {
     "name": "#%%\n"
    }
   },
   "outputs": [
    {
     "name": "stdout",
     "output_type": "stream",
     "text": [
      "/Users/federicomoreno/PycharmProjects/UCEMA/03-pandas\r\n"
     ]
    }
   ],
   "source": [
    "!pwd"
   ]
  },
  {
   "cell_type": "code",
   "execution_count": 5,
   "id": "bc26aba9",
   "metadata": {
    "pycharm": {
     "name": "#%%\n"
    }
   },
   "outputs": [
    {
     "name": "stdout",
     "output_type": "stream",
     "text": [
      "v1,v2,,,\r\n",
      "ham,\"Go until jurong point, crazy.. Available only in bugis n great world la e buffet... Cine there got amore wat...\",,,\r\n",
      "ham,Ok lar... Joking wif u oni...,,,\r\n",
      "spam,Free entry in 2 a wkly comp to win FA Cup final tkts 21st May 2005. Text FA to 87121 to receive entry question(std txt rate)T&C's apply 08452810075over18's,,,\r\n",
      "ham,U dun say so early hor... U c already then say...,,,\r\n",
      "ham,\"Nah I don't think he goes to usf, he lives around here though\",,,\r\n",
      "spam,\"FreeMsg Hey there darling it's been 3 week's now and no word back! I'd like some fun you up for it still? Tb ok! XxX std chgs to send, �1.50 to rcv\",,,\r\n",
      "ham,Even my brother is not like to speak with me. They treat me like aids patent.,,,\r\n",
      "ham,As per your request 'Melle Melle (Oru Minnaminunginte Nurungu Vettam)' has been set as your callertune for all Callers. Press *9 to copy your friends Callertune,,,\r\n",
      "spam,WINNER!! As a valued network customer you have been selected to receivea �900 prize reward! To claim call 09061701461. Claim code KL341. Valid 12 hours only.,,,\r\n"
     ]
    }
   ],
   "source": [
    "!head data/spam.csv"
   ]
  },
  {
   "cell_type": "code",
   "execution_count": 20,
   "id": "114a1d5c",
   "metadata": {
    "pycharm": {
     "name": "#%%\n"
    }
   },
   "outputs": [],
   "source": [
    "df = pd.read_csv(\"data/spam.csv\", encoding=\"latin1\", usecols=[\"v1\",\"v2\"])\n",
    "#buscar videito de que son los enconding y porque UTC-8 es distinto de latin"
   ]
  },
  {
   "cell_type": "code",
   "execution_count": 22,
   "id": "1ddc007c",
   "metadata": {
    "pycharm": {
     "name": "#%%\n"
    }
   },
   "outputs": [
    {
     "name": "stdout",
     "output_type": "stream",
     "text": [
      "<class 'pandas.core.frame.DataFrame'>\n",
      "RangeIndex: 5572 entries, 0 to 5571\n",
      "Data columns (total 2 columns):\n",
      " #   Column  Non-Null Count  Dtype \n",
      "---  ------  --------------  ----- \n",
      " 0   v1      5572 non-null   object\n",
      " 1   v2      5572 non-null   object\n",
      "dtypes: object(2)\n",
      "memory usage: 87.2+ KB\n"
     ]
    }
   ],
   "source": [
    "df.info()"
   ]
  },
  {
   "cell_type": "code",
   "execution_count": 23,
   "outputs": [
    {
     "name": "stdout",
     "output_type": "stream",
     "text": [
      "La cantidad de mensajes únicos en toda la población  es 5169 y representa en proporción 0.9276740847092606 \n"
     ]
    }
   ],
   "source": [
    "print(f\"La cantidad de mensajes únicos en toda la población  es {df.v2.nunique()} y representa en proporción {df.v2.nunique()/len(df)} \")"
   ],
   "metadata": {
    "collapsed": false,
    "pycharm": {
     "name": "#%%\n"
    }
   }
  },
  {
   "cell_type": "code",
   "execution_count": 37,
   "outputs": [
    {
     "name": "stdout",
     "output_type": "stream",
     "text": [
      "La cantidad de mensajes únicos en toda la población de spam es 653, el total es 747. Es decir, los únicos representan en proporción 0.8741633199464525 \n"
     ]
    }
   ],
   "source": [
    "filtro = (df.v1 == \"spam\")\n",
    "spam_df = df[filtro]\n",
    "print(f\"La cantidad de mensajes únicos en toda la población de spam es {spam_df.v2.nunique()}, el total es {len(spam_df)}. Es decir, los únicos representan en proporción {spam_df.v2.nunique()/len(spam_df)} \")"
   ],
   "metadata": {
    "collapsed": false,
    "pycharm": {
     "name": "#%%\n"
    }
   }
  },
  {
   "cell_type": "code",
   "execution_count": 34,
   "outputs": [
    {
     "data": {
      "text/plain": "Please call our customer service representative on FREEPHONE 0808 145 4742 between 9am-11pm as you have WON a guaranteed å£1000 cash or å£5000 prize!                4\nI don't know u and u don't know me. Send CHAT to 86688 now and let's find each other! Only 150p/Msg rcvd. HG/Suite342/2Lands/Row/W1J6HL LDN. 18 years or over.       3\nCamera - You are awarded a SiPix Digital Camera! call 09061221066 fromm landline. Delivery within 28 days.                                                           3\nHMV BONUS SPECIAL 500 pounds of genuine HMV vouchers to be won. Just answer 4 easy questions. Play Now! Send HMV to 86688 More info:www.100percent-real.com          3\nFREE for 1st week! No1 Nokia tone 4 ur mob every week just txt NOKIA to 8007 Get txting and tell ur mates www.getzed.co.uk POBox 36504 W45WQ norm150p/tone 16+       3\n                                                                                                                                                                    ..\nYou have WON a guaranteed å£1000 cash or a å£2000 prize.To claim yr prize call our customer service representative on                                                1\nWould you like to see my XXX pics they are so hot they were nearly banned in the uk!                                                                                 1\nU have a secret admirer who is looking 2 make contact with U-find out who they R*reveal who thinks UR so special-call on 09058094594                                 1\nDear 0776xxxxxxx U've been invited to XCHAT. This is our final attempt to contact u! Txt CHAT to 86688 150p/MsgrcvdHG/Suite342/2Lands/Row/W1J6HL LDN 18yrs           1\nThis is the 2nd time we have tried 2 contact u. U have won the å£750 Pound prize. 2 claim is easy, call 087187272008 NOW1! Only 10p per minute. BT-national-rate.    1\nName: v2, Length: 653, dtype: int64"
     },
     "execution_count": 34,
     "metadata": {},
     "output_type": "execute_result"
    }
   ],
   "source": [
    "spam_df[\"v2\"].value_counts()"
   ],
   "metadata": {
    "collapsed": false,
    "pycharm": {
     "name": "#%%\n"
    }
   }
  },
  {
   "cell_type": "code",
   "execution_count": 39,
   "outputs": [
    {
     "name": "stdout",
     "output_type": "stream",
     "text": [
      "La cantidad de mensajes únicos en toda la población de ham es 4516, el total es 4825. Es decir, los únicos representan en proporción 0.935958549222798 \n"
     ]
    }
   ],
   "source": [
    "ham_df = df[~filtro]\n",
    "print(f\"La cantidad de mensajes únicos en toda la población de ham es {ham_df.v2.nunique()}, el total es {len(ham_df)}. Es decir, los únicos representan en proporción {ham_df.v2.nunique()/len(ham_df)} \")"
   ],
   "metadata": {
    "collapsed": false,
    "pycharm": {
     "name": "#%%\n"
    }
   }
  },
  {
   "cell_type": "code",
   "execution_count": 36,
   "id": "0b59dd74",
   "metadata": {
    "pycharm": {
     "name": "#%%\n"
    }
   },
   "outputs": [
    {
     "data": {
      "text/plain": "Sorry, I'll call later                                                                                                                                                 30\nI cant pick the phone right now. Pls send a message                                                                                                                    12\nOk...                                                                                                                                                                  10\nSay this slowly.? GOD,I LOVE YOU &amp; I NEED YOU,CLEAN MY HEART WITH YOUR BLOOD.Send this to Ten special people &amp; u c miracle tomorrow, do it,pls,pls do it...     4\nYour opinion about me? 1. Over 2. Jada 3. Kusruthi 4. Lovable 5. Silent 6. Spl character 7. Not matured 8. Stylish 9. Simple Pls reply..                                4\n                                                                                                                                                                       ..\nThere're some people by mu, I'm at the table by lambda                                                                                                                  1\nAnd stop being an old man. You get to build snowman snow angels and snowball fights.                                                                                    1\nELLO BABE U OK?                                                                                                                                                         1\nHello beautiful r u ok? I've kinda ad a row wiv and he walked out the pub?? I wanted a night wiv u Miss u                                                               1\nRofl. Its true to its name                                                                                                                                              1\nName: v2, Length: 4516, dtype: int64"
     },
     "execution_count": 36,
     "metadata": {},
     "output_type": "execute_result"
    }
   ],
   "source": [
    "ham_df[\"v2\"].value_counts()\n"
   ]
  },
  {
   "cell_type": "code",
   "execution_count": null,
   "id": "218ccd2f",
   "metadata": {
    "pycharm": {
     "name": "#%%\n"
    }
   },
   "outputs": [],
   "source": []
  }
 ],
 "metadata": {
  "kernelspec": {
   "display_name": "Python 3 (ipykernel)",
   "language": "python",
   "name": "python3"
  },
  "language_info": {
   "codemirror_mode": {
    "name": "ipython",
    "version": 3
   },
   "file_extension": ".py",
   "mimetype": "text/x-python",
   "name": "python",
   "nbconvert_exporter": "python",
   "pygments_lexer": "ipython3",
   "version": "3.8.9"
  }
 },
 "nbformat": 4,
 "nbformat_minor": 5
}