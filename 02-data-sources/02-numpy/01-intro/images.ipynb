{
 "cells": [
  {
   "cell_type": "code",
   "execution_count": 8,
   "outputs": [
    {
     "name": "stdout",
     "output_type": "stream",
     "text": [
      "/Users/federicomoreno/PycharmProjects/UCEMA/02-data-sources/02-numpy/01-intro\r\n"
     ]
    }
   ],
   "source": [],
   "metadata": {
    "collapsed": false,
    "pycharm": {
     "name": "#%%\n"
    }
   }
  },
  {
   "cell_type": "code",
   "execution_count": 9,
   "outputs": [
    {
     "name": "stdout",
     "output_type": "stream",
     "text": [
      "hello\n"
     ]
    }
   ],
   "source": [
    "print(\"hello\")"
   ],
   "metadata": {
    "collapsed": false,
    "pycharm": {
     "name": "#%%\n"
    }
   }
  },
  {
   "cell_type": "code",
   "execution_count": 10,
   "metadata": {
    "collapsed": true,
    "pycharm": {
     "name": "#%%\n"
    }
   },
   "outputs": [
    {
     "name": "stdout",
     "output_type": "stream",
     "text": [
      "<class 'numpy.ndarray'>\n"
     ]
    }
   ],
   "source": [
    "#Import the necessary libraries\n",
    "from PIL import Image\n",
    "from numpy import asarray\n",
    "\n",
    "\n",
    "img = Image.open('img.png')\n",
    "\n",
    "# asarray() class is used to convert\n",
    "# PIL images into NumPy arrays\n",
    "numpydata = asarray(img)\n",
    "\n",
    "# <class 'numpy.ndarray'>\n",
    "print(type(numpydata))\n"
   ]
  },
  {
   "cell_type": "code",
   "execution_count": 11,
   "outputs": [
    {
     "name": "stdout",
     "output_type": "stream",
     "text": [
      "(1280, 1920, 4)\n"
     ]
    }
   ],
   "source": [
    "\n",
    "#  shape\n",
    "print(numpydata.shape)\n",
    "\n"
   ],
   "metadata": {
    "collapsed": false,
    "pycharm": {
     "name": "#%%\n"
    }
   }
  },
  {
   "cell_type": "code",
   "execution_count": null,
   "outputs": [],
   "source": [],
   "metadata": {
    "collapsed": false,
    "pycharm": {
     "name": "#%%\n"
    }
   }
  },
  {
   "cell_type": "code",
   "execution_count": 3,
   "outputs": [
    {
     "name": "stdout",
     "output_type": "stream",
     "text": [
      "[[[ 20 126 201 255]\n",
      "  [ 20 126 201 255]\n",
      "  [ 20 126 201 255]\n",
      "  ...\n",
      "  [  0 116 188 255]\n",
      "  [  0 120 192 255]\n",
      "  [  0 125 196 255]]\n",
      "\n",
      " [[ 20 126 201 255]\n",
      "  [ 20 126 201 255]\n",
      "  [ 20 126 201 255]\n",
      "  ...\n",
      "  [  0 120 192 255]\n",
      "  [  0 123 195 255]\n",
      "  [  0 126 197 255]]\n",
      "\n",
      " [[ 20 126 201 255]\n",
      "  [ 20 126 201 255]\n",
      "  [ 20 126 201 255]\n",
      "  ...\n",
      "  [  0 126 197 255]\n",
      "  [  0 126 197 255]\n",
      "  [  0 126 197 255]]\n",
      "\n",
      " ...\n",
      "\n",
      " [[  0  23  59 255]\n",
      "  [  0  23  59 255]\n",
      "  [  0  25  60 255]\n",
      "  ...\n",
      "  [ 70  81  54 255]\n",
      "  [135 146 120 255]\n",
      "  [149 160 134 255]]\n",
      "\n",
      " [[  0  22  57 255]\n",
      "  [  0  23  58 255]\n",
      "  [  0  25  60 255]\n",
      "  ...\n",
      "  [  0   5   0 255]\n",
      "  [ 20  31   4 255]\n",
      "  [ 98 109  82 255]]\n",
      "\n",
      " [[  0  21  56 255]\n",
      "  [  0  23  58 255]\n",
      "  [  0  25  60 255]\n",
      "  ...\n",
      "  [ 13  24   0 255]\n",
      "  [ 10  22   0 255]\n",
      "  [ 15  25   0 255]]]\n"
     ]
    }
   ],
   "source": [
    "\n",
    "# data\n",
    "print(numpydata)"
   ],
   "metadata": {
    "collapsed": false,
    "pycharm": {
     "name": "#%%\n"
    }
   }
  },
  {
   "cell_type": "code",
   "execution_count": null,
   "outputs": [],
   "source": [],
   "metadata": {
    "collapsed": false,
    "pycharm": {
     "name": "#%%\n"
    }
   }
  }
 ],
 "metadata": {
  "kernelspec": {
   "display_name": "Python 3",
   "language": "python",
   "name": "python3"
  },
  "language_info": {
   "codemirror_mode": {
    "name": "ipython",
    "version": 2
   },
   "file_extension": ".py",
   "mimetype": "text/x-python",
   "name": "python",
   "nbconvert_exporter": "python",
   "pygments_lexer": "ipython2",
   "version": "2.7.6"
  }
 },
 "nbformat": 4,
 "nbformat_minor": 0
}