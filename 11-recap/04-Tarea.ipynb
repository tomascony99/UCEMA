{
 "cells": [
  {
   "cell_type": "markdown",
   "source": [
    "El conjunto de datos es de un [conjunto de datos público de la NBA disponible en Kaggle](https://www.kaggle.com/datasets/visalakshiiyer/nba-match-data) 🏀\n",
    "\n",
    "🎯 Investigue el conjunto completo de funciones, realice un análisis exploratorio de datos, experimente con otras funciones y enfoques para mejorar su capacidad de predecir la calificación *Ganar por encima del reemplazo* de un jugador.\n",
    "\n",
    "⚠️ No olvides diagnosticar el rendimiento del modelo en el camino."
   ],
   "metadata": {
    "collapsed": false
   }
  },
  {
   "cell_type": "code",
   "execution_count": null,
   "outputs": [],
   "source": [],
   "metadata": {
    "collapsed": false
   }
  }
 ],
 "metadata": {
  "kernelspec": {
   "display_name": "Python 3",
   "language": "python",
   "name": "python3"
  },
  "language_info": {
   "codemirror_mode": {
    "name": "ipython",
    "version": 2
   },
   "file_extension": ".py",
   "mimetype": "text/x-python",
   "name": "python",
   "nbconvert_exporter": "python",
   "pygments_lexer": "ipython2",
   "version": "2.7.6"
  }
 },
 "nbformat": 4,
 "nbformat_minor": 0
}
