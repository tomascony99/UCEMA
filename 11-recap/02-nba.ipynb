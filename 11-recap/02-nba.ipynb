{
 "cells": [
  {
   "cell_type": "markdown",
   "source": [
    "## 1- Descarga el dataset\n",
    "\n",
    "Leelo\n",
    "\n",
    "https://drive.google.com/file/d/1xpCTBsa2rgq5W2i2h42kFGqQxhVrN5Q1/view?usp=sharing\n"
   ],
   "metadata": {
    "collapsed": false
   }
  },
  {
   "cell_type": "code",
   "execution_count": 1,
   "outputs": [],
   "source": [
    "\n"
   ],
   "metadata": {
    "collapsed": false
   }
  },
  {
   "cell_type": "markdown",
   "source": [
    "## 2- Elegi el target y la variable\n",
    "(`win_rating`) en función de los minutos jugados (`mp`)\n",
    "\n",
    "Asigne esas dos variables a `X` e `y`. Recuerde que `X` es la(s) característica(s), y `y` el objetivo."
   ],
   "metadata": {
    "collapsed": false
   }
  },
  {
   "cell_type": "code",
   "execution_count": null,
   "outputs": [],
   "source": [],
   "metadata": {
    "collapsed": false
   }
  },
  {
   "cell_type": "markdown",
   "source": [
    "## 3- Graficar\n",
    "En un diagrama de dispersión o scatterplot ([doc](https://matplotlib.org/stable/api/_as_gen/matplotlib.pyplot.scatter.html)) , visualice la relación entre la calificación y los minutos jugados."
   ],
   "metadata": {
    "collapsed": false
   }
  },
  {
   "cell_type": "code",
   "execution_count": null,
   "outputs": [],
   "source": [
    "import matplotlib.pyplot as plt\n",
    "\n",
    "# leer la documentacion y reemplazar por metodos correctos\n",
    "#plt.nombredelgrafico(X, y, alpha=0.5)\n",
    "#plt.titulo('Scatter plot')\n",
    "#plt.labelx('Minutes Played')\n",
    "#plt.labely('Rating')\n",
    "#plt.mostralo()"
   ],
   "metadata": {
    "collapsed": false
   }
  },
  {
   "cell_type": "markdown",
   "source": [
    "## 3- Calcular metricas"
   ],
   "metadata": {
    "collapsed": false
   }
  },
  {
   "cell_type": "code",
   "execution_count": null,
   "outputs": [],
   "source": [],
   "metadata": {
    "collapsed": false
   }
  }
 ],
 "metadata": {
  "kernelspec": {
   "display_name": "Python 3",
   "language": "python",
   "name": "python3"
  },
  "language_info": {
   "codemirror_mode": {
    "name": "ipython",
    "version": 2
   },
   "file_extension": ".py",
   "mimetype": "text/x-python",
   "name": "python",
   "nbconvert_exporter": "python",
   "pygments_lexer": "ipython2",
   "version": "2.7.6"
  }
 },
 "nbformat": 4,
 "nbformat_minor": 0
}
