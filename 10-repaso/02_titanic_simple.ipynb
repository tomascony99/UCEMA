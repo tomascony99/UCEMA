{
 "cells": [
  {
   "cell_type": "code",
   "execution_count": 1,
   "metadata": {
    "collapsed": true
   },
   "outputs": [],
   "source": [
    "import pandas as pd\n",
    "import seaborn as sns"
   ]
  },
  {
   "cell_type": "code",
   "execution_count": 2,
   "outputs": [
    {
     "data": {
      "text/plain": "   survived  pclass     sex   age  sibsp  parch     fare embarked  class  \\\n0         0       3    male  22.0      1      0   7.2500        S  Third   \n1         1       1  female  38.0      1      0  71.2833        C  First   \n2         1       3  female  26.0      0      0   7.9250        S  Third   \n\n     who  adult_male deck  embark_town alive  alone  \n0    man        True  NaN  Southampton    no  False  \n1  woman       False    C    Cherbourg   yes  False  \n2  woman       False  NaN  Southampton   yes   True  ",
      "text/html": "<div>\n<style scoped>\n    .dataframe tbody tr th:only-of-type {\n        vertical-align: middle;\n    }\n\n    .dataframe tbody tr th {\n        vertical-align: top;\n    }\n\n    .dataframe thead th {\n        text-align: right;\n    }\n</style>\n<table border=\"1\" class=\"dataframe\">\n  <thead>\n    <tr style=\"text-align: right;\">\n      <th></th>\n      <th>survived</th>\n      <th>pclass</th>\n      <th>sex</th>\n      <th>age</th>\n      <th>sibsp</th>\n      <th>parch</th>\n      <th>fare</th>\n      <th>embarked</th>\n      <th>class</th>\n      <th>who</th>\n      <th>adult_male</th>\n      <th>deck</th>\n      <th>embark_town</th>\n      <th>alive</th>\n      <th>alone</th>\n    </tr>\n  </thead>\n  <tbody>\n    <tr>\n      <th>0</th>\n      <td>0</td>\n      <td>3</td>\n      <td>male</td>\n      <td>22.0</td>\n      <td>1</td>\n      <td>0</td>\n      <td>7.2500</td>\n      <td>S</td>\n      <td>Third</td>\n      <td>man</td>\n      <td>True</td>\n      <td>NaN</td>\n      <td>Southampton</td>\n      <td>no</td>\n      <td>False</td>\n    </tr>\n    <tr>\n      <th>1</th>\n      <td>1</td>\n      <td>1</td>\n      <td>female</td>\n      <td>38.0</td>\n      <td>1</td>\n      <td>0</td>\n      <td>71.2833</td>\n      <td>C</td>\n      <td>First</td>\n      <td>woman</td>\n      <td>False</td>\n      <td>C</td>\n      <td>Cherbourg</td>\n      <td>yes</td>\n      <td>False</td>\n    </tr>\n    <tr>\n      <th>2</th>\n      <td>1</td>\n      <td>3</td>\n      <td>female</td>\n      <td>26.0</td>\n      <td>0</td>\n      <td>0</td>\n      <td>7.9250</td>\n      <td>S</td>\n      <td>Third</td>\n      <td>woman</td>\n      <td>False</td>\n      <td>NaN</td>\n      <td>Southampton</td>\n      <td>yes</td>\n      <td>True</td>\n    </tr>\n  </tbody>\n</table>\n</div>"
     },
     "execution_count": 2,
     "metadata": {},
     "output_type": "execute_result"
    }
   ],
   "source": [
    "titanic = sns.load_dataset(\"titanic\") #seaborn tiene datasets, recuerden, noes necesario descargarlo, los trae via API\n",
    "titanic.head(3)"
   ],
   "metadata": {
    "collapsed": false
   }
  },
  {
   "cell_type": "code",
   "execution_count": 3,
   "outputs": [],
   "source": [
    "import statsmodels.formula.api as smf"
   ],
   "metadata": {
    "collapsed": false
   }
  },
  {
   "cell_type": "code",
   "execution_count": 4,
   "outputs": [
    {
     "name": "stdout",
     "output_type": "stream",
     "text": [
      "Optimization terminated successfully.\n",
      "         Current function value: 0.665912\n",
      "         Iterations 4\n"
     ]
    },
    {
     "data": {
      "text/plain": "Intercept   -0.473288\ndtype: float64"
     },
     "execution_count": 4,
     "metadata": {},
     "output_type": "execute_result"
    }
   ],
   "source": [
    "model1 = smf.logit(formula='survived ~ 1', data=titanic).fit();\n",
    "model1.params\n"
   ],
   "metadata": {
    "collapsed": false
   }
  },
  {
   "cell_type": "code",
   "execution_count": 5,
   "outputs": [
    {
     "data": {
      "text/plain": "   count  percentage\n0    549        0.62\n1    342        0.38",
      "text/html": "<div>\n<style scoped>\n    .dataframe tbody tr th:only-of-type {\n        vertical-align: middle;\n    }\n\n    .dataframe tbody tr th {\n        vertical-align: top;\n    }\n\n    .dataframe thead th {\n        text-align: right;\n    }\n</style>\n<table border=\"1\" class=\"dataframe\">\n  <thead>\n    <tr style=\"text-align: right;\">\n      <th></th>\n      <th>count</th>\n      <th>percentage</th>\n    </tr>\n  </thead>\n  <tbody>\n    <tr>\n      <th>0</th>\n      <td>549</td>\n      <td>0.62</td>\n    </tr>\n    <tr>\n      <th>1</th>\n      <td>342</td>\n      <td>0.38</td>\n    </tr>\n  </tbody>\n</table>\n</div>"
     },
     "execution_count": 5,
     "metadata": {},
     "output_type": "execute_result"
    }
   ],
   "source": [
    "cross_tab = pd.DataFrame({\n",
    "    'count': titanic['survived'].value_counts(),\n",
    "    'percentage': titanic['survived'].value_counts(normalize=True)\n",
    "    })\n",
    "\n",
    "round(cross_tab,2)"
   ],
   "metadata": {
    "collapsed": false
   }
  },
  {
   "cell_type": "code",
   "execution_count": 6,
   "outputs": [
    {
     "name": "stdout",
     "output_type": "stream",
     "text": [
      "Optimization terminated successfully.\n",
      "         Current function value: 0.627143\n",
      "         Iterations 6\n"
     ]
    },
    {
     "data": {
      "text/plain": "Intercept   -0.941330\nfare         0.015197\ndtype: float64"
     },
     "execution_count": 6,
     "metadata": {},
     "output_type": "execute_result"
    }
   ],
   "source": [
    "model3 = smf.logit(formula='survived ~ fare', data=titanic).fit()\n",
    "model3.params"
   ],
   "metadata": {
    "collapsed": false
   }
  },
  {
   "cell_type": "markdown",
   "source": [
    "¿Cómo interpretar el coeficiente de tarifa?\n",
    "Aumentar la tarifa en 1 dólar aumenta las probabilidades logarítmicas de sobrevivir en 0,015\n",
    "\n",
    "Tomando la exponencial:\n",
    "Exp(0.015)=1.01\n",
    "\n",
    "Por cada dólar adicional gastado en la tarifa, las probabilidades de sobrevivir aumentan en un 1%"
   ],
   "metadata": {
    "collapsed": false
   }
  },
  {
   "cell_type": "markdown",
   "source": [],
   "metadata": {
    "collapsed": false
   }
  },
  {
   "cell_type": "code",
   "execution_count": 7,
   "outputs": [
    {
     "name": "stdout",
     "output_type": "stream",
     "text": [
      "Optimization terminated successfully.\n",
      "         Current function value: 0.627143\n",
      "         Iterations 6\n"
     ]
    },
    {
     "data": {
      "text/plain": "Intercept   -0.941330\nfare         0.015197\ndtype: float64"
     },
     "execution_count": 7,
     "metadata": {},
     "output_type": "execute_result"
    }
   ],
   "source": [
    "model3 = smf.logit(formula='survived ~ fare', data=titanic).fit()\n",
    "model3.params\n"
   ],
   "metadata": {
    "collapsed": false
   }
  },
  {
   "cell_type": "markdown",
   "source": [
    "¿Cómo interpretar el intercepto?\n",
    "El log-odds de sobrevivir para un pasajero que no pagó nada es -0.94\n"
   ],
   "metadata": {
    "collapsed": false
   }
  },
  {
   "cell_type": "markdown",
   "source": [],
   "metadata": {
    "collapsed": false
   }
  },
  {
   "cell_type": "code",
   "execution_count": 8,
   "outputs": [
    {
     "name": "stdout",
     "output_type": "stream",
     "text": [
      "Optimization terminated successfully.\n",
      "         Current function value: 0.607805\n",
      "         Iterations 5\n"
     ]
    },
    {
     "data": {
      "text/plain": "Intercept         0.530628\nC(pclass)[T.2]   -0.639431\nC(pclass)[T.3]   -1.670399\ndtype: float64"
     },
     "execution_count": 8,
     "metadata": {},
     "output_type": "execute_result"
    }
   ],
   "source": [
    "model2 = smf.logit(formula='survived ~ C(pclass)', data=titanic).fit()\n",
    "model2.params"
   ],
   "metadata": {
    "collapsed": false
   }
  },
  {
   "cell_type": "markdown",
   "source": [
    "0.53 es el log-odds de sobrevivir para un pasajero que estaba en la primera clase\n",
    "\n",
    "-0,63 es la disminución en las probabilidades logarítmicas de supervivencia de un pasajero de 2ª clase, en relación con un pasajero de 1ª clase."
   ],
   "metadata": {
    "collapsed": false
   }
  },
  {
   "cell_type": "code",
   "execution_count": 9,
   "outputs": [
    {
     "name": "stdout",
     "output_type": "stream",
     "text": [
      "Optimization terminated successfully.\n",
      "         Current function value: 0.501450\n",
      "         Iterations 6\n"
     ]
    },
    {
     "data": {
      "text/plain": "Intercept         0.934841\nC(sex)[T.male]   -2.347599\nfare              0.012773\nage              -0.010570\ndtype: float64"
     },
     "execution_count": 9,
     "metadata": {},
     "output_type": "execute_result"
    }
   ],
   "source": [
    "model2 = smf.logit(formula='survived ~ fare + C(sex) + age', data=titanic).fit()\n",
    "model2.params"
   ],
   "metadata": {
    "collapsed": false
   }
  },
  {
   "cell_type": "markdown",
   "source": [
    "## Evaluar Performance"
   ],
   "metadata": {
    "collapsed": false
   }
  },
  {
   "cell_type": "code",
   "execution_count": 10,
   "outputs": [
    {
     "name": "stdout",
     "output_type": "stream",
     "text": [
      "Optimization terminated successfully.\n",
      "         Current function value: 0.501450\n",
      "         Iterations 6\n"
     ]
    },
    {
     "data": {
      "text/plain": "<class 'statsmodels.iolib.summary.Summary'>\n\"\"\"\n                           Logit Regression Results                           \n==============================================================================\nDep. Variable:               survived   No. Observations:                  714\nModel:                          Logit   Df Residuals:                      710\nMethod:                           MLE   Df Model:                            3\nDate:                Mon, 17 Oct 2022   Pseudo R-squ.:                  0.2576\nTime:                        08:52:42   Log-Likelihood:                -358.04\nconverged:                       True   LL-Null:                       -482.26\nCovariance Type:            nonrobust   LLR p-value:                 1.419e-53\n==================================================================================\n                     coef    std err          z      P>|z|      [0.025      0.975]\n----------------------------------------------------------------------------------\nIntercept          0.9348      0.239      3.910      0.000       0.466       1.403\nC(sex)[T.male]    -2.3476      0.190    -12.359      0.000      -2.720      -1.975\nfare               0.0128      0.003      4.738      0.000       0.007       0.018\nage               -0.0106      0.006     -1.627      0.104      -0.023       0.002\n==================================================================================\n\"\"\"",
      "text/html": "<table class=\"simpletable\">\n<caption>Logit Regression Results</caption>\n<tr>\n  <th>Dep. Variable:</th>       <td>survived</td>     <th>  No. Observations:  </th>  <td>   714</td>  \n</tr>\n<tr>\n  <th>Model:</th>                 <td>Logit</td>      <th>  Df Residuals:      </th>  <td>   710</td>  \n</tr>\n<tr>\n  <th>Method:</th>                 <td>MLE</td>       <th>  Df Model:          </th>  <td>     3</td>  \n</tr>\n<tr>\n  <th>Date:</th>            <td>Mon, 17 Oct 2022</td> <th>  Pseudo R-squ.:     </th>  <td>0.2576</td>  \n</tr>\n<tr>\n  <th>Time:</th>                <td>08:52:42</td>     <th>  Log-Likelihood:    </th> <td> -358.04</td> \n</tr>\n<tr>\n  <th>converged:</th>             <td>True</td>       <th>  LL-Null:           </th> <td> -482.26</td> \n</tr>\n<tr>\n  <th>Covariance Type:</th>     <td>nonrobust</td>    <th>  LLR p-value:       </th> <td>1.419e-53</td>\n</tr>\n</table>\n<table class=\"simpletable\">\n<tr>\n         <td></td>           <th>coef</th>     <th>std err</th>      <th>z</th>      <th>P>|z|</th>  <th>[0.025</th>    <th>0.975]</th>  \n</tr>\n<tr>\n  <th>Intercept</th>      <td>    0.9348</td> <td>    0.239</td> <td>    3.910</td> <td> 0.000</td> <td>    0.466</td> <td>    1.403</td>\n</tr>\n<tr>\n  <th>C(sex)[T.male]</th> <td>   -2.3476</td> <td>    0.190</td> <td>  -12.359</td> <td> 0.000</td> <td>   -2.720</td> <td>   -1.975</td>\n</tr>\n<tr>\n  <th>fare</th>           <td>    0.0128</td> <td>    0.003</td> <td>    4.738</td> <td> 0.000</td> <td>    0.007</td> <td>    0.018</td>\n</tr>\n<tr>\n  <th>age</th>            <td>   -0.0106</td> <td>    0.006</td> <td>   -1.627</td> <td> 0.104</td> <td>   -0.023</td> <td>    0.002</td>\n</tr>\n</table>"
     },
     "execution_count": 10,
     "metadata": {},
     "output_type": "execute_result"
    }
   ],
   "source": [
    "model4 = smf.logit(formula='survived ~ fare + C(sex) + age', data=titanic).fit()\n",
    "model4.summary()"
   ],
   "metadata": {
    "collapsed": false
   }
  },
  {
   "cell_type": "code",
   "execution_count": 11,
   "outputs": [
    {
     "data": {
      "text/plain": "<class 'statsmodels.iolib.summary.Summary'>\n\"\"\"\n                           Logit Regression Results                           \n==============================================================================\nDep. Variable:               survived   No. Observations:                  714\nModel:                          Logit   Df Residuals:                      710\nMethod:                           MLE   Df Model:                            3\nDate:                Mon, 17 Oct 2022   Pseudo R-squ.:                  0.2576\nTime:                        08:52:50   Log-Likelihood:                -358.04\nconverged:                       True   LL-Null:                       -482.26\nCovariance Type:            nonrobust   LLR p-value:                 1.419e-53\n==================================================================================\n                     coef    std err          z      P>|z|      [0.025      0.975]\n----------------------------------------------------------------------------------\nIntercept          0.9348      0.239      3.910      0.000       0.466       1.403\nC(sex)[T.male]    -2.3476      0.190    -12.359      0.000      -2.720      -1.975\nfare               0.0128      0.003      4.738      0.000       0.007       0.018\nage               -0.0106      0.006     -1.627      0.104      -0.023       0.002\n==================================================================================\n\"\"\"",
      "text/html": "<table class=\"simpletable\">\n<caption>Logit Regression Results</caption>\n<tr>\n  <th>Dep. Variable:</th>       <td>survived</td>     <th>  No. Observations:  </th>  <td>   714</td>  \n</tr>\n<tr>\n  <th>Model:</th>                 <td>Logit</td>      <th>  Df Residuals:      </th>  <td>   710</td>  \n</tr>\n<tr>\n  <th>Method:</th>                 <td>MLE</td>       <th>  Df Model:          </th>  <td>     3</td>  \n</tr>\n<tr>\n  <th>Date:</th>            <td>Mon, 17 Oct 2022</td> <th>  Pseudo R-squ.:     </th>  <td>0.2576</td>  \n</tr>\n<tr>\n  <th>Time:</th>                <td>08:52:50</td>     <th>  Log-Likelihood:    </th> <td> -358.04</td> \n</tr>\n<tr>\n  <th>converged:</th>             <td>True</td>       <th>  LL-Null:           </th> <td> -482.26</td> \n</tr>\n<tr>\n  <th>Covariance Type:</th>     <td>nonrobust</td>    <th>  LLR p-value:       </th> <td>1.419e-53</td>\n</tr>\n</table>\n<table class=\"simpletable\">\n<tr>\n         <td></td>           <th>coef</th>     <th>std err</th>      <th>z</th>      <th>P>|z|</th>  <th>[0.025</th>    <th>0.975]</th>  \n</tr>\n<tr>\n  <th>Intercept</th>      <td>    0.9348</td> <td>    0.239</td> <td>    3.910</td> <td> 0.000</td> <td>    0.466</td> <td>    1.403</td>\n</tr>\n<tr>\n  <th>C(sex)[T.male]</th> <td>   -2.3476</td> <td>    0.190</td> <td>  -12.359</td> <td> 0.000</td> <td>   -2.720</td> <td>   -1.975</td>\n</tr>\n<tr>\n  <th>fare</th>           <td>    0.0128</td> <td>    0.003</td> <td>    4.738</td> <td> 0.000</td> <td>    0.007</td> <td>    0.018</td>\n</tr>\n<tr>\n  <th>age</th>            <td>   -0.0106</td> <td>    0.006</td> <td>   -1.627</td> <td> 0.104</td> <td>   -0.023</td> <td>    0.002</td>\n</tr>\n</table>"
     },
     "execution_count": 11,
     "metadata": {},
     "output_type": "execute_result"
    }
   ],
   "source": [
    "model4.summary()\n"
   ],
   "metadata": {
    "collapsed": false
   }
  },
  {
   "cell_type": "markdown",
   "source": [
    "# Tarea\n",
    "\n",
    "Regresion Logistica Olist: Descubrir las razones por las cuales un pedido es una estrealla o cinco estrellas"
   ],
   "metadata": {
    "collapsed": false
   }
  },
  {
   "cell_type": "code",
   "execution_count": null,
   "outputs": [],
   "source": [],
   "metadata": {
    "collapsed": false
   }
  }
 ],
 "metadata": {
  "kernelspec": {
   "display_name": "Python 3",
   "language": "python",
   "name": "python3"
  },
  "language_info": {
   "codemirror_mode": {
    "name": "ipython",
    "version": 2
   },
   "file_extension": ".py",
   "mimetype": "text/x-python",
   "name": "python",
   "nbconvert_exporter": "python",
   "pygments_lexer": "ipython2",
   "version": "2.7.6"
  }
 },
 "nbformat": 4,
 "nbformat_minor": 0
}
