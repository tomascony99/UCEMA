{
 "cells": [
  {
   "cell_type": "markdown",
   "metadata": {},
   "source": [
    "#  Workflow de trabajo\n"
   ]
  },
  {
   "cell_type": "markdown",
   "metadata": {},
   "source": [
    "Este dataset es un preprocesamiento completo para guiarte en cómo armar tu trabajo final, tomar decisiones respecto a cómo transformar variables y encontrarle significado"
   ]
  },
  {
   "cell_type": "markdown",
   "metadata": {},
   "source": [
    "Descargar el dataset `houses.csv` [link](https://drive.google.com/file/d/1-cK-D6pK1koUXP6NzlyWWJgKA9JVTN3l/view?usp=share_link) en google drive\n",
    "\n",
    "\n",
    "Corre el código para leer el dataset y seleccionar las columnas"
   ]
  },
  {
   "cell_type": "code",
   "execution_count": 6,
   "metadata": {},
   "outputs": [
    {
     "data": {
      "text/plain": "   GrLivArea  BedroomAbvGr  KitchenAbvGr  OverallCond  RoofSurface  \\\n0       1710             3             1            5       1995.0   \n1       1262             3             1            8        874.0   \n2       1786             3             1            5       1593.0   \n3       1717             3             1            5       2566.0   \n4       2198             4             1            5       3130.0   \n\n  GarageFinish CentralAir ChimneyStyle  MoSold  SalePrice  \n0          RFn          Y       bricks       2     208500  \n1          RFn          Y       bricks       5     181500  \n2          RFn          Y     castiron       9     223500  \n3          Unf          Y     castiron       2     140000  \n4          RFn          Y       bricks      12     250000  ",
      "text/html": "<div>\n<style scoped>\n    .dataframe tbody tr th:only-of-type {\n        vertical-align: middle;\n    }\n\n    .dataframe tbody tr th {\n        vertical-align: top;\n    }\n\n    .dataframe thead th {\n        text-align: right;\n    }\n</style>\n<table border=\"1\" class=\"dataframe\">\n  <thead>\n    <tr style=\"text-align: right;\">\n      <th></th>\n      <th>GrLivArea</th>\n      <th>BedroomAbvGr</th>\n      <th>KitchenAbvGr</th>\n      <th>OverallCond</th>\n      <th>RoofSurface</th>\n      <th>GarageFinish</th>\n      <th>CentralAir</th>\n      <th>ChimneyStyle</th>\n      <th>MoSold</th>\n      <th>SalePrice</th>\n    </tr>\n  </thead>\n  <tbody>\n    <tr>\n      <th>0</th>\n      <td>1710</td>\n      <td>3</td>\n      <td>1</td>\n      <td>5</td>\n      <td>1995.0</td>\n      <td>RFn</td>\n      <td>Y</td>\n      <td>bricks</td>\n      <td>2</td>\n      <td>208500</td>\n    </tr>\n    <tr>\n      <th>1</th>\n      <td>1262</td>\n      <td>3</td>\n      <td>1</td>\n      <td>8</td>\n      <td>874.0</td>\n      <td>RFn</td>\n      <td>Y</td>\n      <td>bricks</td>\n      <td>5</td>\n      <td>181500</td>\n    </tr>\n    <tr>\n      <th>2</th>\n      <td>1786</td>\n      <td>3</td>\n      <td>1</td>\n      <td>5</td>\n      <td>1593.0</td>\n      <td>RFn</td>\n      <td>Y</td>\n      <td>castiron</td>\n      <td>9</td>\n      <td>223500</td>\n    </tr>\n    <tr>\n      <th>3</th>\n      <td>1717</td>\n      <td>3</td>\n      <td>1</td>\n      <td>5</td>\n      <td>2566.0</td>\n      <td>Unf</td>\n      <td>Y</td>\n      <td>castiron</td>\n      <td>2</td>\n      <td>140000</td>\n    </tr>\n    <tr>\n      <th>4</th>\n      <td>2198</td>\n      <td>4</td>\n      <td>1</td>\n      <td>5</td>\n      <td>3130.0</td>\n      <td>RFn</td>\n      <td>Y</td>\n      <td>bricks</td>\n      <td>12</td>\n      <td>250000</td>\n    </tr>\n  </tbody>\n</table>\n</div>"
     },
     "execution_count": 6,
     "metadata": {},
     "output_type": "execute_result"
    }
   ],
   "source": [
    "import pandas as pd\n",
    "\n",
    "# Loading the dataset\n",
    "path = \"house.csv\"\n",
    "df = pd.read_csv(path)\n",
    "\n",
    "# Selecting some columns of interest\n",
    "selected_features = ['GrLivArea',\n",
    "                     'BedroomAbvGr',\n",
    "                     'KitchenAbvGr', \n",
    "                     'OverallCond',\n",
    "                     'RoofSurface',\n",
    "                     'GarageFinish',\n",
    "                     'CentralAir',\n",
    "                     'ChimneyStyle',\n",
    "                     'MoSold',\n",
    "                     'SalePrice']\n",
    "\n",
    "\n",
    "df = df[selected_features].copy()\n",
    "\n",
    "\n",
    "df.head()"
   ]
  },
  {
   "cell_type": "markdown",
   "metadata": {},
   "source": [
    "Tomate el tiempo para leer el txt que explica las variables. Esta en el folder que contiene este notebook"
   ]
  },
  {
   "cell_type": "code",
   "execution_count": 7,
   "outputs": [
    {
     "name": "stdout",
     "output_type": "stream",
     "text": [
      "MSSubClass: Identifies the type of dwelling involved in the sale.\r\n",
      "\r\n",
      "        20\t1-STORY 1946 & NEWER ALL STYLES\r\n",
      "        30\t1-STORY 1945 & OLDER\r\n",
      "        40\t1-STORY W/FINISHED ATTIC ALL AGES\r\n",
      "        45\t1-1/2 STORY - UNFINISHED ALL AGES\r\n",
      "        50\t1-1/2 STORY FINISHED ALL AGES\r\n",
      "        60\t2-STORY 1946 & NEWER\r\n",
      "        70\t2-STORY 1945 & OLDER\r\n",
      "        75\t2-1/2 STORY ALL AGES\r\n"
     ]
    }
   ],
   "source": [
    "!head workflow_house.txt"
   ],
   "metadata": {
    "collapsed": false
   }
  },
  {
   "cell_type": "markdown",
   "metadata": {},
   "source": [
    "## 1- Duplicados"
   ]
  },
  {
   "cell_type": "markdown",
   "metadata": {},
   "source": [
    "Los duplicados causan que haya datos de train en test y queremos evitar overfitting"
   ]
  },
  {
   "cell_type": "markdown",
   "metadata": {},
   "source": [
    "### ¿Cuantos duplicados hay en el dataset?\n",
    "\n",
    "Crear la variable cantidad_duplicados para mostrarlo"
   ]
  },
  {
   "cell_type": "code",
   "execution_count": 8,
   "metadata": {
    "tags": [
     "challengify"
    ]
   },
   "outputs": [
    {
     "data": {
      "text/plain": "300"
     },
     "execution_count": 8,
     "metadata": {},
     "output_type": "execute_result"
    }
   ],
   "source": [
    "# COMPLETAR Longitud df original menos longitud df sin duplicados\n",
    "cantidad_duplicados"
   ]
  },
  {
   "cell_type": "markdown",
   "metadata": {},
   "source": [
    "Remover duplicados y sobre escribi el"
   ]
  },
  {
   "cell_type": "code",
   "execution_count": 9,
   "metadata": {
    "tags": [
     "challengify"
    ]
   },
   "outputs": [
    {
     "data": {
      "text/plain": "   GrLivArea  BedroomAbvGr  KitchenAbvGr  OverallCond  RoofSurface  \\\n0       1710             3             1            5       1995.0   \n1       1262             3             1            8        874.0   \n2       1786             3             1            5       1593.0   \n3       1717             3             1            5       2566.0   \n4       2198             4             1            5       3130.0   \n\n  GarageFinish CentralAir ChimneyStyle  MoSold  SalePrice  \n0          RFn          Y       bricks       2     208500  \n1          RFn          Y       bricks       5     181500  \n2          RFn          Y     castiron       9     223500  \n3          Unf          Y     castiron       2     140000  \n4          RFn          Y       bricks      12     250000  ",
      "text/html": "<div>\n<style scoped>\n    .dataframe tbody tr th:only-of-type {\n        vertical-align: middle;\n    }\n\n    .dataframe tbody tr th {\n        vertical-align: top;\n    }\n\n    .dataframe thead th {\n        text-align: right;\n    }\n</style>\n<table border=\"1\" class=\"dataframe\">\n  <thead>\n    <tr style=\"text-align: right;\">\n      <th></th>\n      <th>GrLivArea</th>\n      <th>BedroomAbvGr</th>\n      <th>KitchenAbvGr</th>\n      <th>OverallCond</th>\n      <th>RoofSurface</th>\n      <th>GarageFinish</th>\n      <th>CentralAir</th>\n      <th>ChimneyStyle</th>\n      <th>MoSold</th>\n      <th>SalePrice</th>\n    </tr>\n  </thead>\n  <tbody>\n    <tr>\n      <th>0</th>\n      <td>1710</td>\n      <td>3</td>\n      <td>1</td>\n      <td>5</td>\n      <td>1995.0</td>\n      <td>RFn</td>\n      <td>Y</td>\n      <td>bricks</td>\n      <td>2</td>\n      <td>208500</td>\n    </tr>\n    <tr>\n      <th>1</th>\n      <td>1262</td>\n      <td>3</td>\n      <td>1</td>\n      <td>8</td>\n      <td>874.0</td>\n      <td>RFn</td>\n      <td>Y</td>\n      <td>bricks</td>\n      <td>5</td>\n      <td>181500</td>\n    </tr>\n    <tr>\n      <th>2</th>\n      <td>1786</td>\n      <td>3</td>\n      <td>1</td>\n      <td>5</td>\n      <td>1593.0</td>\n      <td>RFn</td>\n      <td>Y</td>\n      <td>castiron</td>\n      <td>9</td>\n      <td>223500</td>\n    </tr>\n    <tr>\n      <th>3</th>\n      <td>1717</td>\n      <td>3</td>\n      <td>1</td>\n      <td>5</td>\n      <td>2566.0</td>\n      <td>Unf</td>\n      <td>Y</td>\n      <td>castiron</td>\n      <td>2</td>\n      <td>140000</td>\n    </tr>\n    <tr>\n      <th>4</th>\n      <td>2198</td>\n      <td>4</td>\n      <td>1</td>\n      <td>5</td>\n      <td>3130.0</td>\n      <td>RFn</td>\n      <td>Y</td>\n      <td>bricks</td>\n      <td>12</td>\n      <td>250000</td>\n    </tr>\n  </tbody>\n</table>\n</div>"
     },
     "execution_count": 9,
     "metadata": {},
     "output_type": "execute_result"
    }
   ],
   "source": [
    "# borrar duplicados y asignar al df"
   ]
  },
  {
   "cell_type": "markdown",
   "metadata": {},
   "source": [
    "## 2- Faltantes"
   ]
  },
  {
   "cell_type": "markdown",
   "metadata": {},
   "source": [
    "Imprimir el porcentaje de variables por columna"
   ]
  },
  {
   "cell_type": "code",
   "execution_count": 10,
   "metadata": {
    "tags": [
     "challengify"
    ]
   },
   "outputs": [
    {
     "data": {
      "text/plain": "GarageFinish    0.06\nRoofSurface     0.01\nGrLivArea       0.00\nBedroomAbvGr    0.00\nKitchenAbvGr    0.00\nOverallCond     0.00\nCentralAir      0.00\nChimneyStyle    0.00\nMoSold          0.00\nSalePrice       0.00\ndtype: float64"
     },
     "execution_count": 10,
     "metadata": {},
     "output_type": "execute_result"
    }
   ],
   "source": []
  },
  {
   "cell_type": "markdown",
   "metadata": {},
   "source": [
    "### `GarageFinish`"
   ]
  },
  {
   "cell_type": "markdown",
   "metadata": {},
   "source": [
    " **Investigación sobre**  `GarageFinish`\n",
    "\n",
    "¿Que significan los faltantes en `GarageFinish`?\n",
    " Elegí :\n",
    "\n",
    "1. Eliminar todos los faltantes\n",
    "2. imputar la mediana usando `SimpleImputer` de Scikit-Learn\n",
    "3. Dejar nulos y reemplazarlos por algún otro valor significativo\n",
    "\n",
    "Los cambios asignarlos al `df`.\n"
   ]
  },
  {
   "cell_type": "markdown",
   "metadata": {},
   "source": []
  },
  {
   "cell_type": "code",
   "execution_count": 11,
   "metadata": {
    "tags": [
     "challengify"
    ]
   },
   "outputs": [],
   "source": [
    "import numpy as np"
   ]
  },
  {
   "cell_type": "markdown",
   "metadata": {},
   "source": [
    "### `RoofSurface`"
   ]
  },
  {
   "cell_type": "markdown",
   "metadata": {},
   "source": [
    "**Investigación sobre** `RoofSurface`\n",
    "\n",
    "¿Que significan los faltantes en `RoofSurface`?\n",
    "\n",
    "1. Eliminar todos los faltantes\n",
    "2. imputar la mediana usando `SimpleImputer` de Scikit-Learn\n",
    "3. Dejar nulos y reemplazarlos por algún otro valor significativo\n",
    "\n",
    "Los cambios asignarlos al `df`.\n"
   ]
  },
  {
   "cell_type": "code",
   "execution_count": 12,
   "metadata": {
    "tags": [
     "challengify"
    ]
   },
   "outputs": [],
   "source": [
    "#`RoofSurface` tiene pocos nulos, puedo imputar por mediana\n",
    "from sklearn.impute import SimpleImputer\n",
    "\n",
    "#INSTANCIA simpleImputer como imputer\n",
    "\n",
    "#SimpleImputer(strategy=\"median\")\n",
    "\n",
    "#imputer.fit(df[[nombre de la columna]]) # fit la columna\n",
    "\n",
    "#df['RoofSurface'] = imputer.transform(df[[nombre de la columna]]) #metodo transform a la columna seleccionada"
   ]
  },
  {
   "cell_type": "markdown",
   "metadata": {},
   "source": [
    "### `ChimneyStyle`"
   ]
  },
  {
   "cell_type": "markdown",
   "metadata": {},
   "source": [
    "¿Que significan los faltantes en `ChimneyStyle`?\n",
    "Elegí :\n",
    "\n",
    "1. Eliminar todos los faltantes\n",
    "2. imputar la mediana usando `SimpleImputer` de Scikit-Learn\n",
    "3. Dejar nulos y reemplazarlos por algún otro valor significativo\n",
    "\n",
    "Los cambios asignarlos al `df`.\n"
   ]
  },
  {
   "cell_type": "markdown",
   "metadata": {},
   "source": [
    "* No todos los nulos son representados cómo nulos `np.nans` pero Python's `isnull()` solo detecta los `np.nans`...\n"
   ]
  },
  {
   "cell_type": "code",
   "execution_count": 13,
   "metadata": {
    "tags": [
     "challengify"
    ]
   },
   "outputs": [
    {
     "data": {
      "text/plain": "?           1455\nbricks         3\ncastiron       2\nName: ChimneyStyle, dtype: int64"
     },
     "execution_count": 13,
     "metadata": {},
     "output_type": "execute_result"
    }
   ],
   "source": [
    "#es mejor a veces no hacer supuestos y vloar toda la columna\n",
    "\n",
    " #genera un conteo de valores"
   ]
  },
  {
   "cell_type": "code",
   "execution_count": 14,
   "metadata": {
    "tags": [
     "delete"
    ]
   },
   "outputs": [],
   "source": [
    " # Replaza \"?\" por np.nan"
   ]
  },
  {
   "cell_type": "code",
   "execution_count": 15,
   "metadata": {
    "tags": [
     "delete"
    ]
   },
   "outputs": [
    {
     "data": {
      "text/plain": "0.9965753424657534"
     },
     "execution_count": 15,
     "metadata": {},
     "output_type": "execute_result"
    }
   ],
   "source": [
    "# quer porcentaje de nulos hay?"
   ]
  },
  {
   "cell_type": "code",
   "execution_count": 16,
   "metadata": {
    "tags": [
     "delete"
    ]
   },
   "outputs": [],
   "source": []
  },
  {
   "cell_type": "markdown",
   "metadata": {},
   "source": [
    "Una vez terminado no tenes más missings"
   ]
  },
  {
   "cell_type": "code",
   "execution_count": 17,
   "metadata": {
    "tags": [
     "challengify"
    ]
   },
   "outputs": [
    {
     "data": {
      "text/plain": "GrLivArea       0.0\nBedroomAbvGr    0.0\nKitchenAbvGr    0.0\nOverallCond     0.0\nRoofSurface     0.0\nGarageFinish    0.0\nCentralAir      0.0\nMoSold          0.0\nSalePrice       0.0\ndtype: float64"
     },
     "execution_count": 17,
     "metadata": {},
     "output_type": "execute_result"
    }
   ],
   "source": [
    "#mostrar el porcentaje de nulo ahora"
   ]
  },
  {
   "cell_type": "markdown",
   "metadata": {},
   "source": [
    "## 3- Scalado"
   ]
  },
  {
   "cell_type": "markdown",
   "metadata": {},
   "source": [
    "**Entendamos que significa escalar**\n",
    "\n",
    "Armar una regresión lineal, con cross validation y predecir `SalePrice`\n",
    "\n",
    "Fijarse que la regresión lineal sólo soporta variables númericas [DataFrame.select_dtypes](https://pandas.pydf.org/docs/reference/api/pandas.DataFrame.select_dtypes.html)"
   ]
  },
  {
   "cell_type": "code",
   "execution_count": 18,
   "metadata": {
    "tags": [
     "challengify"
    ]
   },
   "outputs": [
    {
     "data": {
      "text/plain": "0.577643398519208"
     },
     "execution_count": 18,
     "metadata": {},
     "output_type": "execute_result"
    }
   ],
   "source": [
    "from sklearn.linear_model import LinearRegression\n",
    "from sklearn.model_selection import cross_val_score\n",
    "\n",
    "# excluding all non-numeric columns and the target\n",
    "X = df.select_dtypes(exclude='object').drop('SalePrice', axis=1)\n",
    "\n",
    "y = df.SalePrice\n",
    "\n",
    "#implementa cross_val_score(LinearRegression(), X, y, cv = 10) y hacele la media .mean()"
   ]
  },
  {
   "cell_type": "markdown",
   "metadata": {},
   "source": [
    "Guarda este score para después"
   ]
  },
  {
   "cell_type": "markdown",
   "metadata": {},
   "source": [
    "###  `RoofSurface` "
   ]
  },
  {
   "cell_type": "markdown",
   "metadata": {},
   "source": [
    "**Scalado** para `RoofSurface`\n",
    "\n",
    " Investigar `RoofSurface` su distribución y outliers y adoptar una tecnica:\n",
    "\n",
    "1. Standard Scaler\n",
    "2. Robust Scaler\n",
    "3. MinMax Scaler\n",
    "\n",
    "Replazar el dataframe por la elección"
   ]
  },
  {
   "cell_type": "code",
   "execution_count": 19,
   "metadata": {
    "tags": [
     "challengify"
    ]
   },
   "outputs": [
    {
     "data": {
      "text/plain": "<AxesSubplot:ylabel='Frequency'>"
     },
     "execution_count": 19,
     "metadata": {},
     "output_type": "execute_result"
    },
    {
     "data": {
      "text/plain": "<Figure size 640x480 with 1 Axes>",
      "image/png": "[encoded data removed]"
     },
     "metadata": {},
     "output_type": "display_data"
    },
    {
     "data": {
      "text/plain": "<Figure size 640x480 with 1 Axes>",
      "image/png": "[encoded data removed]"
     },
     "metadata": {},
     "output_type": "display_data"
    }
   ],
   "source": [
    "#.boxplot()de la columna del dataframe\n",
    "#.plot.hist(bins=20) de la columna del dataframe"
   ]
  },
  {
   "cell_type": "markdown",
   "metadata": {},
   "source": [
    "* Si no tiene una distribución normal es mejor hacer un MinMax Scaler"
   ]
  },
  {
   "cell_type": "code",
   "execution_count": null,
   "metadata": {
    "tags": [
     "challengify"
    ]
   },
   "outputs": [
    {
     "data": {
      "text/html": [
       "<div>\n",
       "<style scoped>\n",
       "    .dataframe tbody tr th:only-of-type {\n",
       "        vertical-align: middle;\n",
       "    }\n",
       "\n",
       "    .dataframe tbody tr th {\n",
       "        vertical-align: top;\n",
       "    }\n",
       "\n",
       "    .dataframe thead th {\n",
       "        text-align: right;\n",
       "    }\n",
       "</style>\n",
       "<table border=\"1\" class=\"dataframe\">\n",
       "  <thead>\n",
       "    <tr style=\"text-align: right;\">\n",
       "      <th></th>\n",
       "      <th>GrLivArea</th>\n",
       "      <th>BedroomAbvGr</th>\n",
       "      <th>KitchenAbvGr</th>\n",
       "      <th>OverallCond</th>\n",
       "      <th>RoofSurface</th>\n",
       "      <th>GarageFinish</th>\n",
       "      <th>CentralAir</th>\n",
       "      <th>MoSold</th>\n",
       "      <th>SalePrice</th>\n",
       "    </tr>\n",
       "  </thead>\n",
       "  <tbody>\n",
       "    <tr>\n",
       "      <th>0</th>\n",
       "      <td>1710</td>\n",
       "      <td>3</td>\n",
       "      <td>1</td>\n",
       "      <td>5</td>\n",
       "      <td>0.316729</td>\n",
       "      <td>RFn</td>\n",
       "      <td>Y</td>\n",
       "      <td>2</td>\n",
       "      <td>208500</td>\n",
       "    </tr>\n",
       "    <tr>\n",
       "      <th>1</th>\n",
       "      <td>1262</td>\n",
       "      <td>3</td>\n",
       "      <td>1</td>\n",
       "      <td>8</td>\n",
       "      <td>0.069650</td>\n",
       "      <td>RFn</td>\n",
       "      <td>Y</td>\n",
       "      <td>5</td>\n",
       "      <td>181500</td>\n",
       "    </tr>\n",
       "    <tr>\n",
       "      <th>2</th>\n",
       "      <td>1786</td>\n",
       "      <td>3</td>\n",
       "      <td>1</td>\n",
       "      <td>5</td>\n",
       "      <td>0.228124</td>\n",
       "      <td>RFn</td>\n",
       "      <td>Y</td>\n",
       "      <td>9</td>\n",
       "      <td>223500</td>\n",
       "    </tr>\n",
       "    <tr>\n",
       "      <th>3</th>\n",
       "      <td>1717</td>\n",
       "      <td>3</td>\n",
       "      <td>1</td>\n",
       "      <td>5</td>\n",
       "      <td>0.442583</td>\n",
       "      <td>Unf</td>\n",
       "      <td>Y</td>\n",
       "      <td>2</td>\n",
       "      <td>140000</td>\n",
       "    </tr>\n",
       "    <tr>\n",
       "      <th>4</th>\n",
       "      <td>2198</td>\n",
       "      <td>4</td>\n",
       "      <td>1</td>\n",
       "      <td>5</td>\n",
       "      <td>0.566894</td>\n",
       "      <td>RFn</td>\n",
       "      <td>Y</td>\n",
       "      <td>12</td>\n",
       "      <td>250000</td>\n",
       "    </tr>\n",
       "  </tbody>\n",
       "</table>\n",
       "</div>"
      ],
      "text/plain": [
       "   GrLivArea  BedroomAbvGr  KitchenAbvGr  OverallCond  RoofSurface  \\\n",
       "0       1710             3             1            5     0.316729   \n",
       "1       1262             3             1            8     0.069650   \n",
       "2       1786             3             1            5     0.228124   \n",
       "3       1717             3             1            5     0.442583   \n",
       "4       2198             4             1            5     0.566894   \n",
       "\n",
       "  GarageFinish CentralAir  MoSold  SalePrice  \n",
       "0          RFn          Y       2     208500  \n",
       "1          RFn          Y       5     181500  \n",
       "2          RFn          Y       9     223500  \n",
       "3          Unf          Y       2     140000  \n",
       "4          RFn          Y      12     250000  "
      ]
     },
     "execution_count": null,
     "metadata": {},
     "output_type": "execute_result"
    }
   ],
   "source": [
    "from sklearn.preprocessing import MinMaxScaler\n",
    "\n",
    "# minmaxscaler = MinMaxScaler()\n",
    "\n",
    "# reemplaza la columna original por   minmaxscaler.fit_transform(df[['RoofSurface']])\n",
    "\n",
    "df.head()"
   ]
  },
  {
   "cell_type": "markdown",
   "metadata": {},
   "source": [
    "### `GrLivArea`"
   ]
  },
  {
   "cell_type": "markdown",
   "metadata": {},
   "source": [
    "**Scalado** para `GrLivArea`\n",
    "\n",
    " Investigar `GrLivArea` su distribución y outliers y adoptar una tecnica:\n",
    "\n",
    "1. Standard Scaler\n",
    "2. Robust Scaler\n",
    "3. MinMax Scaler\n",
    "\n",
    "Replazar el dataframe por la elección"
   ]
  },
  {
   "cell_type": "code",
   "execution_count": 21,
   "metadata": {
    "tags": [
     "challengify"
    ]
   },
   "outputs": [],
   "source": []
  },
  {
   "cell_type": "markdown",
   "metadata": {},
   "source": [
    " `GrLivArea` tiene una distribución normal pero tiene outliers, mejor usar RobustScaler"
   ]
  },
  {
   "cell_type": "code",
   "execution_count": 22,
   "metadata": {
    "tags": [
     "challengify"
    ]
   },
   "outputs": [
    {
     "data": {
      "text/plain": "   GrLivArea  BedroomAbvGr  KitchenAbvGr  OverallCond  RoofSurface  \\\n0   0.380070             3             1            5       1995.0   \n1  -0.312090             3             1            8        874.0   \n2   0.497489             3             1            5       1593.0   \n3   0.390885             3             1            5       2566.0   \n4   1.134029             4             1            5       3130.0   \n\n  GarageFinish CentralAir  MoSold  SalePrice  \n0          RFn          Y       2     208500  \n1          RFn          Y       5     181500  \n2          RFn          Y       9     223500  \n3          Unf          Y       2     140000  \n4          RFn          Y      12     250000  ",
      "text/html": "<div>\n<style scoped>\n    .dataframe tbody tr th:only-of-type {\n        vertical-align: middle;\n    }\n\n    .dataframe tbody tr th {\n        vertical-align: top;\n    }\n\n    .dataframe thead th {\n        text-align: right;\n    }\n</style>\n<table border=\"1\" class=\"dataframe\">\n  <thead>\n    <tr style=\"text-align: right;\">\n      <th></th>\n      <th>GrLivArea</th>\n      <th>BedroomAbvGr</th>\n      <th>KitchenAbvGr</th>\n      <th>OverallCond</th>\n      <th>RoofSurface</th>\n      <th>GarageFinish</th>\n      <th>CentralAir</th>\n      <th>MoSold</th>\n      <th>SalePrice</th>\n    </tr>\n  </thead>\n  <tbody>\n    <tr>\n      <th>0</th>\n      <td>0.380070</td>\n      <td>3</td>\n      <td>1</td>\n      <td>5</td>\n      <td>1995.0</td>\n      <td>RFn</td>\n      <td>Y</td>\n      <td>2</td>\n      <td>208500</td>\n    </tr>\n    <tr>\n      <th>1</th>\n      <td>-0.312090</td>\n      <td>3</td>\n      <td>1</td>\n      <td>8</td>\n      <td>874.0</td>\n      <td>RFn</td>\n      <td>Y</td>\n      <td>5</td>\n      <td>181500</td>\n    </tr>\n    <tr>\n      <th>2</th>\n      <td>0.497489</td>\n      <td>3</td>\n      <td>1</td>\n      <td>5</td>\n      <td>1593.0</td>\n      <td>RFn</td>\n      <td>Y</td>\n      <td>9</td>\n      <td>223500</td>\n    </tr>\n    <tr>\n      <th>3</th>\n      <td>0.390885</td>\n      <td>3</td>\n      <td>1</td>\n      <td>5</td>\n      <td>2566.0</td>\n      <td>Unf</td>\n      <td>Y</td>\n      <td>2</td>\n      <td>140000</td>\n    </tr>\n    <tr>\n      <th>4</th>\n      <td>1.134029</td>\n      <td>4</td>\n      <td>1</td>\n      <td>5</td>\n      <td>3130.0</td>\n      <td>RFn</td>\n      <td>Y</td>\n      <td>12</td>\n      <td>250000</td>\n    </tr>\n  </tbody>\n</table>\n</div>"
     },
     "execution_count": 22,
     "metadata": {},
     "output_type": "execute_result"
    }
   ],
   "source": [
    "from sklearn.preprocessing import RobustScaler\n",
    "\n",
    "#implementar robust scaller a la columna\n",
    "# #RobustScaler()\n"
   ]
  },
  {
   "cell_type": "markdown",
   "metadata": {},
   "source": [
    "### `BedroomAbvGr` ,  `OverallCond` & `KitchenAbvGr`"
   ]
  },
  {
   "cell_type": "markdown",
   "metadata": {},
   "source": [
    "**Scalado** para `BedroomAbvGr`, `OverallCond` & `KitchenAbvGr`\n",
    "\n",
    " Investigar `BedroomAbvGr`, `OverallCond` & `KitchenAbvGr`su distribución y outliers y adoptar una tecnica:\n",
    "\n",
    "1. Standard Scaler\n",
    "2. Robust Scaler\n",
    "3. MinMax Scaler\n",
    "\n",
    "Replazar el dataframe por la elección"
   ]
  },
  {
   "cell_type": "markdown",
   "metadata": {},
   "source": [
    "`BedroomAbvGr` ,  `OverallCond` & `KitchenAbvGr` son variables ordinales, mejor hacer MinMaxScaler\n"
   ]
  },
  {
   "cell_type": "code",
   "execution_count": 23,
   "metadata": {
    "tags": [
     "challengify"
    ]
   },
   "outputs": [
    {
     "data": {
      "text/plain": "   GrLivArea  BedroomAbvGr  KitchenAbvGr  OverallCond  RoofSurface  \\\n0   0.380070         0.375      0.333333        0.500       1995.0   \n1  -0.312090         0.375      0.333333        0.875        874.0   \n2   0.497489         0.375      0.333333        0.500       1593.0   \n3   0.390885         0.375      0.333333        0.500       2566.0   \n4   1.134029         0.500      0.333333        0.500       3130.0   \n\n  GarageFinish CentralAir  MoSold  SalePrice  \n0          RFn          Y       2     208500  \n1          RFn          Y       5     181500  \n2          RFn          Y       9     223500  \n3          Unf          Y       2     140000  \n4          RFn          Y      12     250000  ",
      "text/html": "<div>\n<style scoped>\n    .dataframe tbody tr th:only-of-type {\n        vertical-align: middle;\n    }\n\n    .dataframe tbody tr th {\n        vertical-align: top;\n    }\n\n    .dataframe thead th {\n        text-align: right;\n    }\n</style>\n<table border=\"1\" class=\"dataframe\">\n  <thead>\n    <tr style=\"text-align: right;\">\n      <th></th>\n      <th>GrLivArea</th>\n      <th>BedroomAbvGr</th>\n      <th>KitchenAbvGr</th>\n      <th>OverallCond</th>\n      <th>RoofSurface</th>\n      <th>GarageFinish</th>\n      <th>CentralAir</th>\n      <th>MoSold</th>\n      <th>SalePrice</th>\n    </tr>\n  </thead>\n  <tbody>\n    <tr>\n      <th>0</th>\n      <td>0.380070</td>\n      <td>0.375</td>\n      <td>0.333333</td>\n      <td>0.500</td>\n      <td>1995.0</td>\n      <td>RFn</td>\n      <td>Y</td>\n      <td>2</td>\n      <td>208500</td>\n    </tr>\n    <tr>\n      <th>1</th>\n      <td>-0.312090</td>\n      <td>0.375</td>\n      <td>0.333333</td>\n      <td>0.875</td>\n      <td>874.0</td>\n      <td>RFn</td>\n      <td>Y</td>\n      <td>5</td>\n      <td>181500</td>\n    </tr>\n    <tr>\n      <th>2</th>\n      <td>0.497489</td>\n      <td>0.375</td>\n      <td>0.333333</td>\n      <td>0.500</td>\n      <td>1593.0</td>\n      <td>RFn</td>\n      <td>Y</td>\n      <td>9</td>\n      <td>223500</td>\n    </tr>\n    <tr>\n      <th>3</th>\n      <td>0.390885</td>\n      <td>0.375</td>\n      <td>0.333333</td>\n      <td>0.500</td>\n      <td>2566.0</td>\n      <td>Unf</td>\n      <td>Y</td>\n      <td>2</td>\n      <td>140000</td>\n    </tr>\n    <tr>\n      <th>4</th>\n      <td>1.134029</td>\n      <td>0.500</td>\n      <td>0.333333</td>\n      <td>0.500</td>\n      <td>3130.0</td>\n      <td>RFn</td>\n      <td>Y</td>\n      <td>12</td>\n      <td>250000</td>\n    </tr>\n  </tbody>\n</table>\n</div>"
     },
     "execution_count": 23,
     "metadata": {},
     "output_type": "execute_result"
    }
   ],
   "source": [
    "from sklearn.preprocessing import MinMaxScaler\n",
    "\n",
    "#implementar min max escaler\n"
   ]
  },
  {
   "cell_type": "markdown",
   "metadata": {},
   "source": [
    "## 4- Feature Encoding"
   ]
  },
  {
   "cell_type": "markdown",
   "metadata": {},
   "source": [
    "### `GarageFinish`"
   ]
  },
  {
   "cell_type": "markdown",
   "metadata": {},
   "source": [
    "Sobre `GarageFinish`\n",
    "\n",
    "Investigar técnicas de encoding para `GarageFinish`\n",
    "- Ordinal encoding\n",
    "- One-Hot encoding\n",
    "\n",
    "reemplazar el dataframe\n"
   ]
  },
  {
   "cell_type": "markdown",
   "metadata": {},
   "source": [
    "`GarageFinish` es de multicategoría y necesitamos usar one-hhot"
   ]
  },
  {
   "cell_type": "code",
   "execution_count": 24,
   "metadata": {
    "tags": [
     "challengify"
    ]
   },
   "outputs": [
    {
     "data": {
      "text/plain": "array(['RFn', 'Unf', 'Fin', 'NoGarage'], dtype=object)"
     },
     "execution_count": 24,
     "metadata": {},
     "output_type": "execute_result"
    }
   ],
   "source": [
    "#mostrar categorias unicas"
   ]
  },
  {
   "cell_type": "code",
   "execution_count": 25,
   "metadata": {
    "tags": [
     "delete"
    ]
   },
   "outputs": [
    {
     "data": {
      "text/plain": "[array(['Fin', 'NoGarage', 'RFn', 'Unf'], dtype=object)]"
     },
     "execution_count": 25,
     "metadata": {},
     "output_type": "execute_result"
    }
   ],
   "source": [
    "from sklearn.preprocessing import OneHotEncoder\n",
    "\n",
    "GarageFinish_ohe = OneHotEncoder(sparse=False)\n",
    "\n",
    "# Fit one hot encoder\n",
    "\n",
    "# GarageFinish_ohe.categories_ ver categorias"
   ]
  },
  {
   "cell_type": "code",
   "execution_count": 26,
   "metadata": {
    "tags": [
     "delete"
    ]
   },
   "outputs": [
    {
     "data": {
      "text/plain": "   GrLivArea  BedroomAbvGr  KitchenAbvGr  OverallCond  RoofSurface CentralAir  \\\n0   0.380070         0.375      0.333333        0.500       1995.0          Y   \n1  -0.312090         0.375      0.333333        0.875        874.0          Y   \n2   0.497489         0.375      0.333333        0.500       1593.0          Y   \n3   0.390885         0.375      0.333333        0.500       2566.0          Y   \n4   1.134029         0.500      0.333333        0.500       3130.0          Y   \n\n   MoSold  SalePrice  Fin  NoGarage  RFn  Unf  \n0       2     208500  0.0       0.0  1.0  0.0  \n1       5     181500  0.0       0.0  1.0  0.0  \n2       9     223500  0.0       0.0  1.0  0.0  \n3       2     140000  0.0       0.0  0.0  1.0  \n4      12     250000  0.0       0.0  1.0  0.0  ",
      "text/html": "<div>\n<style scoped>\n    .dataframe tbody tr th:only-of-type {\n        vertical-align: middle;\n    }\n\n    .dataframe tbody tr th {\n        vertical-align: top;\n    }\n\n    .dataframe thead th {\n        text-align: right;\n    }\n</style>\n<table border=\"1\" class=\"dataframe\">\n  <thead>\n    <tr style=\"text-align: right;\">\n      <th></th>\n      <th>GrLivArea</th>\n      <th>BedroomAbvGr</th>\n      <th>KitchenAbvGr</th>\n      <th>OverallCond</th>\n      <th>RoofSurface</th>\n      <th>CentralAir</th>\n      <th>MoSold</th>\n      <th>SalePrice</th>\n      <th>Fin</th>\n      <th>NoGarage</th>\n      <th>RFn</th>\n      <th>Unf</th>\n    </tr>\n  </thead>\n  <tbody>\n    <tr>\n      <th>0</th>\n      <td>0.380070</td>\n      <td>0.375</td>\n      <td>0.333333</td>\n      <td>0.500</td>\n      <td>1995.0</td>\n      <td>Y</td>\n      <td>2</td>\n      <td>208500</td>\n      <td>0.0</td>\n      <td>0.0</td>\n      <td>1.0</td>\n      <td>0.0</td>\n    </tr>\n    <tr>\n      <th>1</th>\n      <td>-0.312090</td>\n      <td>0.375</td>\n      <td>0.333333</td>\n      <td>0.875</td>\n      <td>874.0</td>\n      <td>Y</td>\n      <td>5</td>\n      <td>181500</td>\n      <td>0.0</td>\n      <td>0.0</td>\n      <td>1.0</td>\n      <td>0.0</td>\n    </tr>\n    <tr>\n      <th>2</th>\n      <td>0.497489</td>\n      <td>0.375</td>\n      <td>0.333333</td>\n      <td>0.500</td>\n      <td>1593.0</td>\n      <td>Y</td>\n      <td>9</td>\n      <td>223500</td>\n      <td>0.0</td>\n      <td>0.0</td>\n      <td>1.0</td>\n      <td>0.0</td>\n    </tr>\n    <tr>\n      <th>3</th>\n      <td>0.390885</td>\n      <td>0.375</td>\n      <td>0.333333</td>\n      <td>0.500</td>\n      <td>2566.0</td>\n      <td>Y</td>\n      <td>2</td>\n      <td>140000</td>\n      <td>0.0</td>\n      <td>0.0</td>\n      <td>0.0</td>\n      <td>1.0</td>\n    </tr>\n    <tr>\n      <th>4</th>\n      <td>1.134029</td>\n      <td>0.500</td>\n      <td>0.333333</td>\n      <td>0.500</td>\n      <td>3130.0</td>\n      <td>Y</td>\n      <td>12</td>\n      <td>250000</td>\n      <td>0.0</td>\n      <td>0.0</td>\n      <td>1.0</td>\n      <td>0.0</td>\n    </tr>\n  </tbody>\n</table>\n</div>"
     },
     "execution_count": 26,
     "metadata": {},
     "output_type": "execute_result"
    }
   ],
   "source": [
    "df['Fin'],df['NoGarage'],df['RFn'],df['Unf']  = GarageFinish_ohe.fit_transform(df[['GarageFinish']]).T s\n",
    "\n",
    "# Drop original column\n",
    "\n",
    "df.head()"
   ]
  },
  {
   "cell_type": "markdown",
   "metadata": {},
   "source": [
    "### Encoding  `CentralAir`"
   ]
  },
  {
   "cell_type": "markdown",
   "metadata": {},
   "source": [
    "Sobre `CentralAir`\n",
    "\n",
    "Investigar técnicas de encoding para `CentralAir`\n",
    "- Ordinal encoding\n",
    "- One-Hot encoding\n",
    "\n",
    "reemplazar el dataframe\n",
    "\n",
    "\n"
   ]
  },
  {
   "cell_type": "markdown",
   "metadata": {},
   "source": [
    "¿Que tipo de variable es?"
   ]
  },
  {
   "cell_type": "code",
   "execution_count": null,
   "metadata": {
    "tags": [
     "challengify"
    ]
   },
   "outputs": [
    {
     "data": {
      "text/plain": [
       "array(['Y', 'N'], dtype=object)"
      ]
     },
     "execution_count": null,
     "metadata": {},
     "output_type": "execute_result"
    }
   ],
   "source": [
    "#ver valores unicos"
   ]
  },
  {
   "cell_type": "code",
   "execution_count": null,
   "metadata": {
    "tags": [
     "delete"
    ]
   },
   "outputs": [
    {
     "data": {
      "text/html": [
       "<div>\n",
       "<style scoped>\n",
       "    .dataframe tbody tr th:only-of-type {\n",
       "        vertical-align: middle;\n",
       "    }\n",
       "\n",
       "    .dataframe tbody tr th {\n",
       "        vertical-align: top;\n",
       "    }\n",
       "\n",
       "    .dataframe thead th {\n",
       "        text-align: right;\n",
       "    }\n",
       "</style>\n",
       "<table border=\"1\" class=\"dataframe\">\n",
       "  <thead>\n",
       "    <tr style=\"text-align: right;\">\n",
       "      <th></th>\n",
       "      <th>GrLivArea</th>\n",
       "      <th>BedroomAbvGr</th>\n",
       "      <th>KitchenAbvGr</th>\n",
       "      <th>OverallCond</th>\n",
       "      <th>RoofSurface</th>\n",
       "      <th>CentralAir</th>\n",
       "      <th>MoSold</th>\n",
       "      <th>SalePrice</th>\n",
       "      <th>Fin</th>\n",
       "      <th>NoGarage</th>\n",
       "      <th>RFn</th>\n",
       "      <th>Unf</th>\n",
       "    </tr>\n",
       "  </thead>\n",
       "  <tbody>\n",
       "    <tr>\n",
       "      <th>0</th>\n",
       "      <td>0.380070</td>\n",
       "      <td>0.375</td>\n",
       "      <td>0.333333</td>\n",
       "      <td>0.500</td>\n",
       "      <td>0.316729</td>\n",
       "      <td>1.0</td>\n",
       "      <td>2</td>\n",
       "      <td>208500</td>\n",
       "      <td>0.0</td>\n",
       "      <td>0.0</td>\n",
       "      <td>1.0</td>\n",
       "      <td>0.0</td>\n",
       "    </tr>\n",
       "    <tr>\n",
       "      <th>1</th>\n",
       "      <td>-0.312090</td>\n",
       "      <td>0.375</td>\n",
       "      <td>0.333333</td>\n",
       "      <td>0.875</td>\n",
       "      <td>0.069650</td>\n",
       "      <td>1.0</td>\n",
       "      <td>5</td>\n",
       "      <td>181500</td>\n",
       "      <td>0.0</td>\n",
       "      <td>0.0</td>\n",
       "      <td>1.0</td>\n",
       "      <td>0.0</td>\n",
       "    </tr>\n",
       "    <tr>\n",
       "      <th>2</th>\n",
       "      <td>0.497489</td>\n",
       "      <td>0.375</td>\n",
       "      <td>0.333333</td>\n",
       "      <td>0.500</td>\n",
       "      <td>0.228124</td>\n",
       "      <td>1.0</td>\n",
       "      <td>9</td>\n",
       "      <td>223500</td>\n",
       "      <td>0.0</td>\n",
       "      <td>0.0</td>\n",
       "      <td>1.0</td>\n",
       "      <td>0.0</td>\n",
       "    </tr>\n",
       "    <tr>\n",
       "      <th>3</th>\n",
       "      <td>0.390885</td>\n",
       "      <td>0.375</td>\n",
       "      <td>0.333333</td>\n",
       "      <td>0.500</td>\n",
       "      <td>0.442583</td>\n",
       "      <td>1.0</td>\n",
       "      <td>2</td>\n",
       "      <td>140000</td>\n",
       "      <td>0.0</td>\n",
       "      <td>0.0</td>\n",
       "      <td>0.0</td>\n",
       "      <td>1.0</td>\n",
       "    </tr>\n",
       "    <tr>\n",
       "      <th>4</th>\n",
       "      <td>1.134029</td>\n",
       "      <td>0.500</td>\n",
       "      <td>0.333333</td>\n",
       "      <td>0.500</td>\n",
       "      <td>0.566894</td>\n",
       "      <td>1.0</td>\n",
       "      <td>12</td>\n",
       "      <td>250000</td>\n",
       "      <td>0.0</td>\n",
       "      <td>0.0</td>\n",
       "      <td>1.0</td>\n",
       "      <td>0.0</td>\n",
       "    </tr>\n",
       "  </tbody>\n",
       "</table>\n",
       "</div>"
      ],
      "text/plain": [
       "   GrLivArea  BedroomAbvGr  KitchenAbvGr  OverallCond  RoofSurface  \\\n",
       "0   0.380070         0.375      0.333333        0.500     0.316729   \n",
       "1  -0.312090         0.375      0.333333        0.875     0.069650   \n",
       "2   0.497489         0.375      0.333333        0.500     0.228124   \n",
       "3   0.390885         0.375      0.333333        0.500     0.442583   \n",
       "4   1.134029         0.500      0.333333        0.500     0.566894   \n",
       "\n",
       "   CentralAir  MoSold  SalePrice  Fin  NoGarage  RFn  Unf  \n",
       "0         1.0       2     208500  0.0       0.0  1.0  0.0  \n",
       "1         1.0       5     181500  0.0       0.0  1.0  0.0  \n",
       "2         1.0       9     223500  0.0       0.0  1.0  0.0  \n",
       "3         1.0       2     140000  0.0       0.0  0.0  1.0  \n",
       "4         1.0      12     250000  0.0       0.0  1.0  0.0  "
      ]
     },
     "execution_count": null,
     "metadata": {},
     "output_type": "execute_result"
    }
   ],
   "source": [
    "CentralAir_encoder = OneHotEncoder(sparse=False, drop='if_binary', categories=[['N', 'Y']]) # Instanciate encoder\n",
    "\n",
    "df['CentralAir'] = CentralAir_encoder.fit_transform(df[['CentralAir']]) # Fit encoder and tranform\n",
    "\n",
    "df.head()"
   ]
  },
  {
   "cell_type": "markdown",
   "metadata": {},
   "source": [
    "## 5- Ingeniería de variables\n",
    "\n",
    "### `MoSold` - Cyclical engineering "
   ]
  },
  {
   "cell_type": "markdown",
   "metadata": {},
   "source": [
    "Una característica puede ser numérica (continua o discreta), categórica u ordinal. Pero una característica también puede ser temporal (por ejemplo, trimestres, meses, días, minutos, ...).\n",
    "\n",
    "Las características cíclicas como el tiempo necesitan un preprocesamiento específico. De hecho, si desea que cualquier algoritmo de Machine Learning capture esta ciclicidad, sus características cíclicas deben preprocesarse de cierta manera."
   ]
  },
  {
   "cell_type": "markdown",
   "metadata": {},
   "source": [
    "Consider the feature `MoSold`, Es el mes que fue vendido"
   ]
  },
  {
   "cell_type": "code",
   "execution_count": 27,
   "metadata": {},
   "outputs": [
    {
     "data": {
      "text/plain": "6     253\n7     234\n5     204\n4     141\n8     122\n3     106\n10     89\n11     79\n9      63\n12     59\n1      58\n2      52\nName: MoSold, dtype: int64"
     },
     "execution_count": 27,
     "metadata": {},
     "output_type": "execute_result"
    }
   ],
   "source": [
    "df[\"MoSold\"].value_counts()"
   ]
  },
  {
   "cell_type": "markdown",
   "metadata": {},
   "source": [
    "* Se vendieron muchas casas en junio (6), julio (7) y mayo (5) (primavera/verano)\n",
    "* Solo se vendieron algunas casas en diciembre (12), enero (1) y febrero (2) (~ Otoño/Invierno)\n",
    "    * Pero para cualquier modelo de Machine Learning, no hay ninguna razón por la que diciembre (12) y enero (1) estén \"cerca\"..."
   ]
  },
  {
   "cell_type": "markdown",
   "source": [
    "## Leer!\n",
    "Sobre variables ciclicas [TowardsDataScience](https://towardsdatascience.com/cyclical-features-encoding-its-about-time-ce23581845ca)\n",
    "\n",
    "* Sino funciona en el navegador abrirlo con incognito en chrome"
   ],
   "metadata": {
    "collapsed": false
   }
  },
  {
   "cell_type": "markdown",
   "metadata": {},
   "source": [
    "### `MoSold`\n",
    "- Crear dos nuevas características `sin_MoSold` y `cos_MoSold` que corresponden respectivamente al seno y coseno de MoSold.\n",
    "- Dropea la columna original `MoSold`\n",
    "\n",
    "El perímetro de un círculo si $C = 2 \\pi r = 2 \\pi$ suponiendo que $ r = 1$\n"
   ]
  },
  {
   "cell_type": "code",
   "execution_count": 28,
   "metadata": {
    "tags": [
     "challengify"
    ]
   },
   "outputs": [
    {
     "data": {
      "text/plain": "   GrLivArea  BedroomAbvGr  KitchenAbvGr  OverallCond  RoofSurface CentralAir  \\\n0   0.380070         0.375      0.333333        0.500       1995.0          Y   \n1  -0.312090         0.375      0.333333        0.875        874.0          Y   \n2   0.497489         0.375      0.333333        0.500       1593.0          Y   \n3   0.390885         0.375      0.333333        0.500       2566.0          Y   \n4   1.134029         0.500      0.333333        0.500       3130.0          Y   \n\n   SalePrice  Fin  NoGarage  RFn  Unf  sin_MoSold  cos_MoSold  \n0     208500  0.0       0.0  1.0  0.0    0.500000    0.866025  \n1     181500  0.0       0.0  1.0  0.0    0.866025   -0.500000  \n2     223500  0.0       0.0  1.0  0.0   -0.866025   -0.500000  \n3     140000  0.0       0.0  0.0  1.0    0.500000    0.866025  \n4     250000  0.0       0.0  1.0  0.0   -0.500000    0.866025  ",
      "text/html": "<div>\n<style scoped>\n    .dataframe tbody tr th:only-of-type {\n        vertical-align: middle;\n    }\n\n    .dataframe tbody tr th {\n        vertical-align: top;\n    }\n\n    .dataframe thead th {\n        text-align: right;\n    }\n</style>\n<table border=\"1\" class=\"dataframe\">\n  <thead>\n    <tr style=\"text-align: right;\">\n      <th></th>\n      <th>GrLivArea</th>\n      <th>BedroomAbvGr</th>\n      <th>KitchenAbvGr</th>\n      <th>OverallCond</th>\n      <th>RoofSurface</th>\n      <th>CentralAir</th>\n      <th>SalePrice</th>\n      <th>Fin</th>\n      <th>NoGarage</th>\n      <th>RFn</th>\n      <th>Unf</th>\n      <th>sin_MoSold</th>\n      <th>cos_MoSold</th>\n    </tr>\n  </thead>\n  <tbody>\n    <tr>\n      <th>0</th>\n      <td>0.380070</td>\n      <td>0.375</td>\n      <td>0.333333</td>\n      <td>0.500</td>\n      <td>1995.0</td>\n      <td>Y</td>\n      <td>208500</td>\n      <td>0.0</td>\n      <td>0.0</td>\n      <td>1.0</td>\n      <td>0.0</td>\n      <td>0.500000</td>\n      <td>0.866025</td>\n    </tr>\n    <tr>\n      <th>1</th>\n      <td>-0.312090</td>\n      <td>0.375</td>\n      <td>0.333333</td>\n      <td>0.875</td>\n      <td>874.0</td>\n      <td>Y</td>\n      <td>181500</td>\n      <td>0.0</td>\n      <td>0.0</td>\n      <td>1.0</td>\n      <td>0.0</td>\n      <td>0.866025</td>\n      <td>-0.500000</td>\n    </tr>\n    <tr>\n      <th>2</th>\n      <td>0.497489</td>\n      <td>0.375</td>\n      <td>0.333333</td>\n      <td>0.500</td>\n      <td>1593.0</td>\n      <td>Y</td>\n      <td>223500</td>\n      <td>0.0</td>\n      <td>0.0</td>\n      <td>1.0</td>\n      <td>0.0</td>\n      <td>-0.866025</td>\n      <td>-0.500000</td>\n    </tr>\n    <tr>\n      <th>3</th>\n      <td>0.390885</td>\n      <td>0.375</td>\n      <td>0.333333</td>\n      <td>0.500</td>\n      <td>2566.0</td>\n      <td>Y</td>\n      <td>140000</td>\n      <td>0.0</td>\n      <td>0.0</td>\n      <td>0.0</td>\n      <td>1.0</td>\n      <td>0.500000</td>\n      <td>0.866025</td>\n    </tr>\n    <tr>\n      <th>4</th>\n      <td>1.134029</td>\n      <td>0.500</td>\n      <td>0.333333</td>\n      <td>0.500</td>\n      <td>3130.0</td>\n      <td>Y</td>\n      <td>250000</td>\n      <td>0.0</td>\n      <td>0.0</td>\n      <td>1.0</td>\n      <td>0.0</td>\n      <td>-0.500000</td>\n      <td>0.866025</td>\n    </tr>\n  </tbody>\n</table>\n</div>"
     },
     "execution_count": 28,
     "metadata": {},
     "output_type": "execute_result"
    }
   ],
   "source": [
    "months_in_a_year = 12\n",
    "\n",
    "df['sin_MoSold'] = np.sin(2*np.pi*(df.MoSold-1)/months_in_a_year)\n",
    "df['cos_MoSold'] = np.cos(2*np.pi*(df.MoSold-1)/months_in_a_year)\n",
    "df.drop(columns=['MoSold'], inplace=True)\n",
    "\n",
    "df.head()"
   ]
  },
  {
   "cell_type": "markdown",
   "metadata": {
    "tags": [
     "delete"
    ]
   },
   "source": [
    "- El -1 no es obligatorio porque las funciones seno y coseno tienen una periodicidad de $ 2 \\pi$\n",
    "- Sin embargo, es más correcto incluirlo en términos de propiedades trigonométricas porque $cos(0) = 1$ y $sin(0) = 0$"
   ]
  },
  {
   "cell_type": "markdown",
   "metadata": {},
   "source": [
    "## 6- Exporta el dataset procesado"
   ]
  },
  {
   "cell_type": "code",
   "execution_count": null,
   "metadata": {},
   "outputs": [],
   "source": [
    "df.to_csv(\"data/clean_df.csv\", index=False)"
   ]
  },
  {
   "cell_type": "markdown",
   "metadata": {},
   "source": [
    "🏁 🚀 Ahora sí entendes el CRISPDM! ¿O no? 🤔"
   ]
  },
  {
   "cell_type": "code",
   "execution_count": null,
   "outputs": [],
   "source": [],
   "metadata": {
    "collapsed": false
   }
  }
 ],
 "metadata": {
  "kernelspec": {
   "display_name": "Python 3",
   "language": "python",
   "name": "python3"
  }
 },
 "nbformat": 4,
 "nbformat_minor": 4
}
