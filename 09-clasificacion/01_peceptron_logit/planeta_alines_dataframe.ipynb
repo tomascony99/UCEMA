{
 "cells": [
  {
   "cell_type": "code",
   "execution_count": 1,
   "outputs": [],
   "source": [
    "%load_ext autoreload\n",
    "%autoreload 2"
   ],
   "metadata": {
    "collapsed": false
   }
  },
  {
   "cell_type": "code",
   "execution_count": 2,
   "metadata": {
    "collapsed": true
   },
   "outputs": [
    {
     "data": {
      "text/plain": "         mood              sentence\nalien1  happy     aack, aack, aack!\nalien2    sad            beep beep!\nalien3  happy       aack beep aack!\nalien4    sad  aack beep beep beep!",
      "text/html": "<div>\n<style scoped>\n    .dataframe tbody tr th:only-of-type {\n        vertical-align: middle;\n    }\n\n    .dataframe tbody tr th {\n        vertical-align: top;\n    }\n\n    .dataframe thead th {\n        text-align: right;\n    }\n</style>\n<table border=\"1\" class=\"dataframe\">\n  <thead>\n    <tr style=\"text-align: right;\">\n      <th></th>\n      <th>mood</th>\n      <th>sentence</th>\n    </tr>\n  </thead>\n  <tbody>\n    <tr>\n      <th>alien1</th>\n      <td>happy</td>\n      <td>aack, aack, aack!</td>\n    </tr>\n    <tr>\n      <th>alien2</th>\n      <td>sad</td>\n      <td>beep beep!</td>\n    </tr>\n    <tr>\n      <th>alien3</th>\n      <td>happy</td>\n      <td>aack beep aack!</td>\n    </tr>\n    <tr>\n      <th>alien4</th>\n      <td>sad</td>\n      <td>aack beep beep beep!</td>\n    </tr>\n  </tbody>\n</table>\n</div>"
     },
     "execution_count": 2,
     "metadata": {},
     "output_type": "execute_result"
    }
   ],
   "source": [
    "#dictonary\n",
    "alien = {\n",
    "    'alien1': {'mood': 'happy', 'sentence': 'aack, aack, aack!'},\n",
    "    'alien2': {'mood': 'sad', 'sentence': 'beep beep!'},\n",
    "    'alien3': {'mood': 'happy', 'sentence': 'aack beep aack!'},\n",
    "    'alien4': {'mood': 'sad', 'sentence': 'aack beep beep beep!'}\n",
    "}\n",
    "\n",
    "import pandas as pd\n",
    "import numpy as np\n",
    "import matplotlib.pyplot as plt\n",
    "\n",
    "df = pd.DataFrame(alien).T\n",
    "\n",
    "df"
   ]
  },
  {
   "cell_type": "code",
   "execution_count": 3,
   "outputs": [
    {
     "data": {
      "text/plain": "         mood              sentence  aack  beep\nalien1  happy     aack, aack, aack!     3     0\nalien2    sad            beep beep!     0     2\nalien3  happy       aack beep aack!     2     1\nalien4    sad  aack beep beep beep!     1     3",
      "text/html": "<div>\n<style scoped>\n    .dataframe tbody tr th:only-of-type {\n        vertical-align: middle;\n    }\n\n    .dataframe tbody tr th {\n        vertical-align: top;\n    }\n\n    .dataframe thead th {\n        text-align: right;\n    }\n</style>\n<table border=\"1\" class=\"dataframe\">\n  <thead>\n    <tr style=\"text-align: right;\">\n      <th></th>\n      <th>mood</th>\n      <th>sentence</th>\n      <th>aack</th>\n      <th>beep</th>\n    </tr>\n  </thead>\n  <tbody>\n    <tr>\n      <th>alien1</th>\n      <td>happy</td>\n      <td>aack, aack, aack!</td>\n      <td>3</td>\n      <td>0</td>\n    </tr>\n    <tr>\n      <th>alien2</th>\n      <td>sad</td>\n      <td>beep beep!</td>\n      <td>0</td>\n      <td>2</td>\n    </tr>\n    <tr>\n      <th>alien3</th>\n      <td>happy</td>\n      <td>aack beep aack!</td>\n      <td>2</td>\n      <td>1</td>\n    </tr>\n    <tr>\n      <th>alien4</th>\n      <td>sad</td>\n      <td>aack beep beep beep!</td>\n      <td>1</td>\n      <td>3</td>\n    </tr>\n  </tbody>\n</table>\n</div>"
     },
     "execution_count": 3,
     "metadata": {},
     "output_type": "execute_result"
    }
   ],
   "source": [
    "df['aack'] = df['sentence'].apply(lambda x: x.count('aack'))\n",
    "df['beep'] = df['sentence'].apply(lambda x: x.count('beep'))\n",
    "\n",
    "df"
   ],
   "metadata": {
    "collapsed": false
   }
  },
  {
   "cell_type": "code",
   "execution_count": 4,
   "outputs": [],
   "source": [
    "#creo mi score, si dice aack sumo 1 y si dice beep resto uno por oración.\n",
    "#elimino caracteres especiales y convierto a minúsculas\n",
    "\n",
    "def algoritmo_clasificacion(sentence):\n",
    "    sentence = sentence.replace('!', '').replace(',', '').lower() #elimino caracteres especiales y convierto a minúsculas\n",
    "    score = 0\n",
    "    for word in sentence.split(): #recorro la oración\n",
    "        if word == 'aack':\n",
    "            score += 1\n",
    "        elif word == 'beep':\n",
    "            score -= 1\n",
    "    return score\n"
   ],
   "metadata": {
    "collapsed": false
   }
  },
  {
   "cell_type": "code",
   "execution_count": 5,
   "outputs": [],
   "source": [
    "#creo mi columna score\n",
    "df['score'] = df['sentence'].apply(algoritmo_clasificacion)"
   ],
   "metadata": {
    "collapsed": false
   }
  },
  {
   "cell_type": "code",
   "execution_count": 6,
   "outputs": [
    {
     "data": {
      "text/plain": "         mood              sentence  aack  beep  score\nalien1  happy     aack, aack, aack!     3     0      3\nalien2    sad            beep beep!     0     2     -2\nalien3  happy       aack beep aack!     2     1      1\nalien4    sad  aack beep beep beep!     1     3     -2",
      "text/html": "<div>\n<style scoped>\n    .dataframe tbody tr th:only-of-type {\n        vertical-align: middle;\n    }\n\n    .dataframe tbody tr th {\n        vertical-align: top;\n    }\n\n    .dataframe thead th {\n        text-align: right;\n    }\n</style>\n<table border=\"1\" class=\"dataframe\">\n  <thead>\n    <tr style=\"text-align: right;\">\n      <th></th>\n      <th>mood</th>\n      <th>sentence</th>\n      <th>aack</th>\n      <th>beep</th>\n      <th>score</th>\n    </tr>\n  </thead>\n  <tbody>\n    <tr>\n      <th>alien1</th>\n      <td>happy</td>\n      <td>aack, aack, aack!</td>\n      <td>3</td>\n      <td>0</td>\n      <td>3</td>\n    </tr>\n    <tr>\n      <th>alien2</th>\n      <td>sad</td>\n      <td>beep beep!</td>\n      <td>0</td>\n      <td>2</td>\n      <td>-2</td>\n    </tr>\n    <tr>\n      <th>alien3</th>\n      <td>happy</td>\n      <td>aack beep aack!</td>\n      <td>2</td>\n      <td>1</td>\n      <td>1</td>\n    </tr>\n    <tr>\n      <th>alien4</th>\n      <td>sad</td>\n      <td>aack beep beep beep!</td>\n      <td>1</td>\n      <td>3</td>\n      <td>-2</td>\n    </tr>\n  </tbody>\n</table>\n</div>"
     },
     "execution_count": 6,
     "metadata": {},
     "output_type": "execute_result"
    }
   ],
   "source": [
    "df"
   ],
   "metadata": {
    "collapsed": false
   }
  },
  {
   "cell_type": "code",
   "execution_count": 10,
   "outputs": [
    {
     "data": {
      "text/plain": "<Figure size 640x480 with 1 Axes>",
      "image/png": "[encoded data removed]"
     },
     "metadata": {},
     "output_type": "display_data"
    }
   ],
   "source": [
    "#plot\n",
    "from perceptron_algo import *\n",
    "plot_points(df[['aack', 'beep']], df['mood'].apply(lambda x: 1 if x == 'happy' else 0))"
   ],
   "metadata": {
    "collapsed": false
   }
  },
  {
   "cell_type": "code",
   "execution_count": 14,
   "outputs": [
    {
     "data": {
      "text/plain": "        mood           sentence  aack  beep  score\nalien1     0  aack, aack, aack!     3     0      3\nalien2     0         beep beep!     0     2     -2\nalien3     0    aack beep aack!     2     1      1\nalien4     0    aack beep beep!     1     2     -1",
      "text/html": "<div>\n<style scoped>\n    .dataframe tbody tr th:only-of-type {\n        vertical-align: middle;\n    }\n\n    .dataframe tbody tr th {\n        vertical-align: top;\n    }\n\n    .dataframe thead th {\n        text-align: right;\n    }\n</style>\n<table border=\"1\" class=\"dataframe\">\n  <thead>\n    <tr style=\"text-align: right;\">\n      <th></th>\n      <th>mood</th>\n      <th>sentence</th>\n      <th>aack</th>\n      <th>beep</th>\n      <th>score</th>\n    </tr>\n  </thead>\n  <tbody>\n    <tr>\n      <th>alien1</th>\n      <td>0</td>\n      <td>aack, aack, aack!</td>\n      <td>3</td>\n      <td>0</td>\n      <td>3</td>\n    </tr>\n    <tr>\n      <th>alien2</th>\n      <td>0</td>\n      <td>beep beep!</td>\n      <td>0</td>\n      <td>2</td>\n      <td>-2</td>\n    </tr>\n    <tr>\n      <th>alien3</th>\n      <td>0</td>\n      <td>aack beep aack!</td>\n      <td>2</td>\n      <td>1</td>\n      <td>1</td>\n    </tr>\n    <tr>\n      <th>alien4</th>\n      <td>0</td>\n      <td>aack beep beep!</td>\n      <td>1</td>\n      <td>2</td>\n      <td>-1</td>\n    </tr>\n  </tbody>\n</table>\n</div>"
     },
     "execution_count": 14,
     "metadata": {},
     "output_type": "execute_result"
    }
   ],
   "source": [
    "df['mood'] = df['mood'].apply(lambda x: 1 if x == 'happy' else 0)\n",
    "df"
   ],
   "metadata": {
    "collapsed": false
   }
  },
  {
   "cell_type": "markdown",
   "source": [
    "## Ejemplo 2"
   ],
   "metadata": {
    "collapsed": false
   }
  },
  {
   "cell_type": "code",
   "execution_count": 16,
   "outputs": [
    {
     "data": {
      "text/plain": "         mood                        sentence\nalien1    Sad                          Crack!\nalien2    Sad                    Doink doink!\nalien3    Sad                    Crack doink!\nalien4    Sad              Crack doink crack!\nalien5  Happy        Doink crack doink doink!\nalien6  Happy        Crack doink doink crack!\nalien7  Happy  Doink doink crack crack crack!\nalien8  Happy  Crack doink doink crack doink!",
      "text/html": "<div>\n<style scoped>\n    .dataframe tbody tr th:only-of-type {\n        vertical-align: middle;\n    }\n\n    .dataframe tbody tr th {\n        vertical-align: top;\n    }\n\n    .dataframe thead th {\n        text-align: right;\n    }\n</style>\n<table border=\"1\" class=\"dataframe\">\n  <thead>\n    <tr style=\"text-align: right;\">\n      <th></th>\n      <th>mood</th>\n      <th>sentence</th>\n    </tr>\n  </thead>\n  <tbody>\n    <tr>\n      <th>alien1</th>\n      <td>Sad</td>\n      <td>Crack!</td>\n    </tr>\n    <tr>\n      <th>alien2</th>\n      <td>Sad</td>\n      <td>Doink doink!</td>\n    </tr>\n    <tr>\n      <th>alien3</th>\n      <td>Sad</td>\n      <td>Crack doink!</td>\n    </tr>\n    <tr>\n      <th>alien4</th>\n      <td>Sad</td>\n      <td>Crack doink crack!</td>\n    </tr>\n    <tr>\n      <th>alien5</th>\n      <td>Happy</td>\n      <td>Doink crack doink doink!</td>\n    </tr>\n    <tr>\n      <th>alien6</th>\n      <td>Happy</td>\n      <td>Crack doink doink crack!</td>\n    </tr>\n    <tr>\n      <th>alien7</th>\n      <td>Happy</td>\n      <td>Doink doink crack crack crack!</td>\n    </tr>\n    <tr>\n      <th>alien8</th>\n      <td>Happy</td>\n      <td>Crack doink doink crack doink!</td>\n    </tr>\n  </tbody>\n</table>\n</div>"
     },
     "execution_count": 16,
     "metadata": {},
     "output_type": "execute_result"
    }
   ],
   "source": [
    "alien = {\n",
    "    \"alien1\": {\"mood\": \"Sad\", \"sentence\": \"Crack!\"},\n",
    "    \"alien2\": {\"mood\": \"Sad\", \"sentence\": \"Doink doink!\"},\n",
    "    \"alien3\": {\"mood\": \"Sad\", \"sentence\": \"Crack doink!\"},\n",
    "    \"alien4\": {\"mood\": \"Sad\", \"sentence\": \"Crack doink crack!\"},\n",
    "    \"alien5\": {\"mood\": \"Happy\", \"sentence\": \"Doink crack doink doink!\"},\n",
    "    \"alien6\": {\"mood\": \"Happy\", \"sentence\": \"Crack doink doink crack!\"},\n",
    "    \"alien7\": {\"mood\": \"Happy\", \"sentence\": \"Doink doink crack crack crack!\"},\n",
    "    \"alien8\": {\"mood\": \"Happy\", \"sentence\": \"Crack doink doink crack doink!\"}\n",
    "}\n",
    "\n",
    "#create a dataframe\n",
    "df2 = pd.DataFrame(alien).T\n",
    "df2"
   ],
   "metadata": {
    "collapsed": false
   }
  },
  {
   "cell_type": "code",
   "execution_count": 18,
   "outputs": [],
   "source": [
    "df2['crack'] = df2['sentence'].apply(lambda x: x.replace('!', '').replace(',', '').lower().count('crack'))\n",
    "df2['doink'] = df2['sentence'].apply(lambda x: x.replace('!', '').replace(',', '').lower().count('doink'))"
   ],
   "metadata": {
    "collapsed": false
   }
  },
  {
   "cell_type": "code",
   "execution_count": 19,
   "outputs": [
    {
     "data": {
      "text/plain": "         mood                        sentence  crack  doink  \\\nalien1    Sad                          Crack!      1      0   \nalien2    Sad                    Doink doink!      0      2   \nalien3    Sad                    Crack doink!      1      1   \nalien4    Sad              Crack doink crack!      2      1   \nalien5  Happy        Doink crack doink doink!      1      3   \nalien6  Happy        Crack doink doink crack!      2      2   \nalien7  Happy  Doink doink crack crack crack!      3      2   \nalien8  Happy  Crack doink doink crack doink!      2      3   \n\n        score_planeta_nuevo  \nalien1                    1  \nalien2                    2  \nalien3                    2  \nalien4                    3  \nalien5                    4  \nalien6                    4  \nalien7                    5  \nalien8                    5  ",
      "text/html": "<div>\n<style scoped>\n    .dataframe tbody tr th:only-of-type {\n        vertical-align: middle;\n    }\n\n    .dataframe tbody tr th {\n        vertical-align: top;\n    }\n\n    .dataframe thead th {\n        text-align: right;\n    }\n</style>\n<table border=\"1\" class=\"dataframe\">\n  <thead>\n    <tr style=\"text-align: right;\">\n      <th></th>\n      <th>mood</th>\n      <th>sentence</th>\n      <th>crack</th>\n      <th>doink</th>\n      <th>score_planeta_nuevo</th>\n    </tr>\n  </thead>\n  <tbody>\n    <tr>\n      <th>alien1</th>\n      <td>Sad</td>\n      <td>Crack!</td>\n      <td>1</td>\n      <td>0</td>\n      <td>1</td>\n    </tr>\n    <tr>\n      <th>alien2</th>\n      <td>Sad</td>\n      <td>Doink doink!</td>\n      <td>0</td>\n      <td>2</td>\n      <td>2</td>\n    </tr>\n    <tr>\n      <th>alien3</th>\n      <td>Sad</td>\n      <td>Crack doink!</td>\n      <td>1</td>\n      <td>1</td>\n      <td>2</td>\n    </tr>\n    <tr>\n      <th>alien4</th>\n      <td>Sad</td>\n      <td>Crack doink crack!</td>\n      <td>2</td>\n      <td>1</td>\n      <td>3</td>\n    </tr>\n    <tr>\n      <th>alien5</th>\n      <td>Happy</td>\n      <td>Doink crack doink doink!</td>\n      <td>1</td>\n      <td>3</td>\n      <td>4</td>\n    </tr>\n    <tr>\n      <th>alien6</th>\n      <td>Happy</td>\n      <td>Crack doink doink crack!</td>\n      <td>2</td>\n      <td>2</td>\n      <td>4</td>\n    </tr>\n    <tr>\n      <th>alien7</th>\n      <td>Happy</td>\n      <td>Doink doink crack crack crack!</td>\n      <td>3</td>\n      <td>2</td>\n      <td>5</td>\n    </tr>\n    <tr>\n      <th>alien8</th>\n      <td>Happy</td>\n      <td>Crack doink doink crack doink!</td>\n      <td>2</td>\n      <td>3</td>\n      <td>5</td>\n    </tr>\n  </tbody>\n</table>\n</div>"
     },
     "execution_count": 19,
     "metadata": {},
     "output_type": "execute_result"
    }
   ],
   "source": [
    "df2[\"score_planeta_nuevo\"] = df2[\"doink\"] + df2[\"crack\"]\n",
    "df2"
   ],
   "metadata": {
    "collapsed": false
   }
  },
  {
   "cell_type": "code",
   "execution_count": null,
   "outputs": [],
   "source": [],
   "metadata": {
    "collapsed": false
   }
  }
 ],
 "metadata": {
  "kernelspec": {
   "display_name": "Python 3",
   "language": "python",
   "name": "python3"
  },
  "language_info": {
   "codemirror_mode": {
    "name": "ipython",
    "version": 2
   },
   "file_extension": ".py",
   "mimetype": "text/x-python",
   "name": "python",
   "nbconvert_exporter": "python",
   "pygments_lexer": "ipython2",
   "version": "2.7.6"
  }
 },
 "nbformat": 4,
 "nbformat_minor": 0
}
