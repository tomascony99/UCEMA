{
 "cells": [
  {
   "cell_type": "markdown",
   "metadata": {},
   "source": [
    "# Orders"
   ]
  },
  {
   "cell_type": "markdown",
   "source": [
    "Gran parte de nuestra tarea es crear \"Features\", variables en los datos que representan un aspecto del fenómeno que estudiamos y nos ayudan a explicarlo."
   ],
   "metadata": {
    "collapsed": false
   }
  },
  {
   "cell_type": "markdown",
   "metadata": {},
   "source": [
    "**Ejercicio**\n",
    "\n",
    "Vamos a investigar la relación entre orders y el score.\n",
    "\n",
    "La idea es crear un dataframe con las siguientes features:\n",
    "\n",
    "| feature_name \t                | type \t| description \t                                                                                                                                         |\n",
    "|:------------------------------|:---:\t|:------------------------------------------------------------------------------------------------------------------------------------------------------|\n",
    "| `order_id` \t                  | str \t| the id of the order \t                                                                                                                                 |\n",
    "| `tiempo_de_espera` \t          | float \t| numero de días entre order_date y delivered_date \t                                                                                                    |\n",
    "| `tiempo_de_espera_previsto` \t | float \t| numero de días entre order_date y estimated_delivery_date \t                                                                                           |\n",
    "| `real_vas_esperado` \t         | float \t| si la fecha de entrega real es posterior a la fecha de entrega estimada, devuelve el número de días entre las dos fechas; de lo contrario, devuelve 0 |\n",
    "| `order_status` \t              | str \t| statusde la orden\t                                                                                                                                    |\n",
    "| `es_cinco_estrellas` \t        | int \t| 1 si tuvo cinco estrellas en la  review, 0 caso contrario \t                                                                                           |\n",
    "| `es_una_estrella` \t           | int \t| 1 si tuvo una estrella, 0 caso contrario \t                                                                                                            |\n",
    "| `review_score` \t              | int \t| from 1 to 5 \t                                                                                                                                         |\n",
    "| `numero_de_productos` \t       | int \t| numero de productos que contiene una orden\t                                                                                                           |\n",
    "| `numero_de_vendedores` \t      | int \t| numero de vendedores unicos                                                                                                                           |\n",
    "| `precio` \t                    | float \t| total del precio pagado por el cliente                                                                                                                |\n",
    "| `valor_transporte` \t          | float \t| el valor del freight pagado por el cliente \t                                                                                                          |\n",
    "| `distancia_al_cliente` \t      | float \t| distancia en km entre cliente y vendedor \t                                                                                                  |\n",
    "  \n",
    "Queremos filtrar las ordenes no entregadas"
   ]
  },
  {
   "cell_type": "markdown",
   "metadata": {},
   "source": [
    "## Metodología:\n",
    "\n",
    "Vamos a crear dos notebooks una de testeo y otra para importar nuestro paquete preprocess.orders_data y de ahí ir elavorando los métodos.\n",
    "\n",
    "1er Método: Load_data: Trae el dataset sin nulos de una ubicación ya prefijada."
   ]
  },
  {
   "cell_type": "markdown",
   "metadata": {},
   "source": [
    "###  Buenas Pracitcas\n",
    "\n",
    "\n",
    "Las notebooks se pueden hacer muy largas y desordenadas.\n",
    "- Codifique su lógica para que siempre se pueda ejecutar de arriba a abajo sin fallar (Celda --> Ejecutar todo)\n",
    "- Nombre sus variables con lo que significa y para que otra persona pueda entenderlo.\n",
    "- Use nombres como `tmp` o `_` para pasos intermedios si sabe que no va a usarlos mucho tiempo\n",
    "- Borre su código y combine celdas cuando sea relevante para minimizar el tamaño del Notebook (`Shift-M`)\n",
    "- Oculte la salida de su celda si ya no necesita verla (haga doble clic en la sección roja `Out[]:` a la izquierda de su celda).\n",
    "- Utilice la Structure de pycharm o Juypter lab para organizarse\n",
    "- Shortcuts\n",
    "    - `a` para insertar una celda arriba\n",
    "    - `b` para insertar una celda debajo\n",
    "    - `dd` para borrar una celda\n",
    "    - `esc` y `flechas` para moverse entre celdas\n",
    "    - `Shift-Enter` para ejecutar la celda y mover el foco a la siguiente\n",
    "    - `Shift + Tab` cuando entre paréntesis de método, p. ¡`groupby()` para obtener los documentos! Repita varias veces para abrirlo permanentemente"
   ]
  },
  {
   "cell_type": "code",
   "execution_count": 1,
   "metadata": {},
   "outputs": [],
   "source": [
    "%load_ext autoreload\n",
    "%autoreload 2"
   ]
  },
  {
   "cell_type": "code",
   "execution_count": 2,
   "metadata": {},
   "outputs": [],
   "source": [
    "import pandas as pd\n",
    "import numpy as np\n",
    "import seaborn as sns\n",
    "import matplotlib.pyplot as plt"
   ]
  },
  {
   "cell_type": "code",
   "execution_count": 3,
   "metadata": {},
   "outputs": [],
   "source": [
    "# Import olist data\n",
    "from olist.load_data import load_all_data\n",
    "data = load_all_data(\"data/\")"
   ]
  },
  {
   "cell_type": "code",
   "execution_count": 4,
   "outputs": [
    {
     "data": {
      "text/plain": "dict_keys(['sellers', 'orders', 'order_items', 'customers', 'geolocation', 'order_payments', 'order_reviews', 'products'])"
     },
     "execution_count": 4,
     "metadata": {},
     "output_type": "execute_result"
    }
   ],
   "source": [
    "data.keys()"
   ],
   "metadata": {
    "collapsed": false
   }
  },
  {
   "cell_type": "code",
   "execution_count": 5,
   "metadata": {},
   "outputs": [],
   "source": [
    "orders = data['orders'].copy() # buena practica para estar seguro que no modificas tu dataset original"
   ]
  },
  {
   "cell_type": "markdown",
   "metadata": {},
   "source": [
    "## 1. Crear orders.py"
   ]
  },
  {
   "cell_type": "markdown",
   "metadata": {},
   "source": [
    "### a) `tiempo_de_espera`\n",
    "    Armar un dataframe que tenga\n",
    "           order_id, tiempo_de_espera, tiempo_de_espera_previsto, real_vs_esperado, status_de_la_orden\n"
   ]
  },
  {
   "cell_type": "markdown",
   "metadata": {},
   "source": [
    "# Pasos a seguir\n",
    "\n",
    "> 1. Explora el dataframe `orders`\n",
    "2. Filtra por `delivered orders`\n",
    "3. Manipulá correctamente `datetime` (recordá el examen)\n",
    "    - Repasá[`datetime`](https://docs.python.org/3/library/datetime.html)\n",
    "    - Métodos para pasar \"string\" type a \"pandas.datetime'  [`pandas.to_datetime()`](https://pandas.pydata.org/pandas-docs/stable/reference/api/pandas.to_datetime.html)\n",
    "4. Crea la columna `tiempo_de_espera`\n",
    "5. Crea la columna  `tiempo_de_espera_previsto`\n",
    "6. Crea la columna  `real_vs_esperado`\n",
    "7. Chequea el nuevo dataset\n",
    "8. Una vez terminado el código pasalo a tu librería `order.py`\n",
    "\n",
    "Tanto para `tiempo_de_espera` como para `tiempo_de_espera_previsto`, debe restar las fechas/marcas de tiempo relevantes para obtener la diferencia horaria entre los objetos `pandas.datetime`. Luego, puede usar [`datetime.timedelta()`](https://docs.python.org/3/library/datetime.html#timedelta-objects) o [`np.timedelta64()`](https ://numpy.org/doc/stable/reference/arrays.datetime.html#datetime-and-timedelta-arithmetic) para averiguar cuántos días representa esa resta.\n"
   ]
  },
  {
   "cell_type": "code",
   "execution_count": 6,
   "metadata": {
    "tags": [
     "challengify"
    ]
   },
   "outputs": [
    {
     "data": {
      "text/plain": "                           order_id                       customer_id  \\\n0  e481f51cbdc54678b7cc49136f2d6af7  9ef432eb6251297304e76186b10a928d   \n1  53cdb2fc8bc7dce0b6741e2150273451  b0830fb4747a6c6d20dea0b8c802d7ef   \n\n  order_status order_purchase_timestamp    order_approved_at  \\\n0    delivered      2017-10-02 10:56:33  2017-10-02 11:07:15   \n1    delivered      2018-07-24 20:41:37  2018-07-26 03:24:27   \n\n  order_delivered_carrier_date order_delivered_customer_date  \\\n0          2017-10-04 19:55:00           2017-10-10 21:25:13   \n1          2018-07-26 14:31:00           2018-08-07 15:27:45   \n\n  order_estimated_delivery_date  \n0           2017-10-18 00:00:00  \n1           2018-08-13 00:00:00  ",
      "text/html": "<div>\n<style scoped>\n    .dataframe tbody tr th:only-of-type {\n        vertical-align: middle;\n    }\n\n    .dataframe tbody tr th {\n        vertical-align: top;\n    }\n\n    .dataframe thead th {\n        text-align: right;\n    }\n</style>\n<table border=\"1\" class=\"dataframe\">\n  <thead>\n    <tr style=\"text-align: right;\">\n      <th></th>\n      <th>order_id</th>\n      <th>customer_id</th>\n      <th>order_status</th>\n      <th>order_purchase_timestamp</th>\n      <th>order_approved_at</th>\n      <th>order_delivered_carrier_date</th>\n      <th>order_delivered_customer_date</th>\n      <th>order_estimated_delivery_date</th>\n    </tr>\n  </thead>\n  <tbody>\n    <tr>\n      <th>0</th>\n      <td>e481f51cbdc54678b7cc49136f2d6af7</td>\n      <td>9ef432eb6251297304e76186b10a928d</td>\n      <td>delivered</td>\n      <td>2017-10-02 10:56:33</td>\n      <td>2017-10-02 11:07:15</td>\n      <td>2017-10-04 19:55:00</td>\n      <td>2017-10-10 21:25:13</td>\n      <td>2017-10-18 00:00:00</td>\n    </tr>\n    <tr>\n      <th>1</th>\n      <td>53cdb2fc8bc7dce0b6741e2150273451</td>\n      <td>b0830fb4747a6c6d20dea0b8c802d7ef</td>\n      <td>delivered</td>\n      <td>2018-07-24 20:41:37</td>\n      <td>2018-07-26 03:24:27</td>\n      <td>2018-07-26 14:31:00</td>\n      <td>2018-08-07 15:27:45</td>\n      <td>2018-08-13 00:00:00</td>\n    </tr>\n  </tbody>\n</table>\n</div>"
     },
     "execution_count": 6,
     "metadata": {},
     "output_type": "execute_result"
    }
   ],
   "source": [
    "orders.head(2)"
   ]
  },
  {
   "cell_type": "code",
   "execution_count": 7,
   "metadata": {
    "tags": [
     "delete_begin"
    ]
   },
   "outputs": [
    {
     "data": {
      "text/plain": "order_id                            0\ncustomer_id                         0\norder_status                        0\norder_purchase_timestamp            0\norder_approved_at                 160\norder_delivered_carrier_date     1783\norder_delivered_customer_date    2965\norder_estimated_delivery_date       0\ndtype: int64"
     },
     "execution_count": 7,
     "metadata": {},
     "output_type": "execute_result"
    }
   ],
   "source": [
    "orders.isna().sum()"
   ]
  },
  {
   "cell_type": "code",
   "execution_count": 8,
   "metadata": {},
   "outputs": [],
   "source": [
    "# Transforma a datetime\n",
    "from olist.preprocess import transformar_columnas_datetime\n",
    "orders = transformar_columnas_datetime(orders)"
   ]
  },
  {
   "cell_type": "code",
   "execution_count": 9,
   "metadata": {},
   "outputs": [],
   "source": [
    "# calcula el time delta entre compra y venta"
   ]
  },
  {
   "cell_type": "markdown",
   "source": [
    "### Crear una columna\n",
    "Es lo mismo utilizar .loc para asignar una columna nueva, que utilizar .assign o simplemente df['columna'] = operación"
   ],
   "metadata": {
    "collapsed": false
   }
  },
  {
   "cell_type": "code",
   "execution_count": 10,
   "metadata": {},
   "outputs": [],
   "source": [
    "# Compute just the number of days in each time_delta \n",
    "#import datetime\n",
    "#one_day_delta = datetime.timedelta(days=1) # lleva el time delta a un día\n",
    "#one_day_delta = np.timedelta64(24, 'h') # también se puede hacer de esta manera\n",
    "\n",
    "# \\ se puede usar para ahorrar espacio\n",
    "#orders.loc[:,'tiempo_de_espera'] = \\\n",
    "  #  (orders['order_delivered_customer_date'] - orders['order_purchase_timestamp']) / one_day_delta\n",
    "\n"
   ]
  },
  {
   "cell_type": "code",
   "execution_count": 11,
   "metadata": {},
   "outputs": [],
   "source": [
    "#(orders['order_delivered_customer_date'] - orders['order_purchase_timestamp']).dt.days"
   ]
  },
  {
   "cell_type": "code",
   "execution_count": 12,
   "outputs": [
    {
     "data": {
      "text/plain": "                           order_id                       customer_id  \\\n0  e481f51cbdc54678b7cc49136f2d6af7  9ef432eb6251297304e76186b10a928d   \n1  53cdb2fc8bc7dce0b6741e2150273451  b0830fb4747a6c6d20dea0b8c802d7ef   \n2  47770eb9100c2d0c44946d9cf07ec65d  41ce2a54c0b03bf3443c3d931a367089   \n3  949d5b44dbf5de918fe9c16f97b45f8a  f88197465ea7920adcdbec7375364d82   \n4  ad21c59c0840e6cb83a9ceb5573f8159  8ab97904e6daea8866dbdbc4fb7aad2c   \n\n  order_status order_purchase_timestamp    order_approved_at  \\\n0    delivered      2017-10-02 10:56:33  2017-10-02 11:07:15   \n1    delivered      2018-07-24 20:41:37  2018-07-26 03:24:27   \n2    delivered      2018-08-08 08:38:49  2018-08-08 08:55:23   \n3    delivered      2017-11-18 19:28:06  2017-11-18 19:45:59   \n4    delivered      2018-02-13 21:18:39  2018-02-13 22:20:29   \n\n  order_delivered_carrier_date order_delivered_customer_date  \\\n0          2017-10-04 19:55:00           2017-10-10 21:25:13   \n1          2018-07-26 14:31:00           2018-08-07 15:27:45   \n2          2018-08-08 13:50:00           2018-08-17 18:06:29   \n3          2017-11-22 13:39:59           2017-12-02 00:28:42   \n4          2018-02-14 19:46:34           2018-02-16 18:17:02   \n\n  order_estimated_delivery_date  tiempo_de_espera  \n0                    2017-10-18          8.436574  \n1                    2018-08-13         13.782037  \n2                    2018-09-04          9.394213  \n3                    2017-12-15         13.208750  \n4                    2018-02-26          2.873877  ",
      "text/html": "<div>\n<style scoped>\n    .dataframe tbody tr th:only-of-type {\n        vertical-align: middle;\n    }\n\n    .dataframe tbody tr th {\n        vertical-align: top;\n    }\n\n    .dataframe thead th {\n        text-align: right;\n    }\n</style>\n<table border=\"1\" class=\"dataframe\">\n  <thead>\n    <tr style=\"text-align: right;\">\n      <th></th>\n      <th>order_id</th>\n      <th>customer_id</th>\n      <th>order_status</th>\n      <th>order_purchase_timestamp</th>\n      <th>order_approved_at</th>\n      <th>order_delivered_carrier_date</th>\n      <th>order_delivered_customer_date</th>\n      <th>order_estimated_delivery_date</th>\n      <th>tiempo_de_espera</th>\n    </tr>\n  </thead>\n  <tbody>\n    <tr>\n      <th>0</th>\n      <td>e481f51cbdc54678b7cc49136f2d6af7</td>\n      <td>9ef432eb6251297304e76186b10a928d</td>\n      <td>delivered</td>\n      <td>2017-10-02 10:56:33</td>\n      <td>2017-10-02 11:07:15</td>\n      <td>2017-10-04 19:55:00</td>\n      <td>2017-10-10 21:25:13</td>\n      <td>2017-10-18</td>\n      <td>8.436574</td>\n    </tr>\n    <tr>\n      <th>1</th>\n      <td>53cdb2fc8bc7dce0b6741e2150273451</td>\n      <td>b0830fb4747a6c6d20dea0b8c802d7ef</td>\n      <td>delivered</td>\n      <td>2018-07-24 20:41:37</td>\n      <td>2018-07-26 03:24:27</td>\n      <td>2018-07-26 14:31:00</td>\n      <td>2018-08-07 15:27:45</td>\n      <td>2018-08-13</td>\n      <td>13.782037</td>\n    </tr>\n    <tr>\n      <th>2</th>\n      <td>47770eb9100c2d0c44946d9cf07ec65d</td>\n      <td>41ce2a54c0b03bf3443c3d931a367089</td>\n      <td>delivered</td>\n      <td>2018-08-08 08:38:49</td>\n      <td>2018-08-08 08:55:23</td>\n      <td>2018-08-08 13:50:00</td>\n      <td>2018-08-17 18:06:29</td>\n      <td>2018-09-04</td>\n      <td>9.394213</td>\n    </tr>\n    <tr>\n      <th>3</th>\n      <td>949d5b44dbf5de918fe9c16f97b45f8a</td>\n      <td>f88197465ea7920adcdbec7375364d82</td>\n      <td>delivered</td>\n      <td>2017-11-18 19:28:06</td>\n      <td>2017-11-18 19:45:59</td>\n      <td>2017-11-22 13:39:59</td>\n      <td>2017-12-02 00:28:42</td>\n      <td>2017-12-15</td>\n      <td>13.208750</td>\n    </tr>\n    <tr>\n      <th>4</th>\n      <td>ad21c59c0840e6cb83a9ceb5573f8159</td>\n      <td>8ab97904e6daea8866dbdbc4fb7aad2c</td>\n      <td>delivered</td>\n      <td>2018-02-13 21:18:39</td>\n      <td>2018-02-13 22:20:29</td>\n      <td>2018-02-14 19:46:34</td>\n      <td>2018-02-16 18:17:02</td>\n      <td>2018-02-26</td>\n      <td>2.873877</td>\n    </tr>\n  </tbody>\n</table>\n</div>"
     },
     "execution_count": 12,
     "metadata": {},
     "output_type": "execute_result"
    }
   ],
   "source": [
    "#pasarlo a modulo\n",
    "from olist.preprocess import tiempo_de_espera\n",
    "orders = tiempo_de_espera(orders,is_delivered=False)\n",
    "orders.head()"
   ],
   "metadata": {
    "collapsed": false
   }
  },
  {
   "cell_type": "code",
   "execution_count": 13,
   "outputs": [
    {
     "name": "stderr",
     "output_type": "stream",
     "text": [
      "/Users/federicomoreno/PycharmProjects/UCEMA/07-entrenamiento/olist/preprocess.py:40: SettingWithCopyWarning: \n",
      "A value is trying to be set on a copy of a slice from a DataFrame.\n",
      "Try using .loc[row_indexer,col_indexer] = value instead\n",
      "\n",
      "See the caveats in the documentation: https://pandas.pydata.org/pandas-docs/stable/user_guide/indexing.html#returning-a-view-versus-a-copy\n",
      "  orders.loc[:, 'real_vs_esperado'] = \\\n",
      "/Users/federicomoreno/PycharmProjects/UCEMA/07-entrenamiento/olist/preprocess.py:44: SettingWithCopyWarning: \n",
      "A value is trying to be set on a copy of a slice from a DataFrame.\n",
      "Try using .loc[row_indexer,col_indexer] = value instead\n",
      "\n",
      "See the caveats in the documentation: https://pandas.pydata.org/pandas-docs/stable/user_guide/indexing.html#returning-a-view-versus-a-copy\n",
      "  orders.loc[:, 'real_vs_esperado'] = \\\n"
     ]
    },
    {
     "data": {
      "text/plain": "                               order_id                       customer_id  \\\n0      e481f51cbdc54678b7cc49136f2d6af7  9ef432eb6251297304e76186b10a928d   \n1      53cdb2fc8bc7dce0b6741e2150273451  b0830fb4747a6c6d20dea0b8c802d7ef   \n2      47770eb9100c2d0c44946d9cf07ec65d  41ce2a54c0b03bf3443c3d931a367089   \n3      949d5b44dbf5de918fe9c16f97b45f8a  f88197465ea7920adcdbec7375364d82   \n4      ad21c59c0840e6cb83a9ceb5573f8159  8ab97904e6daea8866dbdbc4fb7aad2c   \n...                                 ...                               ...   \n99436  9c5dedf39a927c1b2549525ed64a053c  39bd1228ee8140590ac3aca26f2dfe00   \n99437  63943bddc261676b46f01ca7ac2f7bd8  1fca14ff2861355f6e5f14306ff977a7   \n99438  83c1379a015df1e13d02aae0204711ab  1aa71eb042121263aafbe80c1b562c9c   \n99439  11c177c8e97725db2631073c19f07b62  b331b74b18dc79bcdf6532d51e1637c1   \n99440  66dea50a8b16d9b4dee7af250b4be1a5  edb027a75a1449115f6b43211ae02a24   \n\n      order_status order_purchase_timestamp    order_approved_at  \\\n0        delivered      2017-10-02 10:56:33  2017-10-02 11:07:15   \n1        delivered      2018-07-24 20:41:37  2018-07-26 03:24:27   \n2        delivered      2018-08-08 08:38:49  2018-08-08 08:55:23   \n3        delivered      2017-11-18 19:28:06  2017-11-18 19:45:59   \n4        delivered      2018-02-13 21:18:39  2018-02-13 22:20:29   \n...            ...                      ...                  ...   \n99436    delivered      2017-03-09 09:54:05  2017-03-09 09:54:05   \n99437    delivered      2018-02-06 12:58:58  2018-02-06 13:10:37   \n99438    delivered      2017-08-27 14:46:43  2017-08-27 15:04:16   \n99439    delivered      2018-01-08 21:28:27  2018-01-08 21:36:21   \n99440    delivered      2018-03-08 20:57:30  2018-03-09 11:20:28   \n\n      order_delivered_carrier_date order_delivered_customer_date  \\\n0              2017-10-04 19:55:00           2017-10-10 21:25:13   \n1              2018-07-26 14:31:00           2018-08-07 15:27:45   \n2              2018-08-08 13:50:00           2018-08-17 18:06:29   \n3              2017-11-22 13:39:59           2017-12-02 00:28:42   \n4              2018-02-14 19:46:34           2018-02-16 18:17:02   \n...                            ...                           ...   \n99436          2017-03-10 11:18:03           2017-03-17 15:08:01   \n99437          2018-02-07 23:22:42           2018-02-28 17:37:56   \n99438          2017-08-28 20:52:26           2017-09-21 11:24:17   \n99439          2018-01-12 15:35:03           2018-01-25 23:32:54   \n99440          2018-03-09 22:11:59           2018-03-16 13:08:30   \n\n      order_estimated_delivery_date  tiempo_de_espera  real_vs_esperado  \n0                        2017-10-18          8.436574               0.0  \n1                        2018-08-13         13.782037               0.0  \n2                        2018-09-04          9.394213               0.0  \n3                        2017-12-15         13.208750               0.0  \n4                        2018-02-26          2.873877               0.0  \n...                             ...               ...               ...  \n99436                    2017-03-28          8.218009               0.0  \n99437                    2018-03-02         22.193727               0.0  \n99438                    2017-09-27         24.859421               0.0  \n99439                    2018-02-15         17.086424               0.0  \n99440                    2018-04-03          7.674306               0.0  \n\n[96478 rows x 10 columns]",
      "text/html": "<div>\n<style scoped>\n    .dataframe tbody tr th:only-of-type {\n        vertical-align: middle;\n    }\n\n    .dataframe tbody tr th {\n        vertical-align: top;\n    }\n\n    .dataframe thead th {\n        text-align: right;\n    }\n</style>\n<table border=\"1\" class=\"dataframe\">\n  <thead>\n    <tr style=\"text-align: right;\">\n      <th></th>\n      <th>order_id</th>\n      <th>customer_id</th>\n      <th>order_status</th>\n      <th>order_purchase_timestamp</th>\n      <th>order_approved_at</th>\n      <th>order_delivered_carrier_date</th>\n      <th>order_delivered_customer_date</th>\n      <th>order_estimated_delivery_date</th>\n      <th>tiempo_de_espera</th>\n      <th>real_vs_esperado</th>\n    </tr>\n  </thead>\n  <tbody>\n    <tr>\n      <th>0</th>\n      <td>e481f51cbdc54678b7cc49136f2d6af7</td>\n      <td>9ef432eb6251297304e76186b10a928d</td>\n      <td>delivered</td>\n      <td>2017-10-02 10:56:33</td>\n      <td>2017-10-02 11:07:15</td>\n      <td>2017-10-04 19:55:00</td>\n      <td>2017-10-10 21:25:13</td>\n      <td>2017-10-18</td>\n      <td>8.436574</td>\n      <td>0.0</td>\n    </tr>\n    <tr>\n      <th>1</th>\n      <td>53cdb2fc8bc7dce0b6741e2150273451</td>\n      <td>b0830fb4747a6c6d20dea0b8c802d7ef</td>\n      <td>delivered</td>\n      <td>2018-07-24 20:41:37</td>\n      <td>2018-07-26 03:24:27</td>\n      <td>2018-07-26 14:31:00</td>\n      <td>2018-08-07 15:27:45</td>\n      <td>2018-08-13</td>\n      <td>13.782037</td>\n      <td>0.0</td>\n    </tr>\n    <tr>\n      <th>2</th>\n      <td>47770eb9100c2d0c44946d9cf07ec65d</td>\n      <td>41ce2a54c0b03bf3443c3d931a367089</td>\n      <td>delivered</td>\n      <td>2018-08-08 08:38:49</td>\n      <td>2018-08-08 08:55:23</td>\n      <td>2018-08-08 13:50:00</td>\n      <td>2018-08-17 18:06:29</td>\n      <td>2018-09-04</td>\n      <td>9.394213</td>\n      <td>0.0</td>\n    </tr>\n    <tr>\n      <th>3</th>\n      <td>949d5b44dbf5de918fe9c16f97b45f8a</td>\n      <td>f88197465ea7920adcdbec7375364d82</td>\n      <td>delivered</td>\n      <td>2017-11-18 19:28:06</td>\n      <td>2017-11-18 19:45:59</td>\n      <td>2017-11-22 13:39:59</td>\n      <td>2017-12-02 00:28:42</td>\n      <td>2017-12-15</td>\n      <td>13.208750</td>\n      <td>0.0</td>\n    </tr>\n    <tr>\n      <th>4</th>\n      <td>ad21c59c0840e6cb83a9ceb5573f8159</td>\n      <td>8ab97904e6daea8866dbdbc4fb7aad2c</td>\n      <td>delivered</td>\n      <td>2018-02-13 21:18:39</td>\n      <td>2018-02-13 22:20:29</td>\n      <td>2018-02-14 19:46:34</td>\n      <td>2018-02-16 18:17:02</td>\n      <td>2018-02-26</td>\n      <td>2.873877</td>\n      <td>0.0</td>\n    </tr>\n    <tr>\n      <th>...</th>\n      <td>...</td>\n      <td>...</td>\n      <td>...</td>\n      <td>...</td>\n      <td>...</td>\n      <td>...</td>\n      <td>...</td>\n      <td>...</td>\n      <td>...</td>\n      <td>...</td>\n    </tr>\n    <tr>\n      <th>99436</th>\n      <td>9c5dedf39a927c1b2549525ed64a053c</td>\n      <td>39bd1228ee8140590ac3aca26f2dfe00</td>\n      <td>delivered</td>\n      <td>2017-03-09 09:54:05</td>\n      <td>2017-03-09 09:54:05</td>\n      <td>2017-03-10 11:18:03</td>\n      <td>2017-03-17 15:08:01</td>\n      <td>2017-03-28</td>\n      <td>8.218009</td>\n      <td>0.0</td>\n    </tr>\n    <tr>\n      <th>99437</th>\n      <td>63943bddc261676b46f01ca7ac2f7bd8</td>\n      <td>1fca14ff2861355f6e5f14306ff977a7</td>\n      <td>delivered</td>\n      <td>2018-02-06 12:58:58</td>\n      <td>2018-02-06 13:10:37</td>\n      <td>2018-02-07 23:22:42</td>\n      <td>2018-02-28 17:37:56</td>\n      <td>2018-03-02</td>\n      <td>22.193727</td>\n      <td>0.0</td>\n    </tr>\n    <tr>\n      <th>99438</th>\n      <td>83c1379a015df1e13d02aae0204711ab</td>\n      <td>1aa71eb042121263aafbe80c1b562c9c</td>\n      <td>delivered</td>\n      <td>2017-08-27 14:46:43</td>\n      <td>2017-08-27 15:04:16</td>\n      <td>2017-08-28 20:52:26</td>\n      <td>2017-09-21 11:24:17</td>\n      <td>2017-09-27</td>\n      <td>24.859421</td>\n      <td>0.0</td>\n    </tr>\n    <tr>\n      <th>99439</th>\n      <td>11c177c8e97725db2631073c19f07b62</td>\n      <td>b331b74b18dc79bcdf6532d51e1637c1</td>\n      <td>delivered</td>\n      <td>2018-01-08 21:28:27</td>\n      <td>2018-01-08 21:36:21</td>\n      <td>2018-01-12 15:35:03</td>\n      <td>2018-01-25 23:32:54</td>\n      <td>2018-02-15</td>\n      <td>17.086424</td>\n      <td>0.0</td>\n    </tr>\n    <tr>\n      <th>99440</th>\n      <td>66dea50a8b16d9b4dee7af250b4be1a5</td>\n      <td>edb027a75a1449115f6b43211ae02a24</td>\n      <td>delivered</td>\n      <td>2018-03-08 20:57:30</td>\n      <td>2018-03-09 11:20:28</td>\n      <td>2018-03-09 22:11:59</td>\n      <td>2018-03-16 13:08:30</td>\n      <td>2018-04-03</td>\n      <td>7.674306</td>\n      <td>0.0</td>\n    </tr>\n  </tbody>\n</table>\n<p>96478 rows × 10 columns</p>\n</div>"
     },
     "execution_count": 13,
     "metadata": {},
     "output_type": "execute_result"
    }
   ],
   "source": [
    "#crear real vs esperado\n",
    "# ver que columnas hay\n",
    "# igual que en NPS si algun numero en real_vs_esperado es negativo reemplazarlo por 0\n",
    "from olist.preprocess import real_vs_esperado\n",
    "orders = real_vs_esperado(orders,is_delivered=True)\n",
    "orders"
   ],
   "metadata": {
    "collapsed": false
   }
  },
  {
   "cell_type": "code",
   "execution_count": 14,
   "metadata": {
    "tags": [
     "delete_end"
    ]
   },
   "outputs": [
    {
     "data": {
      "text/plain": "<seaborn.axisgrid.FacetGrid at 0x12d47d100>"
     },
     "execution_count": 14,
     "metadata": {},
     "output_type": "execute_result"
    },
    {
     "data": {
      "text/plain": "<Figure size 500x500 with 1 Axes>",
      "image/png": "[encoded data removed]"
     },
     "metadata": {},
     "output_type": "display_data"
    }
   ],
   "source": [
    "sns.displot(orders['real_vs_esperado'])"
   ]
  },
  {
   "cell_type": "markdown",
   "metadata": {},
   "source": []
  },
  {
   "cell_type": "markdown",
   "metadata": {},
   "source": [
    "### b) `puntaje_de_compra`\n",
    "     retorna un dataframe con\n",
    "        order_id, es_cinco_estrellas, es_una_estrella, review_score\n",
    "\n",
    "recordar del examen `DataFrame.apply()` o tmb se puede usar`Series.map()`\n"
   ]
  },
  {
   "cell_type": "markdown",
   "metadata": {},
   "source": [
    "👉 We load the `reviews` for you"
   ]
  },
  {
   "cell_type": "code",
   "execution_count": 15,
   "metadata": {},
   "outputs": [
    {
     "data": {
      "text/plain": "                          review_id                          order_id  \\\n0  7bc2406110b926393aa56f80a40eba40  73fc7af87114b39712e6da79b0a377eb   \n1  80e641a11e56f04c1ad469d5645fdfde  a548910a1c6147796b98fdf73dbeba33   \n2  228ce5500dc1d8e020d8d1322874b6f0  f9e4b658b201a9f2ecdecbb34bed034b   \n3  e64fb393e7b32834bb789ff8bb30750e  658677c97b385a9be170737859d3511b   \n4  f7c4243c7fe1938f181bec41a392bdeb  8e6bfb81e283fa7e4f11123a3fb894f1   \n\n   review_score review_comment_title  \\\n0             4                  NaN   \n1             5                  NaN   \n2             5                  NaN   \n3             5                  NaN   \n4             5                  NaN   \n\n                              review_comment_message review_creation_date  \\\n0                                                NaN  2018-01-18 00:00:00   \n1                                                NaN  2018-03-10 00:00:00   \n2                                                NaN  2018-02-17 00:00:00   \n3              Recebi bem antes do prazo estipulado.  2017-04-21 00:00:00   \n4  Parabéns lojas lannister adorei comprar pela I...  2018-03-01 00:00:00   \n\n  review_answer_timestamp  \n0     2018-01-18 21:46:59  \n1     2018-03-11 03:05:13  \n2     2018-02-18 14:36:24  \n3     2017-04-21 22:02:06  \n4     2018-03-02 10:26:53  ",
      "text/html": "<div>\n<style scoped>\n    .dataframe tbody tr th:only-of-type {\n        vertical-align: middle;\n    }\n\n    .dataframe tbody tr th {\n        vertical-align: top;\n    }\n\n    .dataframe thead th {\n        text-align: right;\n    }\n</style>\n<table border=\"1\" class=\"dataframe\">\n  <thead>\n    <tr style=\"text-align: right;\">\n      <th></th>\n      <th>review_id</th>\n      <th>order_id</th>\n      <th>review_score</th>\n      <th>review_comment_title</th>\n      <th>review_comment_message</th>\n      <th>review_creation_date</th>\n      <th>review_answer_timestamp</th>\n    </tr>\n  </thead>\n  <tbody>\n    <tr>\n      <th>0</th>\n      <td>7bc2406110b926393aa56f80a40eba40</td>\n      <td>73fc7af87114b39712e6da79b0a377eb</td>\n      <td>4</td>\n      <td>NaN</td>\n      <td>NaN</td>\n      <td>2018-01-18 00:00:00</td>\n      <td>2018-01-18 21:46:59</td>\n    </tr>\n    <tr>\n      <th>1</th>\n      <td>80e641a11e56f04c1ad469d5645fdfde</td>\n      <td>a548910a1c6147796b98fdf73dbeba33</td>\n      <td>5</td>\n      <td>NaN</td>\n      <td>NaN</td>\n      <td>2018-03-10 00:00:00</td>\n      <td>2018-03-11 03:05:13</td>\n    </tr>\n    <tr>\n      <th>2</th>\n      <td>228ce5500dc1d8e020d8d1322874b6f0</td>\n      <td>f9e4b658b201a9f2ecdecbb34bed034b</td>\n      <td>5</td>\n      <td>NaN</td>\n      <td>NaN</td>\n      <td>2018-02-17 00:00:00</td>\n      <td>2018-02-18 14:36:24</td>\n    </tr>\n    <tr>\n      <th>3</th>\n      <td>e64fb393e7b32834bb789ff8bb30750e</td>\n      <td>658677c97b385a9be170737859d3511b</td>\n      <td>5</td>\n      <td>NaN</td>\n      <td>Recebi bem antes do prazo estipulado.</td>\n      <td>2017-04-21 00:00:00</td>\n      <td>2017-04-21 22:02:06</td>\n    </tr>\n    <tr>\n      <th>4</th>\n      <td>f7c4243c7fe1938f181bec41a392bdeb</td>\n      <td>8e6bfb81e283fa7e4f11123a3fb894f1</td>\n      <td>5</td>\n      <td>NaN</td>\n      <td>Parabéns lojas lannister adorei comprar pela I...</td>\n      <td>2018-03-01 00:00:00</td>\n      <td>2018-03-02 10:26:53</td>\n    </tr>\n  </tbody>\n</table>\n</div>"
     },
     "execution_count": 15,
     "metadata": {},
     "output_type": "execute_result"
    }
   ],
   "source": [
    "reviews = data['order_reviews'].copy()\n",
    "\n",
    "reviews.head()"
   ]
  },
  {
   "cell_type": "code",
   "execution_count": 16,
   "metadata": {
    "tags": [
     "challengify"
    ]
   },
   "outputs": [
    {
     "data": {
      "text/plain": "                           order_id  es_cinco_estrellas  es_una_estrella  \\\n0  73fc7af87114b39712e6da79b0a377eb                   0                0   \n1  a548910a1c6147796b98fdf73dbeba33                   1                0   \n2  f9e4b658b201a9f2ecdecbb34bed034b                   1                0   \n3  658677c97b385a9be170737859d3511b                   1                0   \n4  8e6bfb81e283fa7e4f11123a3fb894f1                   1                0   \n\n   review_score  \n0             4  \n1             5  \n2             5  \n3             5  \n4             5  ",
      "text/html": "<div>\n<style scoped>\n    .dataframe tbody tr th:only-of-type {\n        vertical-align: middle;\n    }\n\n    .dataframe tbody tr th {\n        vertical-align: top;\n    }\n\n    .dataframe thead th {\n        text-align: right;\n    }\n</style>\n<table border=\"1\" class=\"dataframe\">\n  <thead>\n    <tr style=\"text-align: right;\">\n      <th></th>\n      <th>order_id</th>\n      <th>es_cinco_estrellas</th>\n      <th>es_una_estrella</th>\n      <th>review_score</th>\n    </tr>\n  </thead>\n  <tbody>\n    <tr>\n      <th>0</th>\n      <td>73fc7af87114b39712e6da79b0a377eb</td>\n      <td>0</td>\n      <td>0</td>\n      <td>4</td>\n    </tr>\n    <tr>\n      <th>1</th>\n      <td>a548910a1c6147796b98fdf73dbeba33</td>\n      <td>1</td>\n      <td>0</td>\n      <td>5</td>\n    </tr>\n    <tr>\n      <th>2</th>\n      <td>f9e4b658b201a9f2ecdecbb34bed034b</td>\n      <td>1</td>\n      <td>0</td>\n      <td>5</td>\n    </tr>\n    <tr>\n      <th>3</th>\n      <td>658677c97b385a9be170737859d3511b</td>\n      <td>1</td>\n      <td>0</td>\n      <td>5</td>\n    </tr>\n    <tr>\n      <th>4</th>\n      <td>8e6bfb81e283fa7e4f11123a3fb894f1</td>\n      <td>1</td>\n      <td>0</td>\n      <td>5</td>\n    </tr>\n  </tbody>\n</table>\n</div>"
     },
     "execution_count": 16,
     "metadata": {},
     "output_type": "execute_result"
    }
   ],
   "source": [
    "from olist.preprocess import puntaje_de_compra\n",
    "reviews = puntaje_de_compra(reviews)\n",
    "reviews.head()"
   ]
  },
  {
   "cell_type": "markdown",
   "metadata": {},
   "source": [
    "### c) `numero_de_productos`:\n",
    "     retorna un dataframe con\n",
    "        order_id, numero_de_productos (numero_de_productos_por_orden)"
   ]
  },
  {
   "cell_type": "code",
   "execution_count": 17,
   "outputs": [
    {
     "data": {
      "text/plain": "                               order_id  number_of_products\n0      00010242fe8c5a6d1ba2dd792cb16214                   1\n1      00018f77f2f0320c557190d7a144bdd3                   1\n2      000229ec398224ef6ca0657da4fc703e                   1\n3      00024acbcdf0a6daa1e931b038114c75                   1\n4      00042b26cf59d7ce69dfabb4e55b4fd9                   1\n...                                 ...                 ...\n98661  fffc94f6ce00a00581880bf54a75a037                   1\n98662  fffcd46ef2263f404302a634eb57f7eb                   1\n98663  fffce4705a9662cd70adb13d4a31832d                   1\n98664  fffe18544ffabc95dfada21779c9644f                   1\n98665  fffe41c64501cc87c801fd61db3f6244                   1\n\n[98666 rows x 2 columns]",
      "text/html": "<div>\n<style scoped>\n    .dataframe tbody tr th:only-of-type {\n        vertical-align: middle;\n    }\n\n    .dataframe tbody tr th {\n        vertical-align: top;\n    }\n\n    .dataframe thead th {\n        text-align: right;\n    }\n</style>\n<table border=\"1\" class=\"dataframe\">\n  <thead>\n    <tr style=\"text-align: right;\">\n      <th></th>\n      <th>order_id</th>\n      <th>number_of_products</th>\n    </tr>\n  </thead>\n  <tbody>\n    <tr>\n      <th>0</th>\n      <td>00010242fe8c5a6d1ba2dd792cb16214</td>\n      <td>1</td>\n    </tr>\n    <tr>\n      <th>1</th>\n      <td>00018f77f2f0320c557190d7a144bdd3</td>\n      <td>1</td>\n    </tr>\n    <tr>\n      <th>2</th>\n      <td>000229ec398224ef6ca0657da4fc703e</td>\n      <td>1</td>\n    </tr>\n    <tr>\n      <th>3</th>\n      <td>00024acbcdf0a6daa1e931b038114c75</td>\n      <td>1</td>\n    </tr>\n    <tr>\n      <th>4</th>\n      <td>00042b26cf59d7ce69dfabb4e55b4fd9</td>\n      <td>1</td>\n    </tr>\n    <tr>\n      <th>...</th>\n      <td>...</td>\n      <td>...</td>\n    </tr>\n    <tr>\n      <th>98661</th>\n      <td>fffc94f6ce00a00581880bf54a75a037</td>\n      <td>1</td>\n    </tr>\n    <tr>\n      <th>98662</th>\n      <td>fffcd46ef2263f404302a634eb57f7eb</td>\n      <td>1</td>\n    </tr>\n    <tr>\n      <th>98663</th>\n      <td>fffce4705a9662cd70adb13d4a31832d</td>\n      <td>1</td>\n    </tr>\n    <tr>\n      <th>98664</th>\n      <td>fffe18544ffabc95dfada21779c9644f</td>\n      <td>1</td>\n    </tr>\n    <tr>\n      <th>98665</th>\n      <td>fffe41c64501cc87c801fd61db3f6244</td>\n      <td>1</td>\n    </tr>\n  </tbody>\n</table>\n<p>98666 rows × 2 columns</p>\n</div>"
     },
     "execution_count": 17,
     "metadata": {},
     "output_type": "execute_result"
    }
   ],
   "source": [
    "from olist.preprocess import calcular_numero_productos\n",
    "#fijarse que no uso solo un dataframe\n",
    "productos = calcular_numero_productos(data)\n",
    "productos"
   ],
   "metadata": {
    "collapsed": false
   }
  },
  {
   "cell_type": "markdown",
   "metadata": {},
   "source": [
    "### d) `numero_de_vendedores`:\n",
    "     Retorna un dataframe con\n",
    "        order_id, numero_de_vendedores (total de vendedores UNICOS !!! )\n",
    "\n",
    "HINT!:\n",
    "`pd.Series.nunique()`\n"
   ]
  },
  {
   "cell_type": "code",
   "execution_count": 18,
   "metadata": {
    "tags": [
     "challengify"
    ]
   },
   "outputs": [
    {
     "data": {
      "text/plain": "                               order_id  vendedores_unicos\n0      00010242fe8c5a6d1ba2dd792cb16214                  1\n1      00018f77f2f0320c557190d7a144bdd3                  1\n2      000229ec398224ef6ca0657da4fc703e                  1\n3      00024acbcdf0a6daa1e931b038114c75                  1\n4      00042b26cf59d7ce69dfabb4e55b4fd9                  1\n...                                 ...                ...\n98661  fffc94f6ce00a00581880bf54a75a037                  1\n98662  fffcd46ef2263f404302a634eb57f7eb                  1\n98663  fffce4705a9662cd70adb13d4a31832d                  1\n98664  fffe18544ffabc95dfada21779c9644f                  1\n98665  fffe41c64501cc87c801fd61db3f6244                  1\n\n[98666 rows x 2 columns]",
      "text/html": "<div>\n<style scoped>\n    .dataframe tbody tr th:only-of-type {\n        vertical-align: middle;\n    }\n\n    .dataframe tbody tr th {\n        vertical-align: top;\n    }\n\n    .dataframe thead th {\n        text-align: right;\n    }\n</style>\n<table border=\"1\" class=\"dataframe\">\n  <thead>\n    <tr style=\"text-align: right;\">\n      <th></th>\n      <th>order_id</th>\n      <th>vendedores_unicos</th>\n    </tr>\n  </thead>\n  <tbody>\n    <tr>\n      <th>0</th>\n      <td>00010242fe8c5a6d1ba2dd792cb16214</td>\n      <td>1</td>\n    </tr>\n    <tr>\n      <th>1</th>\n      <td>00018f77f2f0320c557190d7a144bdd3</td>\n      <td>1</td>\n    </tr>\n    <tr>\n      <th>2</th>\n      <td>000229ec398224ef6ca0657da4fc703e</td>\n      <td>1</td>\n    </tr>\n    <tr>\n      <th>3</th>\n      <td>00024acbcdf0a6daa1e931b038114c75</td>\n      <td>1</td>\n    </tr>\n    <tr>\n      <th>4</th>\n      <td>00042b26cf59d7ce69dfabb4e55b4fd9</td>\n      <td>1</td>\n    </tr>\n    <tr>\n      <th>...</th>\n      <td>...</td>\n      <td>...</td>\n    </tr>\n    <tr>\n      <th>98661</th>\n      <td>fffc94f6ce00a00581880bf54a75a037</td>\n      <td>1</td>\n    </tr>\n    <tr>\n      <th>98662</th>\n      <td>fffcd46ef2263f404302a634eb57f7eb</td>\n      <td>1</td>\n    </tr>\n    <tr>\n      <th>98663</th>\n      <td>fffce4705a9662cd70adb13d4a31832d</td>\n      <td>1</td>\n    </tr>\n    <tr>\n      <th>98664</th>\n      <td>fffe18544ffabc95dfada21779c9644f</td>\n      <td>1</td>\n    </tr>\n    <tr>\n      <th>98665</th>\n      <td>fffe41c64501cc87c801fd61db3f6244</td>\n      <td>1</td>\n    </tr>\n  </tbody>\n</table>\n<p>98666 rows × 2 columns</p>\n</div>"
     },
     "execution_count": 18,
     "metadata": {},
     "output_type": "execute_result"
    }
   ],
   "source": [
    "from olist.preprocess import vendedores_unicos\n",
    "vendedores = vendedores_unicos(data)\n",
    "vendedores"
   ]
  },
  {
   "cell_type": "markdown",
   "metadata": {},
   "source": [
    "### e) `calcular_precio_y_transporte`\n",
    "     Returns a DataFrame with:\n",
    "        order_id, precio, valor_transporte\n",
    "\n",
    "recordar el agg en el groupby"
   ]
  },
  {
   "cell_type": "code",
   "execution_count": 19,
   "metadata": {
    "tags": [
     "challengify"
    ]
   },
   "outputs": [
    {
     "data": {
      "text/plain": "                               order_id  precio  transporte\n0      00010242fe8c5a6d1ba2dd792cb16214   58.90       13.29\n1      00018f77f2f0320c557190d7a144bdd3  239.90       19.93\n2      000229ec398224ef6ca0657da4fc703e  199.00       17.87\n3      00024acbcdf0a6daa1e931b038114c75   12.99       12.79\n4      00042b26cf59d7ce69dfabb4e55b4fd9  199.90       18.14\n...                                 ...     ...         ...\n98661  fffc94f6ce00a00581880bf54a75a037  299.99       43.41\n98662  fffcd46ef2263f404302a634eb57f7eb  350.00       36.53\n98663  fffce4705a9662cd70adb13d4a31832d   99.90       16.95\n98664  fffe18544ffabc95dfada21779c9644f   55.99        8.72\n98665  fffe41c64501cc87c801fd61db3f6244   43.00       12.79\n\n[98666 rows x 3 columns]",
      "text/html": "<div>\n<style scoped>\n    .dataframe tbody tr th:only-of-type {\n        vertical-align: middle;\n    }\n\n    .dataframe tbody tr th {\n        vertical-align: top;\n    }\n\n    .dataframe thead th {\n        text-align: right;\n    }\n</style>\n<table border=\"1\" class=\"dataframe\">\n  <thead>\n    <tr style=\"text-align: right;\">\n      <th></th>\n      <th>order_id</th>\n      <th>precio</th>\n      <th>transporte</th>\n    </tr>\n  </thead>\n  <tbody>\n    <tr>\n      <th>0</th>\n      <td>00010242fe8c5a6d1ba2dd792cb16214</td>\n      <td>58.90</td>\n      <td>13.29</td>\n    </tr>\n    <tr>\n      <th>1</th>\n      <td>00018f77f2f0320c557190d7a144bdd3</td>\n      <td>239.90</td>\n      <td>19.93</td>\n    </tr>\n    <tr>\n      <th>2</th>\n      <td>000229ec398224ef6ca0657da4fc703e</td>\n      <td>199.00</td>\n      <td>17.87</td>\n    </tr>\n    <tr>\n      <th>3</th>\n      <td>00024acbcdf0a6daa1e931b038114c75</td>\n      <td>12.99</td>\n      <td>12.79</td>\n    </tr>\n    <tr>\n      <th>4</th>\n      <td>00042b26cf59d7ce69dfabb4e55b4fd9</td>\n      <td>199.90</td>\n      <td>18.14</td>\n    </tr>\n    <tr>\n      <th>...</th>\n      <td>...</td>\n      <td>...</td>\n      <td>...</td>\n    </tr>\n    <tr>\n      <th>98661</th>\n      <td>fffc94f6ce00a00581880bf54a75a037</td>\n      <td>299.99</td>\n      <td>43.41</td>\n    </tr>\n    <tr>\n      <th>98662</th>\n      <td>fffcd46ef2263f404302a634eb57f7eb</td>\n      <td>350.00</td>\n      <td>36.53</td>\n    </tr>\n    <tr>\n      <th>98663</th>\n      <td>fffce4705a9662cd70adb13d4a31832d</td>\n      <td>99.90</td>\n      <td>16.95</td>\n    </tr>\n    <tr>\n      <th>98664</th>\n      <td>fffe18544ffabc95dfada21779c9644f</td>\n      <td>55.99</td>\n      <td>8.72</td>\n    </tr>\n    <tr>\n      <th>98665</th>\n      <td>fffe41c64501cc87c801fd61db3f6244</td>\n      <td>43.00</td>\n      <td>12.79</td>\n    </tr>\n  </tbody>\n</table>\n<p>98666 rows × 3 columns</p>\n</div>"
     },
     "execution_count": 19,
     "metadata": {},
     "output_type": "execute_result"
    }
   ],
   "source": [
    "from olist.preprocess import calcular_precio_y_transporte\n",
    "precio_y_transporte = calcular_precio_y_transporte(data)\n",
    "precio_y_transporte"
   ]
  },
  {
   "cell_type": "markdown",
   "metadata": {
    "tags": []
   },
   "source": [
    "### e) `distancia_al_cliente`\n",
    "\n",
    "    Retorna un dataframe con\n",
    "        order_id, distancia_al_cliente (distancia en kilometros)\n",
    "\n",
    "usar`haversine_distance`"
   ]
  },
  {
   "cell_type": "code",
   "execution_count": 20,
   "metadata": {},
   "outputs": [],
   "source": [
    "from math import radians, sin, cos, asin, sqrt\n",
    "\n",
    "def haversine_distance(lon1, lat1, lon2, lat2):\n",
    "    \"\"\"\n",
    "    Computa distancia entre dos pares (lat, lng)\n",
    "    Ver - (https://en.wikipedia.org/wiki/Haversine_formula)\n",
    "    \"\"\"\n",
    "    lon1, lat1, lon2, lat2 = map(radians, [lon1, lat1, lon2, lat2])\n",
    "    dlon = lon2 - lon1\n",
    "    dlat = lat2 - lat1\n",
    "    a = sin(dlat / 2) ** 2 + cos(lat1) * cos(lat2) * sin(dlon / 2) ** 2\n",
    "    return 2 * 6371 * asin(sqrt(a))\n"
   ]
  },
  {
   "cell_type": "code",
   "execution_count": 21,
   "outputs": [],
   "source": [
    "#Tip 1:\n",
    "# usar los datasets\n",
    "\n",
    "# data['order_items']\n",
    "# data['sellers']\n",
    "# data['customers']\n"
   ],
   "metadata": {
    "collapsed": false
   }
  },
  {
   "cell_type": "code",
   "execution_count": 22,
   "metadata": {
    "tags": [
     "delete_begin"
    ]
   },
   "outputs": [],
   "source": [
    "#tipo 2\n",
    "#usar el dataset de geolocalizacion\n",
    "# Un zip code puede tener varias lat y lon. groupby puede ser usado con el metodo .first() para quedarte con el primero\n",
    "#agroupa data['geolocation'] con ese metodo y crea un datset llamado geo\n",
    "\n",
    "# Solo usar columnas 'seller_id', 'seller_zip_code_prefix', 'geolocation_lat', 'geolocation_lng'\n",
    "\n"
   ]
  },
  {
   "cell_type": "code",
   "execution_count": 23,
   "outputs": [],
   "source": [
    "\n",
    "# mergear sellers con geolocalizacion\n",
    "# Mergear con buyers, usar solo de ese dataset ['customer_id', 'customer_zip_code_prefix', 'geolocation_lat', 'geolocation_lng']\n",
    "\n",
    "# Mergear en otra tabla compradores y vendedores\n",
    "\n",
    "\n",
    "# Mergear ese resultado con geolocalizacion de compradores\n",
    "\n",
    "# Remover  na()\n",
    "\n",
    "# Una orden puede tener muchos compradores retorna el promedio\n"
   ],
   "metadata": {
    "collapsed": false
   }
  },
  {
   "cell_type": "code",
   "execution_count": 24,
   "outputs": [],
   "source": [
    "from olist.preprocess import calcular_distancia_vendedor_comprador\n",
    "distancia_a_la_orden = calcular_distancia_vendedor_comprador(data)"
   ],
   "metadata": {
    "collapsed": false
   }
  },
  {
   "cell_type": "code",
   "execution_count": 25,
   "outputs": [
    {
     "data": {
      "text/plain": "                               order_id  distance_seller_customer\n0      00010242fe8c5a6d1ba2dd792cb16214                301.005664\n1      00018f77f2f0320c557190d7a144bdd3                589.274140\n2      000229ec398224ef6ca0657da4fc703e                312.495046\n3      00024acbcdf0a6daa1e931b038114c75                301.951753\n4      00042b26cf59d7ce69dfabb4e55b4fd9                646.221788\n...                                 ...                       ...\n98172  fffc94f6ce00a00581880bf54a75a037               2755.314485\n98173  fffcd46ef2263f404302a634eb57f7eb                354.848852\n98174  fffce4705a9662cd70adb13d4a31832d                338.827218\n98175  fffe18544ffabc95dfada21779c9644f                 72.870476\n98176  fffe41c64501cc87c801fd61db3f6244                133.230980\n\n[98177 rows x 2 columns]",
      "text/html": "<div>\n<style scoped>\n    .dataframe tbody tr th:only-of-type {\n        vertical-align: middle;\n    }\n\n    .dataframe tbody tr th {\n        vertical-align: top;\n    }\n\n    .dataframe thead th {\n        text-align: right;\n    }\n</style>\n<table border=\"1\" class=\"dataframe\">\n  <thead>\n    <tr style=\"text-align: right;\">\n      <th></th>\n      <th>order_id</th>\n      <th>distance_seller_customer</th>\n    </tr>\n  </thead>\n  <tbody>\n    <tr>\n      <th>0</th>\n      <td>00010242fe8c5a6d1ba2dd792cb16214</td>\n      <td>301.005664</td>\n    </tr>\n    <tr>\n      <th>1</th>\n      <td>00018f77f2f0320c557190d7a144bdd3</td>\n      <td>589.274140</td>\n    </tr>\n    <tr>\n      <th>2</th>\n      <td>000229ec398224ef6ca0657da4fc703e</td>\n      <td>312.495046</td>\n    </tr>\n    <tr>\n      <th>3</th>\n      <td>00024acbcdf0a6daa1e931b038114c75</td>\n      <td>301.951753</td>\n    </tr>\n    <tr>\n      <th>4</th>\n      <td>00042b26cf59d7ce69dfabb4e55b4fd9</td>\n      <td>646.221788</td>\n    </tr>\n    <tr>\n      <th>...</th>\n      <td>...</td>\n      <td>...</td>\n    </tr>\n    <tr>\n      <th>98172</th>\n      <td>fffc94f6ce00a00581880bf54a75a037</td>\n      <td>2755.314485</td>\n    </tr>\n    <tr>\n      <th>98173</th>\n      <td>fffcd46ef2263f404302a634eb57f7eb</td>\n      <td>354.848852</td>\n    </tr>\n    <tr>\n      <th>98174</th>\n      <td>fffce4705a9662cd70adb13d4a31832d</td>\n      <td>338.827218</td>\n    </tr>\n    <tr>\n      <th>98175</th>\n      <td>fffe18544ffabc95dfada21779c9644f</td>\n      <td>72.870476</td>\n    </tr>\n    <tr>\n      <th>98176</th>\n      <td>fffe41c64501cc87c801fd61db3f6244</td>\n      <td>133.230980</td>\n    </tr>\n  </tbody>\n</table>\n<p>98177 rows × 2 columns</p>\n</div>"
     },
     "execution_count": 25,
     "metadata": {},
     "output_type": "execute_result"
    }
   ],
   "source": [
    "distancia_a_la_orden"
   ],
   "metadata": {
    "collapsed": false
   }
  },
  {
   "cell_type": "code",
   "execution_count": 26,
   "metadata": {
    "tags": [
     "challengify"
    ]
   },
   "outputs": [
    {
     "data": {
      "text/plain": "                               order_id  distance_seller_customer\n0      00010242fe8c5a6d1ba2dd792cb16214                301.005664\n1      00018f77f2f0320c557190d7a144bdd3                589.274140\n2      000229ec398224ef6ca0657da4fc703e                312.495046\n3      00024acbcdf0a6daa1e931b038114c75                301.951753\n4      00042b26cf59d7ce69dfabb4e55b4fd9                646.221788\n...                                 ...                       ...\n98172  fffc94f6ce00a00581880bf54a75a037               2755.314485\n98173  fffcd46ef2263f404302a634eb57f7eb                354.848852\n98174  fffce4705a9662cd70adb13d4a31832d                338.827218\n98175  fffe18544ffabc95dfada21779c9644f                 72.870476\n98176  fffe41c64501cc87c801fd61db3f6244                133.230980\n\n[98177 rows x 2 columns]",
      "text/html": "<div>\n<style scoped>\n    .dataframe tbody tr th:only-of-type {\n        vertical-align: middle;\n    }\n\n    .dataframe tbody tr th {\n        vertical-align: top;\n    }\n\n    .dataframe thead th {\n        text-align: right;\n    }\n</style>\n<table border=\"1\" class=\"dataframe\">\n  <thead>\n    <tr style=\"text-align: right;\">\n      <th></th>\n      <th>order_id</th>\n      <th>distance_seller_customer</th>\n    </tr>\n  </thead>\n  <tbody>\n    <tr>\n      <th>0</th>\n      <td>00010242fe8c5a6d1ba2dd792cb16214</td>\n      <td>301.005664</td>\n    </tr>\n    <tr>\n      <th>1</th>\n      <td>00018f77f2f0320c557190d7a144bdd3</td>\n      <td>589.274140</td>\n    </tr>\n    <tr>\n      <th>2</th>\n      <td>000229ec398224ef6ca0657da4fc703e</td>\n      <td>312.495046</td>\n    </tr>\n    <tr>\n      <th>3</th>\n      <td>00024acbcdf0a6daa1e931b038114c75</td>\n      <td>301.951753</td>\n    </tr>\n    <tr>\n      <th>4</th>\n      <td>00042b26cf59d7ce69dfabb4e55b4fd9</td>\n      <td>646.221788</td>\n    </tr>\n    <tr>\n      <th>...</th>\n      <td>...</td>\n      <td>...</td>\n    </tr>\n    <tr>\n      <th>98172</th>\n      <td>fffc94f6ce00a00581880bf54a75a037</td>\n      <td>2755.314485</td>\n    </tr>\n    <tr>\n      <th>98173</th>\n      <td>fffcd46ef2263f404302a634eb57f7eb</td>\n      <td>354.848852</td>\n    </tr>\n    <tr>\n      <th>98174</th>\n      <td>fffce4705a9662cd70adb13d4a31832d</td>\n      <td>338.827218</td>\n    </tr>\n    <tr>\n      <th>98175</th>\n      <td>fffe18544ffabc95dfada21779c9644f</td>\n      <td>72.870476</td>\n    </tr>\n    <tr>\n      <th>98176</th>\n      <td>fffe41c64501cc87c801fd61db3f6244</td>\n      <td>133.230980</td>\n    </tr>\n  </tbody>\n</table>\n<p>98177 rows × 2 columns</p>\n</div>"
     },
     "execution_count": 26,
     "metadata": {},
     "output_type": "execute_result"
    }
   ],
   "source": [
    "distancia_a_la_orden"
   ]
  },
  {
   "cell_type": "markdown",
   "metadata": {},
   "source": [
    "cual es la mediana de la distancia"
   ]
  },
  {
   "cell_type": "code",
   "execution_count": 27,
   "metadata": {},
   "outputs": [
    {
     "data": {
      "text/plain": "count    98177.000000\nmean       601.961534\nstd        596.877838\nmin          0.000000\n25%        186.380313\n50%        433.698770\n75%        798.435455\nmax       8736.947618\nName: distance_seller_customer, dtype: float64"
     },
     "execution_count": 27,
     "metadata": {},
     "output_type": "execute_result"
    }
   ],
   "source": [
    "distancia_a_la_orden['distance_seller_customer'].describe()"
   ]
  },
  {
   "cell_type": "markdown",
   "source": [
    "# Merger todos los datasets excepto el de distancia"
   ],
   "metadata": {
    "collapsed": false
   },
   "execution_count": 27
  },
  {
   "cell_type": "code",
   "execution_count": 30,
   "outputs": [
    {
     "data": {
      "text/plain": "                               order_id                       customer_id  \\\n0      e481f51cbdc54678b7cc49136f2d6af7  9ef432eb6251297304e76186b10a928d   \n1      53cdb2fc8bc7dce0b6741e2150273451  b0830fb4747a6c6d20dea0b8c802d7ef   \n2      47770eb9100c2d0c44946d9cf07ec65d  41ce2a54c0b03bf3443c3d931a367089   \n3      949d5b44dbf5de918fe9c16f97b45f8a  f88197465ea7920adcdbec7375364d82   \n4      ad21c59c0840e6cb83a9ceb5573f8159  8ab97904e6daea8866dbdbc4fb7aad2c   \n...                                 ...                               ...   \n95875  9c5dedf39a927c1b2549525ed64a053c  39bd1228ee8140590ac3aca26f2dfe00   \n95876  63943bddc261676b46f01ca7ac2f7bd8  1fca14ff2861355f6e5f14306ff977a7   \n95877  83c1379a015df1e13d02aae0204711ab  1aa71eb042121263aafbe80c1b562c9c   \n95878  11c177c8e97725db2631073c19f07b62  b331b74b18dc79bcdf6532d51e1637c1   \n95879  66dea50a8b16d9b4dee7af250b4be1a5  edb027a75a1449115f6b43211ae02a24   \n\n      order_status order_purchase_timestamp    order_approved_at  \\\n0        delivered      2017-10-02 10:56:33  2017-10-02 11:07:15   \n1        delivered      2018-07-24 20:41:37  2018-07-26 03:24:27   \n2        delivered      2018-08-08 08:38:49  2018-08-08 08:55:23   \n3        delivered      2017-11-18 19:28:06  2017-11-18 19:45:59   \n4        delivered      2018-02-13 21:18:39  2018-02-13 22:20:29   \n...            ...                      ...                  ...   \n95875    delivered      2017-03-09 09:54:05  2017-03-09 09:54:05   \n95876    delivered      2018-02-06 12:58:58  2018-02-06 13:10:37   \n95877    delivered      2017-08-27 14:46:43  2017-08-27 15:04:16   \n95878    delivered      2018-01-08 21:28:27  2018-01-08 21:36:21   \n95879    delivered      2018-03-08 20:57:30  2018-03-09 11:20:28   \n\n      order_delivered_carrier_date order_delivered_customer_date  \\\n0              2017-10-04 19:55:00           2017-10-10 21:25:13   \n1              2018-07-26 14:31:00           2018-08-07 15:27:45   \n2              2018-08-08 13:50:00           2018-08-17 18:06:29   \n3              2017-11-22 13:39:59           2017-12-02 00:28:42   \n4              2018-02-14 19:46:34           2018-02-16 18:17:02   \n...                            ...                           ...   \n95875          2017-03-10 11:18:03           2017-03-17 15:08:01   \n95876          2018-02-07 23:22:42           2018-02-28 17:37:56   \n95877          2017-08-28 20:52:26           2017-09-21 11:24:17   \n95878          2018-01-12 15:35:03           2018-01-25 23:32:54   \n95879          2018-03-09 22:11:59           2018-03-16 13:08:30   \n\n      order_estimated_delivery_date  tiempo_de_espera  real_vs_esperado  \\\n0                        2017-10-18          8.436574               0.0   \n1                        2018-08-13         13.782037               0.0   \n2                        2018-09-04          9.394213               0.0   \n3                        2017-12-15         13.208750               0.0   \n4                        2018-02-26          2.873877               0.0   \n...                             ...               ...               ...   \n95875                    2017-03-28          8.218009               0.0   \n95876                    2018-03-02         22.193727               0.0   \n95877                    2017-09-27         24.859421               0.0   \n95878                    2018-02-15         17.086424               0.0   \n95879                    2018-04-03          7.674306               0.0   \n\n       es_cinco_estrellas  es_una_estrella  review_score  number_of_products  \\\n0                       0                0             4                   1   \n1                       0                0             4                   1   \n2                       1                0             5                   1   \n3                       1                0             5                   1   \n4                       1                0             5                   1   \n...                   ...              ...           ...                 ...   \n95875                   1                0             5                   1   \n95876                   0                0             4                   1   \n95877                   1                0             5                   1   \n95878                   0                0             2                   2   \n95879                   1                0             5                   1   \n\n       vendedores_unicos  precio  transporte  distance_seller_customer  \n0                      1   29.99        8.72                 18.063837  \n1                      1  118.70       22.76                856.292580  \n2                      1  159.90       19.22                514.130333  \n3                      1   45.00       27.20               1822.800366  \n4                      1   19.90        8.72                 30.174037  \n...                  ...     ...         ...                       ...  \n95875                  1   72.00       13.08                 69.481037  \n95876                  1  174.90       20.10                474.098245  \n95877                  1  205.99       65.02                968.051192  \n95878                  1  359.98       81.18                370.146853  \n95879                  1   68.50       18.36                631.817784  \n\n[95880 rows x 18 columns]",
      "text/html": "<div>\n<style scoped>\n    .dataframe tbody tr th:only-of-type {\n        vertical-align: middle;\n    }\n\n    .dataframe tbody tr th {\n        vertical-align: top;\n    }\n\n    .dataframe thead th {\n        text-align: right;\n    }\n</style>\n<table border=\"1\" class=\"dataframe\">\n  <thead>\n    <tr style=\"text-align: right;\">\n      <th></th>\n      <th>order_id</th>\n      <th>customer_id</th>\n      <th>order_status</th>\n      <th>order_purchase_timestamp</th>\n      <th>order_approved_at</th>\n      <th>order_delivered_carrier_date</th>\n      <th>order_delivered_customer_date</th>\n      <th>order_estimated_delivery_date</th>\n      <th>tiempo_de_espera</th>\n      <th>real_vs_esperado</th>\n      <th>es_cinco_estrellas</th>\n      <th>es_una_estrella</th>\n      <th>review_score</th>\n      <th>number_of_products</th>\n      <th>vendedores_unicos</th>\n      <th>precio</th>\n      <th>transporte</th>\n      <th>distance_seller_customer</th>\n    </tr>\n  </thead>\n  <tbody>\n    <tr>\n      <th>0</th>\n      <td>e481f51cbdc54678b7cc49136f2d6af7</td>\n      <td>9ef432eb6251297304e76186b10a928d</td>\n      <td>delivered</td>\n      <td>2017-10-02 10:56:33</td>\n      <td>2017-10-02 11:07:15</td>\n      <td>2017-10-04 19:55:00</td>\n      <td>2017-10-10 21:25:13</td>\n      <td>2017-10-18</td>\n      <td>8.436574</td>\n      <td>0.0</td>\n      <td>0</td>\n      <td>0</td>\n      <td>4</td>\n      <td>1</td>\n      <td>1</td>\n      <td>29.99</td>\n      <td>8.72</td>\n      <td>18.063837</td>\n    </tr>\n    <tr>\n      <th>1</th>\n      <td>53cdb2fc8bc7dce0b6741e2150273451</td>\n      <td>b0830fb4747a6c6d20dea0b8c802d7ef</td>\n      <td>delivered</td>\n      <td>2018-07-24 20:41:37</td>\n      <td>2018-07-26 03:24:27</td>\n      <td>2018-07-26 14:31:00</td>\n      <td>2018-08-07 15:27:45</td>\n      <td>2018-08-13</td>\n      <td>13.782037</td>\n      <td>0.0</td>\n      <td>0</td>\n      <td>0</td>\n      <td>4</td>\n      <td>1</td>\n      <td>1</td>\n      <td>118.70</td>\n      <td>22.76</td>\n      <td>856.292580</td>\n    </tr>\n    <tr>\n      <th>2</th>\n      <td>47770eb9100c2d0c44946d9cf07ec65d</td>\n      <td>41ce2a54c0b03bf3443c3d931a367089</td>\n      <td>delivered</td>\n      <td>2018-08-08 08:38:49</td>\n      <td>2018-08-08 08:55:23</td>\n      <td>2018-08-08 13:50:00</td>\n      <td>2018-08-17 18:06:29</td>\n      <td>2018-09-04</td>\n      <td>9.394213</td>\n      <td>0.0</td>\n      <td>1</td>\n      <td>0</td>\n      <td>5</td>\n      <td>1</td>\n      <td>1</td>\n      <td>159.90</td>\n      <td>19.22</td>\n      <td>514.130333</td>\n    </tr>\n    <tr>\n      <th>3</th>\n      <td>949d5b44dbf5de918fe9c16f97b45f8a</td>\n      <td>f88197465ea7920adcdbec7375364d82</td>\n      <td>delivered</td>\n      <td>2017-11-18 19:28:06</td>\n      <td>2017-11-18 19:45:59</td>\n      <td>2017-11-22 13:39:59</td>\n      <td>2017-12-02 00:28:42</td>\n      <td>2017-12-15</td>\n      <td>13.208750</td>\n      <td>0.0</td>\n      <td>1</td>\n      <td>0</td>\n      <td>5</td>\n      <td>1</td>\n      <td>1</td>\n      <td>45.00</td>\n      <td>27.20</td>\n      <td>1822.800366</td>\n    </tr>\n    <tr>\n      <th>4</th>\n      <td>ad21c59c0840e6cb83a9ceb5573f8159</td>\n      <td>8ab97904e6daea8866dbdbc4fb7aad2c</td>\n      <td>delivered</td>\n      <td>2018-02-13 21:18:39</td>\n      <td>2018-02-13 22:20:29</td>\n      <td>2018-02-14 19:46:34</td>\n      <td>2018-02-16 18:17:02</td>\n      <td>2018-02-26</td>\n      <td>2.873877</td>\n      <td>0.0</td>\n      <td>1</td>\n      <td>0</td>\n      <td>5</td>\n      <td>1</td>\n      <td>1</td>\n      <td>19.90</td>\n      <td>8.72</td>\n      <td>30.174037</td>\n    </tr>\n    <tr>\n      <th>...</th>\n      <td>...</td>\n      <td>...</td>\n      <td>...</td>\n      <td>...</td>\n      <td>...</td>\n      <td>...</td>\n      <td>...</td>\n      <td>...</td>\n      <td>...</td>\n      <td>...</td>\n      <td>...</td>\n      <td>...</td>\n      <td>...</td>\n      <td>...</td>\n      <td>...</td>\n      <td>...</td>\n      <td>...</td>\n      <td>...</td>\n    </tr>\n    <tr>\n      <th>95875</th>\n      <td>9c5dedf39a927c1b2549525ed64a053c</td>\n      <td>39bd1228ee8140590ac3aca26f2dfe00</td>\n      <td>delivered</td>\n      <td>2017-03-09 09:54:05</td>\n      <td>2017-03-09 09:54:05</td>\n      <td>2017-03-10 11:18:03</td>\n      <td>2017-03-17 15:08:01</td>\n      <td>2017-03-28</td>\n      <td>8.218009</td>\n      <td>0.0</td>\n      <td>1</td>\n      <td>0</td>\n      <td>5</td>\n      <td>1</td>\n      <td>1</td>\n      <td>72.00</td>\n      <td>13.08</td>\n      <td>69.481037</td>\n    </tr>\n    <tr>\n      <th>95876</th>\n      <td>63943bddc261676b46f01ca7ac2f7bd8</td>\n      <td>1fca14ff2861355f6e5f14306ff977a7</td>\n      <td>delivered</td>\n      <td>2018-02-06 12:58:58</td>\n      <td>2018-02-06 13:10:37</td>\n      <td>2018-02-07 23:22:42</td>\n      <td>2018-02-28 17:37:56</td>\n      <td>2018-03-02</td>\n      <td>22.193727</td>\n      <td>0.0</td>\n      <td>0</td>\n      <td>0</td>\n      <td>4</td>\n      <td>1</td>\n      <td>1</td>\n      <td>174.90</td>\n      <td>20.10</td>\n      <td>474.098245</td>\n    </tr>\n    <tr>\n      <th>95877</th>\n      <td>83c1379a015df1e13d02aae0204711ab</td>\n      <td>1aa71eb042121263aafbe80c1b562c9c</td>\n      <td>delivered</td>\n      <td>2017-08-27 14:46:43</td>\n      <td>2017-08-27 15:04:16</td>\n      <td>2017-08-28 20:52:26</td>\n      <td>2017-09-21 11:24:17</td>\n      <td>2017-09-27</td>\n      <td>24.859421</td>\n      <td>0.0</td>\n      <td>1</td>\n      <td>0</td>\n      <td>5</td>\n      <td>1</td>\n      <td>1</td>\n      <td>205.99</td>\n      <td>65.02</td>\n      <td>968.051192</td>\n    </tr>\n    <tr>\n      <th>95878</th>\n      <td>11c177c8e97725db2631073c19f07b62</td>\n      <td>b331b74b18dc79bcdf6532d51e1637c1</td>\n      <td>delivered</td>\n      <td>2018-01-08 21:28:27</td>\n      <td>2018-01-08 21:36:21</td>\n      <td>2018-01-12 15:35:03</td>\n      <td>2018-01-25 23:32:54</td>\n      <td>2018-02-15</td>\n      <td>17.086424</td>\n      <td>0.0</td>\n      <td>0</td>\n      <td>0</td>\n      <td>2</td>\n      <td>2</td>\n      <td>1</td>\n      <td>359.98</td>\n      <td>81.18</td>\n      <td>370.146853</td>\n    </tr>\n    <tr>\n      <th>95879</th>\n      <td>66dea50a8b16d9b4dee7af250b4be1a5</td>\n      <td>edb027a75a1449115f6b43211ae02a24</td>\n      <td>delivered</td>\n      <td>2018-03-08 20:57:30</td>\n      <td>2018-03-09 11:20:28</td>\n      <td>2018-03-09 22:11:59</td>\n      <td>2018-03-16 13:08:30</td>\n      <td>2018-04-03</td>\n      <td>7.674306</td>\n      <td>0.0</td>\n      <td>1</td>\n      <td>0</td>\n      <td>5</td>\n      <td>1</td>\n      <td>1</td>\n      <td>68.50</td>\n      <td>18.36</td>\n      <td>631.817784</td>\n    </tr>\n  </tbody>\n</table>\n<p>95880 rows × 18 columns</p>\n</div>"
     },
     "execution_count": 30,
     "metadata": {},
     "output_type": "execute_result"
    }
   ],
   "source": [
    "tablon_primario = orders.merge(reviews, on='order_id') \\\n",
    "    .merge(productos, on='order_id') \\\n",
    "    .merge(vendedores, on='order_id') \\\n",
    "    .merge(precio_y_transporte, on='order_id')\\\n",
    "     .merge(distancia_a_la_orden, on='order_id')\n",
    "tablon_primario"
   ],
   "metadata": {
    "collapsed": false
   }
  },
  {
   "cell_type": "code",
   "execution_count": 31,
   "outputs": [],
   "source": [
    "tablon_primario.to_csv(\"../08-regresiones/data/tablon_primario.cv\")"
   ],
   "metadata": {
    "collapsed": false
   }
  },
  {
   "cell_type": "code",
   "execution_count": 29,
   "outputs": [],
   "source": [],
   "metadata": {
    "collapsed": false
   }
  }
 ],
 "metadata": {
  "kernelspec": {
   "display_name": "Python 3",
   "language": "python",
   "name": "python3"
  }
 },
 "nbformat": 4,
 "nbformat_minor": 4
}
