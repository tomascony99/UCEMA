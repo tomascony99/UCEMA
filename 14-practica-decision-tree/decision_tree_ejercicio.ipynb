{
 "cells": [
  {
   "cell_type": "markdown",
   "metadata": {},
   "source": [
    "# <u> Decision Trees </u>\n",
    "\n",
    "Los árboles de decisión son algoritmos versátiles de aprendizaje automático que pueden realizar tareas de clasificación y regresión, e incluso tareas de salida múltiple. Son algoritmos muy potentes, capaces de ajustar conjuntos de datos complejos. Los árboles de decisión hacen splits de cada row o linea del dataset en dos o más conjuntos homogéneos en función de la variable que \"más separa\", esto puede ser mayor Gini index o Entropia. Vimos la métrica en clase\n",
    "\n",
    "Los árboles de decisión son los componentes fundamentales de los algoritmos más potentes en la actualidad.\n",
    "\n",
    "### <u> Ventajas </u>\n",
    "- <b><u>Fácil de entender</u></b>: la salida del árbol de decisión es muy fácil de entender incluso para personas sin formación analíticos. No requiere ningún conocimiento estadístico para leerlos e interpretarlos. Su representación gráfica es muy intuitiva y los usuarios pueden relacionar fácilmente sus hipótesis.\n",
    "    \n",
    "- <b><u>Útil en la exploración de datos</u></b>: el árbol de decisión es una de las formas más rápidas de identificar las variables más significativas y la relación entre dos o más variables. Con la ayuda de los árboles de decisión, podemos crear nuevas variables/características que tengan un mejor poder para predecir la variable objetivo. Puede consultar el artículo (Truco para mejorar el poder del modelo de regresión) para uno de esos trucos. También se puede utilizar en la etapa de exploración de datos. Por ejemplo, estamos trabajando en un problema en el que tenemos información disponible en cientos de variables, el árbol de decisión ayudará a identificar la variable más significativa.\n",
    "- <b><u>Se requiere menos limpieza de datos</u></b>: requiere menos limpieza de datos en comparación con otras técnicas de modelado. No está influenciado por valores atípicos y faltantes en un grado considerable.\n",
    "- <b><u>El tipo de datos no es una restricción</u></b>: Puede manejar tanto variables numéricas como categóricas.\n",
    "- <b><u>Modelo no paramétrico</u></b>: los árboles de decisión se consideran modelos no paramétricos, no porque no tengan parámetros (a menudo tienen muchos) sino porque el número de los parámetros no se determinan antes del entrenamiento, por lo que la estructura del modelo es libre de apegarse a los datos. Por el contrario, un modelo paramétrico como un modelo lineal tiene un número predeterminado de parámetros, por lo que su grado de libertad es limitado, lo que reduce el riesgo de overfitting (pero aumenta el riesgo de infraajuste).\n",
    "\n",
    "### <u> Desventajas </u>\n",
    "- <b><u>Overfitting</u></b>: El overfitting es una de las dificultades más prácticas para los modelos de árboles de decisión. Este problema se resuelve estableciendo restricciones en los parámetros del modelo o haciendo \"prunning\" (tema a profundizar más allá de esta materia\")\n",
    "- <b><u>Pierde un poco de explicabilidad variables continuas</u></b>: En los corte de cada rama el árbol genera cortes a la variable continua, es decir, la discretiza, y puede perder cierta interpretabilidad."
   ]
  },
  {
   "cell_type": "markdown",
   "metadata": {},
   "source": [
    "## <u> Entrenamiento y visualización de un árbol de decisiones </u>\n",
    "\n",
    "Para comprender los árboles de decisión, construyamos uno y veamos cómo hace predicciones."
   ]
  },
  {
   "cell_type": "code",
   "execution_count": 3,
   "metadata": {},
   "outputs": [],
   "source": [
    "#!pip install -U scikit-learn"
   ]
  },
  {
   "cell_type": "code",
   "execution_count": 4,
   "metadata": {},
   "outputs": [
    {
     "data": {
      "text/html": [
       "<div>\n",
       "<style scoped>\n",
       "    .dataframe tbody tr th:only-of-type {\n",
       "        vertical-align: middle;\n",
       "    }\n",
       "\n",
       "    .dataframe tbody tr th {\n",
       "        vertical-align: top;\n",
       "    }\n",
       "\n",
       "    .dataframe thead th {\n",
       "        text-align: right;\n",
       "    }\n",
       "</style>\n",
       "<table border=\"1\" class=\"dataframe\">\n",
       "  <thead>\n",
       "    <tr style=\"text-align: right;\">\n",
       "      <th></th>\n",
       "      <th>SepalLengthCm</th>\n",
       "      <th>SepalWidthCm</th>\n",
       "      <th>PetalLengthCm</th>\n",
       "      <th>PetalWidthCm</th>\n",
       "      <th>Species</th>\n",
       "    </tr>\n",
       "  </thead>\n",
       "  <tbody>\n",
       "    <tr>\n",
       "      <th>0</th>\n",
       "      <td>5.1</td>\n",
       "      <td>3.5</td>\n",
       "      <td>1.4</td>\n",
       "      <td>0.2</td>\n",
       "      <td>Iris-setosa</td>\n",
       "    </tr>\n",
       "    <tr>\n",
       "      <th>1</th>\n",
       "      <td>4.9</td>\n",
       "      <td>3.0</td>\n",
       "      <td>1.4</td>\n",
       "      <td>0.2</td>\n",
       "      <td>Iris-setosa</td>\n",
       "    </tr>\n",
       "    <tr>\n",
       "      <th>2</th>\n",
       "      <td>4.7</td>\n",
       "      <td>3.2</td>\n",
       "      <td>1.3</td>\n",
       "      <td>0.2</td>\n",
       "      <td>Iris-setosa</td>\n",
       "    </tr>\n",
       "    <tr>\n",
       "      <th>3</th>\n",
       "      <td>4.6</td>\n",
       "      <td>3.1</td>\n",
       "      <td>1.5</td>\n",
       "      <td>0.2</td>\n",
       "      <td>Iris-setosa</td>\n",
       "    </tr>\n",
       "    <tr>\n",
       "      <th>4</th>\n",
       "      <td>5.0</td>\n",
       "      <td>3.6</td>\n",
       "      <td>1.4</td>\n",
       "      <td>0.2</td>\n",
       "      <td>Iris-setosa</td>\n",
       "    </tr>\n",
       "  </tbody>\n",
       "</table>\n",
       "</div>"
      ],
      "text/plain": [
       "   SepalLengthCm  SepalWidthCm  PetalLengthCm  PetalWidthCm      Species\n",
       "0            5.1           3.5            1.4           0.2  Iris-setosa\n",
       "1            4.9           3.0            1.4           0.2  Iris-setosa\n",
       "2            4.7           3.2            1.3           0.2  Iris-setosa\n",
       "3            4.6           3.1            1.5           0.2  Iris-setosa\n",
       "4            5.0           3.6            1.4           0.2  Iris-setosa"
      ]
     },
     "execution_count": 4,
     "metadata": {},
     "output_type": "execute_result"
    }
   ],
   "source": [
    "import pandas as pd\n",
    "from sklearn.tree import DecisionTreeClassifier, export_graphviz\n",
    "\n",
    "#leer el dataframe\n",
    "\n",
    "\n",
    "#Remover o borrar la la columna ID\n",
    "\n"
   ]
  },
  {
   "cell_type": "code",
   "execution_count": 5,
   "metadata": {},
   "outputs": [],
   "source": [
    "#seleccionar las columnas 'SepalLengthCm','SepalWidthCm','PetalLengthCm','PetalWidthCm'\n",
    "\n",
    "#crear x e y. Siendo la variable dependiente, las especies\n"
   ]
  },
  {
   "cell_type": "code",
   "execution_count": 6,
   "metadata": {},
   "outputs": [
    {
     "data": {
      "text/html": [
       "<style>#sk-container-id-1 {color: black;background-color: white;}#sk-container-id-1 pre{padding: 0;}#sk-container-id-1 div.sk-toggleable {background-color: white;}#sk-container-id-1 label.sk-toggleable__label {cursor: pointer;display: block;width: 100%;margin-bottom: 0;padding: 0.3em;box-sizing: border-box;text-align: center;}#sk-container-id-1 label.sk-toggleable__label-arrow:before {content: \"▸\";float: left;margin-right: 0.25em;color: #696969;}#sk-container-id-1 label.sk-toggleable__label-arrow:hover:before {color: black;}#sk-container-id-1 div.sk-estimator:hover label.sk-toggleable__label-arrow:before {color: black;}#sk-container-id-1 div.sk-toggleable__content {max-height: 0;max-width: 0;overflow: hidden;text-align: left;background-color: #f0f8ff;}#sk-container-id-1 div.sk-toggleable__content pre {margin: 0.2em;color: black;border-radius: 0.25em;background-color: #f0f8ff;}#sk-container-id-1 input.sk-toggleable__control:checked~div.sk-toggleable__content {max-height: 200px;max-width: 100%;overflow: auto;}#sk-container-id-1 input.sk-toggleable__control:checked~label.sk-toggleable__label-arrow:before {content: \"▾\";}#sk-container-id-1 div.sk-estimator input.sk-toggleable__control:checked~label.sk-toggleable__label {background-color: #d4ebff;}#sk-container-id-1 div.sk-label input.sk-toggleable__control:checked~label.sk-toggleable__label {background-color: #d4ebff;}#sk-container-id-1 input.sk-hidden--visually {border: 0;clip: rect(1px 1px 1px 1px);clip: rect(1px, 1px, 1px, 1px);height: 1px;margin: -1px;overflow: hidden;padding: 0;position: absolute;width: 1px;}#sk-container-id-1 div.sk-estimator {font-family: monospace;background-color: #f0f8ff;border: 1px dotted black;border-radius: 0.25em;box-sizing: border-box;margin-bottom: 0.5em;}#sk-container-id-1 div.sk-estimator:hover {background-color: #d4ebff;}#sk-container-id-1 div.sk-parallel-item::after {content: \"\";width: 100%;border-bottom: 1px solid gray;flex-grow: 1;}#sk-container-id-1 div.sk-label:hover label.sk-toggleable__label {background-color: #d4ebff;}#sk-container-id-1 div.sk-serial::before {content: \"\";position: absolute;border-left: 1px solid gray;box-sizing: border-box;top: 0;bottom: 0;left: 50%;z-index: 0;}#sk-container-id-1 div.sk-serial {display: flex;flex-direction: column;align-items: center;background-color: white;padding-right: 0.2em;padding-left: 0.2em;position: relative;}#sk-container-id-1 div.sk-item {position: relative;z-index: 1;}#sk-container-id-1 div.sk-parallel {display: flex;align-items: stretch;justify-content: center;background-color: white;position: relative;}#sk-container-id-1 div.sk-item::before, #sk-container-id-1 div.sk-parallel-item::before {content: \"\";position: absolute;border-left: 1px solid gray;box-sizing: border-box;top: 0;bottom: 0;left: 50%;z-index: -1;}#sk-container-id-1 div.sk-parallel-item {display: flex;flex-direction: column;z-index: 1;position: relative;background-color: white;}#sk-container-id-1 div.sk-parallel-item:first-child::after {align-self: flex-end;width: 50%;}#sk-container-id-1 div.sk-parallel-item:last-child::after {align-self: flex-start;width: 50%;}#sk-container-id-1 div.sk-parallel-item:only-child::after {width: 0;}#sk-container-id-1 div.sk-dashed-wrapped {border: 1px dashed gray;margin: 0 0.4em 0.5em 0.4em;box-sizing: border-box;padding-bottom: 0.4em;background-color: white;}#sk-container-id-1 div.sk-label label {font-family: monospace;font-weight: bold;display: inline-block;line-height: 1.2em;}#sk-container-id-1 div.sk-label-container {text-align: center;}#sk-container-id-1 div.sk-container {/* jupyter's `normalize.less` sets `[hidden] { display: none; }` but bootstrap.min.css set `[hidden] { display: none !important; }` so we also need the `!important` here to be able to override the default hidden behavior on the sphinx rendered scikit-learn.org. See: https://github.com/scikit-learn/scikit-learn/issues/21755 */display: inline-block !important;position: relative;}#sk-container-id-1 div.sk-text-repr-fallback {display: none;}</style><div id=\"sk-container-id-1\" class=\"sk-top-container\"><div class=\"sk-text-repr-fallback\"><pre>DecisionTreeClassifier(max_depth=2, random_state=36)</pre><b>In a Jupyter environment, please rerun this cell to show the HTML representation or trust the notebook. <br />On GitHub, the HTML representation is unable to render, please try loading this page with nbviewer.org.</b></div><div class=\"sk-container\" hidden><div class=\"sk-item\"><div class=\"sk-estimator sk-toggleable\"><input class=\"sk-toggleable__control sk-hidden--visually\" id=\"sk-estimator-id-1\" type=\"checkbox\" checked><label for=\"sk-estimator-id-1\" class=\"sk-toggleable__label sk-toggleable__label-arrow\">DecisionTreeClassifier</label><div class=\"sk-toggleable__content\"><pre>DecisionTreeClassifier(max_depth=2, random_state=36)</pre></div></div></div></div></div>"
      ],
      "text/plain": [
       "DecisionTreeClassifier(max_depth=2, random_state=36)"
      ]
     },
     "execution_count": 6,
     "metadata": {},
     "output_type": "execute_result"
    }
   ],
   "source": [
    "#instanciar un DecisionTreeClassifier con profundidad de 2, poner el parametro  random_state = 36\n",
    "#hacer fit"
   ]
  },
  {
   "cell_type": "code",
   "execution_count": 10,
   "metadata": {},
   "outputs": [
    {
     "name": "stdout",
     "output_type": "stream",
     "text": [
      "Collecting graphviz\n",
      "  Using cached graphviz-0.20.1-py3-none-any.whl (47 kB)\n",
      "Installing collected packages: graphviz\n",
      "Successfully installed graphviz-0.20.1\n",
      "\u001B[33mWARNING: You are using pip version 21.1.1; however, version 22.3.1 is available.\n",
      "You should consider upgrading via the '/Users/federicomoreno/.pyenv/versions/3.8.12/envs/pyglob/bin/python3.8 -m pip install --upgrade pip' command.\u001B[0m\n"
     ]
    }
   ],
   "source": [
    "#!pip install graphviz"
   ]
  },
  {
   "cell_type": "code",
   "execution_count": 11,
   "metadata": {},
   "outputs": [],
   "source": [
    "# Visualize the trained Decision Tree by export_graphviz() method\n",
    "from sklearn.tree import export_graphviz\n",
    "from sklearn import tree\n",
    "from IPython.display import SVG\n",
    "from graphviz import Source\n",
    "from IPython.display import display\n"
   ]
  },
  {
   "cell_type": "code",
   "execution_count": 12,
   "metadata": {},
   "outputs": [
    {
     "data": {
      "image/svg+xml": [
       "<svg xmlns=\"http://www.w3.org/2000/svg\" xmlns:xlink=\"http://www.w3.org/1999/xlink\" width=\"374pt\" height=\"314pt\" viewBox=\"0.00 0.00 374.00 314.00\">\n",
       "<g id=\"graph0\" class=\"graph\" transform=\"scale(1 1) rotate(0) translate(4 310)\">\n",
       "<title>Tree</title>\n",
       "<polygon fill=\"white\" stroke=\"none\" points=\"-4,4 -4,-310 370,-310 370,4 -4,4\"/>\n",
       "<!-- 0 -->\n",
       "<g id=\"node1\" class=\"node\">\n",
       "<title>0</title>\n",
       "<polygon fill=\"#ffffff\" stroke=\"black\" points=\"222,-306 61,-306 61,-223 222,-223 222,-306\"/>\n",
       "<text text-anchor=\"middle\" x=\"141.5\" y=\"-290.8\" font-family=\"Helvetica,sans-Serif\" font-size=\"14.00\">PetalLengthCm &lt;= 2.45</text>\n",
       "<text text-anchor=\"middle\" x=\"141.5\" y=\"-275.8\" font-family=\"Helvetica,sans-Serif\" font-size=\"14.00\">gini = 0.667</text>\n",
       "<text text-anchor=\"middle\" x=\"141.5\" y=\"-260.8\" font-family=\"Helvetica,sans-Serif\" font-size=\"14.00\">samples = 150</text>\n",
       "<text text-anchor=\"middle\" x=\"141.5\" y=\"-245.8\" font-family=\"Helvetica,sans-Serif\" font-size=\"14.00\">value = [50, 50, 50]</text>\n",
       "<text text-anchor=\"middle\" x=\"141.5\" y=\"-230.8\" font-family=\"Helvetica,sans-Serif\" font-size=\"14.00\">class = Iris-setosa</text>\n",
       "</g>\n",
       "<!-- 1 -->\n",
       "<g id=\"node2\" class=\"node\">\n",
       "<title>1</title>\n",
       "<polygon fill=\"#e58139\" stroke=\"black\" points=\"125,-179.5 0,-179.5 0,-111.5 125,-111.5 125,-179.5\"/>\n",
       "<text text-anchor=\"middle\" x=\"62.5\" y=\"-164.3\" font-family=\"Helvetica,sans-Serif\" font-size=\"14.00\">gini = 0.0</text>\n",
       "<text text-anchor=\"middle\" x=\"62.5\" y=\"-149.3\" font-family=\"Helvetica,sans-Serif\" font-size=\"14.00\">samples = 50</text>\n",
       "<text text-anchor=\"middle\" x=\"62.5\" y=\"-134.3\" font-family=\"Helvetica,sans-Serif\" font-size=\"14.00\">value = [50, 0, 0]</text>\n",
       "<text text-anchor=\"middle\" x=\"62.5\" y=\"-119.3\" font-family=\"Helvetica,sans-Serif\" font-size=\"14.00\">class = Iris-setosa</text>\n",
       "</g>\n",
       "<!-- 0&#45;&gt;1 -->\n",
       "<g id=\"edge1\" class=\"edge\">\n",
       "<title>0-&gt;1</title>\n",
       "<path fill=\"none\" stroke=\"black\" d=\"M113.87,-222.58C106.57,-211.77 98.68,-200.09 91.33,-189.19\"/>\n",
       "<polygon fill=\"black\" stroke=\"black\" points=\"94.37,-187.44 85.87,-181.12 88.57,-191.36 94.37,-187.44\"/>\n",
       "<text text-anchor=\"middle\" x=\"80.27\" y=\"-200.7\" font-family=\"Helvetica,sans-Serif\" font-size=\"14.00\">True</text>\n",
       "</g>\n",
       "<!-- 2 -->\n",
       "<g id=\"node3\" class=\"node\">\n",
       "<title>2</title>\n",
       "<polygon fill=\"#ffffff\" stroke=\"black\" points=\"298,-187 143,-187 143,-104 298,-104 298,-187\"/>\n",
       "<text text-anchor=\"middle\" x=\"220.5\" y=\"-171.8\" font-family=\"Helvetica,sans-Serif\" font-size=\"14.00\">PetalWidthCm &lt;= 1.75</text>\n",
       "<text text-anchor=\"middle\" x=\"220.5\" y=\"-156.8\" font-family=\"Helvetica,sans-Serif\" font-size=\"14.00\">gini = 0.5</text>\n",
       "<text text-anchor=\"middle\" x=\"220.5\" y=\"-141.8\" font-family=\"Helvetica,sans-Serif\" font-size=\"14.00\">samples = 100</text>\n",
       "<text text-anchor=\"middle\" x=\"220.5\" y=\"-126.8\" font-family=\"Helvetica,sans-Serif\" font-size=\"14.00\">value = [0, 50, 50]</text>\n",
       "<text text-anchor=\"middle\" x=\"220.5\" y=\"-111.8\" font-family=\"Helvetica,sans-Serif\" font-size=\"14.00\">class = Iris-versicolor</text>\n",
       "</g>\n",
       "<!-- 0&#45;&gt;2 -->\n",
       "<g id=\"edge2\" class=\"edge\">\n",
       "<title>0-&gt;2</title>\n",
       "<path fill=\"none\" stroke=\"black\" d=\"M169.13,-222.58C174.82,-214.16 180.86,-205.2 186.74,-196.5\"/>\n",
       "<polygon fill=\"black\" stroke=\"black\" points=\"189.48,-198.7 192.17,-188.45 183.67,-194.78 189.48,-198.7\"/>\n",
       "<text text-anchor=\"middle\" x=\"197.78\" y=\"-208.04\" font-family=\"Helvetica,sans-Serif\" font-size=\"14.00\">False</text>\n",
       "</g>\n",
       "<!-- 3 -->\n",
       "<g id=\"node4\" class=\"node\">\n",
       "<title>3</title>\n",
       "<polygon fill=\"#4de88e\" stroke=\"black\" points=\"213,-68 70,-68 70,0 213,0 213,-68\"/>\n",
       "<text text-anchor=\"middle\" x=\"141.5\" y=\"-52.8\" font-family=\"Helvetica,sans-Serif\" font-size=\"14.00\">gini = 0.168</text>\n",
       "<text text-anchor=\"middle\" x=\"141.5\" y=\"-37.8\" font-family=\"Helvetica,sans-Serif\" font-size=\"14.00\">samples = 54</text>\n",
       "<text text-anchor=\"middle\" x=\"141.5\" y=\"-22.8\" font-family=\"Helvetica,sans-Serif\" font-size=\"14.00\">value = [0, 49, 5]</text>\n",
       "<text text-anchor=\"middle\" x=\"141.5\" y=\"-7.8\" font-family=\"Helvetica,sans-Serif\" font-size=\"14.00\">class = Iris-versicolor</text>\n",
       "</g>\n",
       "<!-- 2&#45;&gt;3 -->\n",
       "<g id=\"edge3\" class=\"edge\">\n",
       "<title>2-&gt;3</title>\n",
       "<path fill=\"none\" stroke=\"black\" d=\"M191.08,-103.73C184.9,-95.15 178.36,-86.09 172.13,-77.46\"/>\n",
       "<polygon fill=\"black\" stroke=\"black\" points=\"175.1,-75.59 166.41,-69.53 169.42,-79.68 175.1,-75.59\"/>\n",
       "</g>\n",
       "<!-- 4 -->\n",
       "<g id=\"node5\" class=\"node\">\n",
       "<title>4</title>\n",
       "<polygon fill=\"#843de6\" stroke=\"black\" points=\"366,-68 231,-68 231,0 366,0 366,-68\"/>\n",
       "<text text-anchor=\"middle\" x=\"298.5\" y=\"-52.8\" font-family=\"Helvetica,sans-Serif\" font-size=\"14.00\">gini = 0.043</text>\n",
       "<text text-anchor=\"middle\" x=\"298.5\" y=\"-37.8\" font-family=\"Helvetica,sans-Serif\" font-size=\"14.00\">samples = 46</text>\n",
       "<text text-anchor=\"middle\" x=\"298.5\" y=\"-22.8\" font-family=\"Helvetica,sans-Serif\" font-size=\"14.00\">value = [0, 1, 45]</text>\n",
       "<text text-anchor=\"middle\" x=\"298.5\" y=\"-7.8\" font-family=\"Helvetica,sans-Serif\" font-size=\"14.00\">class = Iris-virginica</text>\n",
       "</g>\n",
       "<!-- 2&#45;&gt;4 -->\n",
       "<g id=\"edge4\" class=\"edge\">\n",
       "<title>2-&gt;4</title>\n",
       "<path fill=\"none\" stroke=\"black\" d=\"M249.54,-103.73C255.65,-95.15 262.11,-86.09 268.26,-77.46\"/>\n",
       "<polygon fill=\"black\" stroke=\"black\" points=\"270.95,-79.71 273.9,-69.53 265.25,-75.65 270.95,-79.71\"/>\n",
       "</g>\n",
       "</g>\n",
       "</svg>"
      ],
      "text/plain": [
       "<IPython.core.display.SVG object>"
      ]
     },
     "metadata": {},
     "output_type": "display_data"
    }
   ],
   "source": [
    "labels = df_iris_X.columns\n",
    "\n",
    "graph = Source(tree.export_graphviz(tree_clf ,feature_names = labels, class_names = df_iris_y.unique(), max_depth = 2, filled = True))\n",
    "display(SVG(graph.pipe(format='svg')))"
   ]
  },
  {
   "cell_type": "markdown",
   "metadata": {},
   "source": [
    "## <u>Hacer predicciones</u>\n",
    "\n",
    "La clasificación comienza en el root node (profundidad 0, nodo superior) y verifica si la longitud del pétalo de la flor es menor de 2,45 cm. Si es Verdadero, baja al nodo secundario izquierdo de la raíz (profundidad 1, izquierda). Como es un nudo hoja (leave), predice que la flor es una Iris-Setosa (clase=setosa). Si es Falso, baja al nodo secundario derecho de la raíz (profundidad 1, derecha), que no es un nodo de hoja, por lo que plantea otra pregunta: ¿el ancho del pétalo es menor que 1,75 cm? Si es Verdadero, lo más probable es que la flor sea una Iris-Versicolor (profundidad 2, izquierda). Si es Falso, es probable que sea una Iris-Virginica (profundidad 2, derecha).\n",
    "\n",
    "- <b> <u> Muestras </u> </b>: cuenta a cuántas instancias de entrenamiento se aplica. Por ejemplo, 100 instancias de entrenamiento tienen una longitud de pétalo superior a 2,45 cm (profundidad 1, derecha), de las cuales 54 tienen un ancho de pétalo inferior a 1,75 cm (profundidad 2, izquierda).\n",
    "- <b> <u> Valor </u> </b>: nos dice a cuántas instancias de entrenamiento de cada clase se aplica este nodo: por ejemplo, el nodo inferior derecho se aplica a 0 Iris-Setosa, 1 Iris-Versicolor , y 45 Iris-Virginica.\n",
    "- <b> <u> Gini </u> </b>: mide la impureza: un nodo es “puro” (gini=0) si todas las instancias de entrenamiento que aplica pertenecen a la misma clase. Por ejemplo, dado que el nodo izquierdo de profundidad 1 se aplica solo a las instancias de entrenamiento de Iris-Setosa, es puro y su puntaje Gini es 0, el nodo izquierdo de profundidad 2 tiene un puntaje Gini igual a 1: $\\frac{0}{ 54}^2$ – $\\frac{49}{54}^2$ – $\\frac{5}{54}^2$ ≈ 0,168.\n",
    "-\n",
    "- <b><u> Entropía </u></b>: De forma predeterminada, se utiliza la medida de impureza de Gini, podemos seleccionar la medida de impureza de entropía en su lugar configurando el hiperparámetro de criterio en \"entropía\". La entropía de un conjunto es cero cuando contiene instancias de una sola clase. Por ejemplo, dado que el nodo izquierdo de profundidad 1 se aplica solo a las instancias de entrenamiento de Iris-Setosa, es puro y su entropía es 0, el nodo izquierdo de profundidad 2 tiene una entropía igual a − $\\frac{49}{54}$ $ \\log\\grande({\\frac{49}{54}}\\grande)$ − $\\frac{5}{54}$ $\\log\\grande({\\frac{5}{54}}\\grande)$ ≈ 0,31.\n",
    "\n",
    "<b>Nota</b>: la impureza de Gini de un nodo suele ser menor que la de su padre. Esto está garantizado por la función de costo del algoritmo de entrenamiento CART, que divide cada nodo de una manera que minimiza la suma ponderada de las impurezas de Gini de sus hijos. Sin embargo, si un hijo es más pequeño que el otro, es posible que tenga una impureza de Gini más alta que su padre, siempre que este aumento sea más que compensado por una disminución de la impureza del otro hijo.\n",
    "\n",
    "#### <u> ¿Impureza de Gini o entropía? </u>\n",
    "\n",
    "La mayoría de las veces no hace una gran diferencia: conducen a árboles similares. La impureza de Gini es un poco más rápida de calcular, por lo que es un buen valor predeterminado. Sin embargo, la impureza de Gini tiende a aislar la clase más frecuente en su propia rama del árbol, mientras que la entropía tiende a producir árboles ligeramente más equilibrados."
   ]
  },
  {
   "cell_type": "markdown",
   "metadata": {},
   "source": [
    "## <u> Estimación de probabilidades de clase/clase </u>\n",
    "\n",
    "Decision Tree puede estimar la probabilidad de que una row/instancia pertenezca a una clase k particular: atraviesa el árbol para encontrar el nodo hoja para esta instancia y devuelve la proporción de instancias de entrenamiento de la clase k en este nodo. Por ejemplo, los pétalos de una flor miden 5 cm de largo y 1,5 cm de ancho. El nodo de hoja correspondiente es el nodo izquierdo de profundidad 2, por lo que el árbol de decisión debería generar las siguientes probabilidades: 0 % para Iris-Setosa $\\frac{0}{54}$, 90,7 % para Iris-Versicolor $\\frac{49 {54}$, y 9,25% para Iris-Virginica $\\frac{5}{54}$.\n",
    "\n",
    "También puede predecir la clase de instancia. Para la instancia anterior, debería generar Iris-Versicolor (clase 1) ya que tiene la mayor probabilidad"
   ]
  },
  {
   "cell_type": "code",
   "execution_count": 13,
   "metadata": {},
   "outputs": [
    {
     "name": "stderr",
     "output_type": "stream",
     "text": [
      "/Users/federicomoreno/.pyenv/versions/pyglob/lib/python3.8/site-packages/sklearn/base.py:450: UserWarning: X does not have valid feature names, but DecisionTreeClassifier was fitted with feature names\n",
      "  warnings.warn(\n"
     ]
    },
    {
     "data": {
      "text/plain": [
       "array([[0.        , 0.90740741, 0.09259259]])"
      ]
     },
     "execution_count": 13,
     "metadata": {},
     "output_type": "execute_result"
    }
   ],
   "source": [
    "#predecir la probabilidad predict.proba de la siguiente muestra ([[1,1, 5, 1.5]])"
   ]
  },
  {
   "cell_type": "code",
   "execution_count": 14,
   "metadata": {},
   "outputs": [
    {
     "name": "stderr",
     "output_type": "stream",
     "text": [
      "/Users/federicomoreno/.pyenv/versions/pyglob/lib/python3.8/site-packages/sklearn/base.py:450: UserWarning: X does not have valid feature names, but DecisionTreeClassifier was fitted with feature names\n",
      "  warnings.warn(\n"
     ]
    },
    {
     "data": {
      "text/plain": [
       "array(['Iris-versicolor'], dtype=object)"
      ]
     },
     "execution_count": 14,
     "metadata": {},
     "output_type": "execute_result"
    }
   ],
   "source": [
    "#predecir la clase de la siguiente muestra [[1,1, 5, 1.5]])"
   ]
  },
  {
   "cell_type": "markdown",
   "metadata": {},
   "source": [
    "<b>Nota</b>: como podemos ver en los gráficos a continuación, las características de los pétalos ofrecen una mejor división en comparación con las características de los sépalos. A medida que aumentamos la profundidad del árbol, también clasificará las instancias según las características de Sepal. En el ejemplo de prueba anterior, hemos mantenido las características de Sepal constantes (1)."
   ]
  },
  {
   "cell_type": "code",
   "execution_count": 15,
   "metadata": {},
   "outputs": [
    {
     "data": {
      "image/png": "[encoded data removed]",
      "text/plain": [
       "<Figure size 1600x400 with 2 Axes>"
      ]
     },
     "metadata": {},
     "output_type": "display_data"
    }
   ],
   "source": [
    "import matplotlib.pyplot as plt\n",
    "\n",
    "fig, (ax1, ax2) = plt.subplots(1, 2)\n",
    "fig.set_size_inches(16,4)\n",
    "\n",
    "df_iris[df_iris.Species=='Iris-setosa'].plot(kind='scatter',x='SepalLengthCm',y='SepalWidthCm',color='orange', label='Setosa', ax = ax1)\n",
    "df_iris[df_iris.Species=='Iris-versicolor'].plot(kind='scatter',x='SepalLengthCm',y='SepalWidthCm',color='blue', label='versicolor',ax=ax1)\n",
    "df_iris[df_iris.Species=='Iris-virginica'].plot(kind='scatter',x='SepalLengthCm',y='SepalWidthCm',color='green', label='virginica', ax=ax1)\n",
    "\n",
    "df_iris[df_iris.Species=='Iris-setosa'].plot.scatter(x='PetalLengthCm',y='PetalWidthCm',color='orange', label='Setosa', ax = ax2)\n",
    "df_iris[df_iris.Species=='Iris-versicolor'].plot.scatter(x='PetalLengthCm',y='PetalWidthCm',color='blue', label='versicolor',ax=ax2)\n",
    "df_iris[df_iris.Species=='Iris-virginica'].plot.scatter(x='PetalLengthCm',y='PetalWidthCm',color='green', label='virginica', ax=ax2)\n",
    "\n",
    "plt.show()"
   ]
  },
  {
   "cell_type": "markdown",
   "metadata": {},
   "source": [
    "## <u>Algoritmo de entrenamiento CART</u>\n",
    "\n",
    "Scikit-Learn utiliza el algoritmo del árbol de clasificación y regresión (CART) para entrenar árboles de decisión. El algoritmo primero divide el conjunto de entrenamiento en dos subconjuntos utilizando una sola característica k y un umbral $t_k$ (por ejemplo, \"longitud de pétalo ≤ 2,45 cm\"). ¿Cómo elige k y $t_k$? Busca el par (k, $t_k$) que produce los subconjuntos más puros (ponderados por su tamaño). La función de coste que el algoritmo intenta minimizar viene dada por:\n",
    "\n",
    "$$J(k, t_k) = \\frac{m_{izquierda}}{m} G_{izquierda} + \\frac{m_{derecha}}{m} G_{derecha}$$\n",
    "\n",
    "donde $G_{izquierda/derecha}$ = mide la impureza del subconjunto izquierdo/derecho, $m_{izquierda/derecha}$ = es el número de instancias en el subconjunto izquierdo/derecho.\n",
    "\n",
    "Una vez que divide con éxito el conjunto de entrenamiento en dos, divide los subconjuntos usando la misma lógica, luego los sub-subconjuntos y así sucesivamente, recursivamente. Deja de recurrir una vez que alcanza un hiperparámetro establecido (profundidad máxima / min_samples_split / min_samples_leaf / min_weight_fraction_leaf / max_leaf_nodes), o si no puede encontrar una división que reduzca la impureza.\n",
    "\n",
    "<b>Nota: </b> El algoritmo CART es un algoritmo codicioso: busca con avidez una división óptima en el nivel superior y luego repite el proceso en cada nivel. No verifica si la división conducirá o no a la impureza más baja posible varios niveles hacia abajo. Un algoritmo codicioso a menudo produce una solución razonablemente buena, pero no se garantiza que sea la solución óptima."
   ]
  },
  {
   "cell_type": "markdown",
   "metadata": {},
   "source": [
    "## <u>Hiperparámetros de regularización</u>\n",
    "\n",
    "<b><u>Profundidad máxima del árbol (SkLearn - max_depth)</u></b>\n",
    "- Se utiliza para controlar el sobreajuste, ya que una mayor profundidad permitirá que el modelo aprenda relaciones muy específicas para una muestra en particular.\n",
    "- Debe sintonizarse usando CV.\n",
    "\n",
    "<b><u>Muestras mínimas para una división de nodos (SkLearn - min_samples_split)</u></b>\n",
    "- Define el número mínimo de muestras (u observaciones) que se requieren en un nodo para ser considerado para la división.\n",
    "- Se utiliza para controlar el sobreajuste. Los valores más altos evitan que un modelo aprenda relaciones que podrían ser muy específicas para la muestra particular seleccionada para un árbol.\n",
    "- Los valores demasiado altos pueden dar lugar a un ajuste insuficiente, por lo que debe ajustarse mediante CV.\n",
    "\n",
    "<b><u>Muestras mínimas para un nodo terminal (SkLearn - min_samples_leaf)</u></b>\n",
    "- Define las muestras mínimas (u observaciones) requeridas en un nodo terminal u hoja.\n",
    "- Se utiliza para controlar el sobreajuste similar a min_samples_split.\n",
    "- En general, se deben elegir valores más bajos para problemas de clase desequilibrada porque las regiones en las que la clase minoritaria será mayoritaria serán muy pequeñas.\n",
    "\n",
    "<b><u>Número máximo de nodos terminales (SkLearn - max_leaf_nodes)</u></b>\n",
    "- El número máximo de nudos terminales u hojas en un árbol.\n",
    "- Se puede definir en lugar de max_depth. Dado que se crean árboles binarios, una profundidad de 'n' produciría un máximo de 2^n hojas.\n",
    "\n",
    "<b><u>Características máximas a considerar para la división (SkLearn - max_features)</u></b>\n",
    "- El número de funciones a tener en cuenta al buscar la mejor división. Estos serán seleccionados al azar.\n",
    "- Como regla general, la raíz cuadrada del número total de funciones funciona muy bien, pero debemos verificar hasta el 30-40% del número total de funciones.\n",
    "- Los valores más altos pueden provocar un ajuste excesivo, pero depende de cada caso."
   ]
  },
  {
   "cell_type": "markdown",
   "metadata": {},
   "source": [
    "<b>Nota</b>: Algunos algoritmos funcionan primero entrenando el árbol de decisiones sin restricciones y luego eliminando los nodos innecesarios. Un nodo cuyos \"hijos\" son todos nodos de hoja se considera innecesario si su pureza no es estadísticamente significativa (hipótesis nula). y sus hijos se eliminan. La poda continúa hasta que se hayan podado todos los nodos innecesarios."
   ]
  },
  {
   "cell_type": "markdown",
   "metadata": {},
   "source": [
    "## <u>Complejidad computacional</u>\n",
    "\n",
    "Hacer predicciones requiere atravesar el árbol de decisiones desde la raíz hasta una hoja. Los árboles de decisión generalmente están aproximadamente equilibrados, por lo que atravesar el árbol de decisión requiere pasar por aproximadamente $O(log_2(m))$ nodos. Dado que cada nodo solo requiere verificar el valor de una característica, la complejidad de predicción general es solo O (log2 (m)), independientemente de la cantidad de características. Por lo tanto, las predicciones son muy rápidas, incluso cuando se trata de grandes conjuntos de entrenamiento.\n",
    "\n",
    "Sin embargo, el algoritmo de entrenamiento compara todas las características (o menos si se establece max_features) en todas las muestras en cada nodo. Esto da como resultado una complejidad de entrenamiento de O(n × m log(m)) donde n = num. de miedos, m = número de instancias. Para conjuntos de entrenamiento pequeños (menos de unos pocos miles de instancias), Scikit-Learn puede acelerar el entrenamiento mediante la clasificación previa de los datos (set presort=True), pero esto ralentiza considerablemente el entrenamiento para conjuntos de entrenamiento más grandes."
   ]
  },
  {
   "cell_type": "markdown",
   "metadata": {},
   "source": [
    "## <u>Regression</u>"
   ]
  },
  {
   "cell_type": "code",
   "execution_count": 16,
   "metadata": {},
   "outputs": [
    {
     "name": "stdout",
     "output_type": "stream",
     "text": [
      "Iris.csv            decision_tree.ipynb melb_data.csv\r\n"
     ]
    }
   ],
   "source": [
    "!ls"
   ]
  },
  {
   "cell_type": "code",
   "execution_count": 18,
   "metadata": {},
   "outputs": [],
   "source": [
    "from sklearn.tree import DecisionTreeRegressor\n",
    "\n",
    "#Leer el dataset del melbron data"
   ]
  },
  {
   "cell_type": "code",
   "execution_count": 19,
   "metadata": {
    "_cell_guid": "",
    "_uuid": ""
   },
   "outputs": [],
   "source": [
    "#variables en x 'Rooms','Bathroom','Landsize','Lattitude','Longtitude'\n",
    "#variable a predeicr Precio\n"
   ]
  },
  {
   "cell_type": "code",
   "execution_count": 20,
   "metadata": {},
   "outputs": [
    {
     "data": {
      "text/html": [
       "<style>#sk-container-id-2 {color: black;background-color: white;}#sk-container-id-2 pre{padding: 0;}#sk-container-id-2 div.sk-toggleable {background-color: white;}#sk-container-id-2 label.sk-toggleable__label {cursor: pointer;display: block;width: 100%;margin-bottom: 0;padding: 0.3em;box-sizing: border-box;text-align: center;}#sk-container-id-2 label.sk-toggleable__label-arrow:before {content: \"▸\";float: left;margin-right: 0.25em;color: #696969;}#sk-container-id-2 label.sk-toggleable__label-arrow:hover:before {color: black;}#sk-container-id-2 div.sk-estimator:hover label.sk-toggleable__label-arrow:before {color: black;}#sk-container-id-2 div.sk-toggleable__content {max-height: 0;max-width: 0;overflow: hidden;text-align: left;background-color: #f0f8ff;}#sk-container-id-2 div.sk-toggleable__content pre {margin: 0.2em;color: black;border-radius: 0.25em;background-color: #f0f8ff;}#sk-container-id-2 input.sk-toggleable__control:checked~div.sk-toggleable__content {max-height: 200px;max-width: 100%;overflow: auto;}#sk-container-id-2 input.sk-toggleable__control:checked~label.sk-toggleable__label-arrow:before {content: \"▾\";}#sk-container-id-2 div.sk-estimator input.sk-toggleable__control:checked~label.sk-toggleable__label {background-color: #d4ebff;}#sk-container-id-2 div.sk-label input.sk-toggleable__control:checked~label.sk-toggleable__label {background-color: #d4ebff;}#sk-container-id-2 input.sk-hidden--visually {border: 0;clip: rect(1px 1px 1px 1px);clip: rect(1px, 1px, 1px, 1px);height: 1px;margin: -1px;overflow: hidden;padding: 0;position: absolute;width: 1px;}#sk-container-id-2 div.sk-estimator {font-family: monospace;background-color: #f0f8ff;border: 1px dotted black;border-radius: 0.25em;box-sizing: border-box;margin-bottom: 0.5em;}#sk-container-id-2 div.sk-estimator:hover {background-color: #d4ebff;}#sk-container-id-2 div.sk-parallel-item::after {content: \"\";width: 100%;border-bottom: 1px solid gray;flex-grow: 1;}#sk-container-id-2 div.sk-label:hover label.sk-toggleable__label {background-color: #d4ebff;}#sk-container-id-2 div.sk-serial::before {content: \"\";position: absolute;border-left: 1px solid gray;box-sizing: border-box;top: 0;bottom: 0;left: 50%;z-index: 0;}#sk-container-id-2 div.sk-serial {display: flex;flex-direction: column;align-items: center;background-color: white;padding-right: 0.2em;padding-left: 0.2em;position: relative;}#sk-container-id-2 div.sk-item {position: relative;z-index: 1;}#sk-container-id-2 div.sk-parallel {display: flex;align-items: stretch;justify-content: center;background-color: white;position: relative;}#sk-container-id-2 div.sk-item::before, #sk-container-id-2 div.sk-parallel-item::before {content: \"\";position: absolute;border-left: 1px solid gray;box-sizing: border-box;top: 0;bottom: 0;left: 50%;z-index: -1;}#sk-container-id-2 div.sk-parallel-item {display: flex;flex-direction: column;z-index: 1;position: relative;background-color: white;}#sk-container-id-2 div.sk-parallel-item:first-child::after {align-self: flex-end;width: 50%;}#sk-container-id-2 div.sk-parallel-item:last-child::after {align-self: flex-start;width: 50%;}#sk-container-id-2 div.sk-parallel-item:only-child::after {width: 0;}#sk-container-id-2 div.sk-dashed-wrapped {border: 1px dashed gray;margin: 0 0.4em 0.5em 0.4em;box-sizing: border-box;padding-bottom: 0.4em;background-color: white;}#sk-container-id-2 div.sk-label label {font-family: monospace;font-weight: bold;display: inline-block;line-height: 1.2em;}#sk-container-id-2 div.sk-label-container {text-align: center;}#sk-container-id-2 div.sk-container {/* jupyter's `normalize.less` sets `[hidden] { display: none; }` but bootstrap.min.css set `[hidden] { display: none !important; }` so we also need the `!important` here to be able to override the default hidden behavior on the sphinx rendered scikit-learn.org. See: https://github.com/scikit-learn/scikit-learn/issues/21755 */display: inline-block !important;position: relative;}#sk-container-id-2 div.sk-text-repr-fallback {display: none;}</style><div id=\"sk-container-id-2\" class=\"sk-top-container\"><div class=\"sk-text-repr-fallback\"><pre>DecisionTreeRegressor(max_depth=2)</pre><b>In a Jupyter environment, please rerun this cell to show the HTML representation or trust the notebook. <br />On GitHub, the HTML representation is unable to render, please try loading this page with nbviewer.org.</b></div><div class=\"sk-container\" hidden><div class=\"sk-item\"><div class=\"sk-estimator sk-toggleable\"><input class=\"sk-toggleable__control sk-hidden--visually\" id=\"sk-estimator-id-2\" type=\"checkbox\" checked><label for=\"sk-estimator-id-2\" class=\"sk-toggleable__label sk-toggleable__label-arrow\">DecisionTreeRegressor</label><div class=\"sk-toggleable__content\"><pre>DecisionTreeRegressor(max_depth=2)</pre></div></div></div></div></div>"
      ],
      "text/plain": [
       "DecisionTreeRegressor(max_depth=2)"
      ]
     },
     "execution_count": 20,
     "metadata": {},
     "output_type": "execute_result"
    }
   ],
   "source": [
    "#instanciar DecisionTreeRegressor con max depth dew 2\n",
    "\n",
    "#hacer el método fit(x,y)\n"
   ]
  },
  {
   "cell_type": "code",
   "execution_count": 21,
   "metadata": {},
   "outputs": [
    {
     "data": {
      "image/svg+xml": [
       "<svg xmlns=\"http://www.w3.org/2000/svg\" xmlns:xlink=\"http://www.w3.org/1999/xlink\" width=\"982pt\" height=\"269pt\" viewBox=\"0.00 0.00 981.50 269.00\">\n",
       "<g id=\"graph0\" class=\"graph\" transform=\"scale(1 1) rotate(0) translate(4 265)\">\n",
       "<title>Tree</title>\n",
       "<polygon fill=\"white\" stroke=\"none\" points=\"-4,4 -4,-265 977.5,-265 977.5,4 -4,4\"/>\n",
       "<!-- 0 -->\n",
       "<g id=\"node1\" class=\"node\">\n",
       "<title>0</title>\n",
       "<polygon fill=\"#f6d2b8\" stroke=\"black\" points=\"605,-261 372,-261 372,-193 605,-193 605,-261\"/>\n",
       "<text text-anchor=\"middle\" x=\"488.5\" y=\"-245.8\" font-family=\"Helvetica,sans-Serif\" font-size=\"14.00\">Rooms &lt;= 3.5</text>\n",
       "<text text-anchor=\"middle\" x=\"488.5\" y=\"-230.8\" font-family=\"Helvetica,sans-Serif\" font-size=\"14.00\">squared_error = 408688105130.517</text>\n",
       "<text text-anchor=\"middle\" x=\"488.5\" y=\"-215.8\" font-family=\"Helvetica,sans-Serif\" font-size=\"14.00\">samples = 13580</text>\n",
       "<text text-anchor=\"middle\" x=\"488.5\" y=\"-200.8\" font-family=\"Helvetica,sans-Serif\" font-size=\"14.00\">value = 1075684.079</text>\n",
       "</g>\n",
       "<!-- 1 -->\n",
       "<g id=\"node2\" class=\"node\">\n",
       "<title>1</title>\n",
       "<polygon fill=\"#fae5d6\" stroke=\"black\" points=\"481,-157 248,-157 248,-89 481,-89 481,-157\"/>\n",
       "<text text-anchor=\"middle\" x=\"364.5\" y=\"-141.8\" font-family=\"Helvetica,sans-Serif\" font-size=\"14.00\">Rooms &lt;= 2.5</text>\n",
       "<text text-anchor=\"middle\" x=\"364.5\" y=\"-126.8\" font-family=\"Helvetica,sans-Serif\" font-size=\"14.00\">squared_error = 231134162070.694</text>\n",
       "<text text-anchor=\"middle\" x=\"364.5\" y=\"-111.8\" font-family=\"Helvetica,sans-Serif\" font-size=\"14.00\">samples = 10210</text>\n",
       "<text text-anchor=\"middle\" x=\"364.5\" y=\"-96.8\" font-family=\"Helvetica,sans-Serif\" font-size=\"14.00\">value = 925696.453</text>\n",
       "</g>\n",
       "<!-- 0&#45;&gt;1 -->\n",
       "<g id=\"edge1\" class=\"edge\">\n",
       "<title>0-&gt;1</title>\n",
       "<path fill=\"none\" stroke=\"black\" d=\"M447.9,-192.6C437.09,-183.71 425.28,-174 414.05,-164.76\"/>\n",
       "<polygon fill=\"black\" stroke=\"black\" points=\"416.31,-162.08 406.36,-158.44 411.86,-167.49 416.31,-162.08\"/>\n",
       "<text text-anchor=\"middle\" x=\"407.62\" y=\"-178.66\" font-family=\"Helvetica,sans-Serif\" font-size=\"14.00\">True</text>\n",
       "</g>\n",
       "<!-- 4 -->\n",
       "<g id=\"node5\" class=\"node\">\n",
       "<title>4</title>\n",
       "<polygon fill=\"#ea985d\" stroke=\"black\" points=\"725.5,-157 499.5,-157 499.5,-89 725.5,-89 725.5,-157\"/>\n",
       "<text text-anchor=\"middle\" x=\"612.5\" y=\"-141.8\" font-family=\"Helvetica,sans-Serif\" font-size=\"14.00\">Lattitude &lt;= -37.748</text>\n",
       "<text text-anchor=\"middle\" x=\"612.5\" y=\"-126.8\" font-family=\"Helvetica,sans-Serif\" font-size=\"14.00\">squared_error = 671970512226.14</text>\n",
       "<text text-anchor=\"middle\" x=\"612.5\" y=\"-111.8\" font-family=\"Helvetica,sans-Serif\" font-size=\"14.00\">samples = 3370</text>\n",
       "<text text-anchor=\"middle\" x=\"612.5\" y=\"-96.8\" font-family=\"Helvetica,sans-Serif\" font-size=\"14.00\">value = 1530097.63</text>\n",
       "</g>\n",
       "<!-- 0&#45;&gt;4 -->\n",
       "<g id=\"edge4\" class=\"edge\">\n",
       "<title>0-&gt;4</title>\n",
       "<path fill=\"none\" stroke=\"black\" d=\"M529.1,-192.6C539.91,-183.71 551.72,-174 562.95,-164.76\"/>\n",
       "<polygon fill=\"black\" stroke=\"black\" points=\"565.14,-167.49 570.64,-158.44 560.69,-162.08 565.14,-167.49\"/>\n",
       "<text text-anchor=\"middle\" x=\"569.38\" y=\"-178.66\" font-family=\"Helvetica,sans-Serif\" font-size=\"14.00\">False</text>\n",
       "</g>\n",
       "<!-- 2 -->\n",
       "<g id=\"node3\" class=\"node\">\n",
       "<title>2</title>\n",
       "<polygon fill=\"#ffffff\" stroke=\"black\" points=\"233,-53 0,-53 0,0 233,0 233,-53\"/>\n",
       "<text text-anchor=\"middle\" x=\"116.5\" y=\"-37.8\" font-family=\"Helvetica,sans-Serif\" font-size=\"14.00\">squared_error = 130234405166.585</text>\n",
       "<text text-anchor=\"middle\" x=\"116.5\" y=\"-22.8\" font-family=\"Helvetica,sans-Serif\" font-size=\"14.00\">samples = 4329</text>\n",
       "<text text-anchor=\"middle\" x=\"116.5\" y=\"-7.8\" font-family=\"Helvetica,sans-Serif\" font-size=\"14.00\">value = 721397.697</text>\n",
       "</g>\n",
       "<!-- 1&#45;&gt;2 -->\n",
       "<g id=\"edge2\" class=\"edge\">\n",
       "<title>1-&gt;2</title>\n",
       "<path fill=\"none\" stroke=\"black\" d=\"M276.72,-88.55C250.14,-78.42 221.13,-67.37 195.19,-57.49\"/>\n",
       "<polygon fill=\"black\" stroke=\"black\" points=\"196.66,-54.3 186.07,-54.01 194.17,-60.84 196.66,-54.3\"/>\n",
       "</g>\n",
       "<!-- 3 -->\n",
       "<g id=\"node4\" class=\"node\">\n",
       "<title>3</title>\n",
       "<polygon fill=\"#f6d2b8\" stroke=\"black\" points=\"477.5,-53 251.5,-53 251.5,0 477.5,0 477.5,-53\"/>\n",
       "<text text-anchor=\"middle\" x=\"364.5\" y=\"-37.8\" font-family=\"Helvetica,sans-Serif\" font-size=\"14.00\">squared_error = 252067704372.97</text>\n",
       "<text text-anchor=\"middle\" x=\"364.5\" y=\"-22.8\" font-family=\"Helvetica,sans-Serif\" font-size=\"14.00\">samples = 5881</text>\n",
       "<text text-anchor=\"middle\" x=\"364.5\" y=\"-7.8\" font-family=\"Helvetica,sans-Serif\" font-size=\"14.00\">value = 1076080.625</text>\n",
       "</g>\n",
       "<!-- 1&#45;&gt;3 -->\n",
       "<g id=\"edge3\" class=\"edge\">\n",
       "<title>1-&gt;3</title>\n",
       "<path fill=\"none\" stroke=\"black\" d=\"M364.5,-88.68C364.5,-80.99 364.5,-72.76 364.5,-64.9\"/>\n",
       "<polygon fill=\"black\" stroke=\"black\" points=\"368,-64.91 364.5,-54.91 361,-64.91 368,-64.91\"/>\n",
       "</g>\n",
       "<!-- 5 -->\n",
       "<g id=\"node6\" class=\"node\">\n",
       "<title>5</title>\n",
       "<polygon fill=\"#e58139\" stroke=\"black\" points=\"729,-53 496,-53 496,0 729,0 729,-53\"/>\n",
       "<text text-anchor=\"middle\" x=\"612.5\" y=\"-37.8\" font-family=\"Helvetica,sans-Serif\" font-size=\"14.00\">squared_error = 691313778232.513</text>\n",
       "<text text-anchor=\"middle\" x=\"612.5\" y=\"-22.8\" font-family=\"Helvetica,sans-Serif\" font-size=\"14.00\">samples = 2616</text>\n",
       "<text text-anchor=\"middle\" x=\"612.5\" y=\"-7.8\" font-family=\"Helvetica,sans-Serif\" font-size=\"14.00\">value = 1712805.784</text>\n",
       "</g>\n",
       "<!-- 4&#45;&gt;5 -->\n",
       "<g id=\"edge5\" class=\"edge\">\n",
       "<title>4-&gt;5</title>\n",
       "<path fill=\"none\" stroke=\"black\" d=\"M612.5,-88.68C612.5,-80.99 612.5,-72.76 612.5,-64.9\"/>\n",
       "<polygon fill=\"black\" stroke=\"black\" points=\"616,-64.91 612.5,-54.91 609,-64.91 616,-64.91\"/>\n",
       "</g>\n",
       "<!-- 6 -->\n",
       "<g id=\"node7\" class=\"node\">\n",
       "<title>6</title>\n",
       "<polygon fill=\"#fae9dc\" stroke=\"black\" points=\"973.5,-53 747.5,-53 747.5,0 973.5,0 973.5,-53\"/>\n",
       "<text text-anchor=\"middle\" x=\"860.5\" y=\"-37.8\" font-family=\"Helvetica,sans-Serif\" font-size=\"14.00\">squared_error = 87203658320.831</text>\n",
       "<text text-anchor=\"middle\" x=\"860.5\" y=\"-22.8\" font-family=\"Helvetica,sans-Serif\" font-size=\"14.00\">samples = 754</text>\n",
       "<text text-anchor=\"middle\" x=\"860.5\" y=\"-7.8\" font-family=\"Helvetica,sans-Serif\" font-size=\"14.00\">value = 896192.418</text>\n",
       "</g>\n",
       "<!-- 4&#45;&gt;6 -->\n",
       "<g id=\"edge6\" class=\"edge\">\n",
       "<title>4-&gt;6</title>\n",
       "<path fill=\"none\" stroke=\"black\" d=\"M700.28,-88.55C726.86,-78.42 755.87,-67.37 781.81,-57.49\"/>\n",
       "<polygon fill=\"black\" stroke=\"black\" points=\"782.83,-60.84 790.93,-54.01 780.34,-54.3 782.83,-60.84\"/>\n",
       "</g>\n",
       "</g>\n",
       "</svg>"
      ],
      "text/plain": [
       "<IPython.core.display.SVG object>"
      ]
     },
     "metadata": {},
     "output_type": "display_data"
    }
   ],
   "source": [
    "#visualizar\n",
    "\n",
    "labels = melb_data_X.columns\n",
    "\n",
    "graph = Source(tree.export_graphviz(tree_reg ,feature_names = labels, max_depth = 2, filled = True))\n",
    "display(SVG(graph.pipe(format='svg')))"
   ]
  },
  {
   "cell_type": "markdown",
   "metadata": {},
   "source": [
    "Este árbol se parece mucho al árbol de clasificación que creamos anteriormente. La principal diferencia es que en lugar de predecir una clase en cada nodo, predice un valor. Por ejemplo, supongamos que queremos hacer una predicción para una nueva instancia con \"Habitaciones\" = 3. Atravesamos el árbol comenzando desde la raíz y eventualmente llegamos al nodo hoja que predice el valor = 1076080.625. Esta predicción es simplemente el valor objetivo promedio de las 5881 instancias de entrenamiento asociadas a este nodo hoja. Esta predicción da como resultado un error cuadrático medio (MSE) igual a 252067704372,97 sobre estas 5881 instancias."
   ]
  },
  {
   "cell_type": "markdown",
   "metadata": {},
   "source": [
    "## <u>Algoritmo de entrenamiento CART</u>\n",
    "\n",
    "El algoritmo CART funciona básicamente de la misma manera que antes, excepto que en lugar de tratar de dividir el conjunto de entrenamiento de una manera que minimice la impureza, ahora intenta dividir el conjunto de entrenamiento de una manera que minimice el MSE.\n",
    "\n",
    "$$J(k, t_k) = \\frac{m_{izquierda}}{m} MSE_{izquierda} + \\frac{m_{derecha}}{m} MSE_{derecha}$$"
   ]
  },
  {
   "cell_type": "markdown",
   "metadata": {},
   "source": [
    "### <u>Modelos basados ​​en árboles frente a modelos lineales </u>\n",
    "\n",
    "- Si la relación entre la variable dependiente e independiente se aproxima bien mediante un modelo lineal, la regresión lineal superará al modelo basado en árbol.\n",
    "- Si existe una alta no linealidad y una relación compleja entre las variables dependientes e independientes, un modelo de árbol superará a un método de regresión clásico.\n",
    "- Si necesitamos construir un modelo que sea fácil de explicar a las personas, un modelo de árbol de decisión siempre funcionará mejor que un modelo lineal. ¡Los modelos de árboles de decisión son aún más simples de interpretar que la regresión lineal!"
   ]
  },
  {
   "cell_type": "markdown",
   "metadata": {},
   "source": [
    "<b>Nota rápida</b>\n",
    "- Los árboles de decisión requieren muy poca preparación de datos. En particular, no requieren escalado o centrado de características en absoluto.\n",
    "- Scikit-Learn usa el algoritmo CART, que produce solo árboles binarios: los nodos que no son hojas siempre tienen dos hijos (es decir, las preguntas solo tienen respuestas sí/no). Sin embargo, otros algoritmos como ID3 pueden producir árboles de decisión con nodos que tienen más de dos hijos.\n",
    "- Los árboles de decisión son bastante intuitivos y sus decisiones son fáciles de interpretar. Estos modelos a menudo se denominan modelos de caja blanca. Por el contrario, los bosques aleatorios o las redes neuronales generalmente se consideran modelos de caja negra. Los árboles de decisión proporcionan reglas de clasificación agradables y simples que incluso se pueden aplicar manualmente si es necesario (por ejemplo, para la clasificación de flores)."
   ]
  },
  {
   "cell_type": "markdown",
   "metadata": {},
   "source": [
    "## <u>Bonus</u>:\n",
    "### <u>Plotear la frontera de decision</u>\n",
    "\n",
    "La función de abajo plotea la frontera de decisión, tomala cómo dada"
   ]
  },
  {
   "cell_type": "code",
   "execution_count": 22,
   "metadata": {},
   "outputs": [],
   "source": [
    "def plot_decision_boundary(clf, X, Y, cmap='Paired_r'):\n",
    "    h = 0.02\n",
    "    x_min, x_max = X[:,0].min() - 10*h, X[:,0].max() + 10*h\n",
    "    y_min, y_max = X[:,1].min() - 10*h, X[:,1].max() + 10*h\n",
    "    xx, yy = np.meshgrid(np.arange(x_min, x_max, h),\n",
    "                         np.arange(y_min, y_max, h))\n",
    "    Z = clf.predict(np.c_[xx.ravel(), yy.ravel()])\n",
    "    Z = Z.reshape(xx.shape)\n",
    "\n",
    "    plt.figure(figsize=(8,6))\n",
    "    plt.contourf(xx, yy, Z, cmap=cmap, alpha=0.25)\n",
    "    plt.contour(xx, yy, Z, colors='k', linewidths=0.7)\n",
    "    plt.scatter(X[:,0], X[:,1], c=Y, cmap=cmap, edgecolors='k')"
   ]
  },
  {
   "cell_type": "code",
   "execution_count": 23,
   "metadata": {},
   "outputs": [
    {
     "data": {
      "image/png": "[encoded data removed]",
      "text/plain": [
       "<Figure size 800x600 with 1 Axes>"
      ]
     },
     "metadata": {},
     "output_type": "display_data"
    }
   ],
   "source": [
    "import numpy as np\n",
    "\n",
    "\n",
    "\n",
    "# Uso solo dos variables para que sea fácil de visualizar\n",
    "df_iris_X = df_iris[['PetalLengthCm','PetalWidthCm']]\n",
    "df_iris_y = df_iris.Species\n",
    "\n",
    "# convert dataframe to numpy array\n",
    "df_iris_X = df_iris_X.to_numpy()\n",
    "df_iris_y = df_iris_y.astype('category').cat.codes\n",
    "\n",
    "# Fit on classifier\n",
    "tree_clf = DecisionTreeClassifier(max_depth=2)\n",
    "tree_clf.fit(df_iris_X, df_iris_y)\n",
    "\n",
    "plot_decision_boundary(tree_clf, df_iris_X, df_iris_y)"
   ]
  }
 ],
 "metadata": {
  "kernelspec": {
   "display_name": "kernel",
   "language": "python",
   "name": "kernel"
  },
  "language_info": {
   "codemirror_mode": {
    "name": "ipython",
    "version": 3
   },
   "file_extension": ".py",
   "mimetype": "text/x-python",
   "name": "python",
   "nbconvert_exporter": "python",
   "pygments_lexer": "ipython3",
   "version": "3.8.12"
  }
 },
 "nbformat": 4,
 "nbformat_minor": 1
}
