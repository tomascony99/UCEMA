{
 "cells": [
  {
   "cell_type": "code",
   "execution_count": 2,
   "metadata": {
    "collapsed": true,
    "pycharm": {
     "name": "#%%\n"
    }
   },
   "outputs": [],
   "source": [
    "import pandas as pd\n",
    "import os"
   ]
  },
  {
   "cell_type": "code",
   "execution_count": 5,
   "outputs": [
    {
     "data": {
      "text/plain": "'/Users/federicomoreno/PycharmProjects/UCEMA/04-transformaciones/ventas_comercial/'"
     },
     "execution_count": 5,
     "metadata": {},
     "output_type": "execute_result"
    }
   ],
   "source": [
    "path = os.getcwd() + '/ventas_comercial/'\n",
    "path"
   ],
   "metadata": {
    "collapsed": false,
    "pycharm": {
     "name": "#%%\n"
    }
   }
  },
  {
   "cell_type": "code",
   "execution_count": null,
   "outputs": [],
   "source": [
    "#create a dataframe"
   ],
   "metadata": {
    "collapsed": false,
    "pycharm": {
     "name": "#%%\n"
    }
   }
  },
  {
   "cell_type": "code",
   "execution_count": 6,
   "outputs": [],
   "source": [
    "import glob\n",
    "import os\n",
    "import pandas as pd\n"
   ],
   "metadata": {
    "collapsed": false,
    "pycharm": {
     "name": "#%%\n"
    }
   }
  },
  {
   "cell_type": "code",
   "execution_count": 7,
   "outputs": [
    {
     "data": {
      "text/plain": "'/Users/federicomoreno/PycharmProjects/UCEMA/04-transformaciones'"
     },
     "execution_count": 7,
     "metadata": {},
     "output_type": "execute_result"
    }
   ],
   "source": [
    "# Para listar los archivos de un directorio\n",
    "os.getcwd()\n"
   ],
   "metadata": {
    "collapsed": false,
    "pycharm": {
     "name": "#%%\n"
    }
   }
  },
  {
   "cell_type": "code",
   "execution_count": 8,
   "outputs": [
    {
     "name": "stdout",
     "output_type": "stream",
     "text": [
      "/Users/federicomoreno/PycharmProjects/UCEMA/04-transformaciones/ventas_comercial/King John.csv\n",
      "/Users/federicomoreno/PycharmProjects/UCEMA/04-transformaciones/ventas_comercial/Henry VIII.csv\n",
      "/Users/federicomoreno/PycharmProjects/UCEMA/04-transformaciones/ventas_comercial/Henry VI Part 2.csv\n",
      "/Users/federicomoreno/PycharmProjects/UCEMA/04-transformaciones/ventas_comercial/A Comedy of Errors.csv\n",
      "/Users/federicomoreno/PycharmProjects/UCEMA/04-transformaciones/ventas_comercial/Henry VI Part 3.csv\n",
      "/Users/federicomoreno/PycharmProjects/UCEMA/04-transformaciones/ventas_comercial/Timon of Athens.csv\n",
      "/Users/federicomoreno/PycharmProjects/UCEMA/04-transformaciones/ventas_comercial/A Winters Tale.csv\n",
      "/Users/federicomoreno/PycharmProjects/UCEMA/04-transformaciones/ventas_comercial/Henry VI Part 1.csv\n",
      "/Users/federicomoreno/PycharmProjects/UCEMA/04-transformaciones/ventas_comercial/Richard III.csv\n",
      "/Users/federicomoreno/PycharmProjects/UCEMA/04-transformaciones/ventas_comercial/Hamlet.csv\n",
      "/Users/federicomoreno/PycharmProjects/UCEMA/04-transformaciones/ventas_comercial/Romeo and Juliet.csv\n",
      "/Users/federicomoreno/PycharmProjects/UCEMA/04-transformaciones/ventas_comercial/Taming of the Shrew.csv\n",
      "/Users/federicomoreno/PycharmProjects/UCEMA/04-transformaciones/ventas_comercial/Measure for measure.csv\n",
      "/Users/federicomoreno/PycharmProjects/UCEMA/04-transformaciones/ventas_comercial/Antony and Cleopatra.csv\n",
      "/Users/federicomoreno/PycharmProjects/UCEMA/04-transformaciones/ventas_comercial/macbeth.csv\n",
      "/Users/federicomoreno/PycharmProjects/UCEMA/04-transformaciones/ventas_comercial/Julius Caesar.csv\n",
      "/Users/federicomoreno/PycharmProjects/UCEMA/04-transformaciones/ventas_comercial/Cymbeline.csv\n",
      "/Users/federicomoreno/PycharmProjects/UCEMA/04-transformaciones/ventas_comercial/Coriolanus.csv\n",
      "/Users/federicomoreno/PycharmProjects/UCEMA/04-transformaciones/ventas_comercial/As you like it.csv\n",
      "/Users/federicomoreno/PycharmProjects/UCEMA/04-transformaciones/ventas_comercial/Richard II.csv\n",
      "/Users/federicomoreno/PycharmProjects/UCEMA/04-transformaciones/ventas_comercial/Henry V.csv\n",
      "/Users/federicomoreno/PycharmProjects/UCEMA/04-transformaciones/ventas_comercial/The Tempest.csv\n",
      "/Users/federicomoreno/PycharmProjects/UCEMA/04-transformaciones/ventas_comercial/Alls well that ends well.csv\n",
      "/Users/federicomoreno/PycharmProjects/UCEMA/04-transformaciones/ventas_comercial/Much Ado about nothing.csv\n",
      "/Users/federicomoreno/PycharmProjects/UCEMA/04-transformaciones/ventas_comercial/Troilus and Cressida.csv\n",
      "/Users/federicomoreno/PycharmProjects/UCEMA/04-transformaciones/ventas_comercial/Loves Labours Lost.csv\n",
      "/Users/federicomoreno/PycharmProjects/UCEMA/04-transformaciones/ventas_comercial/Twelfth Night.csv\n",
      "/Users/federicomoreno/PycharmProjects/UCEMA/04-transformaciones/ventas_comercial/Two Gentlemen of Verona.csv\n",
      "/Users/federicomoreno/PycharmProjects/UCEMA/04-transformaciones/ventas_comercial/King Lear.csv\n",
      "/Users/federicomoreno/PycharmProjects/UCEMA/04-transformaciones/ventas_comercial/Pericles.csv\n",
      "/Users/federicomoreno/PycharmProjects/UCEMA/04-transformaciones/ventas_comercial/Henry IV.csv\n",
      "/Users/federicomoreno/PycharmProjects/UCEMA/04-transformaciones/ventas_comercial/A Midsummer nights dream.csv\n",
      "/Users/federicomoreno/PycharmProjects/UCEMA/04-transformaciones/ventas_comercial/Othello.csv\n",
      "/Users/federicomoreno/PycharmProjects/UCEMA/04-transformaciones/ventas_comercial/Titus Andronicus.csv\n",
      "/Users/federicomoreno/PycharmProjects/UCEMA/04-transformaciones/ventas_comercial/Merchant of Venice.csv\n",
      "/Users/federicomoreno/PycharmProjects/UCEMA/04-transformaciones/ventas_comercial/Merry Wives of Windsor.csv\n"
     ]
    }
   ],
   "source": [
    "path = os.getcwd() +  '/ventas_comercial/'\n",
    "for file in glob.glob(path+ \"/*.csv\"):\n",
    "    print(file)\n"
   ],
   "metadata": {
    "collapsed": false,
    "pycharm": {
     "name": "#%%\n"
    }
   }
  },
  {
   "cell_type": "code",
   "execution_count": 9,
   "outputs": [],
   "source": [
    "big_frame = pd.concat([pd.read_csv(f) for f in glob.glob(path + \"/*.csv\")],\n",
    "                      ignore_index=True)"
   ],
   "metadata": {
    "collapsed": false,
    "pycharm": {
     "name": "#%%\n"
    }
   }
  },
  {
   "cell_type": "code",
   "execution_count": 10,
   "outputs": [
    {
     "data": {
      "text/plain": "   Unnamed: 0  Dataline       Play  PlayerLinenumber ActSceneLine  \\\n0       43490     43491  King John              11.0       5.5.97   \n1       43491     43492  King John              11.0       5.5.97   \n2       43492     43493  King John              11.0          NaN   \n3       43493     43494  King John               1.0        1.1.1   \n4       43494     43495  King John               2.0        1.1.2   \n\n            Player                                         PlayerLine  \n0  KING HENRY VIII                                              ACT I  \n1  KING HENRY VIII                       SCENE I. KING JOHN'S palace.  \n2  KING HENRY VIII  Enter KING JOHN, QUEEN ELINOR, PEMBROKE, ESSEX...  \n3        KING JOHN    Now, say, Chatillon, what would France with us?  \n4        CHATILLON    Thus, after greeting, speaks the King of France  ",
      "text/html": "<div>\n<style scoped>\n    .dataframe tbody tr th:only-of-type {\n        vertical-align: middle;\n    }\n\n    .dataframe tbody tr th {\n        vertical-align: top;\n    }\n\n    .dataframe thead th {\n        text-align: right;\n    }\n</style>\n<table border=\"1\" class=\"dataframe\">\n  <thead>\n    <tr style=\"text-align: right;\">\n      <th></th>\n      <th>Unnamed: 0</th>\n      <th>Dataline</th>\n      <th>Play</th>\n      <th>PlayerLinenumber</th>\n      <th>ActSceneLine</th>\n      <th>Player</th>\n      <th>PlayerLine</th>\n    </tr>\n  </thead>\n  <tbody>\n    <tr>\n      <th>0</th>\n      <td>43490</td>\n      <td>43491</td>\n      <td>King John</td>\n      <td>11.0</td>\n      <td>5.5.97</td>\n      <td>KING HENRY VIII</td>\n      <td>ACT I</td>\n    </tr>\n    <tr>\n      <th>1</th>\n      <td>43491</td>\n      <td>43492</td>\n      <td>King John</td>\n      <td>11.0</td>\n      <td>5.5.97</td>\n      <td>KING HENRY VIII</td>\n      <td>SCENE I. KING JOHN'S palace.</td>\n    </tr>\n    <tr>\n      <th>2</th>\n      <td>43492</td>\n      <td>43493</td>\n      <td>King John</td>\n      <td>11.0</td>\n      <td>NaN</td>\n      <td>KING HENRY VIII</td>\n      <td>Enter KING JOHN, QUEEN ELINOR, PEMBROKE, ESSEX...</td>\n    </tr>\n    <tr>\n      <th>3</th>\n      <td>43493</td>\n      <td>43494</td>\n      <td>King John</td>\n      <td>1.0</td>\n      <td>1.1.1</td>\n      <td>KING JOHN</td>\n      <td>Now, say, Chatillon, what would France with us?</td>\n    </tr>\n    <tr>\n      <th>4</th>\n      <td>43494</td>\n      <td>43495</td>\n      <td>King John</td>\n      <td>2.0</td>\n      <td>1.1.2</td>\n      <td>CHATILLON</td>\n      <td>Thus, after greeting, speaks the King of France</td>\n    </tr>\n  </tbody>\n</table>\n</div>"
     },
     "execution_count": 10,
     "metadata": {},
     "output_type": "execute_result"
    }
   ],
   "source": [
    "big_frame.head()\n"
   ],
   "metadata": {
    "collapsed": false,
    "pycharm": {
     "name": "#%%\n"
    }
   }
  },
  {
   "cell_type": "code",
   "execution_count": 11,
   "outputs": [
    {
     "data": {
      "text/plain": "(111396, 7)"
     },
     "execution_count": 11,
     "metadata": {},
     "output_type": "execute_result"
    }
   ],
   "source": [
    "big_frame.shape"
   ],
   "metadata": {
    "collapsed": false,
    "pycharm": {
     "name": "#%%\n"
    }
   }
  },
  {
   "cell_type": "code",
   "execution_count": 12,
   "outputs": [
    {
     "data": {
      "text/plain": "          Unnamed: 0       Dataline  PlayerLinenumber\ncount  111396.000000  111396.000000     111393.000000\nmean    55697.500000   55698.500000         36.885334\nstd     32157.399631   32157.399631         39.985840\nmin         0.000000       1.000000          1.000000\n25%     27848.750000   27849.750000         10.000000\n50%     55697.500000   55698.500000         25.000000\n75%     83546.250000   83547.250000         50.000000\nmax    111395.000000  111396.000000        405.000000",
      "text/html": "<div>\n<style scoped>\n    .dataframe tbody tr th:only-of-type {\n        vertical-align: middle;\n    }\n\n    .dataframe tbody tr th {\n        vertical-align: top;\n    }\n\n    .dataframe thead th {\n        text-align: right;\n    }\n</style>\n<table border=\"1\" class=\"dataframe\">\n  <thead>\n    <tr style=\"text-align: right;\">\n      <th></th>\n      <th>Unnamed: 0</th>\n      <th>Dataline</th>\n      <th>PlayerLinenumber</th>\n    </tr>\n  </thead>\n  <tbody>\n    <tr>\n      <th>count</th>\n      <td>111396.000000</td>\n      <td>111396.000000</td>\n      <td>111393.000000</td>\n    </tr>\n    <tr>\n      <th>mean</th>\n      <td>55697.500000</td>\n      <td>55698.500000</td>\n      <td>36.885334</td>\n    </tr>\n    <tr>\n      <th>std</th>\n      <td>32157.399631</td>\n      <td>32157.399631</td>\n      <td>39.985840</td>\n    </tr>\n    <tr>\n      <th>min</th>\n      <td>0.000000</td>\n      <td>1.000000</td>\n      <td>1.000000</td>\n    </tr>\n    <tr>\n      <th>25%</th>\n      <td>27848.750000</td>\n      <td>27849.750000</td>\n      <td>10.000000</td>\n    </tr>\n    <tr>\n      <th>50%</th>\n      <td>55697.500000</td>\n      <td>55698.500000</td>\n      <td>25.000000</td>\n    </tr>\n    <tr>\n      <th>75%</th>\n      <td>83546.250000</td>\n      <td>83547.250000</td>\n      <td>50.000000</td>\n    </tr>\n    <tr>\n      <th>max</th>\n      <td>111395.000000</td>\n      <td>111396.000000</td>\n      <td>405.000000</td>\n    </tr>\n  </tbody>\n</table>\n</div>"
     },
     "execution_count": 12,
     "metadata": {},
     "output_type": "execute_result"
    }
   ],
   "source": [
    "big_frame.describe()"
   ],
   "metadata": {
    "collapsed": false,
    "pycharm": {
     "name": "#%%\n"
    }
   }
  },
  {
   "cell_type": "code",
   "execution_count": 13,
   "outputs": [
    {
     "name": "stdout",
     "output_type": "stream",
     "text": [
      "<class 'pandas.core.frame.DataFrame'>\n",
      "RangeIndex: 111396 entries, 0 to 111395\n",
      "Data columns (total 7 columns):\n",
      " #   Column            Non-Null Count   Dtype  \n",
      "---  ------            --------------   -----  \n",
      " 0   Unnamed: 0        111396 non-null  int64  \n",
      " 1   Dataline          111396 non-null  int64  \n",
      " 2   Play              111396 non-null  object \n",
      " 3   PlayerLinenumber  111393 non-null  float64\n",
      " 4   ActSceneLine      105153 non-null  object \n",
      " 5   Player            111389 non-null  object \n",
      " 6   PlayerLine        111396 non-null  object \n",
      "dtypes: float64(1), int64(2), object(4)\n",
      "memory usage: 5.9+ MB\n"
     ]
    }
   ],
   "source": [
    "big_frame.info()"
   ],
   "metadata": {
    "collapsed": false,
    "pycharm": {
     "name": "#%%\n"
    }
   }
  },
  {
   "cell_type": "code",
   "execution_count": 14,
   "outputs": [
    {
     "data": {
      "text/plain": "Unnamed: 0             0\nDataline               0\nPlay                   0\nPlayerLinenumber       3\nActSceneLine        6243\nPlayer                 7\nPlayerLine             0\ndtype: int64"
     },
     "execution_count": 14,
     "metadata": {},
     "output_type": "execute_result"
    }
   ],
   "source": [
    "big_frame.isnull().sum()"
   ],
   "metadata": {
    "collapsed": false,
    "pycharm": {
     "name": "#%%\n"
    }
   }
  },
  {
   "cell_type": "code",
   "execution_count": 15,
   "outputs": [
    {
     "data": {
      "text/plain": "Unnamed: 0             0\nDataline               0\nPlay                   0\nPlayerLinenumber       3\nActSceneLine        6243\nPlayer                 7\nPlayerLine             0\ndtype: int64"
     },
     "execution_count": 15,
     "metadata": {},
     "output_type": "execute_result"
    }
   ],
   "source": [
    "big_frame.isna().sum()"
   ],
   "metadata": {
    "collapsed": false,
    "pycharm": {
     "name": "#%%\n"
    }
   }
  },
  {
   "cell_type": "code",
   "execution_count": 16,
   "outputs": [
    {
     "data": {
      "text/plain": "6253"
     },
     "execution_count": 16,
     "metadata": {},
     "output_type": "execute_result"
    }
   ],
   "source": [
    "big_frame.isna().sum().sum()"
   ],
   "metadata": {
    "collapsed": false,
    "pycharm": {
     "name": "#%%\n"
    }
   }
  },
  {
   "cell_type": "code",
   "execution_count": 17,
   "outputs": [
    {
     "data": {
      "text/plain": "0.05613307479622249"
     },
     "execution_count": 17,
     "metadata": {},
     "output_type": "execute_result"
    }
   ],
   "source": [
    "big_frame.isna().sum().sum() / big_frame.shape[0]"
   ],
   "metadata": {
    "collapsed": false,
    "pycharm": {
     "name": "#%%\n"
    }
   }
  },
  {
   "cell_type": "code",
   "execution_count": 18,
   "outputs": [
    {
     "data": {
      "text/plain": "5.613307479622249"
     },
     "execution_count": 18,
     "metadata": {},
     "output_type": "execute_result"
    }
   ],
   "source": [
    "big_frame.isna().sum().sum() / big_frame.shape[0] * 100"
   ],
   "metadata": {
    "collapsed": false,
    "pycharm": {
     "name": "#%%\n"
    }
   }
  },
  {
   "cell_type": "code",
   "execution_count": 19,
   "outputs": [
    {
     "data": {
      "text/plain": "Hamlet                      4244\nCoriolanus                  3992\nCymbeline                   3958\nRichard III                 3941\nAntony and Cleopatra        3862\nKing Lear                   3766\nOthello                     3762\nTroilus and Cressida        3711\nA Winters Tale              3489\nHenry VIII                  3419\nHenry V                     3395\nHenry VI Part 2             3334\nRomeo and Juliet            3313\nHenry IV                    3205\nHenry VI Part 3             3138\nAlls well that ends well    3083\nMeasure for measure         2998\nLoves Labours Lost          2986\nHenry VI Part 1             2983\nRichard II                  2937\nMerry Wives of Windsor      2831\nAs you like it              2822\nTaming of the Shrew         2806\nMerchant of Venice          2802\nJulius Caesar               2771\nKing John                   2766\nTitus Andronicus            2726\nMuch Ado about nothing      2704\nTimon of Athens             2662\nTwelfth Night               2648\nPericles                    2641\nmacbeth                     2586\nThe Tempest                 2403\nTwo Gentlemen of Verona     2357\nA Midsummer nights dream    2300\nA Comedy of Errors          2055\nName: Play, dtype: int64"
     },
     "execution_count": 19,
     "metadata": {},
     "output_type": "execute_result"
    }
   ],
   "source": [
    "big_frame['Play'].value_counts()"
   ],
   "metadata": {
    "collapsed": false,
    "pycharm": {
     "name": "#%%\n"
    }
   }
  },
  {
   "cell_type": "code",
   "execution_count": 20,
   "outputs": [
    {
     "data": {
      "text/plain": "2488"
     },
     "execution_count": 20,
     "metadata": {},
     "output_type": "execute_result"
    }
   ],
   "source": [
    "big_frame.PlayerLine.str.contains('[Kk]ing').sum()"
   ],
   "metadata": {
    "collapsed": false,
    "pycharm": {
     "name": "#%%\n"
    }
   }
  },
  {
   "cell_type": "code",
   "execution_count": 21,
   "outputs": [
    {
     "data": {
      "text/plain": "Index(['Unnamed: 0', 'Dataline', 'Play', 'PlayerLinenumber', 'ActSceneLine',\n       'Player', 'PlayerLine'],\n      dtype='object')"
     },
     "execution_count": 21,
     "metadata": {},
     "output_type": "execute_result"
    }
   ],
   "source": [
    "big_frame.columns\n"
   ],
   "metadata": {
    "collapsed": false,
    "pycharm": {
     "name": "#%%\n"
    }
   }
  },
  {
   "cell_type": "code",
   "execution_count": 22,
   "outputs": [
    {
     "data": {
      "text/plain": "0         False\n1         False\n2         False\n3         False\n4         False\n          ...  \n111391    False\n111392    False\n111393    False\n111394    False\n111395    False\nName: PlayerLine, Length: 111396, dtype: bool"
     },
     "execution_count": 22,
     "metadata": {},
     "output_type": "execute_result"
    }
   ],
   "source": [
    "#Aparece o no aparece la palabra Love en una columna\n",
    "big_frame.PlayerLine.str.contains('[Ll]ove')"
   ],
   "metadata": {
    "collapsed": false,
    "pycharm": {
     "name": "#%%\n"
    }
   }
  },
  {
   "cell_type": "code",
   "execution_count": 23,
   "outputs": [
    {
     "data": {
      "text/plain": "0         0\n1         0\n2         0\n3         0\n4         0\n         ..\n111391    0\n111392    0\n111393    0\n111394    0\n111395    0\nName: PlayerLine, Length: 111396, dtype: int64"
     },
     "execution_count": 23,
     "metadata": {},
     "output_type": "execute_result"
    }
   ],
   "source": [
    "#cuantas veces aparece la palabra Love en una columna\n",
    "big_frame.PlayerLine.str.count('[Ll]ove')"
   ],
   "metadata": {
    "collapsed": false,
    "pycharm": {
     "name": "#%%\n"
    }
   }
  },
  {
   "cell_type": "code",
   "execution_count": 24,
   "outputs": [],
   "source": [
    "#crear una columna con True o False para saber si aparecio la palabra Love\n",
    "big_frame['Love'] = big_frame.PlayerLine.str.contains('[Ll]ove')"
   ],
   "metadata": {
    "collapsed": false,
    "pycharm": {
     "name": "#%%\n"
    }
   }
  },
  {
   "cell_type": "code",
   "execution_count": 25,
   "outputs": [
    {
     "data": {
      "text/plain": "Play                      Love \nA Comedy of Errors        False    2035\n                          True       20\nA Midsummer nights dream  False    2143\n                          True      157\nA Winters Tale            False    3443\n                                   ... \nTwelfth Night             True       93\nTwo Gentlemen of Verona   False    2159\n                          True      198\nmacbeth                   False    2561\n                          True       25\nName: Love, Length: 72, dtype: int64"
     },
     "execution_count": 25,
     "metadata": {},
     "output_type": "execute_result"
    }
   ],
   "source": [
    "#cuantas veces aparece la palabra Love en una columna\n",
    "big_frame.groupby('Play').Love.value_counts()"
   ],
   "metadata": {
    "collapsed": false,
    "pycharm": {
     "name": "#%%\n"
    }
   }
  },
  {
   "cell_type": "code",
   "execution_count": 26,
   "outputs": [],
   "source": [
    "#Quedarme solo con Love=True y ordenarlo por Play\n",
    "love_df = big_frame[big_frame.Love == True]"
   ],
   "metadata": {
    "collapsed": false,
    "pycharm": {
     "name": "#%%\n"
    }
   }
  },
  {
   "cell_type": "code",
   "execution_count": 27,
   "outputs": [
    {
     "data": {
      "text/plain": "Play                      Love\nA Comedy of Errors        True     20\nA Midsummer nights dream  True    157\nA Winters Tale            True     46\nAlls well that ends well  True     80\nAntony and Cleopatra      True     59\nAs you like it            True    153\nCoriolanus                True     59\nCymbeline                 True     48\nHamlet                    True     80\nHenry IV                  True     37\nHenry V                   True     67\nHenry VI Part 1           True     27\nHenry VI Part 2           True     32\nHenry VI Part 3           True     50\nHenry VIII                True     52\nJulius Caesar             True     56\nKing John                 True     47\nKing Lear                 True     73\nLoves Labours Lost        True    126\nMeasure for measure       True     32\nMerchant of Venice        True     71\nMerry Wives of Windsor    True     61\nMuch Ado about nothing    True    119\nOthello                   True    107\nPericles                  True     35\nRichard II                True     36\nRichard III               True     81\nRomeo and Juliet          True    161\nTaming of the Shrew       True     79\nThe Tempest               True     23\nTimon of Athens           True     51\nTitus Andronicus          True     43\nTroilus and Cressida      True     91\nTwelfth Night             True     93\nTwo Gentlemen of Verona   True    198\nmacbeth                   True     25\nName: Love, dtype: int64"
     },
     "execution_count": 27,
     "metadata": {},
     "output_type": "execute_result"
    }
   ],
   "source": [
    "love_df.groupby('Play').Love.value_counts()"
   ],
   "metadata": {
    "collapsed": false,
    "pycharm": {
     "name": "#%%\n"
    }
   }
  },
  {
   "cell_type": "code",
   "execution_count": 28,
   "outputs": [
    {
     "data": {
      "text/plain": "                          count      mean\nPlay                                     \nA Comedy of Errors         2055  0.009732\nA Midsummer nights dream   2300  0.068261\nA Winters Tale             3489  0.013184\nAlls well that ends well   3083  0.025949\nAntony and Cleopatra       3862  0.015277\nAs you like it             2822  0.054217\nCoriolanus                 3992  0.014780\nCymbeline                  3958  0.012127\nHamlet                     4244  0.018850\nHenry IV                   3205  0.011544\nHenry V                    3395  0.019735\nHenry VI Part 1            2983  0.009051\nHenry VI Part 2            3334  0.009598\nHenry VI Part 3            3138  0.015934\nHenry VIII                 3419  0.015209\nJulius Caesar              2771  0.020209\nKing John                  2766  0.016992\nKing Lear                  3766  0.019384\nLoves Labours Lost         2986  0.042197\nMeasure for measure        2998  0.010674\nMerchant of Venice         2802  0.025339\nMerry Wives of Windsor     2831  0.021547\nMuch Ado about nothing     2704  0.044009\nOthello                    3762  0.028442\nPericles                   2641  0.013253\nRichard II                 2937  0.012257\nRichard III                3941  0.020553\nRomeo and Juliet           3313  0.048596\nTaming of the Shrew        2806  0.028154\nThe Tempest                2403  0.009571\nTimon of Athens            2662  0.019159\nTitus Andronicus           2726  0.015774\nTroilus and Cressida       3711  0.024522\nTwelfth Night              2648  0.035121\nTwo Gentlemen of Verona    2357  0.084005\nmacbeth                    2586  0.009667",
      "text/html": "<div>\n<style scoped>\n    .dataframe tbody tr th:only-of-type {\n        vertical-align: middle;\n    }\n\n    .dataframe tbody tr th {\n        vertical-align: top;\n    }\n\n    .dataframe thead th {\n        text-align: right;\n    }\n</style>\n<table border=\"1\" class=\"dataframe\">\n  <thead>\n    <tr style=\"text-align: right;\">\n      <th></th>\n      <th>count</th>\n      <th>mean</th>\n    </tr>\n    <tr>\n      <th>Play</th>\n      <th></th>\n      <th></th>\n    </tr>\n  </thead>\n  <tbody>\n    <tr>\n      <th>A Comedy of Errors</th>\n      <td>2055</td>\n      <td>0.009732</td>\n    </tr>\n    <tr>\n      <th>A Midsummer nights dream</th>\n      <td>2300</td>\n      <td>0.068261</td>\n    </tr>\n    <tr>\n      <th>A Winters Tale</th>\n      <td>3489</td>\n      <td>0.013184</td>\n    </tr>\n    <tr>\n      <th>Alls well that ends well</th>\n      <td>3083</td>\n      <td>0.025949</td>\n    </tr>\n    <tr>\n      <th>Antony and Cleopatra</th>\n      <td>3862</td>\n      <td>0.015277</td>\n    </tr>\n    <tr>\n      <th>As you like it</th>\n      <td>2822</td>\n      <td>0.054217</td>\n    </tr>\n    <tr>\n      <th>Coriolanus</th>\n      <td>3992</td>\n      <td>0.014780</td>\n    </tr>\n    <tr>\n      <th>Cymbeline</th>\n      <td>3958</td>\n      <td>0.012127</td>\n    </tr>\n    <tr>\n      <th>Hamlet</th>\n      <td>4244</td>\n      <td>0.018850</td>\n    </tr>\n    <tr>\n      <th>Henry IV</th>\n      <td>3205</td>\n      <td>0.011544</td>\n    </tr>\n    <tr>\n      <th>Henry V</th>\n      <td>3395</td>\n      <td>0.019735</td>\n    </tr>\n    <tr>\n      <th>Henry VI Part 1</th>\n      <td>2983</td>\n      <td>0.009051</td>\n    </tr>\n    <tr>\n      <th>Henry VI Part 2</th>\n      <td>3334</td>\n      <td>0.009598</td>\n    </tr>\n    <tr>\n      <th>Henry VI Part 3</th>\n      <td>3138</td>\n      <td>0.015934</td>\n    </tr>\n    <tr>\n      <th>Henry VIII</th>\n      <td>3419</td>\n      <td>0.015209</td>\n    </tr>\n    <tr>\n      <th>Julius Caesar</th>\n      <td>2771</td>\n      <td>0.020209</td>\n    </tr>\n    <tr>\n      <th>King John</th>\n      <td>2766</td>\n      <td>0.016992</td>\n    </tr>\n    <tr>\n      <th>King Lear</th>\n      <td>3766</td>\n      <td>0.019384</td>\n    </tr>\n    <tr>\n      <th>Loves Labours Lost</th>\n      <td>2986</td>\n      <td>0.042197</td>\n    </tr>\n    <tr>\n      <th>Measure for measure</th>\n      <td>2998</td>\n      <td>0.010674</td>\n    </tr>\n    <tr>\n      <th>Merchant of Venice</th>\n      <td>2802</td>\n      <td>0.025339</td>\n    </tr>\n    <tr>\n      <th>Merry Wives of Windsor</th>\n      <td>2831</td>\n      <td>0.021547</td>\n    </tr>\n    <tr>\n      <th>Much Ado about nothing</th>\n      <td>2704</td>\n      <td>0.044009</td>\n    </tr>\n    <tr>\n      <th>Othello</th>\n      <td>3762</td>\n      <td>0.028442</td>\n    </tr>\n    <tr>\n      <th>Pericles</th>\n      <td>2641</td>\n      <td>0.013253</td>\n    </tr>\n    <tr>\n      <th>Richard II</th>\n      <td>2937</td>\n      <td>0.012257</td>\n    </tr>\n    <tr>\n      <th>Richard III</th>\n      <td>3941</td>\n      <td>0.020553</td>\n    </tr>\n    <tr>\n      <th>Romeo and Juliet</th>\n      <td>3313</td>\n      <td>0.048596</td>\n    </tr>\n    <tr>\n      <th>Taming of the Shrew</th>\n      <td>2806</td>\n      <td>0.028154</td>\n    </tr>\n    <tr>\n      <th>The Tempest</th>\n      <td>2403</td>\n      <td>0.009571</td>\n    </tr>\n    <tr>\n      <th>Timon of Athens</th>\n      <td>2662</td>\n      <td>0.019159</td>\n    </tr>\n    <tr>\n      <th>Titus Andronicus</th>\n      <td>2726</td>\n      <td>0.015774</td>\n    </tr>\n    <tr>\n      <th>Troilus and Cressida</th>\n      <td>3711</td>\n      <td>0.024522</td>\n    </tr>\n    <tr>\n      <th>Twelfth Night</th>\n      <td>2648</td>\n      <td>0.035121</td>\n    </tr>\n    <tr>\n      <th>Two Gentlemen of Verona</th>\n      <td>2357</td>\n      <td>0.084005</td>\n    </tr>\n    <tr>\n      <th>macbeth</th>\n      <td>2586</td>\n      <td>0.009667</td>\n    </tr>\n  </tbody>\n</table>\n</div>"
     },
     "execution_count": 28,
     "metadata": {},
     "output_type": "execute_result"
    }
   ],
   "source": [
    "big_frame.groupby('Play').Love.agg(['count', 'mean'])"
   ],
   "metadata": {
    "collapsed": false,
    "pycharm": {
     "name": "#%%\n"
    }
   }
  },
  {
   "cell_type": "code",
   "execution_count": 29,
   "outputs": [
    {
     "data": {
      "text/plain": "                          count      mean\nPlay                                     \nTwo Gentlemen of Verona    2357  0.084005\nA Midsummer nights dream   2300  0.068261\nAs you like it             2822  0.054217\nRomeo and Juliet           3313  0.048596\nMuch Ado about nothing     2704  0.044009\nLoves Labours Lost         2986  0.042197\nTwelfth Night              2648  0.035121\nOthello                    3762  0.028442\nTaming of the Shrew        2806  0.028154\nAlls well that ends well   3083  0.025949\nMerchant of Venice         2802  0.025339\nTroilus and Cressida       3711  0.024522\nMerry Wives of Windsor     2831  0.021547\nRichard III                3941  0.020553\nJulius Caesar              2771  0.020209\nHenry V                    3395  0.019735\nKing Lear                  3766  0.019384\nTimon of Athens            2662  0.019159\nHamlet                     4244  0.018850\nKing John                  2766  0.016992\nHenry VI Part 3            3138  0.015934\nTitus Andronicus           2726  0.015774\nAntony and Cleopatra       3862  0.015277\nHenry VIII                 3419  0.015209\nCoriolanus                 3992  0.014780\nPericles                   2641  0.013253\nA Winters Tale             3489  0.013184\nRichard II                 2937  0.012257\nCymbeline                  3958  0.012127\nHenry IV                   3205  0.011544\nMeasure for measure        2998  0.010674\nA Comedy of Errors         2055  0.009732\nmacbeth                    2586  0.009667\nHenry VI Part 2            3334  0.009598\nThe Tempest                2403  0.009571\nHenry VI Part 1            2983  0.009051",
      "text/html": "<div>\n<style scoped>\n    .dataframe tbody tr th:only-of-type {\n        vertical-align: middle;\n    }\n\n    .dataframe tbody tr th {\n        vertical-align: top;\n    }\n\n    .dataframe thead th {\n        text-align: right;\n    }\n</style>\n<table border=\"1\" class=\"dataframe\">\n  <thead>\n    <tr style=\"text-align: right;\">\n      <th></th>\n      <th>count</th>\n      <th>mean</th>\n    </tr>\n    <tr>\n      <th>Play</th>\n      <th></th>\n      <th></th>\n    </tr>\n  </thead>\n  <tbody>\n    <tr>\n      <th>Two Gentlemen of Verona</th>\n      <td>2357</td>\n      <td>0.084005</td>\n    </tr>\n    <tr>\n      <th>A Midsummer nights dream</th>\n      <td>2300</td>\n      <td>0.068261</td>\n    </tr>\n    <tr>\n      <th>As you like it</th>\n      <td>2822</td>\n      <td>0.054217</td>\n    </tr>\n    <tr>\n      <th>Romeo and Juliet</th>\n      <td>3313</td>\n      <td>0.048596</td>\n    </tr>\n    <tr>\n      <th>Much Ado about nothing</th>\n      <td>2704</td>\n      <td>0.044009</td>\n    </tr>\n    <tr>\n      <th>Loves Labours Lost</th>\n      <td>2986</td>\n      <td>0.042197</td>\n    </tr>\n    <tr>\n      <th>Twelfth Night</th>\n      <td>2648</td>\n      <td>0.035121</td>\n    </tr>\n    <tr>\n      <th>Othello</th>\n      <td>3762</td>\n      <td>0.028442</td>\n    </tr>\n    <tr>\n      <th>Taming of the Shrew</th>\n      <td>2806</td>\n      <td>0.028154</td>\n    </tr>\n    <tr>\n      <th>Alls well that ends well</th>\n      <td>3083</td>\n      <td>0.025949</td>\n    </tr>\n    <tr>\n      <th>Merchant of Venice</th>\n      <td>2802</td>\n      <td>0.025339</td>\n    </tr>\n    <tr>\n      <th>Troilus and Cressida</th>\n      <td>3711</td>\n      <td>0.024522</td>\n    </tr>\n    <tr>\n      <th>Merry Wives of Windsor</th>\n      <td>2831</td>\n      <td>0.021547</td>\n    </tr>\n    <tr>\n      <th>Richard III</th>\n      <td>3941</td>\n      <td>0.020553</td>\n    </tr>\n    <tr>\n      <th>Julius Caesar</th>\n      <td>2771</td>\n      <td>0.020209</td>\n    </tr>\n    <tr>\n      <th>Henry V</th>\n      <td>3395</td>\n      <td>0.019735</td>\n    </tr>\n    <tr>\n      <th>King Lear</th>\n      <td>3766</td>\n      <td>0.019384</td>\n    </tr>\n    <tr>\n      <th>Timon of Athens</th>\n      <td>2662</td>\n      <td>0.019159</td>\n    </tr>\n    <tr>\n      <th>Hamlet</th>\n      <td>4244</td>\n      <td>0.018850</td>\n    </tr>\n    <tr>\n      <th>King John</th>\n      <td>2766</td>\n      <td>0.016992</td>\n    </tr>\n    <tr>\n      <th>Henry VI Part 3</th>\n      <td>3138</td>\n      <td>0.015934</td>\n    </tr>\n    <tr>\n      <th>Titus Andronicus</th>\n      <td>2726</td>\n      <td>0.015774</td>\n    </tr>\n    <tr>\n      <th>Antony and Cleopatra</th>\n      <td>3862</td>\n      <td>0.015277</td>\n    </tr>\n    <tr>\n      <th>Henry VIII</th>\n      <td>3419</td>\n      <td>0.015209</td>\n    </tr>\n    <tr>\n      <th>Coriolanus</th>\n      <td>3992</td>\n      <td>0.014780</td>\n    </tr>\n    <tr>\n      <th>Pericles</th>\n      <td>2641</td>\n      <td>0.013253</td>\n    </tr>\n    <tr>\n      <th>A Winters Tale</th>\n      <td>3489</td>\n      <td>0.013184</td>\n    </tr>\n    <tr>\n      <th>Richard II</th>\n      <td>2937</td>\n      <td>0.012257</td>\n    </tr>\n    <tr>\n      <th>Cymbeline</th>\n      <td>3958</td>\n      <td>0.012127</td>\n    </tr>\n    <tr>\n      <th>Henry IV</th>\n      <td>3205</td>\n      <td>0.011544</td>\n    </tr>\n    <tr>\n      <th>Measure for measure</th>\n      <td>2998</td>\n      <td>0.010674</td>\n    </tr>\n    <tr>\n      <th>A Comedy of Errors</th>\n      <td>2055</td>\n      <td>0.009732</td>\n    </tr>\n    <tr>\n      <th>macbeth</th>\n      <td>2586</td>\n      <td>0.009667</td>\n    </tr>\n    <tr>\n      <th>Henry VI Part 2</th>\n      <td>3334</td>\n      <td>0.009598</td>\n    </tr>\n    <tr>\n      <th>The Tempest</th>\n      <td>2403</td>\n      <td>0.009571</td>\n    </tr>\n    <tr>\n      <th>Henry VI Part 1</th>\n      <td>2983</td>\n      <td>0.009051</td>\n    </tr>\n  </tbody>\n</table>\n</div>"
     },
     "execution_count": 29,
     "metadata": {},
     "output_type": "execute_result"
    }
   ],
   "source": [
    "#ordenar agrupado por obras el promedio de veces que aparecio la palabra Love\n",
    "big_frame.groupby('Play').Love.agg(['count', 'mean']).sort_values('mean', ascending=False)"
   ],
   "metadata": {
    "collapsed": false,
    "pycharm": {
     "name": "#%%\n"
    }
   }
  },
  {
   "cell_type": "code",
   "execution_count": 30,
   "outputs": [
    {
     "data": {
      "text/plain": "                          count  mean\nPlay                                 \nA Comedy of Errors           20   1.0\nA Midsummer nights dream    157   1.0\nMerchant of Venice           71   1.0\nMerry Wives of Windsor       61   1.0\nMuch Ado about nothing      119   1.0\nOthello                     107   1.0\nPericles                     35   1.0\nRichard II                   36   1.0\nRichard III                  81   1.0\nRomeo and Juliet            161   1.0\nTaming of the Shrew          79   1.0\nThe Tempest                  23   1.0\nTimon of Athens              51   1.0\nTitus Andronicus             43   1.0\nTroilus and Cressida         91   1.0\nTwelfth Night                93   1.0\nTwo Gentlemen of Verona     198   1.0\nMeasure for measure          32   1.0\nLoves Labours Lost          126   1.0\nKing Lear                    73   1.0\nHamlet                       80   1.0\nA Winters Tale               46   1.0\nAlls well that ends well     80   1.0\nAntony and Cleopatra         59   1.0\nAs you like it              153   1.0\nCoriolanus                   59   1.0\nCymbeline                    48   1.0\nHenry IV                     37   1.0\nKing John                    47   1.0\nHenry V                      67   1.0\nHenry VI Part 1              27   1.0\nHenry VI Part 2              32   1.0\nHenry VI Part 3              50   1.0\nHenry VIII                   52   1.0\nJulius Caesar                56   1.0\nmacbeth                      25   1.0",
      "text/html": "<div>\n<style scoped>\n    .dataframe tbody tr th:only-of-type {\n        vertical-align: middle;\n    }\n\n    .dataframe tbody tr th {\n        vertical-align: top;\n    }\n\n    .dataframe thead th {\n        text-align: right;\n    }\n</style>\n<table border=\"1\" class=\"dataframe\">\n  <thead>\n    <tr style=\"text-align: right;\">\n      <th></th>\n      <th>count</th>\n      <th>mean</th>\n    </tr>\n    <tr>\n      <th>Play</th>\n      <th></th>\n      <th></th>\n    </tr>\n  </thead>\n  <tbody>\n    <tr>\n      <th>A Comedy of Errors</th>\n      <td>20</td>\n      <td>1.0</td>\n    </tr>\n    <tr>\n      <th>A Midsummer nights dream</th>\n      <td>157</td>\n      <td>1.0</td>\n    </tr>\n    <tr>\n      <th>Merchant of Venice</th>\n      <td>71</td>\n      <td>1.0</td>\n    </tr>\n    <tr>\n      <th>Merry Wives of Windsor</th>\n      <td>61</td>\n      <td>1.0</td>\n    </tr>\n    <tr>\n      <th>Much Ado about nothing</th>\n      <td>119</td>\n      <td>1.0</td>\n    </tr>\n    <tr>\n      <th>Othello</th>\n      <td>107</td>\n      <td>1.0</td>\n    </tr>\n    <tr>\n      <th>Pericles</th>\n      <td>35</td>\n      <td>1.0</td>\n    </tr>\n    <tr>\n      <th>Richard II</th>\n      <td>36</td>\n      <td>1.0</td>\n    </tr>\n    <tr>\n      <th>Richard III</th>\n      <td>81</td>\n      <td>1.0</td>\n    </tr>\n    <tr>\n      <th>Romeo and Juliet</th>\n      <td>161</td>\n      <td>1.0</td>\n    </tr>\n    <tr>\n      <th>Taming of the Shrew</th>\n      <td>79</td>\n      <td>1.0</td>\n    </tr>\n    <tr>\n      <th>The Tempest</th>\n      <td>23</td>\n      <td>1.0</td>\n    </tr>\n    <tr>\n      <th>Timon of Athens</th>\n      <td>51</td>\n      <td>1.0</td>\n    </tr>\n    <tr>\n      <th>Titus Andronicus</th>\n      <td>43</td>\n      <td>1.0</td>\n    </tr>\n    <tr>\n      <th>Troilus and Cressida</th>\n      <td>91</td>\n      <td>1.0</td>\n    </tr>\n    <tr>\n      <th>Twelfth Night</th>\n      <td>93</td>\n      <td>1.0</td>\n    </tr>\n    <tr>\n      <th>Two Gentlemen of Verona</th>\n      <td>198</td>\n      <td>1.0</td>\n    </tr>\n    <tr>\n      <th>Measure for measure</th>\n      <td>32</td>\n      <td>1.0</td>\n    </tr>\n    <tr>\n      <th>Loves Labours Lost</th>\n      <td>126</td>\n      <td>1.0</td>\n    </tr>\n    <tr>\n      <th>King Lear</th>\n      <td>73</td>\n      <td>1.0</td>\n    </tr>\n    <tr>\n      <th>Hamlet</th>\n      <td>80</td>\n      <td>1.0</td>\n    </tr>\n    <tr>\n      <th>A Winters Tale</th>\n      <td>46</td>\n      <td>1.0</td>\n    </tr>\n    <tr>\n      <th>Alls well that ends well</th>\n      <td>80</td>\n      <td>1.0</td>\n    </tr>\n    <tr>\n      <th>Antony and Cleopatra</th>\n      <td>59</td>\n      <td>1.0</td>\n    </tr>\n    <tr>\n      <th>As you like it</th>\n      <td>153</td>\n      <td>1.0</td>\n    </tr>\n    <tr>\n      <th>Coriolanus</th>\n      <td>59</td>\n      <td>1.0</td>\n    </tr>\n    <tr>\n      <th>Cymbeline</th>\n      <td>48</td>\n      <td>1.0</td>\n    </tr>\n    <tr>\n      <th>Henry IV</th>\n      <td>37</td>\n      <td>1.0</td>\n    </tr>\n    <tr>\n      <th>King John</th>\n      <td>47</td>\n      <td>1.0</td>\n    </tr>\n    <tr>\n      <th>Henry V</th>\n      <td>67</td>\n      <td>1.0</td>\n    </tr>\n    <tr>\n      <th>Henry VI Part 1</th>\n      <td>27</td>\n      <td>1.0</td>\n    </tr>\n    <tr>\n      <th>Henry VI Part 2</th>\n      <td>32</td>\n      <td>1.0</td>\n    </tr>\n    <tr>\n      <th>Henry VI Part 3</th>\n      <td>50</td>\n      <td>1.0</td>\n    </tr>\n    <tr>\n      <th>Henry VIII</th>\n      <td>52</td>\n      <td>1.0</td>\n    </tr>\n    <tr>\n      <th>Julius Caesar</th>\n      <td>56</td>\n      <td>1.0</td>\n    </tr>\n    <tr>\n      <th>macbeth</th>\n      <td>25</td>\n      <td>1.0</td>\n    </tr>\n  </tbody>\n</table>\n</div>"
     },
     "execution_count": 30,
     "metadata": {},
     "output_type": "execute_result"
    }
   ],
   "source": [
    "love_df.groupby('Play').Love.agg(['count', 'mean']).sort_values('mean', ascending=False)"
   ],
   "metadata": {
    "collapsed": false,
    "pycharm": {
     "name": "#%%\n"
    }
   }
  },
  {
   "cell_type": "markdown",
   "source": [
    "# Leer otros files"
   ],
   "metadata": {
    "collapsed": false,
    "pycharm": {
     "name": "#%% md\n"
    }
   }
  },
  {
   "cell_type": "code",
   "execution_count": 32,
   "outputs": [
    {
     "name": "stdout",
     "output_type": "stream",
     "text": [
      "alllines.txt               para_borrar.tsv\r\n",
      "liquidacion_tarjetas.ipynb tarea_del_nene.csv\r\n"
     ]
    }
   ],
   "source": [
    "!ls tarea"
   ],
   "metadata": {
    "collapsed": false,
    "pycharm": {
     "name": "#%%\n"
    }
   }
  },
  {
   "cell_type": "code",
   "execution_count": 52,
   "outputs": [
    {
     "name": "stderr",
     "output_type": "stream",
     "text": [
      "IOPub data rate exceeded.\n",
      "The notebook server will temporarily stop sending output\n",
      "to the client in order to avoid crashing it.\n",
      "To change this limit, set the config variable\n",
      "`--NotebookApp.iopub_data_rate_limit`.\n",
      "\n",
      "Current values:\n",
      "NotebookApp.iopub_data_rate_limit=1000000.0 (bytes/sec)\n",
      "NotebookApp.rate_limit_window=3.0 (secs)\n",
      "\n"
     ]
    }
   ],
   "source": [
    "#read a text file\n",
    "text_file = open(\"/Users/federicomoreno/PycharmProjects/UCEMA/04-transformaciones/data/alllines.txt\", \"r\")\n",
    "print(text_file.read())\n"
   ],
   "metadata": {
    "collapsed": false,
    "pycharm": {
     "name": "#%%\n"
    }
   }
  },
  {
   "cell_type": "code",
   "execution_count": 55,
   "outputs": [
    {
     "name": "stdout",
     "output_type": "stream",
     "text": [
      "alllines.txt       para_borrar.tsv    tarea_del_nene.csv\r\n"
     ]
    }
   ],
   "source": [
    "!ls data"
   ],
   "metadata": {
    "collapsed": false,
    "pycharm": {
     "name": "#%%\n"
    }
   }
  },
  {
   "cell_type": "code",
   "execution_count": 56,
   "outputs": [
    {
     "data": {
      "text/plain": "                                                   0\n0                                            \"ACT I\"\n1                     \"SCENE I. London. The palace.\"\n2  \"Enter KING HENRY, LORD JOHN OF LANCASTER, the...\n3           \"So shaken as we are, so wan with care,\"\n4       \"Find we a time for frighted peace to pant,\"",
      "text/html": "<div>\n<style scoped>\n    .dataframe tbody tr th:only-of-type {\n        vertical-align: middle;\n    }\n\n    .dataframe tbody tr th {\n        vertical-align: top;\n    }\n\n    .dataframe thead th {\n        text-align: right;\n    }\n</style>\n<table border=\"1\" class=\"dataframe\">\n  <thead>\n    <tr style=\"text-align: right;\">\n      <th></th>\n      <th>0</th>\n    </tr>\n  </thead>\n  <tbody>\n    <tr>\n      <th>0</th>\n      <td>\"ACT I\"</td>\n    </tr>\n    <tr>\n      <th>1</th>\n      <td>\"SCENE I. London. The palace.\"</td>\n    </tr>\n    <tr>\n      <th>2</th>\n      <td>\"Enter KING HENRY, LORD JOHN OF LANCASTER, the...</td>\n    </tr>\n    <tr>\n      <th>3</th>\n      <td>\"So shaken as we are, so wan with care,\"</td>\n    </tr>\n    <tr>\n      <th>4</th>\n      <td>\"Find we a time for frighted peace to pant,\"</td>\n    </tr>\n  </tbody>\n</table>\n</div>"
     },
     "execution_count": 56,
     "metadata": {},
     "output_type": "execute_result"
    }
   ],
   "source": [
    "text_file = open(\"data/alllines.txt\", \"r\")\n",
    "#transform text file to dataframe\n",
    "lines = text_file.readlines()\n",
    "lines = [line.rstrip('\\n') for line in lines]\n",
    "lines = pd.DataFrame(lines)\n",
    "\n",
    "lines.head()\n"
   ],
   "metadata": {
    "collapsed": false,
    "pycharm": {
     "name": "#%%\n"
    }
   }
  },
  {
   "cell_type": "code",
   "execution_count": 60,
   "outputs": [
    {
     "data": {
      "text/plain": "      Fecha de respuesta     id Edad  Customer Value  \\\n0          6/30/19 23:09      1   43             1.0   \n1          6/30/19 22:56      2   75             1.0   \n2          6/30/19 22:52      3   23             1.0   \n3          6/30/19 22:33      4   71             2.0   \n4          6/30/19 22:25      5   64             2.0   \n...                  ...    ...  ...             ...   \n35821        1/1/19 8:48  32233   63             2.0   \n35822        1/1/19 3:40  32234   35             2.0   \n35823        1/1/19 2:04  32235   41             2.0   \n35824        1/1/19 1:07  32236   66             1.0   \n35825        1/1/19 0:47  32237   54             1.0   \n\n       Probabilidad de Recomendación  \\\n0                               10.0   \n1                               10.0   \n2                               10.0   \n3                               10.0   \n4                                9.0   \n...                              ...   \n35821                           10.0   \n35822                            4.0   \n35823                           10.0   \n35824                           10.0   \n35825                            7.0   \n\n                                               ¿Por que?  \\\n0                         buen servicio y buena atención   \n1                        Eficiencia, amabilidad, rapidez   \n2                                         Todo excelente   \n3      Vienen enseguida y siempre me solucionan el pr...   \n4      Cumplió de acuerdo a mis expectativas, horario...   \n...                                                  ...   \n35821                                      buen servicio   \n35822  La falta de compromiso de parte del seguro por...   \n35823      Buena atención y rápida solución de problemas   \n35824     Persona muy eficiente,responsable y educado. ,   \n35825                            Es correcto el servicio   \n\n      Date of 1st Feedback Call Resultado del Primer contacto  \\\n0                           NaN                           NaN   \n1                           NaN                           NaN   \n2                           NaN                           NaN   \n3                           NaN                           NaN   \n4                           NaN                           NaN   \n...                         ...                           ...   \n35821                       NaN                           NaN   \n35822                02/01/2018                 No contactado   \n35823                       NaN                           NaN   \n35824                       NaN                           NaN   \n35825                       NaN                           NaN   \n\n                      Descripción detallada del contacto  \\\n0                                                    NaN   \n1                                                    NaN   \n2                                                    NaN   \n3                                                    NaN   \n4                                                    NaN   \n...                                                  ...   \n35821                                                NaN   \n35822  no es posible establecer contacto con la titul...   \n35823                                                NaN   \n35824                                                NaN   \n35825                                                NaN   \n\n      Fuiste capaz de resolver el inconveniente?  \\\n0                                            NaN   \n1                                            NaN   \n2                                            NaN   \n3                                            NaN   \n4                                            NaN   \n...                                          ...   \n35821                                        NaN   \n35822                                         No   \n35823                                        NaN   \n35824                                        NaN   \n35825                                        NaN   \n\n      El cliente se encontró satisfecho con el resultado?  \n0                                                    NaN   \n1                                                    NaN   \n2                                                    NaN   \n3                                                    NaN   \n4                                                    NaN   \n...                                                  ...   \n35821                                                NaN   \n35822                                                 No   \n35823                                                NaN   \n35824                                                NaN   \n35825                                                NaN   \n\n[35826 rows x 11 columns]",
      "text/html": "<div>\n<style scoped>\n    .dataframe tbody tr th:only-of-type {\n        vertical-align: middle;\n    }\n\n    .dataframe tbody tr th {\n        vertical-align: top;\n    }\n\n    .dataframe thead th {\n        text-align: right;\n    }\n</style>\n<table border=\"1\" class=\"dataframe\">\n  <thead>\n    <tr style=\"text-align: right;\">\n      <th></th>\n      <th>Fecha de respuesta</th>\n      <th>id</th>\n      <th>Edad</th>\n      <th>Customer Value</th>\n      <th>Probabilidad de Recomendación</th>\n      <th>¿Por que?</th>\n      <th>Date of 1st Feedback Call</th>\n      <th>Resultado del Primer contacto</th>\n      <th>Descripción detallada del contacto</th>\n      <th>Fuiste capaz de resolver el inconveniente?</th>\n      <th>El cliente se encontró satisfecho con el resultado?</th>\n    </tr>\n  </thead>\n  <tbody>\n    <tr>\n      <th>0</th>\n      <td>6/30/19 23:09</td>\n      <td>1</td>\n      <td>43</td>\n      <td>1.0</td>\n      <td>10.0</td>\n      <td>buen servicio y buena atención</td>\n      <td>NaN</td>\n      <td>NaN</td>\n      <td>NaN</td>\n      <td>NaN</td>\n      <td>NaN</td>\n    </tr>\n    <tr>\n      <th>1</th>\n      <td>6/30/19 22:56</td>\n      <td>2</td>\n      <td>75</td>\n      <td>1.0</td>\n      <td>10.0</td>\n      <td>Eficiencia, amabilidad, rapidez</td>\n      <td>NaN</td>\n      <td>NaN</td>\n      <td>NaN</td>\n      <td>NaN</td>\n      <td>NaN</td>\n    </tr>\n    <tr>\n      <th>2</th>\n      <td>6/30/19 22:52</td>\n      <td>3</td>\n      <td>23</td>\n      <td>1.0</td>\n      <td>10.0</td>\n      <td>Todo excelente</td>\n      <td>NaN</td>\n      <td>NaN</td>\n      <td>NaN</td>\n      <td>NaN</td>\n      <td>NaN</td>\n    </tr>\n    <tr>\n      <th>3</th>\n      <td>6/30/19 22:33</td>\n      <td>4</td>\n      <td>71</td>\n      <td>2.0</td>\n      <td>10.0</td>\n      <td>Vienen enseguida y siempre me solucionan el pr...</td>\n      <td>NaN</td>\n      <td>NaN</td>\n      <td>NaN</td>\n      <td>NaN</td>\n      <td>NaN</td>\n    </tr>\n    <tr>\n      <th>4</th>\n      <td>6/30/19 22:25</td>\n      <td>5</td>\n      <td>64</td>\n      <td>2.0</td>\n      <td>9.0</td>\n      <td>Cumplió de acuerdo a mis expectativas, horario...</td>\n      <td>NaN</td>\n      <td>NaN</td>\n      <td>NaN</td>\n      <td>NaN</td>\n      <td>NaN</td>\n    </tr>\n    <tr>\n      <th>...</th>\n      <td>...</td>\n      <td>...</td>\n      <td>...</td>\n      <td>...</td>\n      <td>...</td>\n      <td>...</td>\n      <td>...</td>\n      <td>...</td>\n      <td>...</td>\n      <td>...</td>\n      <td>...</td>\n    </tr>\n    <tr>\n      <th>35821</th>\n      <td>1/1/19 8:48</td>\n      <td>32233</td>\n      <td>63</td>\n      <td>2.0</td>\n      <td>10.0</td>\n      <td>buen servicio</td>\n      <td>NaN</td>\n      <td>NaN</td>\n      <td>NaN</td>\n      <td>NaN</td>\n      <td>NaN</td>\n    </tr>\n    <tr>\n      <th>35822</th>\n      <td>1/1/19 3:40</td>\n      <td>32234</td>\n      <td>35</td>\n      <td>2.0</td>\n      <td>4.0</td>\n      <td>La falta de compromiso de parte del seguro por...</td>\n      <td>02/01/2018</td>\n      <td>No contactado</td>\n      <td>no es posible establecer contacto con la titul...</td>\n      <td>No</td>\n      <td>No</td>\n    </tr>\n    <tr>\n      <th>35823</th>\n      <td>1/1/19 2:04</td>\n      <td>32235</td>\n      <td>41</td>\n      <td>2.0</td>\n      <td>10.0</td>\n      <td>Buena atención y rápida solución de problemas</td>\n      <td>NaN</td>\n      <td>NaN</td>\n      <td>NaN</td>\n      <td>NaN</td>\n      <td>NaN</td>\n    </tr>\n    <tr>\n      <th>35824</th>\n      <td>1/1/19 1:07</td>\n      <td>32236</td>\n      <td>66</td>\n      <td>1.0</td>\n      <td>10.0</td>\n      <td>Persona muy eficiente,responsable y educado. ,</td>\n      <td>NaN</td>\n      <td>NaN</td>\n      <td>NaN</td>\n      <td>NaN</td>\n      <td>NaN</td>\n    </tr>\n    <tr>\n      <th>35825</th>\n      <td>1/1/19 0:47</td>\n      <td>32237</td>\n      <td>54</td>\n      <td>1.0</td>\n      <td>7.0</td>\n      <td>Es correcto el servicio</td>\n      <td>NaN</td>\n      <td>NaN</td>\n      <td>NaN</td>\n      <td>NaN</td>\n      <td>NaN</td>\n    </tr>\n  </tbody>\n</table>\n<p>35826 rows × 11 columns</p>\n</div>"
     },
     "execution_count": 60,
     "metadata": {},
     "output_type": "execute_result"
    }
   ],
   "source": [
    "tsv_file = pd.read_csv( \"data/para_borrar.tsv\", sep=\"\\t\")\n",
    "tsv_file"
   ],
   "metadata": {
    "collapsed": false,
    "pycharm": {
     "name": "#%%\n"
    }
   }
  },
  {
   "cell_type": "code",
   "execution_count": 61,
   "outputs": [
    {
     "data": {
      "text/plain": "   Rank               Title                           Website  Employees  \\\n0     1             Walmart            http://www.walmart.com    2300000   \n1     2  Berkshire Hathaway  http://www.berkshirehathaway.com     367700   \n2     3               Apple              http://www.apple.com     116000   \n3     4         Exxon Mobil         http://www.exxonmobil.com      72700   \n4     5            McKesson           http://www.mckesson.com      68000   \n\n        Sector                                  Industry         Hqlocation  \\\n0    Retailing                     General Merchandisers    Bentonville, AR   \n1   Financials  Insurance: Property and Casualty (Stock)          Omaha, NE   \n2   Technology               Computers, Office Equipment      Cupertino, CA   \n3       Energy                        Petroleum Refining         Irving, TX   \n4  Wholesalers                  Wholesalers: Health Care  San Francisco, CA   \n\n                   Hqaddr         Hqcity Hqstate  ...  \\\n0     702 S.W. Eighth St.    Bentonville      AR  ...   \n1         3555 Farnam St.          Omaha      NE  ...   \n2         1 Infinite Loop      Cupertino      CA  ...   \n3  5959 Las Colinas Blvd.         Irving      TX  ...   \n4              1 Post St.  San Francisco      CA  ...   \n\n                                       Ceo-title  \\\n0  President, Chief Executive Officer & Director   \n1             Chairman & Chief Executive Officer   \n2             Chief Executive Officer & Director   \n3             Chairman & Chief Executive Officer   \n4  Chairman, President & Chief Executive Officer   \n\n                                      Address Ticker                 Fullname  \\\n0  702 S.W. Eighth St., Bentonville, AR 72716    WMT    Wal-Mart Stores, Inc.   \n1            3555 Farnam St., Omaha, NE 68131   BRKA  Berkshire Hathaway Inc.   \n2        1 Infinite Loop, Cupertino, CA 95014   AAPL              Apple, Inc.   \n3    5959 Las Colinas Blvd., Irving, TX 75039    XOM  Exxon Mobil Corporation   \n4         1 Post St., San Francisco, CA 94104    MCK     McKesson Corporation   \n\n  Revenues Revchange  Profits  Prftchange  Assets  Totshequity  \n0   485873       0.8  13643.0        -7.2  198825      77798.0  \n1   223604       6.1  24074.0           0  620854     283001.0  \n2   215639      -7.7  45687.0       -14.4  321686     128249.0  \n3   205004     -16.7   7840.0       -51.5  330314     167325.0  \n4   192487       6.2   2258.0          53   56563       8924.0  \n\n[5 rows x 23 columns]",
      "text/html": "<div>\n<style scoped>\n    .dataframe tbody tr th:only-of-type {\n        vertical-align: middle;\n    }\n\n    .dataframe tbody tr th {\n        vertical-align: top;\n    }\n\n    .dataframe thead th {\n        text-align: right;\n    }\n</style>\n<table border=\"1\" class=\"dataframe\">\n  <thead>\n    <tr style=\"text-align: right;\">\n      <th></th>\n      <th>Rank</th>\n      <th>Title</th>\n      <th>Website</th>\n      <th>Employees</th>\n      <th>Sector</th>\n      <th>Industry</th>\n      <th>Hqlocation</th>\n      <th>Hqaddr</th>\n      <th>Hqcity</th>\n      <th>Hqstate</th>\n      <th>...</th>\n      <th>Ceo-title</th>\n      <th>Address</th>\n      <th>Ticker</th>\n      <th>Fullname</th>\n      <th>Revenues</th>\n      <th>Revchange</th>\n      <th>Profits</th>\n      <th>Prftchange</th>\n      <th>Assets</th>\n      <th>Totshequity</th>\n    </tr>\n  </thead>\n  <tbody>\n    <tr>\n      <th>0</th>\n      <td>1</td>\n      <td>Walmart</td>\n      <td>http://www.walmart.com</td>\n      <td>2300000</td>\n      <td>Retailing</td>\n      <td>General Merchandisers</td>\n      <td>Bentonville, AR</td>\n      <td>702 S.W. Eighth St.</td>\n      <td>Bentonville</td>\n      <td>AR</td>\n      <td>...</td>\n      <td>President, Chief Executive Officer &amp; Director</td>\n      <td>702 S.W. Eighth St., Bentonville, AR 72716</td>\n      <td>WMT</td>\n      <td>Wal-Mart Stores, Inc.</td>\n      <td>485873</td>\n      <td>0.8</td>\n      <td>13643.0</td>\n      <td>-7.2</td>\n      <td>198825</td>\n      <td>77798.0</td>\n    </tr>\n    <tr>\n      <th>1</th>\n      <td>2</td>\n      <td>Berkshire Hathaway</td>\n      <td>http://www.berkshirehathaway.com</td>\n      <td>367700</td>\n      <td>Financials</td>\n      <td>Insurance: Property and Casualty (Stock)</td>\n      <td>Omaha, NE</td>\n      <td>3555 Farnam St.</td>\n      <td>Omaha</td>\n      <td>NE</td>\n      <td>...</td>\n      <td>Chairman &amp; Chief Executive Officer</td>\n      <td>3555 Farnam St., Omaha, NE 68131</td>\n      <td>BRKA</td>\n      <td>Berkshire Hathaway Inc.</td>\n      <td>223604</td>\n      <td>6.1</td>\n      <td>24074.0</td>\n      <td>0</td>\n      <td>620854</td>\n      <td>283001.0</td>\n    </tr>\n    <tr>\n      <th>2</th>\n      <td>3</td>\n      <td>Apple</td>\n      <td>http://www.apple.com</td>\n      <td>116000</td>\n      <td>Technology</td>\n      <td>Computers, Office Equipment</td>\n      <td>Cupertino, CA</td>\n      <td>1 Infinite Loop</td>\n      <td>Cupertino</td>\n      <td>CA</td>\n      <td>...</td>\n      <td>Chief Executive Officer &amp; Director</td>\n      <td>1 Infinite Loop, Cupertino, CA 95014</td>\n      <td>AAPL</td>\n      <td>Apple, Inc.</td>\n      <td>215639</td>\n      <td>-7.7</td>\n      <td>45687.0</td>\n      <td>-14.4</td>\n      <td>321686</td>\n      <td>128249.0</td>\n    </tr>\n    <tr>\n      <th>3</th>\n      <td>4</td>\n      <td>Exxon Mobil</td>\n      <td>http://www.exxonmobil.com</td>\n      <td>72700</td>\n      <td>Energy</td>\n      <td>Petroleum Refining</td>\n      <td>Irving, TX</td>\n      <td>5959 Las Colinas Blvd.</td>\n      <td>Irving</td>\n      <td>TX</td>\n      <td>...</td>\n      <td>Chairman &amp; Chief Executive Officer</td>\n      <td>5959 Las Colinas Blvd., Irving, TX 75039</td>\n      <td>XOM</td>\n      <td>Exxon Mobil Corporation</td>\n      <td>205004</td>\n      <td>-16.7</td>\n      <td>7840.0</td>\n      <td>-51.5</td>\n      <td>330314</td>\n      <td>167325.0</td>\n    </tr>\n    <tr>\n      <th>4</th>\n      <td>5</td>\n      <td>McKesson</td>\n      <td>http://www.mckesson.com</td>\n      <td>68000</td>\n      <td>Wholesalers</td>\n      <td>Wholesalers: Health Care</td>\n      <td>San Francisco, CA</td>\n      <td>1 Post St.</td>\n      <td>San Francisco</td>\n      <td>CA</td>\n      <td>...</td>\n      <td>Chairman, President &amp; Chief Executive Officer</td>\n      <td>1 Post St., San Francisco, CA 94104</td>\n      <td>MCK</td>\n      <td>McKesson Corporation</td>\n      <td>192487</td>\n      <td>6.2</td>\n      <td>2258.0</td>\n      <td>53</td>\n      <td>56563</td>\n      <td>8924.0</td>\n    </tr>\n  </tbody>\n</table>\n<p>5 rows × 23 columns</p>\n</div>"
     },
     "execution_count": 61,
     "metadata": {},
     "output_type": "execute_result"
    }
   ],
   "source": [
    "df = pd.read_csv(\"data/tarea_del_nene.csv\")\n",
    "df.head()"
   ],
   "metadata": {
    "collapsed": false,
    "pycharm": {
     "name": "#%%\n"
    }
   }
  },
  {
   "cell_type": "code",
   "execution_count": null,
   "outputs": [],
   "source": [],
   "metadata": {
    "collapsed": false,
    "pycharm": {
     "name": "#%%\n"
    }
   }
  }
 ],
 "metadata": {
  "kernelspec": {
   "display_name": "Python 3",
   "language": "python",
   "name": "python3"
  },
  "language_info": {
   "codemirror_mode": {
    "name": "ipython",
    "version": 2
   },
   "file_extension": ".py",
   "mimetype": "text/x-python",
   "name": "python",
   "nbconvert_exporter": "python",
   "pygments_lexer": "ipython2",
   "version": "2.7.6"
  }
 },
 "nbformat": 4,
 "nbformat_minor": 0
}