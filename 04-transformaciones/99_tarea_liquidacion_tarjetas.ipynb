{
 "nbformat": 4,
 "nbformat_minor": 0,
 "metadata": {
  "colab": {
   "name": "Liq_tarjetas_07/2022.ipynb",
   "provenance": [],
   "collapsed_sections": []
  },
  "kernelspec": {
   "name": "python3",
   "display_name": "Python 3"
  },
  "language_info": {
   "name": "python"
  }
 },
 "cells": [
  {
   "cell_type": "markdown",
   "source": [
    "# Tarjetas\n",
    "\n",
    "dataset: https://docs.google.com/spreadsheets/d/1E2QvH18DyNDw1eGqU40D_KHSEfSzbipV/edit?usp=sharing&ouid=115931210603772521641&rtpof=true&sd=true\n"
   ],
   "metadata": {
    "collapsed": false,
    "pycharm": {
     "name": "#%% md\n"
    }
   }
  },
  {
   "cell_type": "code",
   "execution_count": 1,
   "metadata": {
    "id": "49BJJVhVYin4",
    "pycharm": {
     "name": "#%%\n"
    }
   },
   "outputs": [],
   "source": [
    "import pandas as pd\n",
    "import numpy\n",
    "#!pip install openpyxl"
   ]
  },
  {
   "cell_type": "code",
   "execution_count": 21,
   "outputs": [
    {
     "data": {
      "text/plain": "   Unnamed: 0 PreseTaciOn_Fecha FeCha_de_Pago  cod_clearing  \\\n0           0        2022-06-15    2022-07-01          1009   \n1           1        2022-06-15    2022-07-01          1011   \n2           2        2022-06-15    2022-07-01          2031   \n3           3        2022-06-15    2022-07-01          2040   \n4           4        2022-06-15    2022-07-01          2800   \n\n                                   desc_creaing  NRo_Liquidacion  \\\n0  VENTAS C/DESCUENTO CONTADO                              27822   \n1  VENTAS C/DTO CUOTAS FINANC. OTORG.                      27822   \n2  ARANCEL                                                 27822   \n3                      PROMO CUOTAS AHORA 12/18            27822   \n4  TOTAL DEDUCCIONES                                       27822   \n\n   cod_sucursal  Cod_comercio  Cod_pagadora Cod_marca_producto  \\\n0           716      25107406           156       VISA CREDITO   \n1           716      25107406           156       VISA CREDITO   \n2           716      25107406           156       VISA CREDITO   \n3           716      25107406           156       VISA CREDITO   \n4           716      25107406           156       VISA CREDITO   \n\n   importe_concepto  \n0           5096.00  \n1         413500.60  \n2           7534.70  \n3          18416.85  \n4          49585.43  ",
      "text/html": "<div>\n<style scoped>\n    .dataframe tbody tr th:only-of-type {\n        vertical-align: middle;\n    }\n\n    .dataframe tbody tr th {\n        vertical-align: top;\n    }\n\n    .dataframe thead th {\n        text-align: right;\n    }\n</style>\n<table border=\"1\" class=\"dataframe\">\n  <thead>\n    <tr style=\"text-align: right;\">\n      <th></th>\n      <th>Unnamed: 0</th>\n      <th>PreseTaciOn_Fecha</th>\n      <th>FeCha_de_Pago</th>\n      <th>cod_clearing</th>\n      <th>desc_creaing</th>\n      <th>NRo_Liquidacion</th>\n      <th>cod_sucursal</th>\n      <th>Cod_comercio</th>\n      <th>Cod_pagadora</th>\n      <th>Cod_marca_producto</th>\n      <th>importe_concepto</th>\n    </tr>\n  </thead>\n  <tbody>\n    <tr>\n      <th>0</th>\n      <td>0</td>\n      <td>2022-06-15</td>\n      <td>2022-07-01</td>\n      <td>1009</td>\n      <td>VENTAS C/DESCUENTO CONTADO</td>\n      <td>27822</td>\n      <td>716</td>\n      <td>25107406</td>\n      <td>156</td>\n      <td>VISA CREDITO</td>\n      <td>5096.00</td>\n    </tr>\n    <tr>\n      <th>1</th>\n      <td>1</td>\n      <td>2022-06-15</td>\n      <td>2022-07-01</td>\n      <td>1011</td>\n      <td>VENTAS C/DTO CUOTAS FINANC. OTORG.</td>\n      <td>27822</td>\n      <td>716</td>\n      <td>25107406</td>\n      <td>156</td>\n      <td>VISA CREDITO</td>\n      <td>413500.60</td>\n    </tr>\n    <tr>\n      <th>2</th>\n      <td>2</td>\n      <td>2022-06-15</td>\n      <td>2022-07-01</td>\n      <td>2031</td>\n      <td>ARANCEL</td>\n      <td>27822</td>\n      <td>716</td>\n      <td>25107406</td>\n      <td>156</td>\n      <td>VISA CREDITO</td>\n      <td>7534.70</td>\n    </tr>\n    <tr>\n      <th>3</th>\n      <td>3</td>\n      <td>2022-06-15</td>\n      <td>2022-07-01</td>\n      <td>2040</td>\n      <td>PROMO CUOTAS AHORA 12/18</td>\n      <td>27822</td>\n      <td>716</td>\n      <td>25107406</td>\n      <td>156</td>\n      <td>VISA CREDITO</td>\n      <td>18416.85</td>\n    </tr>\n    <tr>\n      <th>4</th>\n      <td>4</td>\n      <td>2022-06-15</td>\n      <td>2022-07-01</td>\n      <td>2800</td>\n      <td>TOTAL DEDUCCIONES</td>\n      <td>27822</td>\n      <td>716</td>\n      <td>25107406</td>\n      <td>156</td>\n      <td>VISA CREDITO</td>\n      <td>49585.43</td>\n    </tr>\n  </tbody>\n</table>\n</div>"
     },
     "execution_count": 21,
     "metadata": {},
     "output_type": "execute_result"
    }
   ],
   "source": [
    "tarjetas.head()"
   ],
   "metadata": {
    "collapsed": false,
    "pycharm": {
     "name": "#%%\n"
    }
   }
  },
  {
   "cell_type": "markdown",
   "source": [
    "### 1- Pasar todos los nombres de las columnas a minusculas"
   ],
   "metadata": {
    "collapsed": false,
    "pycharm": {
     "name": "#%% md\n"
    }
   }
  },
  {
   "cell_type": "code",
   "execution_count": 23,
   "outputs": [],
   "source": [],
   "metadata": {
    "collapsed": false,
    "pycharm": {
     "name": "#%%\n"
    }
   }
  },
  {
   "cell_type": "markdown",
   "source": [
    "### 2-Cuantas sucursales únicas hay? ¿Cuáles?"
   ],
   "metadata": {
    "collapsed": false,
    "pycharm": {
     "name": "#%% md\n"
    }
   }
  },
  {
   "cell_type": "code",
   "execution_count": 23,
   "outputs": [],
   "source": [],
   "metadata": {
    "collapsed": false,
    "pycharm": {
     "name": "#%%\n"
    }
   }
  },
  {
   "cell_type": "markdown",
   "source": [
    "### 3- Cuantas tarjetas de crédito distitas hay? ¿Cuáles?\n",
    "¿Se te ocurre un nombre mejor para esa columna?"
   ],
   "metadata": {
    "collapsed": false,
    "pycharm": {
     "name": "#%% md\n"
    }
   }
  },
  {
   "cell_type": "code",
   "execution_count": 23,
   "outputs": [],
   "source": [],
   "metadata": {
    "collapsed": false,
    "pycharm": {
     "name": "#%%\n"
    }
   }
  },
  {
   "cell_type": "markdown",
   "source": [
    "### 4- Cuants filas y columnas hay?\n"
   ],
   "metadata": {
    "collapsed": false,
    "pycharm": {
     "name": "#%% md\n"
    }
   }
  },
  {
   "cell_type": "code",
   "execution_count": 23,
   "outputs": [],
   "source": [],
   "metadata": {
    "collapsed": false,
    "pycharm": {
     "name": "#%%\n"
    }
   }
  },
  {
   "cell_type": "markdown",
   "source": [
    "### 5- ¿Cuanto suma el total de importe_concepto?\n"
   ],
   "metadata": {
    "collapsed": false,
    "pycharm": {
     "name": "#%% md\n"
    }
   }
  },
  {
   "cell_type": "code",
   "execution_count": 23,
   "outputs": [],
   "source": [],
   "metadata": {
    "collapsed": false,
    "pycharm": {
     "name": "#%%\n"
    }
   }
  },
  {
   "cell_type": "markdown",
   "source": [
    "### 6- ¿Cuanto dinero se cobro por mes? Cree un lineplot para gráficarlo\n"
   ],
   "metadata": {
    "collapsed": false,
    "pycharm": {
     "name": "#%% md\n"
    }
   }
  },
  {
   "cell_type": "code",
   "execution_count": 23,
   "outputs": [],
   "source": [],
   "metadata": {
    "collapsed": false,
    "pycharm": {
     "name": "#%%\n"
    }
   }
  },
  {
   "cell_type": "markdown",
   "source": [
    "### 7- Cuanto dinero se cobro por sucursal?\n"
   ],
   "metadata": {
    "collapsed": false,
    "pycharm": {
     "name": "#%% md\n"
    }
   }
  },
  {
   "cell_type": "code",
   "execution_count": 23,
   "outputs": [],
   "source": [],
   "metadata": {
    "collapsed": false,
    "pycharm": {
     "name": "#%%\n"
    }
   }
  },
  {
   "cell_type": "markdown",
   "source": [
    "### 8- Cuanto dinero se cobro por mes por sucursal?\n"
   ],
   "metadata": {
    "collapsed": false,
    "pycharm": {
     "name": "#%% md\n"
    }
   }
  },
  {
   "cell_type": "code",
   "execution_count": 23,
   "outputs": [],
   "source": [],
   "metadata": {
    "collapsed": false,
    "pycharm": {
     "name": "#%%\n"
    }
   }
  },
  {
   "cell_type": "markdown",
   "source": [
    "### 9- Cuanto dinero se cobro por mes por sucursal y por descreaing?"
   ],
   "metadata": {
    "collapsed": false,
    "pycharm": {
     "name": "#%% md\n"
    }
   }
  },
  {
   "cell_type": "code",
   "execution_count": 23,
   "outputs": [],
   "source": [],
   "metadata": {
    "collapsed": false,
    "pycharm": {
     "name": "#%%\n"
    }
   }
  },
  {
   "cell_type": "markdown",
   "source": [],
   "metadata": {
    "collapsed": false,
    "pycharm": {
     "name": "#%% md\n"
    }
   }
  },
  {
   "cell_type": "markdown",
   "source": [
    "### 10- Pase a columnas los valores presentes en desc_creaing y ponga los importes como valores y en el indice la fecha de pago y el codigo de comercio"
   ],
   "metadata": {
    "collapsed": false,
    "pycharm": {
     "name": "#%% md\n"
    }
   }
  },
  {
   "cell_type": "code",
   "execution_count": 23,
   "outputs": [],
   "source": [],
   "metadata": {
    "collapsed": false,
    "pycharm": {
     "name": "#%%\n"
    }
   }
  },
  {
   "cell_type": "markdown",
   "source": [
    "### 11- Quedarse solo con tarjeta visa. Crear una columna que sume 'VENTAS C/DESCUENTO CONTADO' con\n",
    "                                'VENTAS C/DTO CUOTAS FINANC. OTORG.'"
   ],
   "metadata": {
    "id": "qYonU-BsZIiX",
    "pycharm": {
     "name": "#%% md\n"
    }
   }
  },
  {
   "cell_type": "code",
   "execution_count": 23,
   "outputs": [],
   "source": [],
   "metadata": {
    "collapsed": false,
    "pycharm": {
     "name": "#%%\n"
    }
   }
  },
  {
   "cell_type": "markdown",
   "source": [
    "### 12- Quedarse solo con la tarjeta mastercard y crear una columna que sea la suma de 'PERCEPCION IVA R.G. 2408   1,50 %' y  'PERCEPCION IVA R.G. 2408   3,00 %'"
   ],
   "metadata": {
    "collapsed": false,
    "pycharm": {
     "name": "#%% md\n"
    }
   }
  },
  {
   "cell_type": "code",
   "execution_count": 23,
   "outputs": [],
   "source": [],
   "metadata": {
    "collapsed": false,
    "pycharm": {
     "name": "#%%\n"
    }
   }
  },
  {
   "cell_type": "markdown",
   "source": [
    "### Guardar como datasets\n",
    "a- el dataset de la tarjeta visa\n",
    "b- el dataset de la tarjeta mastercard\n",
    "c- cuanto dinero se cobra por mes y por sucursal\n",
    "d- cuanto se cobra por mes\n",
    "e- crear un lineplot de cuanto se cobra por mes"
   ],
   "metadata": {
    "collapsed": false,
    "pycharm": {
     "name": "#%% md\n"
    }
   }
  },
  {
   "cell_type": "code",
   "execution_count": null,
   "outputs": [],
   "source": [],
   "metadata": {
    "collapsed": false,
    "pycharm": {
     "name": "#%%\n"
    }
   }
  }
 ]
}