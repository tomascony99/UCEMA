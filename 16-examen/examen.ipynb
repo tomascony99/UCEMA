{
 "cells": [
  {
   "cell_type": "markdown",
   "source": [
    "# Pauta obligatoria\n",
    "\n",
    "La entrega debe ser prolija. Sólo se consideran válidos los puntos bien explicados con interpretación personal. No puede haber dos examenes iguales, para esto correremos un parseador de texto para comparar similaridad entre examenes.\n",
    "\n",
    "El Examen termina 11 am.\n",
    "\n",
    "# Campañas Online\n",
    "\n",
    "Una empresa realiza campañas de marketing y posee el siguiente dataset.\n",
    "\n",
    "**Descargue el dataframe y resuelva:**\n",
    "\n",
    "https://drive.google.com/file/d/1aFIQO7evLxaUgM5A72ackExN0e6ZKuiS/view?usp=share_link\n",
    "\n",
    "Descripción de variables:\n",
    "-> id: id de la campaña\n",
    "-> valor_de_yen: valor de la moneda yen expresado en otra moneda\n",
    "-> plataforma : Plataforma de la campaña\n",
    "\tGoogle\n",
    "\tFacebook\tTurbo\n",
    "-> tipo_campaña : Objetivo de la cmapaña\n",
    "\tConversion\n",
    "\tBranding\n",
    "-> conv_rate : Tasa de conversion\n",
    "-> clicks : Cantidad de clicks\n",
    "-> type_of_ad : Tipo de anuncio\n",
    "-> trend : Tendencia de la campaña. Meses que fue exitosa.\n",
    "-> Cost_per_lead : Costo por lead. Es decir, por cliente que cotiza.\n",
    "-> spend : Gasto total de la campaña.\n",
    "-> exito_15 : Exito o no exito de la campaña dos semanas después.\n"
   ],
   "metadata": {
    "collapsed": false
   }
  },
  {
   "cell_type": "markdown",
   "source": [
    "# 1. Evaluación del problema (15pts)\n",
    "a. ¿Que tipo de modelo recomendaría?\n",
    "b. Expliqué las razones del tipo de modelo de ML\n",
    "c. Indique cuál es la variable independiente y dependiente.\n",
    "d. ¿Cómo se utilizaría la predicción? ¿Que decisión tomaría la empresa?\n",
    "e. Leyendo el nombre de las variables cuales variables te parece importante ¿Por qué?"
   ],
   "metadata": {
    "collapsed": false
   }
  },
  {
   "cell_type": "code",
   "execution_count": 2,
   "outputs": [],
   "source": [],
   "metadata": {
    "collapsed": false
   }
  },
  {
   "cell_type": "markdown",
   "source": [
    "# 2. Preprocesamiento (30 pts)\n",
    "a. Analizar faltantes variable a variable. Elegir métodos de imputación o tomar decisiones de dropearlos\n",
    "b. Analizar valores outliers y repetir el analisis"
   ],
   "metadata": {
    "collapsed": false
   }
  },
  {
   "cell_type": "code",
   "execution_count": 2,
   "outputs": [],
   "source": [],
   "metadata": {
    "collapsed": false
   }
  },
  {
   "cell_type": "markdown",
   "source": [
    "# 3. Ploteo y escalado (20 pts)\n",
    "a. Plotear y analizar distribuciones.\n",
    "b. Elegir un método de escalado"
   ],
   "metadata": {
    "collapsed": false
   }
  },
  {
   "cell_type": "code",
   "execution_count": 2,
   "outputs": [],
   "source": [],
   "metadata": {
    "collapsed": false
   }
  },
  {
   "cell_type": "markdown",
   "source": [
    "# 5. Variables categoricas (15 pts)\n",
    "a. Convertir variables categoricas a númericas, aplicar alguna de las tecnicas que vimos."
   ],
   "metadata": {
    "collapsed": false
   }
  },
  {
   "cell_type": "code",
   "execution_count": 2,
   "outputs": [],
   "source": [],
   "metadata": {
    "collapsed": false
   }
  },
  {
   "cell_type": "markdown",
   "source": [
    "# 6. Modelo base (20 pts)\n",
    "a. Crear un modelo simple\n",
    "b. Crear una matriz de confusión.  (Interpretar)\n",
    "c. Evaluar rendimiento con una métrica"
   ],
   "metadata": {
    "collapsed": false
   }
  },
  {
   "cell_type": "code",
   "execution_count": 2,
   "outputs": [],
   "source": [],
   "metadata": {
    "collapsed": false
   }
  },
  {
   "cell_type": "markdown",
   "source": [],
   "metadata": {
    "collapsed": false
   }
  }
 ],
 "metadata": {
  "kernelspec": {
   "display_name": "Python 3",
   "language": "python",
   "name": "python3"
  },
  "language_info": {
   "codemirror_mode": {
    "name": "ipython",
    "version": 2
   },
   "file_extension": ".py",
   "mimetype": "text/x-python",
   "name": "python",
   "nbconvert_exporter": "python",
   "pygments_lexer": "ipython2",
   "version": "2.7.6"
  }
 },
 "nbformat": 4,
 "nbformat_minor": 0
}
